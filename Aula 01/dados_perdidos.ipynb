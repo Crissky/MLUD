{
  "nbformat": 4,
  "nbformat_minor": 0,
  "metadata": {
    "colab": {
      "name": "dados-perdidos.ipynb",
      "provenance": [],
      "authorship_tag": "ABX9TyN/u6H3SQ6M4xaXQle6OHOu"
    },
    "kernelspec": {
      "name": "python3",
      "display_name": "Python 3"
    }
  },
  "cells": [
    {
      "cell_type": "markdown",
      "metadata": {
        "id": "N4gGTZHFWSNj"
      },
      "source": [
        "# Como preeencher dados que estão faltando em uma base de dados"
      ]
    },
    {
      "cell_type": "markdown",
      "metadata": {
        "id": "BBrmpI1jWanH"
      },
      "source": [
        "## Imports"
      ]
    },
    {
      "cell_type": "code",
      "metadata": {
        "id": "SYocFdO6WJ-t"
      },
      "source": [
        "import numpy as np\n",
        "import pandas as pd"
      ],
      "execution_count": 4,
      "outputs": []
    },
    {
      "cell_type": "markdown",
      "metadata": {
        "id": "wFTkf31LWde2"
      },
      "source": [
        "## Carregando Base de Dados"
      ]
    },
    {
      "cell_type": "code",
      "metadata": {
        "id": "B69GsdwJXjIc",
        "outputId": "a9cf8705-7228-4395-d001-63ffccfd00dc",
        "colab": {
          "base_uri": "https://localhost:8080/"
        }
      },
      "source": [
        "!git clone https://github.com/Crissky/MLUD.git"
      ],
      "execution_count": 5,
      "outputs": [
        {
          "output_type": "stream",
          "text": [
            "fatal: destination path 'MLUD' already exists and is not an empty directory.\n"
          ],
          "name": "stdout"
        }
      ]
    },
    {
      "cell_type": "code",
      "metadata": {
        "id": "Ymc8rrHFWcZs"
      },
      "source": [
        "dataset = pd.read_csv('MLUD/Aula 01/svbr.csv', delimiter=';')"
      ],
      "execution_count": 9,
      "outputs": []
    },
    {
      "cell_type": "code",
      "metadata": {
        "id": "MESfBW83YZO2",
        "outputId": "3435c739-52de-4b21-8be1-8e9fa8f1fd6c",
        "colab": {
          "base_uri": "https://localhost:8080/",
          "height": 204
        }
      },
      "source": [
        "dataset.head()"
      ],
      "execution_count": 10,
      "outputs": [
        {
          "output_type": "execute_result",
          "data": {
            "text/html": [
              "<div>\n",
              "<style scoped>\n",
              "    .dataframe tbody tr th:only-of-type {\n",
              "        vertical-align: middle;\n",
              "    }\n",
              "\n",
              "    .dataframe tbody tr th {\n",
              "        vertical-align: top;\n",
              "    }\n",
              "\n",
              "    .dataframe thead th {\n",
              "        text-align: right;\n",
              "    }\n",
              "</style>\n",
              "<table border=\"1\" class=\"dataframe\">\n",
              "  <thead>\n",
              "    <tr style=\"text-align: right;\">\n",
              "      <th></th>\n",
              "      <th>Canal</th>\n",
              "      <th>Inscritos</th>\n",
              "      <th>Visualizações</th>\n",
              "    </tr>\n",
              "  </thead>\n",
              "  <tbody>\n",
              "    <tr>\n",
              "      <th>0</th>\n",
              "      <td>Site Arqueologia Egípcia</td>\n",
              "      <td>13438.0</td>\n",
              "      <td>406590.0</td>\n",
              "    </tr>\n",
              "    <tr>\n",
              "      <th>1</th>\n",
              "      <td>Terra Negra</td>\n",
              "      <td>35241.0</td>\n",
              "      <td>868235.0</td>\n",
              "    </tr>\n",
              "    <tr>\n",
              "      <th>2</th>\n",
              "      <td>Frank Jaava</td>\n",
              "      <td>31680.0</td>\n",
              "      <td>2856508.0</td>\n",
              "    </tr>\n",
              "    <tr>\n",
              "      <th>3</th>\n",
              "      <td>Dispersciência</td>\n",
              "      <td>25100.0</td>\n",
              "      <td>150000.0</td>\n",
              "    </tr>\n",
              "    <tr>\n",
              "      <th>4</th>\n",
              "      <td>Olá Ciência</td>\n",
              "      <td>32788.0</td>\n",
              "      <td>1575456.0</td>\n",
              "    </tr>\n",
              "  </tbody>\n",
              "</table>\n",
              "</div>"
            ],
            "text/plain": [
              "                      Canal  Inscritos  Visualizações\n",
              "0  Site Arqueologia Egípcia    13438.0       406590.0\n",
              "1               Terra Negra    35241.0       868235.0\n",
              "2               Frank Jaava    31680.0      2856508.0\n",
              "3            Dispersciência    25100.0       150000.0\n",
              "4               Olá Ciência    32788.0      1575456.0"
            ]
          },
          "metadata": {
            "tags": []
          },
          "execution_count": 10
        }
      ]
    },
    {
      "cell_type": "code",
      "metadata": {
        "id": "DclY6w94Ybhc"
      },
      "source": [
        ""
      ],
      "execution_count": null,
      "outputs": []
    }
  ]
}