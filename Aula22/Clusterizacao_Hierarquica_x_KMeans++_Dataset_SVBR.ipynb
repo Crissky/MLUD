{
  "nbformat": 4,
  "nbformat_minor": 0,
  "metadata": {
    "colab": {
      "name": "Clusterizacao_Hierarquica_x_KMeans++-Dataset-SVBR.ipynb",
      "provenance": [],
      "collapsed_sections": [],
      "toc_visible": true,
      "authorship_tag": "ABX9TyPPVyi+3TzxlI4WHllbbwQO"
    },
    "kernelspec": {
      "name": "python3",
      "display_name": "Python 3"
    },
    "language_info": {
      "name": "python"
    }
  },
  "cells": [
    {
      "cell_type": "markdown",
      "metadata": {
        "id": "mFQKLNbbebbl"
      },
      "source": [
        "#KMeans++\n"
      ]
    },
    {
      "cell_type": "markdown",
      "metadata": {
        "id": "VMUTG-tX0TtY"
      },
      "source": [
        "## Carregando Base de Dados"
      ]
    },
    {
      "cell_type": "code",
      "metadata": {
        "colab": {
          "base_uri": "https://localhost:8080/"
        },
        "id": "pGYechQF0NLN",
        "outputId": "1b76b451-c61c-47f2-8c0d-fdbf14059f32"
      },
      "source": [
        "!rm -r MLUD\n",
        "!git clone https://github.com/Crissky/MLUD.git"
      ],
      "execution_count": 1,
      "outputs": [
        {
          "output_type": "stream",
          "text": [
            "Cloning into 'MLUD'...\n",
            "remote: Enumerating objects: 384, done.\u001b[K\n",
            "remote: Counting objects: 100% (384/384), done.\u001b[K\n",
            "remote: Compressing objects: 100% (363/363), done.\u001b[K\n",
            "remote: Total 384 (delta 171), reused 63 (delta 6), pack-reused 0\u001b[K\n",
            "Receiving objects: 100% (384/384), 6.12 MiB | 11.05 MiB/s, done.\n",
            "Resolving deltas: 100% (171/171), done.\n"
          ],
          "name": "stdout"
        }
      ]
    },
    {
      "cell_type": "markdown",
      "metadata": {
        "id": "aZnsinfzcplj"
      },
      "source": [
        "## Imports"
      ]
    },
    {
      "cell_type": "code",
      "metadata": {
        "id": "H2SfHp5mcbtP"
      },
      "source": [
        "import pandas as pd\n",
        "import numpy as np\n",
        "import matplotlib.pyplot as plt\n",
        "\n",
        "from sklearn.impute import SimpleImputer\n",
        "from sklearn.cluster import KMeans"
      ],
      "execution_count": 2,
      "outputs": []
    },
    {
      "cell_type": "markdown",
      "metadata": {
        "id": "C_10AH1CiAc4"
      },
      "source": [
        "## Função Auxiliar"
      ]
    },
    {
      "cell_type": "code",
      "metadata": {
        "id": "gfIfSxgxdx4q"
      },
      "source": [
        "def fillMissingData(X, strategy='median'):\n",
        "    imputer = SimpleImputer(missing_values=np.nan, strategy=strategy)\n",
        "    _, total_columns = X.shape\n",
        "    \n",
        "    for index_column in range(total_columns):\n",
        "        if(pd.isnull(X[:, index_column:index_column+1]).any()):\n",
        "            X[:, index_column:index_column+1] = imputer.fit_transform(X[:, index_column:index_column+1])\n",
        "        \n",
        "    return X"
      ],
      "execution_count": 3,
      "outputs": []
    },
    {
      "cell_type": "markdown",
      "metadata": {
        "id": "RVNbUFhliDsS"
      },
      "source": [
        "## Carregando Conjunto de Dados"
      ]
    },
    {
      "cell_type": "code",
      "metadata": {
        "colab": {
          "base_uri": "https://localhost:8080/",
          "height": 979
        },
        "id": "piiumsnxi6e_",
        "outputId": "6635d485-1df4-4a7f-d916-fad76f6598d3"
      },
      "source": [
        "df = pd.read_csv('MLUD/Aula21/svbr.csv', delimiter=';')\n",
        "\n",
        "df.head(30)"
      ],
      "execution_count": 4,
      "outputs": [
        {
          "output_type": "execute_result",
          "data": {
            "text/html": [
              "<div>\n",
              "<style scoped>\n",
              "    .dataframe tbody tr th:only-of-type {\n",
              "        vertical-align: middle;\n",
              "    }\n",
              "\n",
              "    .dataframe tbody tr th {\n",
              "        vertical-align: top;\n",
              "    }\n",
              "\n",
              "    .dataframe thead th {\n",
              "        text-align: right;\n",
              "    }\n",
              "</style>\n",
              "<table border=\"1\" class=\"dataframe\">\n",
              "  <thead>\n",
              "    <tr style=\"text-align: right;\">\n",
              "      <th></th>\n",
              "      <th>Canal</th>\n",
              "      <th>Inscritos</th>\n",
              "      <th>Visualizações</th>\n",
              "    </tr>\n",
              "  </thead>\n",
              "  <tbody>\n",
              "    <tr>\n",
              "      <th>0</th>\n",
              "      <td>Site Arqueologia Egípcia</td>\n",
              "      <td>13438.0</td>\n",
              "      <td>406590.0</td>\n",
              "    </tr>\n",
              "    <tr>\n",
              "      <th>1</th>\n",
              "      <td>Terra Negra</td>\n",
              "      <td>35241.0</td>\n",
              "      <td>868235.0</td>\n",
              "    </tr>\n",
              "    <tr>\n",
              "      <th>2</th>\n",
              "      <td>Frank Jaava</td>\n",
              "      <td>31680.0</td>\n",
              "      <td>2856508.0</td>\n",
              "    </tr>\n",
              "    <tr>\n",
              "      <th>3</th>\n",
              "      <td>Dispersciência</td>\n",
              "      <td>25100.0</td>\n",
              "      <td>150000.0</td>\n",
              "    </tr>\n",
              "    <tr>\n",
              "      <th>4</th>\n",
              "      <td>Olá Ciência</td>\n",
              "      <td>32788.0</td>\n",
              "      <td>1575456.0</td>\n",
              "    </tr>\n",
              "    <tr>\n",
              "      <th>5</th>\n",
              "      <td>A matemaníaca por Julia Jaccoud</td>\n",
              "      <td>65453.0</td>\n",
              "      <td>1667892.0</td>\n",
              "    </tr>\n",
              "    <tr>\n",
              "      <th>6</th>\n",
              "      <td>Delta T - Os super lentos</td>\n",
              "      <td>12000.0</td>\n",
              "      <td>171361.0</td>\n",
              "    </tr>\n",
              "    <tr>\n",
              "      <th>7</th>\n",
              "      <td>Bláblálogia</td>\n",
              "      <td>161951.0</td>\n",
              "      <td>11027386.0</td>\n",
              "    </tr>\n",
              "    <tr>\n",
              "      <th>8</th>\n",
              "      <td>Efarsas</td>\n",
              "      <td>78876.0</td>\n",
              "      <td>6226235.0</td>\n",
              "    </tr>\n",
              "    <tr>\n",
              "      <th>9</th>\n",
              "      <td>Minuto da Terra</td>\n",
              "      <td>274196.0</td>\n",
              "      <td>30166457.0</td>\n",
              "    </tr>\n",
              "    <tr>\n",
              "      <th>10</th>\n",
              "      <td>Canal Cura Quântica</td>\n",
              "      <td>13148.0</td>\n",
              "      <td>250020.0</td>\n",
              "    </tr>\n",
              "    <tr>\n",
              "      <th>11</th>\n",
              "      <td>Mensageiro Sideral</td>\n",
              "      <td>72425.0</td>\n",
              "      <td>7551491.0</td>\n",
              "    </tr>\n",
              "    <tr>\n",
              "      <th>12</th>\n",
              "      <td>Universo Racionalista</td>\n",
              "      <td>7858.0</td>\n",
              "      <td>43662.0</td>\n",
              "    </tr>\n",
              "    <tr>\n",
              "      <th>13</th>\n",
              "      <td>Xadrez Verbal</td>\n",
              "      <td>110549.0</td>\n",
              "      <td>4151548.0</td>\n",
              "    </tr>\n",
              "    <tr>\n",
              "      <th>14</th>\n",
              "      <td>Reinaldo José Lopes</td>\n",
              "      <td>11188.0</td>\n",
              "      <td>541832.0</td>\n",
              "    </tr>\n",
              "    <tr>\n",
              "      <th>15</th>\n",
              "      <td>Bio's Fera</td>\n",
              "      <td>5299.0</td>\n",
              "      <td>44312.0</td>\n",
              "    </tr>\n",
              "    <tr>\n",
              "      <th>16</th>\n",
              "      <td>QuerQueDesenhe</td>\n",
              "      <td>56006.0</td>\n",
              "      <td>1329268.0</td>\n",
              "    </tr>\n",
              "    <tr>\n",
              "      <th>17</th>\n",
              "      <td>Prof André Azevedo da Fonseca</td>\n",
              "      <td>45756.0</td>\n",
              "      <td>1825724.0</td>\n",
              "    </tr>\n",
              "    <tr>\n",
              "      <th>18</th>\n",
              "      <td>Matemática Rio com Prof Rafael Procópio</td>\n",
              "      <td>1423056.0</td>\n",
              "      <td>93036517.0</td>\n",
              "    </tr>\n",
              "    <tr>\n",
              "      <th>19</th>\n",
              "      <td>Ponto em Comum</td>\n",
              "      <td>129466.0</td>\n",
              "      <td>5027880.0</td>\n",
              "    </tr>\n",
              "    <tr>\n",
              "      <th>20</th>\n",
              "      <td>Canal do Slow</td>\n",
              "      <td>137409.0</td>\n",
              "      <td>5363423.0</td>\n",
              "    </tr>\n",
              "    <tr>\n",
              "      <th>21</th>\n",
              "      <td>Boteco Behaviorista</td>\n",
              "      <td>18404.0</td>\n",
              "      <td>1427977.0</td>\n",
              "    </tr>\n",
              "    <tr>\n",
              "      <th>22</th>\n",
              "      <td>Papo de Primata</td>\n",
              "      <td>42063.0</td>\n",
              "      <td>1111334.0</td>\n",
              "    </tr>\n",
              "    <tr>\n",
              "      <th>23</th>\n",
              "      <td>Minutos Psíquicos</td>\n",
              "      <td>648892.0</td>\n",
              "      <td>22555134.0</td>\n",
              "    </tr>\n",
              "    <tr>\n",
              "      <th>24</th>\n",
              "      <td>Alimente o Cérebro</td>\n",
              "      <td>135118.0</td>\n",
              "      <td>3375528.0</td>\n",
              "    </tr>\n",
              "    <tr>\n",
              "      <th>25</th>\n",
              "      <td>Canal Zoa</td>\n",
              "      <td>9118.0</td>\n",
              "      <td>683190.0</td>\n",
              "    </tr>\n",
              "    <tr>\n",
              "      <th>26</th>\n",
              "      <td>Papo de Biólogo</td>\n",
              "      <td>374057.0</td>\n",
              "      <td>12139385.0</td>\n",
              "    </tr>\n",
              "    <tr>\n",
              "      <th>27</th>\n",
              "      <td>Eu, Ciência</td>\n",
              "      <td>88211.0</td>\n",
              "      <td>1616496.0</td>\n",
              "    </tr>\n",
              "    <tr>\n",
              "      <th>28</th>\n",
              "      <td>Peixe Babel</td>\n",
              "      <td>NaN</td>\n",
              "      <td>NaN</td>\n",
              "    </tr>\n",
              "    <tr>\n",
              "      <th>29</th>\n",
              "      <td>SpaceToday</td>\n",
              "      <td>321068.0</td>\n",
              "      <td>26277335.0</td>\n",
              "    </tr>\n",
              "  </tbody>\n",
              "</table>\n",
              "</div>"
            ],
            "text/plain": [
              "                                      Canal  Inscritos  Visualizações\n",
              "0                  Site Arqueologia Egípcia    13438.0       406590.0\n",
              "1                               Terra Negra    35241.0       868235.0\n",
              "2                               Frank Jaava    31680.0      2856508.0\n",
              "3                            Dispersciência    25100.0       150000.0\n",
              "4                               Olá Ciência    32788.0      1575456.0\n",
              "5           A matemaníaca por Julia Jaccoud    65453.0      1667892.0\n",
              "6                 Delta T - Os super lentos    12000.0       171361.0\n",
              "7                               Bláblálogia   161951.0     11027386.0\n",
              "8                                   Efarsas    78876.0      6226235.0\n",
              "9                           Minuto da Terra   274196.0     30166457.0\n",
              "10                      Canal Cura Quântica    13148.0       250020.0\n",
              "11                       Mensageiro Sideral    72425.0      7551491.0\n",
              "12                    Universo Racionalista     7858.0        43662.0\n",
              "13                            Xadrez Verbal   110549.0      4151548.0\n",
              "14                      Reinaldo José Lopes    11188.0       541832.0\n",
              "15                               Bio's Fera     5299.0        44312.0\n",
              "16                           QuerQueDesenhe    56006.0      1329268.0\n",
              "17            Prof André Azevedo da Fonseca    45756.0      1825724.0\n",
              "18  Matemática Rio com Prof Rafael Procópio  1423056.0     93036517.0\n",
              "19                           Ponto em Comum   129466.0      5027880.0\n",
              "20                            Canal do Slow   137409.0      5363423.0\n",
              "21                      Boteco Behaviorista    18404.0      1427977.0\n",
              "22                          Papo de Primata    42063.0      1111334.0\n",
              "23                        Minutos Psíquicos   648892.0     22555134.0\n",
              "24                       Alimente o Cérebro   135118.0      3375528.0\n",
              "25                                Canal Zoa     9118.0       683190.0\n",
              "26                          Papo de Biólogo   374057.0     12139385.0\n",
              "27                              Eu, Ciência    88211.0      1616496.0\n",
              "28                              Peixe Babel        NaN            NaN\n",
              "29                               SpaceToday   321068.0     26277335.0"
            ]
          },
          "metadata": {
            "tags": []
          },
          "execution_count": 4
        }
      ]
    },
    {
      "cell_type": "markdown",
      "metadata": {
        "id": "-LcWftXqiN0t"
      },
      "source": [
        "## Pré-processamento"
      ]
    },
    {
      "cell_type": "code",
      "metadata": {
        "colab": {
          "base_uri": "https://localhost:8080/",
          "height": 204
        },
        "id": "dtv9RT1sj3P4",
        "outputId": "0e3f8641-6548-419d-f86e-b0cd433396c8"
      },
      "source": [
        "#Pré-processamento\n",
        "df_numpy = fillMissingData(df.to_numpy())\n",
        "df_numpy[:, 1] = df_numpy[:, 1].astype('int')\n",
        "df_numpy[:, 2] = df_numpy[:, 2].astype('int')\n",
        "\n",
        "#Atualizando Peixe Babel\n",
        "df.at[28, 'Inscritos'] = df_numpy[28][1]\n",
        "df.at[28, 'Visualizações'] = df_numpy[28][2]\n",
        "\n",
        "#Converte Inscritos e Visualizações para inteiro\n",
        "df.Inscritos = df.Inscritos.astype('int')\n",
        "df.Visualizações = df.Visualizações.astype('int')\n",
        "\n",
        "X = pd.DataFrame({'Inscritos': df_numpy[:, 1], 'Visualizações':df_numpy[:,2]})\n",
        "X.head()"
      ],
      "execution_count": 5,
      "outputs": [
        {
          "output_type": "execute_result",
          "data": {
            "text/html": [
              "<div>\n",
              "<style scoped>\n",
              "    .dataframe tbody tr th:only-of-type {\n",
              "        vertical-align: middle;\n",
              "    }\n",
              "\n",
              "    .dataframe tbody tr th {\n",
              "        vertical-align: top;\n",
              "    }\n",
              "\n",
              "    .dataframe thead th {\n",
              "        text-align: right;\n",
              "    }\n",
              "</style>\n",
              "<table border=\"1\" class=\"dataframe\">\n",
              "  <thead>\n",
              "    <tr style=\"text-align: right;\">\n",
              "      <th></th>\n",
              "      <th>Inscritos</th>\n",
              "      <th>Visualizações</th>\n",
              "    </tr>\n",
              "  </thead>\n",
              "  <tbody>\n",
              "    <tr>\n",
              "      <th>0</th>\n",
              "      <td>13438</td>\n",
              "      <td>406590</td>\n",
              "    </tr>\n",
              "    <tr>\n",
              "      <th>1</th>\n",
              "      <td>35241</td>\n",
              "      <td>868235</td>\n",
              "    </tr>\n",
              "    <tr>\n",
              "      <th>2</th>\n",
              "      <td>31680</td>\n",
              "      <td>2856508</td>\n",
              "    </tr>\n",
              "    <tr>\n",
              "      <th>3</th>\n",
              "      <td>25100</td>\n",
              "      <td>150000</td>\n",
              "    </tr>\n",
              "    <tr>\n",
              "      <th>4</th>\n",
              "      <td>32788</td>\n",
              "      <td>1575456</td>\n",
              "    </tr>\n",
              "  </tbody>\n",
              "</table>\n",
              "</div>"
            ],
            "text/plain": [
              "  Inscritos Visualizações\n",
              "0     13438        406590\n",
              "1     35241        868235\n",
              "2     31680       2856508\n",
              "3     25100        150000\n",
              "4     32788       1575456"
            ]
          },
          "metadata": {
            "tags": []
          },
          "execution_count": 5
        }
      ]
    },
    {
      "cell_type": "markdown",
      "metadata": {
        "id": "Lv-74A0siTLY"
      },
      "source": [
        "## Método do Cotovelo"
      ]
    },
    {
      "cell_type": "code",
      "metadata": {
        "colab": {
          "base_uri": "https://localhost:8080/",
          "height": 295
        },
        "id": "Na2zKwDzn7hj",
        "outputId": "6ea9bef6-1751-4473-9d34-06b8a58d85c7"
      },
      "source": [
        "wcss = list()\n",
        "\n",
        "for i in range(1, 11):\n",
        "    kmeans = KMeans(n_clusters=i, init='k-means++', max_iter=300, n_init=10)\n",
        "    kmeans.fit(X)\n",
        "    wcss.append(kmeans.inertia_)\n",
        "\n",
        "plt.plot(range(1,11), wcss)\n",
        "plt.title(\"Método do Cotovelo\")\n",
        "plt.xlabel(\"Número de Clusters\")\n",
        "plt.ylabel(\"Within-Cluster-Sum-of-Squares\")\n",
        "plt.show()"
      ],
      "execution_count": 6,
      "outputs": [
        {
          "output_type": "display_data",
          "data": {
            "image/png": "[encoded data removed]",
            "text/plain": [
              "<Figure size 432x288 with 1 Axes>"
            ]
          },
          "metadata": {
            "tags": [],
            "needs_background": "light"
          }
        }
      ]
    },
    {
      "cell_type": "markdown",
      "metadata": {
        "id": "fZm4HP_msVlU"
      },
      "source": [
        "## K = 2"
      ]
    },
    {
      "cell_type": "code",
      "metadata": {
        "colab": {
          "base_uri": "https://localhost:8080/"
        },
        "id": "zE9ge_XZsXVb",
        "outputId": "4bba19db-ca93-4ca9-d809-2467e012b47b"
      },
      "source": [
        "kmeans = KMeans(n_clusters=2, init='k-means++', max_iter=300, n_init=10)\n",
        "clusters = kmeans.fit_predict(X)\n",
        "\n",
        "clusters"
      ],
      "execution_count": 7,
      "outputs": [
        {
          "output_type": "execute_result",
          "data": {
            "text/plain": [
              "array([0, 0, 0, 0, 0, 0, 0, 0, 0, 0, 0, 0, 0, 0, 0, 0, 0, 0, 1, 0, 0, 0,\n",
              "       0, 0, 0, 0, 0, 0, 0, 0, 0, 0, 1, 0, 0, 0, 0, 0, 0, 1, 0, 0, 0, 0,\n",
              "       0, 0, 0], dtype=int32)"
            ]
          },
          "metadata": {
            "tags": []
          },
          "execution_count": 7
        }
      ]
    },
    {
      "cell_type": "code",
      "metadata": {
        "colab": {
          "base_uri": "https://localhost:8080/",
          "height": 204
        },
        "id": "qQPCVX0lsvJz",
        "outputId": "3cf82692-7b13-4d4e-a396-dabadeec8452"
      },
      "source": [
        "df['Cluster'] = clusters\n",
        "\n",
        "df.head()"
      ],
      "execution_count": 8,
      "outputs": [
        {
          "output_type": "execute_result",
          "data": {
            "text/html": [
              "<div>\n",
              "<style scoped>\n",
              "    .dataframe tbody tr th:only-of-type {\n",
              "        vertical-align: middle;\n",
              "    }\n",
              "\n",
              "    .dataframe tbody tr th {\n",
              "        vertical-align: top;\n",
              "    }\n",
              "\n",
              "    .dataframe thead th {\n",
              "        text-align: right;\n",
              "    }\n",
              "</style>\n",
              "<table border=\"1\" class=\"dataframe\">\n",
              "  <thead>\n",
              "    <tr style=\"text-align: right;\">\n",
              "      <th></th>\n",
              "      <th>Canal</th>\n",
              "      <th>Inscritos</th>\n",
              "      <th>Visualizações</th>\n",
              "      <th>Cluster</th>\n",
              "    </tr>\n",
              "  </thead>\n",
              "  <tbody>\n",
              "    <tr>\n",
              "      <th>0</th>\n",
              "      <td>Site Arqueologia Egípcia</td>\n",
              "      <td>13438</td>\n",
              "      <td>406590</td>\n",
              "      <td>0</td>\n",
              "    </tr>\n",
              "    <tr>\n",
              "      <th>1</th>\n",
              "      <td>Terra Negra</td>\n",
              "      <td>35241</td>\n",
              "      <td>868235</td>\n",
              "      <td>0</td>\n",
              "    </tr>\n",
              "    <tr>\n",
              "      <th>2</th>\n",
              "      <td>Frank Jaava</td>\n",
              "      <td>31680</td>\n",
              "      <td>2856508</td>\n",
              "      <td>0</td>\n",
              "    </tr>\n",
              "    <tr>\n",
              "      <th>3</th>\n",
              "      <td>Dispersciência</td>\n",
              "      <td>25100</td>\n",
              "      <td>150000</td>\n",
              "      <td>0</td>\n",
              "    </tr>\n",
              "    <tr>\n",
              "      <th>4</th>\n",
              "      <td>Olá Ciência</td>\n",
              "      <td>32788</td>\n",
              "      <td>1575456</td>\n",
              "      <td>0</td>\n",
              "    </tr>\n",
              "  </tbody>\n",
              "</table>\n",
              "</div>"
            ],
            "text/plain": [
              "                      Canal  Inscritos  Visualizações  Cluster\n",
              "0  Site Arqueologia Egípcia      13438         406590        0\n",
              "1               Terra Negra      35241         868235        0\n",
              "2               Frank Jaava      31680        2856508        0\n",
              "3            Dispersciência      25100         150000        0\n",
              "4               Olá Ciência      32788        1575456        0"
            ]
          },
          "metadata": {
            "tags": []
          },
          "execution_count": 8
        }
      ]
    },
    {
      "cell_type": "code",
      "metadata": {
        "colab": {
          "base_uri": "https://localhost:8080/",
          "height": 1000
        },
        "id": "lZlBjPLVtMQT",
        "outputId": "ce46f7db-bddc-47e2-d687-df4e713e04b0"
      },
      "source": [
        "boolArray = df['Cluster'] == 0\n",
        "\n",
        "df[boolArray]"
      ],
      "execution_count": 9,
      "outputs": [
        {
          "output_type": "execute_result",
          "data": {
            "text/html": [
              "<div>\n",
              "<style scoped>\n",
              "    .dataframe tbody tr th:only-of-type {\n",
              "        vertical-align: middle;\n",
              "    }\n",
              "\n",
              "    .dataframe tbody tr th {\n",
              "        vertical-align: top;\n",
              "    }\n",
              "\n",
              "    .dataframe thead th {\n",
              "        text-align: right;\n",
              "    }\n",
              "</style>\n",
              "<table border=\"1\" class=\"dataframe\">\n",
              "  <thead>\n",
              "    <tr style=\"text-align: right;\">\n",
              "      <th></th>\n",
              "      <th>Canal</th>\n",
              "      <th>Inscritos</th>\n",
              "      <th>Visualizações</th>\n",
              "      <th>Cluster</th>\n",
              "    </tr>\n",
              "  </thead>\n",
              "  <tbody>\n",
              "    <tr>\n",
              "      <th>0</th>\n",
              "      <td>Site Arqueologia Egípcia</td>\n",
              "      <td>13438</td>\n",
              "      <td>406590</td>\n",
              "      <td>0</td>\n",
              "    </tr>\n",
              "    <tr>\n",
              "      <th>1</th>\n",
              "      <td>Terra Negra</td>\n",
              "      <td>35241</td>\n",
              "      <td>868235</td>\n",
              "      <td>0</td>\n",
              "    </tr>\n",
              "    <tr>\n",
              "      <th>2</th>\n",
              "      <td>Frank Jaava</td>\n",
              "      <td>31680</td>\n",
              "      <td>2856508</td>\n",
              "      <td>0</td>\n",
              "    </tr>\n",
              "    <tr>\n",
              "      <th>3</th>\n",
              "      <td>Dispersciência</td>\n",
              "      <td>25100</td>\n",
              "      <td>150000</td>\n",
              "      <td>0</td>\n",
              "    </tr>\n",
              "    <tr>\n",
              "      <th>4</th>\n",
              "      <td>Olá Ciência</td>\n",
              "      <td>32788</td>\n",
              "      <td>1575456</td>\n",
              "      <td>0</td>\n",
              "    </tr>\n",
              "    <tr>\n",
              "      <th>5</th>\n",
              "      <td>A matemaníaca por Julia Jaccoud</td>\n",
              "      <td>65453</td>\n",
              "      <td>1667892</td>\n",
              "      <td>0</td>\n",
              "    </tr>\n",
              "    <tr>\n",
              "      <th>6</th>\n",
              "      <td>Delta T - Os super lentos</td>\n",
              "      <td>12000</td>\n",
              "      <td>171361</td>\n",
              "      <td>0</td>\n",
              "    </tr>\n",
              "    <tr>\n",
              "      <th>7</th>\n",
              "      <td>Bláblálogia</td>\n",
              "      <td>161951</td>\n",
              "      <td>11027386</td>\n",
              "      <td>0</td>\n",
              "    </tr>\n",
              "    <tr>\n",
              "      <th>8</th>\n",
              "      <td>Efarsas</td>\n",
              "      <td>78876</td>\n",
              "      <td>6226235</td>\n",
              "      <td>0</td>\n",
              "    </tr>\n",
              "    <tr>\n",
              "      <th>9</th>\n",
              "      <td>Minuto da Terra</td>\n",
              "      <td>274196</td>\n",
              "      <td>30166457</td>\n",
              "      <td>0</td>\n",
              "    </tr>\n",
              "    <tr>\n",
              "      <th>10</th>\n",
              "      <td>Canal Cura Quântica</td>\n",
              "      <td>13148</td>\n",
              "      <td>250020</td>\n",
              "      <td>0</td>\n",
              "    </tr>\n",
              "    <tr>\n",
              "      <th>11</th>\n",
              "      <td>Mensageiro Sideral</td>\n",
              "      <td>72425</td>\n",
              "      <td>7551491</td>\n",
              "      <td>0</td>\n",
              "    </tr>\n",
              "    <tr>\n",
              "      <th>12</th>\n",
              "      <td>Universo Racionalista</td>\n",
              "      <td>7858</td>\n",
              "      <td>43662</td>\n",
              "      <td>0</td>\n",
              "    </tr>\n",
              "    <tr>\n",
              "      <th>13</th>\n",
              "      <td>Xadrez Verbal</td>\n",
              "      <td>110549</td>\n",
              "      <td>4151548</td>\n",
              "      <td>0</td>\n",
              "    </tr>\n",
              "    <tr>\n",
              "      <th>14</th>\n",
              "      <td>Reinaldo José Lopes</td>\n",
              "      <td>11188</td>\n",
              "      <td>541832</td>\n",
              "      <td>0</td>\n",
              "    </tr>\n",
              "    <tr>\n",
              "      <th>15</th>\n",
              "      <td>Bio's Fera</td>\n",
              "      <td>5299</td>\n",
              "      <td>44312</td>\n",
              "      <td>0</td>\n",
              "    </tr>\n",
              "    <tr>\n",
              "      <th>16</th>\n",
              "      <td>QuerQueDesenhe</td>\n",
              "      <td>56006</td>\n",
              "      <td>1329268</td>\n",
              "      <td>0</td>\n",
              "    </tr>\n",
              "    <tr>\n",
              "      <th>17</th>\n",
              "      <td>Prof André Azevedo da Fonseca</td>\n",
              "      <td>45756</td>\n",
              "      <td>1825724</td>\n",
              "      <td>0</td>\n",
              "    </tr>\n",
              "    <tr>\n",
              "      <th>19</th>\n",
              "      <td>Ponto em Comum</td>\n",
              "      <td>129466</td>\n",
              "      <td>5027880</td>\n",
              "      <td>0</td>\n",
              "    </tr>\n",
              "    <tr>\n",
              "      <th>20</th>\n",
              "      <td>Canal do Slow</td>\n",
              "      <td>137409</td>\n",
              "      <td>5363423</td>\n",
              "      <td>0</td>\n",
              "    </tr>\n",
              "    <tr>\n",
              "      <th>21</th>\n",
              "      <td>Boteco Behaviorista</td>\n",
              "      <td>18404</td>\n",
              "      <td>1427977</td>\n",
              "      <td>0</td>\n",
              "    </tr>\n",
              "    <tr>\n",
              "      <th>22</th>\n",
              "      <td>Papo de Primata</td>\n",
              "      <td>42063</td>\n",
              "      <td>1111334</td>\n",
              "      <td>0</td>\n",
              "    </tr>\n",
              "    <tr>\n",
              "      <th>23</th>\n",
              "      <td>Minutos Psíquicos</td>\n",
              "      <td>648892</td>\n",
              "      <td>22555134</td>\n",
              "      <td>0</td>\n",
              "    </tr>\n",
              "    <tr>\n",
              "      <th>24</th>\n",
              "      <td>Alimente o Cérebro</td>\n",
              "      <td>135118</td>\n",
              "      <td>3375528</td>\n",
              "      <td>0</td>\n",
              "    </tr>\n",
              "    <tr>\n",
              "      <th>25</th>\n",
              "      <td>Canal Zoa</td>\n",
              "      <td>9118</td>\n",
              "      <td>683190</td>\n",
              "      <td>0</td>\n",
              "    </tr>\n",
              "    <tr>\n",
              "      <th>26</th>\n",
              "      <td>Papo de Biólogo</td>\n",
              "      <td>374057</td>\n",
              "      <td>12139385</td>\n",
              "      <td>0</td>\n",
              "    </tr>\n",
              "    <tr>\n",
              "      <th>27</th>\n",
              "      <td>Eu, Ciência</td>\n",
              "      <td>88211</td>\n",
              "      <td>1616496</td>\n",
              "      <td>0</td>\n",
              "    </tr>\n",
              "    <tr>\n",
              "      <th>28</th>\n",
              "      <td>Peixe Babel</td>\n",
              "      <td>49797</td>\n",
              "      <td>1595976</td>\n",
              "      <td>0</td>\n",
              "    </tr>\n",
              "    <tr>\n",
              "      <th>29</th>\n",
              "      <td>SpaceToday</td>\n",
              "      <td>321068</td>\n",
              "      <td>26277335</td>\n",
              "      <td>0</td>\n",
              "    </tr>\n",
              "    <tr>\n",
              "      <th>30</th>\n",
              "      <td>Ciência todo dia</td>\n",
              "      <td>528761</td>\n",
              "      <td>16969332</td>\n",
              "      <td>0</td>\n",
              "    </tr>\n",
              "    <tr>\n",
              "      <th>31</th>\n",
              "      <td>Colecionadores de Ossos</td>\n",
              "      <td>24894</td>\n",
              "      <td>806815</td>\n",
              "      <td>0</td>\n",
              "    </tr>\n",
              "    <tr>\n",
              "      <th>33</th>\n",
              "      <td>Jornal Ciensacional</td>\n",
              "      <td>6216</td>\n",
              "      <td>104217</td>\n",
              "      <td>0</td>\n",
              "    </tr>\n",
              "    <tr>\n",
              "      <th>34</th>\n",
              "      <td>iBioMovies - Canal de Biologia</td>\n",
              "      <td>17388</td>\n",
              "      <td>563535</td>\n",
              "      <td>0</td>\n",
              "    </tr>\n",
              "    <tr>\n",
              "      <th>35</th>\n",
              "      <td>Primata Falante</td>\n",
              "      <td>110840</td>\n",
              "      <td>4540321</td>\n",
              "      <td>0</td>\n",
              "    </tr>\n",
              "    <tr>\n",
              "      <th>36</th>\n",
              "      <td>Dragões de Garagem</td>\n",
              "      <td>6421</td>\n",
              "      <td>82599</td>\n",
              "      <td>0</td>\n",
              "    </tr>\n",
              "    <tr>\n",
              "      <th>37</th>\n",
              "      <td>Café e Ciência</td>\n",
              "      <td>38494</td>\n",
              "      <td>916320</td>\n",
              "      <td>0</td>\n",
              "    </tr>\n",
              "    <tr>\n",
              "      <th>38</th>\n",
              "      <td>Mimimidias</td>\n",
              "      <td>66122</td>\n",
              "      <td>2009621</td>\n",
              "      <td>0</td>\n",
              "    </tr>\n",
              "    <tr>\n",
              "      <th>40</th>\n",
              "      <td>Caio na Aula</td>\n",
              "      <td>13661</td>\n",
              "      <td>748018</td>\n",
              "      <td>0</td>\n",
              "    </tr>\n",
              "    <tr>\n",
              "      <th>41</th>\n",
              "      <td>ComCiência Corporal</td>\n",
              "      <td>2308</td>\n",
              "      <td>16150</td>\n",
              "      <td>0</td>\n",
              "    </tr>\n",
              "    <tr>\n",
              "      <th>42</th>\n",
              "      <td>Leitura ObrigaHISTORIA</td>\n",
              "      <td>138132</td>\n",
              "      <td>3013264</td>\n",
              "      <td>0</td>\n",
              "    </tr>\n",
              "    <tr>\n",
              "      <th>43</th>\n",
              "      <td>Portal da Ciência</td>\n",
              "      <td>64100</td>\n",
              "      <td>2139717</td>\n",
              "      <td>0</td>\n",
              "    </tr>\n",
              "    <tr>\n",
              "      <th>44</th>\n",
              "      <td>Universo Discreto</td>\n",
              "      <td>2330</td>\n",
              "      <td>74680</td>\n",
              "      <td>0</td>\n",
              "    </tr>\n",
              "    <tr>\n",
              "      <th>45</th>\n",
              "      <td>Astrotubers</td>\n",
              "      <td>4357</td>\n",
              "      <td>41228</td>\n",
              "      <td>0</td>\n",
              "    </tr>\n",
              "    <tr>\n",
              "      <th>46</th>\n",
              "      <td>O Físico Turista</td>\n",
              "      <td>53838</td>\n",
              "      <td>1004921</td>\n",
              "      <td>0</td>\n",
              "    </tr>\n",
              "  </tbody>\n",
              "</table>\n",
              "</div>"
            ],
            "text/plain": [
              "                              Canal  Inscritos  Visualizações  Cluster\n",
              "0          Site Arqueologia Egípcia      13438         406590        0\n",
              "1                       Terra Negra      35241         868235        0\n",
              "2                       Frank Jaava      31680        2856508        0\n",
              "3                    Dispersciência      25100         150000        0\n",
              "4                       Olá Ciência      32788        1575456        0\n",
              "5   A matemaníaca por Julia Jaccoud      65453        1667892        0\n",
              "6         Delta T - Os super lentos      12000         171361        0\n",
              "7                       Bláblálogia     161951       11027386        0\n",
              "8                           Efarsas      78876        6226235        0\n",
              "9                   Minuto da Terra     274196       30166457        0\n",
              "10              Canal Cura Quântica      13148         250020        0\n",
              "11               Mensageiro Sideral      72425        7551491        0\n",
              "12            Universo Racionalista       7858          43662        0\n",
              "13                    Xadrez Verbal     110549        4151548        0\n",
              "14              Reinaldo José Lopes      11188         541832        0\n",
              "15                       Bio's Fera       5299          44312        0\n",
              "16                   QuerQueDesenhe      56006        1329268        0\n",
              "17    Prof André Azevedo da Fonseca      45756        1825724        0\n",
              "19                   Ponto em Comum     129466        5027880        0\n",
              "20                    Canal do Slow     137409        5363423        0\n",
              "21              Boteco Behaviorista      18404        1427977        0\n",
              "22                  Papo de Primata      42063        1111334        0\n",
              "23                Minutos Psíquicos     648892       22555134        0\n",
              "24               Alimente o Cérebro     135118        3375528        0\n",
              "25                        Canal Zoa       9118         683190        0\n",
              "26                  Papo de Biólogo     374057       12139385        0\n",
              "27                      Eu, Ciência      88211        1616496        0\n",
              "28                      Peixe Babel      49797        1595976        0\n",
              "29                       SpaceToday     321068       26277335        0\n",
              "30                 Ciência todo dia     528761       16969332        0\n",
              "31          Colecionadores de Ossos      24894         806815        0\n",
              "33              Jornal Ciensacional       6216         104217        0\n",
              "34   iBioMovies - Canal de Biologia      17388         563535        0\n",
              "35                  Primata Falante     110840        4540321        0\n",
              "36               Dragões de Garagem       6421          82599        0\n",
              "37                   Café e Ciência      38494         916320        0\n",
              "38                       Mimimidias      66122        2009621        0\n",
              "40                     Caio na Aula      13661         748018        0\n",
              "41              ComCiência Corporal       2308          16150        0\n",
              "42           Leitura ObrigaHISTORIA     138132        3013264        0\n",
              "43                Portal da Ciência      64100        2139717        0\n",
              "44                Universo Discreto       2330          74680        0\n",
              "45                      Astrotubers       4357          41228        0\n",
              "46                 O Físico Turista      53838        1004921        0"
            ]
          },
          "metadata": {
            "tags": []
          },
          "execution_count": 9
        }
      ]
    },
    {
      "cell_type": "code",
      "metadata": {
        "colab": {
          "base_uri": "https://localhost:8080/",
          "height": 142
        },
        "id": "ZUYU9kWFtlNr",
        "outputId": "5f8abb1d-905d-4e93-f3d2-b6dbe63835d9"
      },
      "source": [
        "boolArray = df['Cluster'] == 1\n",
        "\n",
        "df[boolArray]"
      ],
      "execution_count": 10,
      "outputs": [
        {
          "output_type": "execute_result",
          "data": {
            "text/html": [
              "<div>\n",
              "<style scoped>\n",
              "    .dataframe tbody tr th:only-of-type {\n",
              "        vertical-align: middle;\n",
              "    }\n",
              "\n",
              "    .dataframe tbody tr th {\n",
              "        vertical-align: top;\n",
              "    }\n",
              "\n",
              "    .dataframe thead th {\n",
              "        text-align: right;\n",
              "    }\n",
              "</style>\n",
              "<table border=\"1\" class=\"dataframe\">\n",
              "  <thead>\n",
              "    <tr style=\"text-align: right;\">\n",
              "      <th></th>\n",
              "      <th>Canal</th>\n",
              "      <th>Inscritos</th>\n",
              "      <th>Visualizações</th>\n",
              "      <th>Cluster</th>\n",
              "    </tr>\n",
              "  </thead>\n",
              "  <tbody>\n",
              "    <tr>\n",
              "      <th>18</th>\n",
              "      <td>Matemática Rio com Prof Rafael Procópio</td>\n",
              "      <td>1423056</td>\n",
              "      <td>93036517</td>\n",
              "      <td>1</td>\n",
              "    </tr>\n",
              "    <tr>\n",
              "      <th>32</th>\n",
              "      <td>Canal do Pirula</td>\n",
              "      <td>752573</td>\n",
              "      <td>76462787</td>\n",
              "      <td>1</td>\n",
              "    </tr>\n",
              "    <tr>\n",
              "      <th>39</th>\n",
              "      <td>Schwarza - Poligonautas</td>\n",
              "      <td>860493</td>\n",
              "      <td>118741623</td>\n",
              "      <td>1</td>\n",
              "    </tr>\n",
              "  </tbody>\n",
              "</table>\n",
              "</div>"
            ],
            "text/plain": [
              "                                      Canal  Inscritos  Visualizações  Cluster\n",
              "18  Matemática Rio com Prof Rafael Procópio    1423056       93036517        1\n",
              "32                          Canal do Pirula     752573       76462787        1\n",
              "39                  Schwarza - Poligonautas     860493      118741623        1"
            ]
          },
          "metadata": {
            "tags": []
          },
          "execution_count": 10
        }
      ]
    },
    {
      "cell_type": "markdown",
      "metadata": {
        "id": "3CzDlrdoleCq"
      },
      "source": [
        "### Gráfico"
      ]
    },
    {
      "cell_type": "code",
      "metadata": {
        "colab": {
          "base_uri": "https://localhost:8080/",
          "height": 567
        },
        "id": "GGtrqIQ5uAqy",
        "outputId": "632ccb75-af41-4280-99c4-f792cc1e48d1"
      },
      "source": [
        "x = X.to_numpy()\n",
        "\n",
        "plt.figure(figsize=(12,9))\n",
        "plt.scatter(x[clusters == 0, 0], x[clusters == 0, 1],\n",
        "            s=50, c='lightgreen',\n",
        "            edgecolor='black',\n",
        "            label='time B'\n",
        "            )\n",
        "\n",
        "plt.scatter(x[clusters == 1, 0], x[clusters == 1, 1],\n",
        "            s=50, c='orange',\n",
        "            edgecolor='black',\n",
        "            label='time A'\n",
        "            )\n",
        "\n",
        "# centroids\n",
        "plt.scatter(kmeans.cluster_centers_[:, 0], kmeans.cluster_centers_[:, 1],\n",
        "            s=200, c='red', edgecolor='black', label='centroids')\n",
        "\n",
        "plt.title(\"Canais do Science Vlogs Brazil\")\n",
        "plt.xlabel('Inscritos')\n",
        "plt.ylabel('Visualizações')\n",
        "plt.legend()\n",
        "plt.show()"
      ],
      "execution_count": 11,
      "outputs": [
        {
          "output_type": "display_data",
          "data": {
            "image/png": "[encoded data removed]",
            "text/plain": [
              "<Figure size 864x648 with 1 Axes>"
            ]
          },
          "metadata": {
            "tags": [],
            "needs_background": "light"
          }
        }
      ]
    },
    {
      "cell_type": "markdown",
      "metadata": {
        "id": "O96dvxV9wFis"
      },
      "source": [
        "## K = 3"
      ]
    },
    {
      "cell_type": "code",
      "metadata": {
        "colab": {
          "base_uri": "https://localhost:8080/"
        },
        "id": "iS-VxtrvvkJB",
        "outputId": "1f2fd23a-27ea-4528-9ef2-77bae93ff251"
      },
      "source": [
        "kmeans = KMeans(n_clusters=3, init='k-means++', max_iter=300, n_init=10)\n",
        "clusters = kmeans.fit_predict(X)\n",
        "\n",
        "clusters"
      ],
      "execution_count": 12,
      "outputs": [
        {
          "output_type": "execute_result",
          "data": {
            "text/plain": [
              "array([0, 0, 0, 0, 0, 0, 0, 0, 0, 2, 0, 0, 0, 0, 0, 0, 0, 0, 1, 0, 0, 0,\n",
              "       0, 2, 0, 0, 0, 0, 0, 2, 2, 0, 1, 0, 0, 0, 0, 0, 0, 1, 0, 0, 0, 0,\n",
              "       0, 0, 0], dtype=int32)"
            ]
          },
          "metadata": {
            "tags": []
          },
          "execution_count": 12
        }
      ]
    },
    {
      "cell_type": "code",
      "metadata": {
        "colab": {
          "base_uri": "https://localhost:8080/",
          "height": 204
        },
        "id": "P1HoU3onwM0v",
        "outputId": "066b2f0a-2a05-49a5-b3e8-25c28888348a"
      },
      "source": [
        "df['Cluster'] = clusters\n",
        "\n",
        "df.head()"
      ],
      "execution_count": 13,
      "outputs": [
        {
          "output_type": "execute_result",
          "data": {
            "text/html": [
              "<div>\n",
              "<style scoped>\n",
              "    .dataframe tbody tr th:only-of-type {\n",
              "        vertical-align: middle;\n",
              "    }\n",
              "\n",
              "    .dataframe tbody tr th {\n",
              "        vertical-align: top;\n",
              "    }\n",
              "\n",
              "    .dataframe thead th {\n",
              "        text-align: right;\n",
              "    }\n",
              "</style>\n",
              "<table border=\"1\" class=\"dataframe\">\n",
              "  <thead>\n",
              "    <tr style=\"text-align: right;\">\n",
              "      <th></th>\n",
              "      <th>Canal</th>\n",
              "      <th>Inscritos</th>\n",
              "      <th>Visualizações</th>\n",
              "      <th>Cluster</th>\n",
              "    </tr>\n",
              "  </thead>\n",
              "  <tbody>\n",
              "    <tr>\n",
              "      <th>0</th>\n",
              "      <td>Site Arqueologia Egípcia</td>\n",
              "      <td>13438</td>\n",
              "      <td>406590</td>\n",
              "      <td>0</td>\n",
              "    </tr>\n",
              "    <tr>\n",
              "      <th>1</th>\n",
              "      <td>Terra Negra</td>\n",
              "      <td>35241</td>\n",
              "      <td>868235</td>\n",
              "      <td>0</td>\n",
              "    </tr>\n",
              "    <tr>\n",
              "      <th>2</th>\n",
              "      <td>Frank Jaava</td>\n",
              "      <td>31680</td>\n",
              "      <td>2856508</td>\n",
              "      <td>0</td>\n",
              "    </tr>\n",
              "    <tr>\n",
              "      <th>3</th>\n",
              "      <td>Dispersciência</td>\n",
              "      <td>25100</td>\n",
              "      <td>150000</td>\n",
              "      <td>0</td>\n",
              "    </tr>\n",
              "    <tr>\n",
              "      <th>4</th>\n",
              "      <td>Olá Ciência</td>\n",
              "      <td>32788</td>\n",
              "      <td>1575456</td>\n",
              "      <td>0</td>\n",
              "    </tr>\n",
              "  </tbody>\n",
              "</table>\n",
              "</div>"
            ],
            "text/plain": [
              "                      Canal  Inscritos  Visualizações  Cluster\n",
              "0  Site Arqueologia Egípcia      13438         406590        0\n",
              "1               Terra Negra      35241         868235        0\n",
              "2               Frank Jaava      31680        2856508        0\n",
              "3            Dispersciência      25100         150000        0\n",
              "4               Olá Ciência      32788        1575456        0"
            ]
          },
          "metadata": {
            "tags": []
          },
          "execution_count": 13
        }
      ]
    },
    {
      "cell_type": "code",
      "metadata": {
        "colab": {
          "base_uri": "https://localhost:8080/",
          "height": 1000
        },
        "id": "pKBWDwPxwRiR",
        "outputId": "c243fcee-ae57-4a5a-e375-10e7c47c1495"
      },
      "source": [
        "boolArray = df['Cluster'] == 0\n",
        "\n",
        "df[boolArray]"
      ],
      "execution_count": 14,
      "outputs": [
        {
          "output_type": "execute_result",
          "data": {
            "text/html": [
              "<div>\n",
              "<style scoped>\n",
              "    .dataframe tbody tr th:only-of-type {\n",
              "        vertical-align: middle;\n",
              "    }\n",
              "\n",
              "    .dataframe tbody tr th {\n",
              "        vertical-align: top;\n",
              "    }\n",
              "\n",
              "    .dataframe thead th {\n",
              "        text-align: right;\n",
              "    }\n",
              "</style>\n",
              "<table border=\"1\" class=\"dataframe\">\n",
              "  <thead>\n",
              "    <tr style=\"text-align: right;\">\n",
              "      <th></th>\n",
              "      <th>Canal</th>\n",
              "      <th>Inscritos</th>\n",
              "      <th>Visualizações</th>\n",
              "      <th>Cluster</th>\n",
              "    </tr>\n",
              "  </thead>\n",
              "  <tbody>\n",
              "    <tr>\n",
              "      <th>0</th>\n",
              "      <td>Site Arqueologia Egípcia</td>\n",
              "      <td>13438</td>\n",
              "      <td>406590</td>\n",
              "      <td>0</td>\n",
              "    </tr>\n",
              "    <tr>\n",
              "      <th>1</th>\n",
              "      <td>Terra Negra</td>\n",
              "      <td>35241</td>\n",
              "      <td>868235</td>\n",
              "      <td>0</td>\n",
              "    </tr>\n",
              "    <tr>\n",
              "      <th>2</th>\n",
              "      <td>Frank Jaava</td>\n",
              "      <td>31680</td>\n",
              "      <td>2856508</td>\n",
              "      <td>0</td>\n",
              "    </tr>\n",
              "    <tr>\n",
              "      <th>3</th>\n",
              "      <td>Dispersciência</td>\n",
              "      <td>25100</td>\n",
              "      <td>150000</td>\n",
              "      <td>0</td>\n",
              "    </tr>\n",
              "    <tr>\n",
              "      <th>4</th>\n",
              "      <td>Olá Ciência</td>\n",
              "      <td>32788</td>\n",
              "      <td>1575456</td>\n",
              "      <td>0</td>\n",
              "    </tr>\n",
              "    <tr>\n",
              "      <th>5</th>\n",
              "      <td>A matemaníaca por Julia Jaccoud</td>\n",
              "      <td>65453</td>\n",
              "      <td>1667892</td>\n",
              "      <td>0</td>\n",
              "    </tr>\n",
              "    <tr>\n",
              "      <th>6</th>\n",
              "      <td>Delta T - Os super lentos</td>\n",
              "      <td>12000</td>\n",
              "      <td>171361</td>\n",
              "      <td>0</td>\n",
              "    </tr>\n",
              "    <tr>\n",
              "      <th>7</th>\n",
              "      <td>Bláblálogia</td>\n",
              "      <td>161951</td>\n",
              "      <td>11027386</td>\n",
              "      <td>0</td>\n",
              "    </tr>\n",
              "    <tr>\n",
              "      <th>8</th>\n",
              "      <td>Efarsas</td>\n",
              "      <td>78876</td>\n",
              "      <td>6226235</td>\n",
              "      <td>0</td>\n",
              "    </tr>\n",
              "    <tr>\n",
              "      <th>10</th>\n",
              "      <td>Canal Cura Quântica</td>\n",
              "      <td>13148</td>\n",
              "      <td>250020</td>\n",
              "      <td>0</td>\n",
              "    </tr>\n",
              "    <tr>\n",
              "      <th>11</th>\n",
              "      <td>Mensageiro Sideral</td>\n",
              "      <td>72425</td>\n",
              "      <td>7551491</td>\n",
              "      <td>0</td>\n",
              "    </tr>\n",
              "    <tr>\n",
              "      <th>12</th>\n",
              "      <td>Universo Racionalista</td>\n",
              "      <td>7858</td>\n",
              "      <td>43662</td>\n",
              "      <td>0</td>\n",
              "    </tr>\n",
              "    <tr>\n",
              "      <th>13</th>\n",
              "      <td>Xadrez Verbal</td>\n",
              "      <td>110549</td>\n",
              "      <td>4151548</td>\n",
              "      <td>0</td>\n",
              "    </tr>\n",
              "    <tr>\n",
              "      <th>14</th>\n",
              "      <td>Reinaldo José Lopes</td>\n",
              "      <td>11188</td>\n",
              "      <td>541832</td>\n",
              "      <td>0</td>\n",
              "    </tr>\n",
              "    <tr>\n",
              "      <th>15</th>\n",
              "      <td>Bio's Fera</td>\n",
              "      <td>5299</td>\n",
              "      <td>44312</td>\n",
              "      <td>0</td>\n",
              "    </tr>\n",
              "    <tr>\n",
              "      <th>16</th>\n",
              "      <td>QuerQueDesenhe</td>\n",
              "      <td>56006</td>\n",
              "      <td>1329268</td>\n",
              "      <td>0</td>\n",
              "    </tr>\n",
              "    <tr>\n",
              "      <th>17</th>\n",
              "      <td>Prof André Azevedo da Fonseca</td>\n",
              "      <td>45756</td>\n",
              "      <td>1825724</td>\n",
              "      <td>0</td>\n",
              "    </tr>\n",
              "    <tr>\n",
              "      <th>19</th>\n",
              "      <td>Ponto em Comum</td>\n",
              "      <td>129466</td>\n",
              "      <td>5027880</td>\n",
              "      <td>0</td>\n",
              "    </tr>\n",
              "    <tr>\n",
              "      <th>20</th>\n",
              "      <td>Canal do Slow</td>\n",
              "      <td>137409</td>\n",
              "      <td>5363423</td>\n",
              "      <td>0</td>\n",
              "    </tr>\n",
              "    <tr>\n",
              "      <th>21</th>\n",
              "      <td>Boteco Behaviorista</td>\n",
              "      <td>18404</td>\n",
              "      <td>1427977</td>\n",
              "      <td>0</td>\n",
              "    </tr>\n",
              "    <tr>\n",
              "      <th>22</th>\n",
              "      <td>Papo de Primata</td>\n",
              "      <td>42063</td>\n",
              "      <td>1111334</td>\n",
              "      <td>0</td>\n",
              "    </tr>\n",
              "    <tr>\n",
              "      <th>24</th>\n",
              "      <td>Alimente o Cérebro</td>\n",
              "      <td>135118</td>\n",
              "      <td>3375528</td>\n",
              "      <td>0</td>\n",
              "    </tr>\n",
              "    <tr>\n",
              "      <th>25</th>\n",
              "      <td>Canal Zoa</td>\n",
              "      <td>9118</td>\n",
              "      <td>683190</td>\n",
              "      <td>0</td>\n",
              "    </tr>\n",
              "    <tr>\n",
              "      <th>26</th>\n",
              "      <td>Papo de Biólogo</td>\n",
              "      <td>374057</td>\n",
              "      <td>12139385</td>\n",
              "      <td>0</td>\n",
              "    </tr>\n",
              "    <tr>\n",
              "      <th>27</th>\n",
              "      <td>Eu, Ciência</td>\n",
              "      <td>88211</td>\n",
              "      <td>1616496</td>\n",
              "      <td>0</td>\n",
              "    </tr>\n",
              "    <tr>\n",
              "      <th>28</th>\n",
              "      <td>Peixe Babel</td>\n",
              "      <td>49797</td>\n",
              "      <td>1595976</td>\n",
              "      <td>0</td>\n",
              "    </tr>\n",
              "    <tr>\n",
              "      <th>31</th>\n",
              "      <td>Colecionadores de Ossos</td>\n",
              "      <td>24894</td>\n",
              "      <td>806815</td>\n",
              "      <td>0</td>\n",
              "    </tr>\n",
              "    <tr>\n",
              "      <th>33</th>\n",
              "      <td>Jornal Ciensacional</td>\n",
              "      <td>6216</td>\n",
              "      <td>104217</td>\n",
              "      <td>0</td>\n",
              "    </tr>\n",
              "    <tr>\n",
              "      <th>34</th>\n",
              "      <td>iBioMovies - Canal de Biologia</td>\n",
              "      <td>17388</td>\n",
              "      <td>563535</td>\n",
              "      <td>0</td>\n",
              "    </tr>\n",
              "    <tr>\n",
              "      <th>35</th>\n",
              "      <td>Primata Falante</td>\n",
              "      <td>110840</td>\n",
              "      <td>4540321</td>\n",
              "      <td>0</td>\n",
              "    </tr>\n",
              "    <tr>\n",
              "      <th>36</th>\n",
              "      <td>Dragões de Garagem</td>\n",
              "      <td>6421</td>\n",
              "      <td>82599</td>\n",
              "      <td>0</td>\n",
              "    </tr>\n",
              "    <tr>\n",
              "      <th>37</th>\n",
              "      <td>Café e Ciência</td>\n",
              "      <td>38494</td>\n",
              "      <td>916320</td>\n",
              "      <td>0</td>\n",
              "    </tr>\n",
              "    <tr>\n",
              "      <th>38</th>\n",
              "      <td>Mimimidias</td>\n",
              "      <td>66122</td>\n",
              "      <td>2009621</td>\n",
              "      <td>0</td>\n",
              "    </tr>\n",
              "    <tr>\n",
              "      <th>40</th>\n",
              "      <td>Caio na Aula</td>\n",
              "      <td>13661</td>\n",
              "      <td>748018</td>\n",
              "      <td>0</td>\n",
              "    </tr>\n",
              "    <tr>\n",
              "      <th>41</th>\n",
              "      <td>ComCiência Corporal</td>\n",
              "      <td>2308</td>\n",
              "      <td>16150</td>\n",
              "      <td>0</td>\n",
              "    </tr>\n",
              "    <tr>\n",
              "      <th>42</th>\n",
              "      <td>Leitura ObrigaHISTORIA</td>\n",
              "      <td>138132</td>\n",
              "      <td>3013264</td>\n",
              "      <td>0</td>\n",
              "    </tr>\n",
              "    <tr>\n",
              "      <th>43</th>\n",
              "      <td>Portal da Ciência</td>\n",
              "      <td>64100</td>\n",
              "      <td>2139717</td>\n",
              "      <td>0</td>\n",
              "    </tr>\n",
              "    <tr>\n",
              "      <th>44</th>\n",
              "      <td>Universo Discreto</td>\n",
              "      <td>2330</td>\n",
              "      <td>74680</td>\n",
              "      <td>0</td>\n",
              "    </tr>\n",
              "    <tr>\n",
              "      <th>45</th>\n",
              "      <td>Astrotubers</td>\n",
              "      <td>4357</td>\n",
              "      <td>41228</td>\n",
              "      <td>0</td>\n",
              "    </tr>\n",
              "    <tr>\n",
              "      <th>46</th>\n",
              "      <td>O Físico Turista</td>\n",
              "      <td>53838</td>\n",
              "      <td>1004921</td>\n",
              "      <td>0</td>\n",
              "    </tr>\n",
              "  </tbody>\n",
              "</table>\n",
              "</div>"
            ],
            "text/plain": [
              "                              Canal  Inscritos  Visualizações  Cluster\n",
              "0          Site Arqueologia Egípcia      13438         406590        0\n",
              "1                       Terra Negra      35241         868235        0\n",
              "2                       Frank Jaava      31680        2856508        0\n",
              "3                    Dispersciência      25100         150000        0\n",
              "4                       Olá Ciência      32788        1575456        0\n",
              "5   A matemaníaca por Julia Jaccoud      65453        1667892        0\n",
              "6         Delta T - Os super lentos      12000         171361        0\n",
              "7                       Bláblálogia     161951       11027386        0\n",
              "8                           Efarsas      78876        6226235        0\n",
              "10              Canal Cura Quântica      13148         250020        0\n",
              "11               Mensageiro Sideral      72425        7551491        0\n",
              "12            Universo Racionalista       7858          43662        0\n",
              "13                    Xadrez Verbal     110549        4151548        0\n",
              "14              Reinaldo José Lopes      11188         541832        0\n",
              "15                       Bio's Fera       5299          44312        0\n",
              "16                   QuerQueDesenhe      56006        1329268        0\n",
              "17    Prof André Azevedo da Fonseca      45756        1825724        0\n",
              "19                   Ponto em Comum     129466        5027880        0\n",
              "20                    Canal do Slow     137409        5363423        0\n",
              "21              Boteco Behaviorista      18404        1427977        0\n",
              "22                  Papo de Primata      42063        1111334        0\n",
              "24               Alimente o Cérebro     135118        3375528        0\n",
              "25                        Canal Zoa       9118         683190        0\n",
              "26                  Papo de Biólogo     374057       12139385        0\n",
              "27                      Eu, Ciência      88211        1616496        0\n",
              "28                      Peixe Babel      49797        1595976        0\n",
              "31          Colecionadores de Ossos      24894         806815        0\n",
              "33              Jornal Ciensacional       6216         104217        0\n",
              "34   iBioMovies - Canal de Biologia      17388         563535        0\n",
              "35                  Primata Falante     110840        4540321        0\n",
              "36               Dragões de Garagem       6421          82599        0\n",
              "37                   Café e Ciência      38494         916320        0\n",
              "38                       Mimimidias      66122        2009621        0\n",
              "40                     Caio na Aula      13661         748018        0\n",
              "41              ComCiência Corporal       2308          16150        0\n",
              "42           Leitura ObrigaHISTORIA     138132        3013264        0\n",
              "43                Portal da Ciência      64100        2139717        0\n",
              "44                Universo Discreto       2330          74680        0\n",
              "45                      Astrotubers       4357          41228        0\n",
              "46                 O Físico Turista      53838        1004921        0"
            ]
          },
          "metadata": {
            "tags": []
          },
          "execution_count": 14
        }
      ]
    },
    {
      "cell_type": "code",
      "metadata": {
        "colab": {
          "base_uri": "https://localhost:8080/",
          "height": 142
        },
        "id": "R-zOusg1wW1i",
        "outputId": "2a8e6d11-8641-47d1-ef77-48bbba1620f8"
      },
      "source": [
        "boolArray = df['Cluster'] == 1\n",
        "\n",
        "df[boolArray]"
      ],
      "execution_count": 15,
      "outputs": [
        {
          "output_type": "execute_result",
          "data": {
            "text/html": [
              "<div>\n",
              "<style scoped>\n",
              "    .dataframe tbody tr th:only-of-type {\n",
              "        vertical-align: middle;\n",
              "    }\n",
              "\n",
              "    .dataframe tbody tr th {\n",
              "        vertical-align: top;\n",
              "    }\n",
              "\n",
              "    .dataframe thead th {\n",
              "        text-align: right;\n",
              "    }\n",
              "</style>\n",
              "<table border=\"1\" class=\"dataframe\">\n",
              "  <thead>\n",
              "    <tr style=\"text-align: right;\">\n",
              "      <th></th>\n",
              "      <th>Canal</th>\n",
              "      <th>Inscritos</th>\n",
              "      <th>Visualizações</th>\n",
              "      <th>Cluster</th>\n",
              "    </tr>\n",
              "  </thead>\n",
              "  <tbody>\n",
              "    <tr>\n",
              "      <th>18</th>\n",
              "      <td>Matemática Rio com Prof Rafael Procópio</td>\n",
              "      <td>1423056</td>\n",
              "      <td>93036517</td>\n",
              "      <td>1</td>\n",
              "    </tr>\n",
              "    <tr>\n",
              "      <th>32</th>\n",
              "      <td>Canal do Pirula</td>\n",
              "      <td>752573</td>\n",
              "      <td>76462787</td>\n",
              "      <td>1</td>\n",
              "    </tr>\n",
              "    <tr>\n",
              "      <th>39</th>\n",
              "      <td>Schwarza - Poligonautas</td>\n",
              "      <td>860493</td>\n",
              "      <td>118741623</td>\n",
              "      <td>1</td>\n",
              "    </tr>\n",
              "  </tbody>\n",
              "</table>\n",
              "</div>"
            ],
            "text/plain": [
              "                                      Canal  Inscritos  Visualizações  Cluster\n",
              "18  Matemática Rio com Prof Rafael Procópio    1423056       93036517        1\n",
              "32                          Canal do Pirula     752573       76462787        1\n",
              "39                  Schwarza - Poligonautas     860493      118741623        1"
            ]
          },
          "metadata": {
            "tags": []
          },
          "execution_count": 15
        }
      ]
    },
    {
      "cell_type": "code",
      "metadata": {
        "colab": {
          "base_uri": "https://localhost:8080/",
          "height": 173
        },
        "id": "tK8nf3pswXtI",
        "outputId": "4c219248-b5e0-4153-d674-a14aa60f17ba"
      },
      "source": [
        "boolArray = df['Cluster'] == 2\n",
        "\n",
        "df[boolArray]"
      ],
      "execution_count": 16,
      "outputs": [
        {
          "output_type": "execute_result",
          "data": {
            "text/html": [
              "<div>\n",
              "<style scoped>\n",
              "    .dataframe tbody tr th:only-of-type {\n",
              "        vertical-align: middle;\n",
              "    }\n",
              "\n",
              "    .dataframe tbody tr th {\n",
              "        vertical-align: top;\n",
              "    }\n",
              "\n",
              "    .dataframe thead th {\n",
              "        text-align: right;\n",
              "    }\n",
              "</style>\n",
              "<table border=\"1\" class=\"dataframe\">\n",
              "  <thead>\n",
              "    <tr style=\"text-align: right;\">\n",
              "      <th></th>\n",
              "      <th>Canal</th>\n",
              "      <th>Inscritos</th>\n",
              "      <th>Visualizações</th>\n",
              "      <th>Cluster</th>\n",
              "    </tr>\n",
              "  </thead>\n",
              "  <tbody>\n",
              "    <tr>\n",
              "      <th>9</th>\n",
              "      <td>Minuto da Terra</td>\n",
              "      <td>274196</td>\n",
              "      <td>30166457</td>\n",
              "      <td>2</td>\n",
              "    </tr>\n",
              "    <tr>\n",
              "      <th>23</th>\n",
              "      <td>Minutos Psíquicos</td>\n",
              "      <td>648892</td>\n",
              "      <td>22555134</td>\n",
              "      <td>2</td>\n",
              "    </tr>\n",
              "    <tr>\n",
              "      <th>29</th>\n",
              "      <td>SpaceToday</td>\n",
              "      <td>321068</td>\n",
              "      <td>26277335</td>\n",
              "      <td>2</td>\n",
              "    </tr>\n",
              "    <tr>\n",
              "      <th>30</th>\n",
              "      <td>Ciência todo dia</td>\n",
              "      <td>528761</td>\n",
              "      <td>16969332</td>\n",
              "      <td>2</td>\n",
              "    </tr>\n",
              "  </tbody>\n",
              "</table>\n",
              "</div>"
            ],
            "text/plain": [
              "                Canal  Inscritos  Visualizações  Cluster\n",
              "9     Minuto da Terra     274196       30166457        2\n",
              "23  Minutos Psíquicos     648892       22555134        2\n",
              "29         SpaceToday     321068       26277335        2\n",
              "30   Ciência todo dia     528761       16969332        2"
            ]
          },
          "metadata": {
            "tags": []
          },
          "execution_count": 16
        }
      ]
    },
    {
      "cell_type": "markdown",
      "metadata": {
        "id": "_FKGWTTKlbvB"
      },
      "source": [
        "### Gráfico"
      ]
    },
    {
      "cell_type": "code",
      "metadata": {
        "colab": {
          "base_uri": "https://localhost:8080/",
          "height": 567
        },
        "id": "rUzqzFegwYdp",
        "outputId": "7869c95a-3774-4fa6-e536-50290205b0c4"
      },
      "source": [
        "x = X.to_numpy()\n",
        "\n",
        "plt.figure(figsize=(12,9))\n",
        "plt.scatter(x[clusters == 0, 0], x[clusters == 0, 1],\n",
        "            s=50, c='lightgreen',\n",
        "            edgecolor='black',\n",
        "            label='time C'\n",
        "            )\n",
        "\n",
        "plt.scatter(x[clusters == 1, 0], x[clusters == 1, 1],\n",
        "            s=50, c='orange',\n",
        "            edgecolor='black',\n",
        "            label='time A'\n",
        "            )\n",
        "\n",
        "plt.scatter(x[clusters == 2, 0], x[clusters == 2, 1],\n",
        "            s=50, c='yellow',\n",
        "            edgecolor='black',\n",
        "            label='time B'\n",
        "            )\n",
        "\n",
        "# centroids\n",
        "plt.scatter(kmeans.cluster_centers_[:, 0], kmeans.cluster_centers_[:, 1],\n",
        "            s=200, c='red', edgecolor='black', label='centroids')\n",
        "\n",
        "plt.title(\"Canais do Science Vlogs Brazil\")\n",
        "plt.xlabel('Inscritos')\n",
        "plt.ylabel('Visualizações')\n",
        "plt.legend()\n",
        "plt.show()"
      ],
      "execution_count": 17,
      "outputs": [
        {
          "output_type": "display_data",
          "data": {
            "image/png": "[encoded data removed]",
            "text/plain": [
              "<Figure size 864x648 with 1 Axes>"
            ]
          },
          "metadata": {
            "tags": [],
            "needs_background": "light"
          }
        }
      ]
    },
    {
      "cell_type": "markdown",
      "metadata": {
        "id": "P3l8pnm9eiBQ"
      },
      "source": [
        "# Clusterização Hierárquica\n"
      ]
    },
    {
      "cell_type": "markdown",
      "metadata": {
        "id": "X-8b5toDgFKB"
      },
      "source": [
        "## Imports"
      ]
    },
    {
      "cell_type": "code",
      "metadata": {
        "id": "t-n85n2OerOs"
      },
      "source": [
        "from scipy.cluster.hierarchy import dendrogram, linkage\n",
        "from sklearn.cluster import AgglomerativeClustering"
      ],
      "execution_count": 18,
      "outputs": []
    },
    {
      "cell_type": "markdown",
      "metadata": {
        "id": "lPv4dNUUes3J"
      },
      "source": [
        "## Dendrograma"
      ]
    },
    {
      "cell_type": "markdown",
      "metadata": {
        "id": "ncCPq_Z5i8b5"
      },
      "source": [
        "### Single"
      ]
    },
    {
      "cell_type": "code",
      "metadata": {
        "colab": {
          "base_uri": "https://localhost:8080/",
          "height": 551
        },
        "id": "5MArfTjcgIbJ",
        "outputId": "a8eefbe7-9a79-4400-c039-c33b626400f2"
      },
      "source": [
        "plt.figure(figsize=(12,9))\n",
        "\n",
        "#linkage tsem parâmentros é igual ao single\n",
        "dendrogram(linkage(x), truncate_mode='level', p=4)\n",
        "\n",
        "plt.show()"
      ],
      "execution_count": 19,
      "outputs": [
        {
          "output_type": "display_data",
          "data": {
            "image/png": "[encoded data removed]",
            "text/plain": [
              "<Figure size 864x648 with 1 Axes>"
            ]
          },
          "metadata": {
            "tags": [],
            "needs_background": "light"
          }
        }
      ]
    },
    {
      "cell_type": "markdown",
      "metadata": {
        "id": "52ySZnmcjCHs"
      },
      "source": [
        "### Ward"
      ]
    },
    {
      "cell_type": "code",
      "metadata": {
        "colab": {
          "base_uri": "https://localhost:8080/",
          "height": 551
        },
        "id": "F_g9ubuUh4zN",
        "outputId": "2c4da2ab-9681-492c-a9b3-d5bc58b31b3a"
      },
      "source": [
        "plt.figure(figsize=(12,9))\n",
        "\n",
        "dendrogram(linkage(x, 'ward'), truncate_mode='level', p=4)\n",
        "\n",
        "plt.show()"
      ],
      "execution_count": 20,
      "outputs": [
        {
          "output_type": "display_data",
          "data": {
            "image/png": "[encoded data removed]",
            "text/plain": [
              "<Figure size 864x648 with 1 Axes>"
            ]
          },
          "metadata": {
            "tags": [],
            "needs_background": "light"
          }
        }
      ]
    },
    {
      "cell_type": "markdown",
      "metadata": {
        "id": "Z079Pp33i1fF"
      },
      "source": [
        "## Algoritmo de Clusterização Hierárquica"
      ]
    },
    {
      "cell_type": "code",
      "metadata": {
        "colab": {
          "base_uri": "https://localhost:8080/"
        },
        "id": "2kJHmOxui4-j",
        "outputId": "7075216e-1efb-481b-e36f-da76115fdf8a"
      },
      "source": [
        "model = AgglomerativeClustering(affinity='euclidean', linkage='ward')\n",
        "clusters = model.fit_predict(x)\n",
        "\n",
        "clusters"
      ],
      "execution_count": 21,
      "outputs": [
        {
          "output_type": "execute_result",
          "data": {
            "text/plain": [
              "array([0, 0, 0, 0, 0, 0, 0, 0, 0, 0, 0, 0, 0, 0, 0, 0, 0, 0, 1, 0, 0, 0,\n",
              "       0, 0, 0, 0, 0, 0, 0, 0, 0, 0, 1, 0, 0, 0, 0, 0, 0, 1, 0, 0, 0, 0,\n",
              "       0, 0, 0])"
            ]
          },
          "metadata": {
            "tags": []
          },
          "execution_count": 21
        }
      ]
    },
    {
      "cell_type": "code",
      "metadata": {
        "colab": {
          "base_uri": "https://localhost:8080/",
          "height": 204
        },
        "id": "wWZOc80zkExM",
        "outputId": "17f12495-e570-4b76-846b-928894a33dbe"
      },
      "source": [
        "df['Cluster_Hier'] = clusters\n",
        "\n",
        "df.head()"
      ],
      "execution_count": 22,
      "outputs": [
        {
          "output_type": "execute_result",
          "data": {
            "text/html": [
              "<div>\n",
              "<style scoped>\n",
              "    .dataframe tbody tr th:only-of-type {\n",
              "        vertical-align: middle;\n",
              "    }\n",
              "\n",
              "    .dataframe tbody tr th {\n",
              "        vertical-align: top;\n",
              "    }\n",
              "\n",
              "    .dataframe thead th {\n",
              "        text-align: right;\n",
              "    }\n",
              "</style>\n",
              "<table border=\"1\" class=\"dataframe\">\n",
              "  <thead>\n",
              "    <tr style=\"text-align: right;\">\n",
              "      <th></th>\n",
              "      <th>Canal</th>\n",
              "      <th>Inscritos</th>\n",
              "      <th>Visualizações</th>\n",
              "      <th>Cluster</th>\n",
              "      <th>Cluster_Hier</th>\n",
              "    </tr>\n",
              "  </thead>\n",
              "  <tbody>\n",
              "    <tr>\n",
              "      <th>0</th>\n",
              "      <td>Site Arqueologia Egípcia</td>\n",
              "      <td>13438</td>\n",
              "      <td>406590</td>\n",
              "      <td>0</td>\n",
              "      <td>0</td>\n",
              "    </tr>\n",
              "    <tr>\n",
              "      <th>1</th>\n",
              "      <td>Terra Negra</td>\n",
              "      <td>35241</td>\n",
              "      <td>868235</td>\n",
              "      <td>0</td>\n",
              "      <td>0</td>\n",
              "    </tr>\n",
              "    <tr>\n",
              "      <th>2</th>\n",
              "      <td>Frank Jaava</td>\n",
              "      <td>31680</td>\n",
              "      <td>2856508</td>\n",
              "      <td>0</td>\n",
              "      <td>0</td>\n",
              "    </tr>\n",
              "    <tr>\n",
              "      <th>3</th>\n",
              "      <td>Dispersciência</td>\n",
              "      <td>25100</td>\n",
              "      <td>150000</td>\n",
              "      <td>0</td>\n",
              "      <td>0</td>\n",
              "    </tr>\n",
              "    <tr>\n",
              "      <th>4</th>\n",
              "      <td>Olá Ciência</td>\n",
              "      <td>32788</td>\n",
              "      <td>1575456</td>\n",
              "      <td>0</td>\n",
              "      <td>0</td>\n",
              "    </tr>\n",
              "  </tbody>\n",
              "</table>\n",
              "</div>"
            ],
            "text/plain": [
              "                      Canal  Inscritos  Visualizações  Cluster  Cluster_Hier\n",
              "0  Site Arqueologia Egípcia      13438         406590        0             0\n",
              "1               Terra Negra      35241         868235        0             0\n",
              "2               Frank Jaava      31680        2856508        0             0\n",
              "3            Dispersciência      25100         150000        0             0\n",
              "4               Olá Ciência      32788        1575456        0             0"
            ]
          },
          "metadata": {
            "tags": []
          },
          "execution_count": 22
        }
      ]
    },
    {
      "cell_type": "markdown",
      "metadata": {
        "id": "sz2mL809lPTr"
      },
      "source": [
        "### Gráfico"
      ]
    },
    {
      "cell_type": "code",
      "metadata": {
        "colab": {
          "base_uri": "https://localhost:8080/",
          "height": 567
        },
        "id": "1GwbDYNIkvjE",
        "outputId": "4a584e3f-2189-406a-9512-167a7b36e55e"
      },
      "source": [
        "x = X.to_numpy()\n",
        "\n",
        "plt.figure(figsize=(12,9))\n",
        "plt.scatter(x[clusters == 0, 0], x[clusters == 0, 1],\n",
        "            s=50, c='lightgreen',\n",
        "            edgecolor='black',\n",
        "            label='time B'\n",
        "            )\n",
        "\n",
        "plt.scatter(x[clusters == 1, 0], x[clusters == 1, 1],\n",
        "            s=50, c='orange',\n",
        "            edgecolor='black',\n",
        "            label='time A'\n",
        "            )\n",
        "\n",
        "plt.title(\"Canais do Science Vlogs Brazil\")\n",
        "plt.xlabel('Inscritos')\n",
        "plt.ylabel('Visualizações')\n",
        "plt.legend()\n",
        "plt.show()"
      ],
      "execution_count": 23,
      "outputs": [
        {
          "output_type": "display_data",
          "data": {
            "image/png": "[encoded data removed]",
            "text/plain": [
              "<Figure size 864x648 with 1 Axes>"
            ]
          },
          "metadata": {
            "tags": [],
            "needs_background": "light"
          }
        }
      ]
    }
  ]
}