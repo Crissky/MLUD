{
  "nbformat": 4,
  "nbformat_minor": 0,
  "metadata": {
    "colab": {
      "name": "Random_Forest.ipynb",
      "provenance": [],
      "collapsed_sections": [],
      "toc_visible": true,
      "authorship_tag": "ABX9TyPMPAVJ/FM6fnAFpYuNV2II"
    },
    "kernelspec": {
      "name": "python3",
      "display_name": "Python 3"
    },
    "language_info": {
      "name": "python"
    },
    "widgets": {
      "application/vnd.jupyter.widget-state+json": {
        "d2c65294ecaa48c1b378763aa389fcbf": {
          "model_module": "@jupyter-widgets/controls",
          "model_name": "HBoxModel",
          "state": {
            "_view_name": "HBoxView",
            "_dom_classes": [],
            "_model_name": "HBoxModel",
            "_view_module": "@jupyter-widgets/controls",
            "_model_module_version": "1.5.0",
            "_view_count": null,
            "_view_module_version": "1.5.0",
            "box_style": "",
            "layout": "IPY_MODEL_4520846316c94d1baa3a81a0c9f70f12",
            "_model_module": "@jupyter-widgets/controls",
            "children": [
              "IPY_MODEL_c135433d052844ce80d62ae9eee2f35e",
              "IPY_MODEL_ca8bed8182d344418c1f99943f59114b"
            ]
          }
        },
        "4520846316c94d1baa3a81a0c9f70f12": {
          "model_module": "@jupyter-widgets/base",
          "model_name": "LayoutModel",
          "state": {
            "_view_name": "LayoutView",
            "grid_template_rows": null,
            "right": null,
            "justify_content": null,
            "_view_module": "@jupyter-widgets/base",
            "overflow": null,
            "_model_module_version": "1.2.0",
            "_view_count": null,
            "flex_flow": "row wrap",
            "width": "500px",
            "min_width": null,
            "border": null,
            "align_items": null,
            "bottom": null,
            "_model_module": "@jupyter-widgets/base",
            "top": null,
            "grid_column": null,
            "overflow_y": null,
            "overflow_x": null,
            "grid_auto_flow": null,
            "grid_area": null,
            "grid_template_columns": null,
            "flex": null,
            "_model_name": "LayoutModel",
            "justify_items": null,
            "grid_row": null,
            "max_height": null,
            "align_content": null,
            "visibility": null,
            "align_self": null,
            "height": null,
            "min_height": null,
            "padding": null,
            "grid_auto_rows": null,
            "grid_gap": null,
            "max_width": null,
            "order": null,
            "_view_module_version": "1.2.0",
            "grid_template_areas": null,
            "object_position": null,
            "object_fit": null,
            "grid_auto_columns": null,
            "margin": null,
            "display": "inline-flex",
            "left": null
          }
        },
        "c135433d052844ce80d62ae9eee2f35e": {
          "model_module": "@jupyter-widgets/controls",
          "model_name": "FloatProgressModel",
          "state": {
            "_view_name": "ProgressView",
            "style": "IPY_MODEL_51fe025b85ba49ec976ab3a249cf4e2a",
            "_dom_classes": [],
            "description": "Regressão Linear: 100%",
            "_model_name": "FloatProgressModel",
            "bar_style": "success",
            "max": 100,
            "_view_module": "@jupyter-widgets/controls",
            "_model_module_version": "1.5.0",
            "value": 100,
            "_view_count": null,
            "_view_module_version": "1.5.0",
            "orientation": "horizontal",
            "min": 0,
            "description_tooltip": null,
            "_model_module": "@jupyter-widgets/controls",
            "layout": "IPY_MODEL_7991fd29b6c848d99c96f20712e13b8b"
          }
        },
        "ca8bed8182d344418c1f99943f59114b": {
          "model_module": "@jupyter-widgets/controls",
          "model_name": "HTMLModel",
          "state": {
            "_view_name": "HTMLView",
            "style": "IPY_MODEL_0250b67ce23742b38214fdbb5ed3e74f",
            "_dom_classes": [],
            "description": "",
            "_model_name": "HTMLModel",
            "placeholder": "​",
            "_view_module": "@jupyter-widgets/controls",
            "_model_module_version": "1.5.0",
            "value": " 100/100 [00:02&lt;00:00, 37.33it/s]",
            "_view_count": null,
            "_view_module_version": "1.5.0",
            "description_tooltip": null,
            "_model_module": "@jupyter-widgets/controls",
            "layout": "IPY_MODEL_6c772ae3a77b4a89970d57d9f9c47b45"
          }
        },
        "51fe025b85ba49ec976ab3a249cf4e2a": {
          "model_module": "@jupyter-widgets/controls",
          "model_name": "ProgressStyleModel",
          "state": {
            "_view_name": "StyleView",
            "_model_name": "ProgressStyleModel",
            "description_width": "initial",
            "_view_module": "@jupyter-widgets/base",
            "_model_module_version": "1.5.0",
            "_view_count": null,
            "_view_module_version": "1.2.0",
            "bar_color": null,
            "_model_module": "@jupyter-widgets/controls"
          }
        },
        "7991fd29b6c848d99c96f20712e13b8b": {
          "model_module": "@jupyter-widgets/base",
          "model_name": "LayoutModel",
          "state": {
            "_view_name": "LayoutView",
            "grid_template_rows": null,
            "right": null,
            "justify_content": null,
            "_view_module": "@jupyter-widgets/base",
            "overflow": null,
            "_model_module_version": "1.2.0",
            "_view_count": null,
            "flex_flow": null,
            "width": null,
            "min_width": null,
            "border": null,
            "align_items": null,
            "bottom": null,
            "_model_module": "@jupyter-widgets/base",
            "top": null,
            "grid_column": null,
            "overflow_y": null,
            "overflow_x": null,
            "grid_auto_flow": null,
            "grid_area": null,
            "grid_template_columns": null,
            "flex": "2",
            "_model_name": "LayoutModel",
            "justify_items": null,
            "grid_row": null,
            "max_height": null,
            "align_content": null,
            "visibility": null,
            "align_self": null,
            "height": null,
            "min_height": null,
            "padding": null,
            "grid_auto_rows": null,
            "grid_gap": null,
            "max_width": null,
            "order": null,
            "_view_module_version": "1.2.0",
            "grid_template_areas": null,
            "object_position": null,
            "object_fit": null,
            "grid_auto_columns": null,
            "margin": null,
            "display": null,
            "left": null
          }
        },
        "0250b67ce23742b38214fdbb5ed3e74f": {
          "model_module": "@jupyter-widgets/controls",
          "model_name": "DescriptionStyleModel",
          "state": {
            "_view_name": "StyleView",
            "_model_name": "DescriptionStyleModel",
            "description_width": "",
            "_view_module": "@jupyter-widgets/base",
            "_model_module_version": "1.5.0",
            "_view_count": null,
            "_view_module_version": "1.2.0",
            "_model_module": "@jupyter-widgets/controls"
          }
        },
        "6c772ae3a77b4a89970d57d9f9c47b45": {
          "model_module": "@jupyter-widgets/base",
          "model_name": "LayoutModel",
          "state": {
            "_view_name": "LayoutView",
            "grid_template_rows": null,
            "right": null,
            "justify_content": null,
            "_view_module": "@jupyter-widgets/base",
            "overflow": null,
            "_model_module_version": "1.2.0",
            "_view_count": null,
            "flex_flow": null,
            "width": null,
            "min_width": null,
            "border": null,
            "align_items": null,
            "bottom": null,
            "_model_module": "@jupyter-widgets/base",
            "top": null,
            "grid_column": null,
            "overflow_y": null,
            "overflow_x": null,
            "grid_auto_flow": null,
            "grid_area": null,
            "grid_template_columns": null,
            "flex": null,
            "_model_name": "LayoutModel",
            "justify_items": null,
            "grid_row": null,
            "max_height": null,
            "align_content": null,
            "visibility": null,
            "align_self": null,
            "height": null,
            "min_height": null,
            "padding": null,
            "grid_auto_rows": null,
            "grid_gap": null,
            "max_width": null,
            "order": null,
            "_view_module_version": "1.2.0",
            "grid_template_areas": null,
            "object_position": null,
            "object_fit": null,
            "grid_auto_columns": null,
            "margin": null,
            "display": null,
            "left": null
          }
        },
        "2cc02855dced4a2f968da98f5d9acde8": {
          "model_module": "@jupyter-widgets/controls",
          "model_name": "HBoxModel",
          "state": {
            "_view_name": "HBoxView",
            "_dom_classes": [],
            "_model_name": "HBoxModel",
            "_view_module": "@jupyter-widgets/controls",
            "_model_module_version": "1.5.0",
            "_view_count": null,
            "_view_module_version": "1.5.0",
            "box_style": "",
            "layout": "IPY_MODEL_44ba41866d3342d9bbefb2a240894b4d",
            "_model_module": "@jupyter-widgets/controls",
            "children": [
              "IPY_MODEL_c0aee468ca2f46a1b5d08782687095d5",
              "IPY_MODEL_f26f7aede2c3468694aa991de07f9dd7"
            ]
          }
        },
        "44ba41866d3342d9bbefb2a240894b4d": {
          "model_module": "@jupyter-widgets/base",
          "model_name": "LayoutModel",
          "state": {
            "_view_name": "LayoutView",
            "grid_template_rows": null,
            "right": null,
            "justify_content": null,
            "_view_module": "@jupyter-widgets/base",
            "overflow": null,
            "_model_module_version": "1.2.0",
            "_view_count": null,
            "flex_flow": "row wrap",
            "width": "500px",
            "min_width": null,
            "border": null,
            "align_items": null,
            "bottom": null,
            "_model_module": "@jupyter-widgets/base",
            "top": null,
            "grid_column": null,
            "overflow_y": null,
            "overflow_x": null,
            "grid_auto_flow": null,
            "grid_area": null,
            "grid_template_columns": null,
            "flex": null,
            "_model_name": "LayoutModel",
            "justify_items": null,
            "grid_row": null,
            "max_height": null,
            "align_content": null,
            "visibility": null,
            "align_self": null,
            "height": null,
            "min_height": null,
            "padding": null,
            "grid_auto_rows": null,
            "grid_gap": null,
            "max_width": null,
            "order": null,
            "_view_module_version": "1.2.0",
            "grid_template_areas": null,
            "object_position": null,
            "object_fit": null,
            "grid_auto_columns": null,
            "margin": null,
            "display": "inline-flex",
            "left": null
          }
        },
        "c0aee468ca2f46a1b5d08782687095d5": {
          "model_module": "@jupyter-widgets/controls",
          "model_name": "FloatProgressModel",
          "state": {
            "_view_name": "ProgressView",
            "style": "IPY_MODEL_6e6089ee1a2f4529ab32b3989652f294",
            "_dom_classes": [],
            "description": "KNN: 100%",
            "_model_name": "FloatProgressModel",
            "bar_style": "success",
            "max": 100,
            "_view_module": "@jupyter-widgets/controls",
            "_model_module_version": "1.5.0",
            "value": 100,
            "_view_count": null,
            "_view_module_version": "1.5.0",
            "orientation": "horizontal",
            "min": 0,
            "description_tooltip": null,
            "_model_module": "@jupyter-widgets/controls",
            "layout": "IPY_MODEL_822311eb7c94412993e21e0d25fc0863"
          }
        },
        "f26f7aede2c3468694aa991de07f9dd7": {
          "model_module": "@jupyter-widgets/controls",
          "model_name": "HTMLModel",
          "state": {
            "_view_name": "HTMLView",
            "style": "IPY_MODEL_c5a64bc2626d47bfaf253532621abd16",
            "_dom_classes": [],
            "description": "",
            "_model_name": "HTMLModel",
            "placeholder": "​",
            "_view_module": "@jupyter-widgets/controls",
            "_model_module_version": "1.5.0",
            "value": " 100/100 [00:02&lt;00:00, 48.24it/s]",
            "_view_count": null,
            "_view_module_version": "1.5.0",
            "description_tooltip": null,
            "_model_module": "@jupyter-widgets/controls",
            "layout": "IPY_MODEL_3927e55f19cb4a688751e5e605f4b1bc"
          }
        },
        "6e6089ee1a2f4529ab32b3989652f294": {
          "model_module": "@jupyter-widgets/controls",
          "model_name": "ProgressStyleModel",
          "state": {
            "_view_name": "StyleView",
            "_model_name": "ProgressStyleModel",
            "description_width": "initial",
            "_view_module": "@jupyter-widgets/base",
            "_model_module_version": "1.5.0",
            "_view_count": null,
            "_view_module_version": "1.2.0",
            "bar_color": null,
            "_model_module": "@jupyter-widgets/controls"
          }
        },
        "822311eb7c94412993e21e0d25fc0863": {
          "model_module": "@jupyter-widgets/base",
          "model_name": "LayoutModel",
          "state": {
            "_view_name": "LayoutView",
            "grid_template_rows": null,
            "right": null,
            "justify_content": null,
            "_view_module": "@jupyter-widgets/base",
            "overflow": null,
            "_model_module_version": "1.2.0",
            "_view_count": null,
            "flex_flow": null,
            "width": null,
            "min_width": null,
            "border": null,
            "align_items": null,
            "bottom": null,
            "_model_module": "@jupyter-widgets/base",
            "top": null,
            "grid_column": null,
            "overflow_y": null,
            "overflow_x": null,
            "grid_auto_flow": null,
            "grid_area": null,
            "grid_template_columns": null,
            "flex": "2",
            "_model_name": "LayoutModel",
            "justify_items": null,
            "grid_row": null,
            "max_height": null,
            "align_content": null,
            "visibility": null,
            "align_self": null,
            "height": null,
            "min_height": null,
            "padding": null,
            "grid_auto_rows": null,
            "grid_gap": null,
            "max_width": null,
            "order": null,
            "_view_module_version": "1.2.0",
            "grid_template_areas": null,
            "object_position": null,
            "object_fit": null,
            "grid_auto_columns": null,
            "margin": null,
            "display": null,
            "left": null
          }
        },
        "c5a64bc2626d47bfaf253532621abd16": {
          "model_module": "@jupyter-widgets/controls",
          "model_name": "DescriptionStyleModel",
          "state": {
            "_view_name": "StyleView",
            "_model_name": "DescriptionStyleModel",
            "description_width": "",
            "_view_module": "@jupyter-widgets/base",
            "_model_module_version": "1.5.0",
            "_view_count": null,
            "_view_module_version": "1.2.0",
            "_model_module": "@jupyter-widgets/controls"
          }
        },
        "3927e55f19cb4a688751e5e605f4b1bc": {
          "model_module": "@jupyter-widgets/base",
          "model_name": "LayoutModel",
          "state": {
            "_view_name": "LayoutView",
            "grid_template_rows": null,
            "right": null,
            "justify_content": null,
            "_view_module": "@jupyter-widgets/base",
            "overflow": null,
            "_model_module_version": "1.2.0",
            "_view_count": null,
            "flex_flow": null,
            "width": null,
            "min_width": null,
            "border": null,
            "align_items": null,
            "bottom": null,
            "_model_module": "@jupyter-widgets/base",
            "top": null,
            "grid_column": null,
            "overflow_y": null,
            "overflow_x": null,
            "grid_auto_flow": null,
            "grid_area": null,
            "grid_template_columns": null,
            "flex": null,
            "_model_name": "LayoutModel",
            "justify_items": null,
            "grid_row": null,
            "max_height": null,
            "align_content": null,
            "visibility": null,
            "align_self": null,
            "height": null,
            "min_height": null,
            "padding": null,
            "grid_auto_rows": null,
            "grid_gap": null,
            "max_width": null,
            "order": null,
            "_view_module_version": "1.2.0",
            "grid_template_areas": null,
            "object_position": null,
            "object_fit": null,
            "grid_auto_columns": null,
            "margin": null,
            "display": null,
            "left": null
          }
        },
        "46224fddd2eb46fc83f240cb3b9d3f0c": {
          "model_module": "@jupyter-widgets/controls",
          "model_name": "HBoxModel",
          "state": {
            "_view_name": "HBoxView",
            "_dom_classes": [],
            "_model_name": "HBoxModel",
            "_view_module": "@jupyter-widgets/controls",
            "_model_module_version": "1.5.0",
            "_view_count": null,
            "_view_module_version": "1.5.0",
            "box_style": "",
            "layout": "IPY_MODEL_44c577fb1203490cb1878b9c23b4ea67",
            "_model_module": "@jupyter-widgets/controls",
            "children": [
              "IPY_MODEL_e222696eeb934b51b23d19d866114bc3",
              "IPY_MODEL_ee0e3d7776fb490d9fc57d7d336588eb"
            ]
          }
        },
        "44c577fb1203490cb1878b9c23b4ea67": {
          "model_module": "@jupyter-widgets/base",
          "model_name": "LayoutModel",
          "state": {
            "_view_name": "LayoutView",
            "grid_template_rows": null,
            "right": null,
            "justify_content": null,
            "_view_module": "@jupyter-widgets/base",
            "overflow": null,
            "_model_module_version": "1.2.0",
            "_view_count": null,
            "flex_flow": "row wrap",
            "width": "500px",
            "min_width": null,
            "border": null,
            "align_items": null,
            "bottom": null,
            "_model_module": "@jupyter-widgets/base",
            "top": null,
            "grid_column": null,
            "overflow_y": null,
            "overflow_x": null,
            "grid_auto_flow": null,
            "grid_area": null,
            "grid_template_columns": null,
            "flex": null,
            "_model_name": "LayoutModel",
            "justify_items": null,
            "grid_row": null,
            "max_height": null,
            "align_content": null,
            "visibility": null,
            "align_self": null,
            "height": null,
            "min_height": null,
            "padding": null,
            "grid_auto_rows": null,
            "grid_gap": null,
            "max_width": null,
            "order": null,
            "_view_module_version": "1.2.0",
            "grid_template_areas": null,
            "object_position": null,
            "object_fit": null,
            "grid_auto_columns": null,
            "margin": null,
            "display": "inline-flex",
            "left": null
          }
        },
        "e222696eeb934b51b23d19d866114bc3": {
          "model_module": "@jupyter-widgets/controls",
          "model_name": "FloatProgressModel",
          "state": {
            "_view_name": "ProgressView",
            "style": "IPY_MODEL_f503dc3ea5ff4e1589b3ead08b3be69d",
            "_dom_classes": [],
            "description": "SVM Gaussiana: 100%",
            "_model_name": "FloatProgressModel",
            "bar_style": "success",
            "max": 100,
            "_view_module": "@jupyter-widgets/controls",
            "_model_module_version": "1.5.0",
            "value": 100,
            "_view_count": null,
            "_view_module_version": "1.5.0",
            "orientation": "horizontal",
            "min": 0,
            "description_tooltip": null,
            "_model_module": "@jupyter-widgets/controls",
            "layout": "IPY_MODEL_b712d0fb59c5426b945910d144a94d35"
          }
        },
        "ee0e3d7776fb490d9fc57d7d336588eb": {
          "model_module": "@jupyter-widgets/controls",
          "model_name": "HTMLModel",
          "state": {
            "_view_name": "HTMLView",
            "style": "IPY_MODEL_9418e930e7d24669b60a18eae0dfbd5e",
            "_dom_classes": [],
            "description": "",
            "_model_name": "HTMLModel",
            "placeholder": "​",
            "_view_module": "@jupyter-widgets/controls",
            "_model_module_version": "1.5.0",
            "value": " 100/100 [00:09&lt;00:00, 10.35it/s]",
            "_view_count": null,
            "_view_module_version": "1.5.0",
            "description_tooltip": null,
            "_model_module": "@jupyter-widgets/controls",
            "layout": "IPY_MODEL_de14ba901cdf4ae58c3d146b958ee536"
          }
        },
        "f503dc3ea5ff4e1589b3ead08b3be69d": {
          "model_module": "@jupyter-widgets/controls",
          "model_name": "ProgressStyleModel",
          "state": {
            "_view_name": "StyleView",
            "_model_name": "ProgressStyleModel",
            "description_width": "initial",
            "_view_module": "@jupyter-widgets/base",
            "_model_module_version": "1.5.0",
            "_view_count": null,
            "_view_module_version": "1.2.0",
            "bar_color": null,
            "_model_module": "@jupyter-widgets/controls"
          }
        },
        "b712d0fb59c5426b945910d144a94d35": {
          "model_module": "@jupyter-widgets/base",
          "model_name": "LayoutModel",
          "state": {
            "_view_name": "LayoutView",
            "grid_template_rows": null,
            "right": null,
            "justify_content": null,
            "_view_module": "@jupyter-widgets/base",
            "overflow": null,
            "_model_module_version": "1.2.0",
            "_view_count": null,
            "flex_flow": null,
            "width": null,
            "min_width": null,
            "border": null,
            "align_items": null,
            "bottom": null,
            "_model_module": "@jupyter-widgets/base",
            "top": null,
            "grid_column": null,
            "overflow_y": null,
            "overflow_x": null,
            "grid_auto_flow": null,
            "grid_area": null,
            "grid_template_columns": null,
            "flex": "2",
            "_model_name": "LayoutModel",
            "justify_items": null,
            "grid_row": null,
            "max_height": null,
            "align_content": null,
            "visibility": null,
            "align_self": null,
            "height": null,
            "min_height": null,
            "padding": null,
            "grid_auto_rows": null,
            "grid_gap": null,
            "max_width": null,
            "order": null,
            "_view_module_version": "1.2.0",
            "grid_template_areas": null,
            "object_position": null,
            "object_fit": null,
            "grid_auto_columns": null,
            "margin": null,
            "display": null,
            "left": null
          }
        },
        "9418e930e7d24669b60a18eae0dfbd5e": {
          "model_module": "@jupyter-widgets/controls",
          "model_name": "DescriptionStyleModel",
          "state": {
            "_view_name": "StyleView",
            "_model_name": "DescriptionStyleModel",
            "description_width": "",
            "_view_module": "@jupyter-widgets/base",
            "_model_module_version": "1.5.0",
            "_view_count": null,
            "_view_module_version": "1.2.0",
            "_model_module": "@jupyter-widgets/controls"
          }
        },
        "de14ba901cdf4ae58c3d146b958ee536": {
          "model_module": "@jupyter-widgets/base",
          "model_name": "LayoutModel",
          "state": {
            "_view_name": "LayoutView",
            "grid_template_rows": null,
            "right": null,
            "justify_content": null,
            "_view_module": "@jupyter-widgets/base",
            "overflow": null,
            "_model_module_version": "1.2.0",
            "_view_count": null,
            "flex_flow": null,
            "width": null,
            "min_width": null,
            "border": null,
            "align_items": null,
            "bottom": null,
            "_model_module": "@jupyter-widgets/base",
            "top": null,
            "grid_column": null,
            "overflow_y": null,
            "overflow_x": null,
            "grid_auto_flow": null,
            "grid_area": null,
            "grid_template_columns": null,
            "flex": null,
            "_model_name": "LayoutModel",
            "justify_items": null,
            "grid_row": null,
            "max_height": null,
            "align_content": null,
            "visibility": null,
            "align_self": null,
            "height": null,
            "min_height": null,
            "padding": null,
            "grid_auto_rows": null,
            "grid_gap": null,
            "max_width": null,
            "order": null,
            "_view_module_version": "1.2.0",
            "grid_template_areas": null,
            "object_position": null,
            "object_fit": null,
            "grid_auto_columns": null,
            "margin": null,
            "display": null,
            "left": null
          }
        },
        "2357d8507c6845c2ab5c4998b462c88a": {
          "model_module": "@jupyter-widgets/controls",
          "model_name": "HBoxModel",
          "state": {
            "_view_name": "HBoxView",
            "_dom_classes": [],
            "_model_name": "HBoxModel",
            "_view_module": "@jupyter-widgets/controls",
            "_model_module_version": "1.5.0",
            "_view_count": null,
            "_view_module_version": "1.5.0",
            "box_style": "",
            "layout": "IPY_MODEL_8681e55ffa584f34b336a04f96a30bb2",
            "_model_module": "@jupyter-widgets/controls",
            "children": [
              "IPY_MODEL_bd24b12acbdf49b0ba26fa3151331341",
              "IPY_MODEL_21b0a90b0d034acfae74240f583c805b"
            ]
          }
        },
        "8681e55ffa584f34b336a04f96a30bb2": {
          "model_module": "@jupyter-widgets/base",
          "model_name": "LayoutModel",
          "state": {
            "_view_name": "LayoutView",
            "grid_template_rows": null,
            "right": null,
            "justify_content": null,
            "_view_module": "@jupyter-widgets/base",
            "overflow": null,
            "_model_module_version": "1.2.0",
            "_view_count": null,
            "flex_flow": "row wrap",
            "width": "500px",
            "min_width": null,
            "border": null,
            "align_items": null,
            "bottom": null,
            "_model_module": "@jupyter-widgets/base",
            "top": null,
            "grid_column": null,
            "overflow_y": null,
            "overflow_x": null,
            "grid_auto_flow": null,
            "grid_area": null,
            "grid_template_columns": null,
            "flex": null,
            "_model_name": "LayoutModel",
            "justify_items": null,
            "grid_row": null,
            "max_height": null,
            "align_content": null,
            "visibility": null,
            "align_self": null,
            "height": null,
            "min_height": null,
            "padding": null,
            "grid_auto_rows": null,
            "grid_gap": null,
            "max_width": null,
            "order": null,
            "_view_module_version": "1.2.0",
            "grid_template_areas": null,
            "object_position": null,
            "object_fit": null,
            "grid_auto_columns": null,
            "margin": null,
            "display": "inline-flex",
            "left": null
          }
        },
        "bd24b12acbdf49b0ba26fa3151331341": {
          "model_module": "@jupyter-widgets/controls",
          "model_name": "FloatProgressModel",
          "state": {
            "_view_name": "ProgressView",
            "style": "IPY_MODEL_6a7f0c7a2ddb4459903a60e5bfbec652",
            "_dom_classes": [],
            "description": "Naive Bayes: 100%",
            "_model_name": "FloatProgressModel",
            "bar_style": "success",
            "max": 100,
            "_view_module": "@jupyter-widgets/controls",
            "_model_module_version": "1.5.0",
            "value": 100,
            "_view_count": null,
            "_view_module_version": "1.5.0",
            "orientation": "horizontal",
            "min": 0,
            "description_tooltip": null,
            "_model_module": "@jupyter-widgets/controls",
            "layout": "IPY_MODEL_ec6f324c5d794624921f534cace3404f"
          }
        },
        "21b0a90b0d034acfae74240f583c805b": {
          "model_module": "@jupyter-widgets/controls",
          "model_name": "HTMLModel",
          "state": {
            "_view_name": "HTMLView",
            "style": "IPY_MODEL_db9d6a4560bf4e0f8282e9622db14bdf",
            "_dom_classes": [],
            "description": "",
            "_model_name": "HTMLModel",
            "placeholder": "​",
            "_view_module": "@jupyter-widgets/controls",
            "_model_module_version": "1.5.0",
            "value": " 100/100 [00:01&lt;00:00, 77.25it/s]",
            "_view_count": null,
            "_view_module_version": "1.5.0",
            "description_tooltip": null,
            "_model_module": "@jupyter-widgets/controls",
            "layout": "IPY_MODEL_654dae073a6d495e834725e43c148e62"
          }
        },
        "6a7f0c7a2ddb4459903a60e5bfbec652": {
          "model_module": "@jupyter-widgets/controls",
          "model_name": "ProgressStyleModel",
          "state": {
            "_view_name": "StyleView",
            "_model_name": "ProgressStyleModel",
            "description_width": "initial",
            "_view_module": "@jupyter-widgets/base",
            "_model_module_version": "1.5.0",
            "_view_count": null,
            "_view_module_version": "1.2.0",
            "bar_color": null,
            "_model_module": "@jupyter-widgets/controls"
          }
        },
        "ec6f324c5d794624921f534cace3404f": {
          "model_module": "@jupyter-widgets/base",
          "model_name": "LayoutModel",
          "state": {
            "_view_name": "LayoutView",
            "grid_template_rows": null,
            "right": null,
            "justify_content": null,
            "_view_module": "@jupyter-widgets/base",
            "overflow": null,
            "_model_module_version": "1.2.0",
            "_view_count": null,
            "flex_flow": null,
            "width": null,
            "min_width": null,
            "border": null,
            "align_items": null,
            "bottom": null,
            "_model_module": "@jupyter-widgets/base",
            "top": null,
            "grid_column": null,
            "overflow_y": null,
            "overflow_x": null,
            "grid_auto_flow": null,
            "grid_area": null,
            "grid_template_columns": null,
            "flex": "2",
            "_model_name": "LayoutModel",
            "justify_items": null,
            "grid_row": null,
            "max_height": null,
            "align_content": null,
            "visibility": null,
            "align_self": null,
            "height": null,
            "min_height": null,
            "padding": null,
            "grid_auto_rows": null,
            "grid_gap": null,
            "max_width": null,
            "order": null,
            "_view_module_version": "1.2.0",
            "grid_template_areas": null,
            "object_position": null,
            "object_fit": null,
            "grid_auto_columns": null,
            "margin": null,
            "display": null,
            "left": null
          }
        },
        "db9d6a4560bf4e0f8282e9622db14bdf": {
          "model_module": "@jupyter-widgets/controls",
          "model_name": "DescriptionStyleModel",
          "state": {
            "_view_name": "StyleView",
            "_model_name": "DescriptionStyleModel",
            "description_width": "",
            "_view_module": "@jupyter-widgets/base",
            "_model_module_version": "1.5.0",
            "_view_count": null,
            "_view_module_version": "1.2.0",
            "_model_module": "@jupyter-widgets/controls"
          }
        },
        "654dae073a6d495e834725e43c148e62": {
          "model_module": "@jupyter-widgets/base",
          "model_name": "LayoutModel",
          "state": {
            "_view_name": "LayoutView",
            "grid_template_rows": null,
            "right": null,
            "justify_content": null,
            "_view_module": "@jupyter-widgets/base",
            "overflow": null,
            "_model_module_version": "1.2.0",
            "_view_count": null,
            "flex_flow": null,
            "width": null,
            "min_width": null,
            "border": null,
            "align_items": null,
            "bottom": null,
            "_model_module": "@jupyter-widgets/base",
            "top": null,
            "grid_column": null,
            "overflow_y": null,
            "overflow_x": null,
            "grid_auto_flow": null,
            "grid_area": null,
            "grid_template_columns": null,
            "flex": null,
            "_model_name": "LayoutModel",
            "justify_items": null,
            "grid_row": null,
            "max_height": null,
            "align_content": null,
            "visibility": null,
            "align_self": null,
            "height": null,
            "min_height": null,
            "padding": null,
            "grid_auto_rows": null,
            "grid_gap": null,
            "max_width": null,
            "order": null,
            "_view_module_version": "1.2.0",
            "grid_template_areas": null,
            "object_position": null,
            "object_fit": null,
            "grid_auto_columns": null,
            "margin": null,
            "display": null,
            "left": null
          }
        },
        "8eae96ca06e845f0ac175fc7bfb7a2ba": {
          "model_module": "@jupyter-widgets/controls",
          "model_name": "HBoxModel",
          "state": {
            "_view_name": "HBoxView",
            "_dom_classes": [],
            "_model_name": "HBoxModel",
            "_view_module": "@jupyter-widgets/controls",
            "_model_module_version": "1.5.0",
            "_view_count": null,
            "_view_module_version": "1.5.0",
            "box_style": "",
            "layout": "IPY_MODEL_99393d59b8c24eea8e0ab1dffd092db3",
            "_model_module": "@jupyter-widgets/controls",
            "children": [
              "IPY_MODEL_9c68eb44a1ec4df4ae029b2bc1ca150b",
              "IPY_MODEL_73af9e2702ad44f5bdb46429822fb282"
            ]
          }
        },
        "99393d59b8c24eea8e0ab1dffd092db3": {
          "model_module": "@jupyter-widgets/base",
          "model_name": "LayoutModel",
          "state": {
            "_view_name": "LayoutView",
            "grid_template_rows": null,
            "right": null,
            "justify_content": null,
            "_view_module": "@jupyter-widgets/base",
            "overflow": null,
            "_model_module_version": "1.2.0",
            "_view_count": null,
            "flex_flow": "row wrap",
            "width": "500px",
            "min_width": null,
            "border": null,
            "align_items": null,
            "bottom": null,
            "_model_module": "@jupyter-widgets/base",
            "top": null,
            "grid_column": null,
            "overflow_y": null,
            "overflow_x": null,
            "grid_auto_flow": null,
            "grid_area": null,
            "grid_template_columns": null,
            "flex": null,
            "_model_name": "LayoutModel",
            "justify_items": null,
            "grid_row": null,
            "max_height": null,
            "align_content": null,
            "visibility": null,
            "align_self": null,
            "height": null,
            "min_height": null,
            "padding": null,
            "grid_auto_rows": null,
            "grid_gap": null,
            "max_width": null,
            "order": null,
            "_view_module_version": "1.2.0",
            "grid_template_areas": null,
            "object_position": null,
            "object_fit": null,
            "grid_auto_columns": null,
            "margin": null,
            "display": "inline-flex",
            "left": null
          }
        },
        "9c68eb44a1ec4df4ae029b2bc1ca150b": {
          "model_module": "@jupyter-widgets/controls",
          "model_name": "FloatProgressModel",
          "state": {
            "_view_name": "ProgressView",
            "style": "IPY_MODEL_87db28ec1afd4850b35c6b6196c96c21",
            "_dom_classes": [],
            "description": "Decision Tree: 100%",
            "_model_name": "FloatProgressModel",
            "bar_style": "success",
            "max": 100,
            "_view_module": "@jupyter-widgets/controls",
            "_model_module_version": "1.5.0",
            "value": 100,
            "_view_count": null,
            "_view_module_version": "1.5.0",
            "orientation": "horizontal",
            "min": 0,
            "description_tooltip": null,
            "_model_module": "@jupyter-widgets/controls",
            "layout": "IPY_MODEL_2052b19f325e4f59bdd35ac55ee67561"
          }
        },
        "73af9e2702ad44f5bdb46429822fb282": {
          "model_module": "@jupyter-widgets/controls",
          "model_name": "HTMLModel",
          "state": {
            "_view_name": "HTMLView",
            "style": "IPY_MODEL_961ff9a2a231472b9f2efc8e3f5da004",
            "_dom_classes": [],
            "description": "",
            "_model_name": "HTMLModel",
            "placeholder": "​",
            "_view_module": "@jupyter-widgets/controls",
            "_model_module_version": "1.5.0",
            "value": " 100/100 [00:05&lt;00:00, 19.26it/s]",
            "_view_count": null,
            "_view_module_version": "1.5.0",
            "description_tooltip": null,
            "_model_module": "@jupyter-widgets/controls",
            "layout": "IPY_MODEL_a89a09af52874923a956415140bf0e31"
          }
        },
        "87db28ec1afd4850b35c6b6196c96c21": {
          "model_module": "@jupyter-widgets/controls",
          "model_name": "ProgressStyleModel",
          "state": {
            "_view_name": "StyleView",
            "_model_name": "ProgressStyleModel",
            "description_width": "initial",
            "_view_module": "@jupyter-widgets/base",
            "_model_module_version": "1.5.0",
            "_view_count": null,
            "_view_module_version": "1.2.0",
            "bar_color": null,
            "_model_module": "@jupyter-widgets/controls"
          }
        },
        "2052b19f325e4f59bdd35ac55ee67561": {
          "model_module": "@jupyter-widgets/base",
          "model_name": "LayoutModel",
          "state": {
            "_view_name": "LayoutView",
            "grid_template_rows": null,
            "right": null,
            "justify_content": null,
            "_view_module": "@jupyter-widgets/base",
            "overflow": null,
            "_model_module_version": "1.2.0",
            "_view_count": null,
            "flex_flow": null,
            "width": null,
            "min_width": null,
            "border": null,
            "align_items": null,
            "bottom": null,
            "_model_module": "@jupyter-widgets/base",
            "top": null,
            "grid_column": null,
            "overflow_y": null,
            "overflow_x": null,
            "grid_auto_flow": null,
            "grid_area": null,
            "grid_template_columns": null,
            "flex": "2",
            "_model_name": "LayoutModel",
            "justify_items": null,
            "grid_row": null,
            "max_height": null,
            "align_content": null,
            "visibility": null,
            "align_self": null,
            "height": null,
            "min_height": null,
            "padding": null,
            "grid_auto_rows": null,
            "grid_gap": null,
            "max_width": null,
            "order": null,
            "_view_module_version": "1.2.0",
            "grid_template_areas": null,
            "object_position": null,
            "object_fit": null,
            "grid_auto_columns": null,
            "margin": null,
            "display": null,
            "left": null
          }
        },
        "961ff9a2a231472b9f2efc8e3f5da004": {
          "model_module": "@jupyter-widgets/controls",
          "model_name": "DescriptionStyleModel",
          "state": {
            "_view_name": "StyleView",
            "_model_name": "DescriptionStyleModel",
            "description_width": "",
            "_view_module": "@jupyter-widgets/base",
            "_model_module_version": "1.5.0",
            "_view_count": null,
            "_view_module_version": "1.2.0",
            "_model_module": "@jupyter-widgets/controls"
          }
        },
        "a89a09af52874923a956415140bf0e31": {
          "model_module": "@jupyter-widgets/base",
          "model_name": "LayoutModel",
          "state": {
            "_view_name": "LayoutView",
            "grid_template_rows": null,
            "right": null,
            "justify_content": null,
            "_view_module": "@jupyter-widgets/base",
            "overflow": null,
            "_model_module_version": "1.2.0",
            "_view_count": null,
            "flex_flow": null,
            "width": null,
            "min_width": null,
            "border": null,
            "align_items": null,
            "bottom": null,
            "_model_module": "@jupyter-widgets/base",
            "top": null,
            "grid_column": null,
            "overflow_y": null,
            "overflow_x": null,
            "grid_auto_flow": null,
            "grid_area": null,
            "grid_template_columns": null,
            "flex": null,
            "_model_name": "LayoutModel",
            "justify_items": null,
            "grid_row": null,
            "max_height": null,
            "align_content": null,
            "visibility": null,
            "align_self": null,
            "height": null,
            "min_height": null,
            "padding": null,
            "grid_auto_rows": null,
            "grid_gap": null,
            "max_width": null,
            "order": null,
            "_view_module_version": "1.2.0",
            "grid_template_areas": null,
            "object_position": null,
            "object_fit": null,
            "grid_auto_columns": null,
            "margin": null,
            "display": null,
            "left": null
          }
        },
        "fad52750bd794847be413ed446178ddd": {
          "model_module": "@jupyter-widgets/controls",
          "model_name": "HBoxModel",
          "state": {
            "_view_name": "HBoxView",
            "_dom_classes": [],
            "_model_name": "HBoxModel",
            "_view_module": "@jupyter-widgets/controls",
            "_model_module_version": "1.5.0",
            "_view_count": null,
            "_view_module_version": "1.5.0",
            "box_style": "",
            "layout": "IPY_MODEL_f5f8198348cd4ece9a4e68aa0c82fb5f",
            "_model_module": "@jupyter-widgets/controls",
            "children": [
              "IPY_MODEL_55f9ea80128c4e84805f37f2032edc22",
              "IPY_MODEL_003638b8bbc94a0faabf830f39a56fcb"
            ]
          }
        },
        "f5f8198348cd4ece9a4e68aa0c82fb5f": {
          "model_module": "@jupyter-widgets/base",
          "model_name": "LayoutModel",
          "state": {
            "_view_name": "LayoutView",
            "grid_template_rows": null,
            "right": null,
            "justify_content": null,
            "_view_module": "@jupyter-widgets/base",
            "overflow": null,
            "_model_module_version": "1.2.0",
            "_view_count": null,
            "flex_flow": "row wrap",
            "width": "500px",
            "min_width": null,
            "border": null,
            "align_items": null,
            "bottom": null,
            "_model_module": "@jupyter-widgets/base",
            "top": null,
            "grid_column": null,
            "overflow_y": null,
            "overflow_x": null,
            "grid_auto_flow": null,
            "grid_area": null,
            "grid_template_columns": null,
            "flex": null,
            "_model_name": "LayoutModel",
            "justify_items": null,
            "grid_row": null,
            "max_height": null,
            "align_content": null,
            "visibility": null,
            "align_self": null,
            "height": null,
            "min_height": null,
            "padding": null,
            "grid_auto_rows": null,
            "grid_gap": null,
            "max_width": null,
            "order": null,
            "_view_module_version": "1.2.0",
            "grid_template_areas": null,
            "object_position": null,
            "object_fit": null,
            "grid_auto_columns": null,
            "margin": null,
            "display": "inline-flex",
            "left": null
          }
        },
        "55f9ea80128c4e84805f37f2032edc22": {
          "model_module": "@jupyter-widgets/controls",
          "model_name": "FloatProgressModel",
          "state": {
            "_view_name": "ProgressView",
            "style": "IPY_MODEL_8d3a5fdf68b349bdb91b92bcea6c75ff",
            "_dom_classes": [],
            "description": "Random Forest: 100%",
            "_model_name": "FloatProgressModel",
            "bar_style": "success",
            "max": 100,
            "_view_module": "@jupyter-widgets/controls",
            "_model_module_version": "1.5.0",
            "value": 100,
            "_view_count": null,
            "_view_module_version": "1.5.0",
            "orientation": "horizontal",
            "min": 0,
            "description_tooltip": null,
            "_model_module": "@jupyter-widgets/controls",
            "layout": "IPY_MODEL_b938cc467b5f4c35ad7ac897ddb31544"
          }
        },
        "003638b8bbc94a0faabf830f39a56fcb": {
          "model_module": "@jupyter-widgets/controls",
          "model_name": "HTMLModel",
          "state": {
            "_view_name": "HTMLView",
            "style": "IPY_MODEL_68c5b747aaac45e5aa737772df054a23",
            "_dom_classes": [],
            "description": "",
            "_model_name": "HTMLModel",
            "placeholder": "​",
            "_view_module": "@jupyter-widgets/controls",
            "_model_module_version": "1.5.0",
            "value": " 100/100 [00:03&lt;00:00, 27.05it/s]",
            "_view_count": null,
            "_view_module_version": "1.5.0",
            "description_tooltip": null,
            "_model_module": "@jupyter-widgets/controls",
            "layout": "IPY_MODEL_13c0f12421a242008a6c5588ffeb151a"
          }
        },
        "8d3a5fdf68b349bdb91b92bcea6c75ff": {
          "model_module": "@jupyter-widgets/controls",
          "model_name": "ProgressStyleModel",
          "state": {
            "_view_name": "StyleView",
            "_model_name": "ProgressStyleModel",
            "description_width": "initial",
            "_view_module": "@jupyter-widgets/base",
            "_model_module_version": "1.5.0",
            "_view_count": null,
            "_view_module_version": "1.2.0",
            "bar_color": null,
            "_model_module": "@jupyter-widgets/controls"
          }
        },
        "b938cc467b5f4c35ad7ac897ddb31544": {
          "model_module": "@jupyter-widgets/base",
          "model_name": "LayoutModel",
          "state": {
            "_view_name": "LayoutView",
            "grid_template_rows": null,
            "right": null,
            "justify_content": null,
            "_view_module": "@jupyter-widgets/base",
            "overflow": null,
            "_model_module_version": "1.2.0",
            "_view_count": null,
            "flex_flow": null,
            "width": null,
            "min_width": null,
            "border": null,
            "align_items": null,
            "bottom": null,
            "_model_module": "@jupyter-widgets/base",
            "top": null,
            "grid_column": null,
            "overflow_y": null,
            "overflow_x": null,
            "grid_auto_flow": null,
            "grid_area": null,
            "grid_template_columns": null,
            "flex": "2",
            "_model_name": "LayoutModel",
            "justify_items": null,
            "grid_row": null,
            "max_height": null,
            "align_content": null,
            "visibility": null,
            "align_self": null,
            "height": null,
            "min_height": null,
            "padding": null,
            "grid_auto_rows": null,
            "grid_gap": null,
            "max_width": null,
            "order": null,
            "_view_module_version": "1.2.0",
            "grid_template_areas": null,
            "object_position": null,
            "object_fit": null,
            "grid_auto_columns": null,
            "margin": null,
            "display": null,
            "left": null
          }
        },
        "68c5b747aaac45e5aa737772df054a23": {
          "model_module": "@jupyter-widgets/controls",
          "model_name": "DescriptionStyleModel",
          "state": {
            "_view_name": "StyleView",
            "_model_name": "DescriptionStyleModel",
            "description_width": "",
            "_view_module": "@jupyter-widgets/base",
            "_model_module_version": "1.5.0",
            "_view_count": null,
            "_view_module_version": "1.2.0",
            "_model_module": "@jupyter-widgets/controls"
          }
        },
        "13c0f12421a242008a6c5588ffeb151a": {
          "model_module": "@jupyter-widgets/base",
          "model_name": "LayoutModel",
          "state": {
            "_view_name": "LayoutView",
            "grid_template_rows": null,
            "right": null,
            "justify_content": null,
            "_view_module": "@jupyter-widgets/base",
            "overflow": null,
            "_model_module_version": "1.2.0",
            "_view_count": null,
            "flex_flow": null,
            "width": null,
            "min_width": null,
            "border": null,
            "align_items": null,
            "bottom": null,
            "_model_module": "@jupyter-widgets/base",
            "top": null,
            "grid_column": null,
            "overflow_y": null,
            "overflow_x": null,
            "grid_auto_flow": null,
            "grid_area": null,
            "grid_template_columns": null,
            "flex": null,
            "_model_name": "LayoutModel",
            "justify_items": null,
            "grid_row": null,
            "max_height": null,
            "align_content": null,
            "visibility": null,
            "align_self": null,
            "height": null,
            "min_height": null,
            "padding": null,
            "grid_auto_rows": null,
            "grid_gap": null,
            "max_width": null,
            "order": null,
            "_view_module_version": "1.2.0",
            "grid_template_areas": null,
            "object_position": null,
            "object_fit": null,
            "grid_auto_columns": null,
            "margin": null,
            "display": null,
            "left": null
          }
        }
      }
    }
  },
  "cells": [
    {
      "cell_type": "markdown",
      "metadata": {
        "id": "XviorX1erKGJ"
      },
      "source": [
        "# Random Forest\n",
        "\n",
        "**Random Forest** ou **Random Decision Forests** é um método de aprendizagem de conjunto para classificação, regressão e outras tarefas que operam construindo uma infinidade de árvores de decisão no momento do treinamento e gerando a classe que é o modo das classes (classificação) ou previsão média/média ( regressão) das árvores individuais.\n",
        "\n",
        "Random Decision Forests correta para hábito de árvores de decisão *overfitting* ao seu conjunto de treinamento. Random Forest geralmente superam árvores de decisão, mas sua precisão é menor do que as árvores com aumento de gradiente. No entanto, as características dos dados podem afetar seu desempenho."
      ]
    },
    {
      "cell_type": "markdown",
      "metadata": {
        "id": "-KUIP260v_MX"
      },
      "source": [
        "![image.png](data:image/png;base64,iVBORw0KGgoAAAANSUhEUgAAAx4AAAG2CAYAAADx6lCUAAAgAElEQVR4AeydBZidxdXHN0oIEqRFiltxLR6gULRoSWmxjxYvTUuRQtFggVKKU9ydBNJgRQpBCgQL7q6BYBEgsnrP9/zOe/83k5e7m02ycnf3zLN3x87Y/505M2e0ykIFAoFAIBAIdEoE6uvrrVAoWENDg5cv1WUWDXR5Wvmho/CXLjfiUTjFgV5XV+fumEWb+hMP7vJDx5/4UjfRoSvPxC17Sou/fvJP48QcKhAIBAKBQKD9EKhqv6Qj5UAgEAgEAoHWRoDBtgb12223nXXr1s169uxpPXr0sF69ellVVZU98sgjJaFiypQpbq6trfWsabCOO4pBvwb7qZCgckyaNKkkQKRCQBoGWuVJgkFNTY1Hgbto07wrfuiIF6U8yqy8Kk6FkaCiNOQeeiAQCAQCgUDbIhCCR9viHakFAoFAINBmCGjAzUBcv7/+9a8lgWPnnXf2vDDQ12AeB8zQM7DXYB27BIK0ALijFMfjjz9ur732mocXXXV1tdsVXvnCPxUe5I6u/Cpf0gmjNHGTu+LGn/TycWNPaZwg/gUCgUAgEAi0KQIheLQp3JFYIBAIBAJti4AG5xIcrrnmGl/lYNXjxhtv9Mxo8J7SyowuoUJ0CAa4aSCPTvwvvvii9evXz15++eVSvLgTLhUWhIAEDYXHXfSEkQAi/zQvuPFDKR6EGNEqnjQO0Sv90AOBQCAQCATaFoEQPNoW70gtEAgEAoE2RSAd8GO+/PLLrXv37i583HbbbaW8aOUhpS95Fg0a1GNlQC/hADsrI/PPP7/H/corr5SEAg3201UIxSPhQIKJ8qB0oZOb4sFOOOVTQofsxCUlN8WRd5c99EAgEAgEAoG2QSAEj7bBOVIJBAKBQKDdENDAHv3qq692oYOzHrfccosLD5MnT7ZjjjnGz37gfsEFF9imm27q50G22WYbFyoI+95779nyyy9vf/zjH+3cc8+1fffd11c3PvroIzvppJNsttlm87gHDhxol112mW95euKJJ2z//fe3E0880QYMGOBnS4444gjHgjjvuusu6927twssF154oR155JGeD86fPPbYYyW68ePHex4Rbki/T58+tskmmxhnShBKJkyYYEcffbRtvfXWdtxxx9k888xjV1111TRbxSSIEGlqbrcPEwkHAoFAINDFEAjBo4t98ChuIBAIdC0E8gPsK6+80gUKDpUPGTKktHqAUDHXXHO54DDHHHPYyJEj3YwA8Oyzzzpo//jHP9zt1VdfdftTTz1lrG6gxo4d64N9tnC99NJL7sZKwwYbbOBhoFOcCA1fffWV0yAwzD333KVD7y+88ILtt99+HgYBQ6sVZ555prvtuOOOLmgccsghNvvss9sXX3zhqy8IMwhNHJRHXXfddbbQQgu5n1Zn3CP+BQKBQCAQCLQbAiF4tBv0kXAgEAgEAm2PAKsACB0M0iV4kIsPPvjAVxHwO/XUU+2bb76xeeed12mfe+45Xxk555xzfDVi4403LmVcW51YNeF8B7dlcbhcW6MQFBAQHnzwQXv66ac9PgSPMWPGeJzjxo0rpXPCCSe429/+9jdfBUHwkOBEPOSZvOHGjxUTpb/RRht53Ag4uCNgITQhHCkOHZQvZT4MgUAgEAgEAm2KQAgebQp3JBYIBAKBQNsjoIE3KUvwSFc8cH///fdLgsfNN99sEggYvD/55JOe6TfffNNXJwjL9ii2NrFiQfyc4UDwwC9d8dA5DVZLWMngfAlbsr788ksXEFgp0dmQW2+91QUWtn0Rz0EHHeTpIkgst9xyHvYPf/iDh8ONHwrhA38Ek3322ce3dSHEnHzyyaUbtrRy4gFiq5VgCD0QCAQCgTZFIASPNoU7EgsEAoFAoH0QkPCRCh6c8ZD76NGjfWUCweDaa681zlSw4oHgwUoFSgP99dZbzwUDhAPOg+DOiodWSN54443SFqkHHnjAac8//3wXYAhDGqyokDa6Vkq0AoNAA90BBxzgggiCxcorr+yrLSussIKnhyBBugg2/FZccUXP/w033OB5JW79hLjyrzLLPfRAIBAIBAKBtkEgBI+2wTlSCQQCgUCgXRDID7JTwUMDfTL27rvv+sCdVYNhw4aVBA/ObHDGg4E+25h4SBChZIcddvBtVYcddpgLAGxj4kA3AgPnLDhUjkCw1FJLuRvCy6WXXupmVkveeecdD6cVD8INHTrUw0jwYHUDRTy77767h0VoYRsVijQ4b0IZyQ9xIBRNnDjR43700Uft008/dX+ElxA8HLb4FwgEAoFAuyEQgke7QR8JBwKBQCDQughooE0qEkAOP/xwH6AzSP/Nb37jtz4xKGerFWcxEApuuukm30LFoW8G+qNGjfLtTJzxWH311X1blQ6pP/zww14Itlr179/fVyU454GwgsDAgXWEGeIZPHiwzTfffG4nfdJB8MANf92yxRkP4kgFD7ZvESb9kX+pe++91+MgLWjQjz322B+seoheeMgeeiAQCAQCgUDrIxCCR+tjHCkEAoFAINCuCCAAoLbbbjsfnDMwZ6CPzg1W//73v/0GKAbr+m2//fbuDx2rHjwOOHz4cPvss888DGFPOeUUFy70Rgc3SRFeAgOrJFyly3YtrsqFjpfTifP55593oeCoo46aRpg444wzXAAiTYQPhB4UYT/++OPSqgrbs7777jv3Y5sXasSIEZ5X8rb22mu7UKWyI4QhYIUKBAKBQCAQaD8EQvBoP+wj5UAgEAgEWhUBzeoz6GYAjl2D77ye95edMOngHXsaL+Z8/LJTOMLqPIbsCiM7uuJFV3pyI740DHa5KQ78KVPqjpm4FB/5CBUIBAKBQCDQfgiE4NF+2EfKgUAgEAi0KgKcu8gPxJVgerUsNJzd0KAfO4qBPG4oDd7lJhr8MPOQH7Tp4F7xQYNZcaVmxSM/0aYCg9KAFjqFSfVy+ZIbcWEOFQgEAoFAINC+CITg0b74R+qBQCAQCLQqAgy6NWDXQBxdA3t0CQKiUxjRaLCv8PKXOzqK8KLBLn/c+KEQTESjeGQXDe6oVLBI80a8CotZ6cis+LCTHjpuit8jj3+BQCAQCAQCbY5ACB5tDnkkGAgEAoFA2yKQDuAZsGuAjo7Cn58G/LilfqyGaOCvgbxKoLgZ1MuseFK3ND7R4SYzOvb0RxqpsCBapa040/xiVhlFp/zkw8s/9EAgEAgEAoG2QSAEj7bBOVIJBAKBQKDNEUgH5kpcbukgnIG5DoiLDl20qRlBIHUXfepWzoxbKlxIGBCtdMWX1+WvrVzoii/NX1ouhZGe+uXjD3sgEAgEAoFA6yMQgkfrYxwpBAKBQCDQ7gho8I2uATuDf5nJoIQBzHKHXisXGrgrrnKFSv1kRldYxZuuZJSLp5yb8ksc+inP2DErTfmndsyySyed1Fwu3XALBAKBQCAQaBkEQvBoGRwjlkAgEAgEKhKBxgbVci83QKcgGsSjc3CcNze4Lhf6mVESDIiP34wq8qsfb3ace+65pdfPiUvl0YoIbsor6ck8o+kGfSAQCAQCgUDLIRCCR8thGTEFAoFAIFDxCGjQr8E4A3YG63LXAB13Xv3Wg4O8q7Hzzjv72xgzWkjiHjRokO25554edGZWOyRYoJ988sn+9scCCyzg74LwQjlK8aoMKiN+hFMcThz/AoFAIBAIBNocgRA82hzySDAQCAQCgbZBQANt6UqVATpuDMz5Yeb3+uuv2yWXXGKHHnqorbPOOj64X3fddX1wf/HFF9vbb7/tUWhgr/impxP3HnvsYdtuu62nR/gZiYPwKMKQ99GjR9vtt99uRxxxhJG/+eef3xZffHHbbbfdfCWERwe///77UvkoI0rxuCX+BQKBQCAQCLQ5AiF4tDnkkWAgEAgEAjOHQFMD56b80tQYvEvYkPv1119vK664YukF8d69e/ug/ttvvy0N1vUmCOGbm5biR+fV9H322Wea1ZXUf3pm0tUB+FSQIC+s2Nx11122yiqrlF5k5/Xyvfbay4Up4i6X57xb3j69PIV/IBAIBAKBwIwhEILHjOEV1IFAIBAItBkC6UAYM4PvdOCPm34624A/SnSsEGiFA7c33njDVwv+9re/+WpBv379bOmll/YViYsuusheffXVHxwmTwuc5il1b8pMmPXWW8/OOuusktAzM/GUSyMVQvD/4IMP/DzKsccea7/4xS9szjnntOWWW86FkDPOOMPYlpUXooQhcYGRsEvNLZXfcmUIt0AgEAgEugoCJcGjMabamHs5gGaEdkbD5+PO2xVfY+74p36pWWFbUs/Hn7eXS6sxmsbcy8UxI26tFe+M5CFoA4GugEBLtjUGwxo4Ey92Bsy4oeM2efJkN2PXYHrYsGG29tprl1Y15plnHjvwwAPtscceK8UHLSodcLfU91lppZVs6NChpehIo6WUcCDOFGvKg0B26aWX2lJLLWXdunXz8nNe5Ze//KX973//8ywgmOWV4kzjK+eWDxf2QCAQCAQCgcYRcMFDjFU65I2Z836Kuil60TSlz0r4NGxj+ZvRTi4fZxpvU35pGaFLaVNzSjcz5unF1ZR/U34zk5cIEwgEAs1DIN/28nZiKecm9/zAGto8b1N4Bt3jx4+3q6++2hj0s/Woe/futsIKK/iB8c8++8wzLXosigs3wksQccIm8ib/crriX3LJJW3EiBGeBm7lBvvlwk/PjTyTT+UdeqWJWas96JxR2XvvvR2LHj16uCCy+uqr2z333GM8kohqrNzCpKl8p+l6ZLm8yC30QCAQCAS6KgKlFY8UgJR5pubGaKbn3lgcaTjM0DWXNh9W9nLhZ9StHL3ib67eWBxyb0xvbvxN0SnulKa5bmmYMAcCgUDLIJC2v9TcVOzQiVY69Bpg44aZH2YGxOPGjbM777zTjjzySFt//fVd0GCm///+7/981p9tVNBrcC2d8JjRGYCndtLEzm9mFXHPNddc9vHHH3s8KsPMxpeGU76UZ+GBXUIC6aOwY+bg+QsvvGD/+te/7Le//a0fTP/xj3/sW8/AjpUZBLM0bpnzeZe78pS34553y9sVNvRAIBAIBDo7AmUFj3KFThllai5HK7eUTmbpopmenqfP2xW+MXf5o0PTHLo0jMLl3crZm4o79UvNiqe5buXyUy6s4g09EAgEOg8CGkinJWIgzEB5zTXX9Bl8VjVY3TjssMNKg2doJk6c6MHYkgXP4CdhQ4Np8RLRSAhRevLHnprl35hO/GxzYgsYCvuMhG8sXtwVDzrlyZcFd/ml9DoTI/+RI0faIYccYggg4MeP7Vjnn3++TZgwYZo4yuVH8aR+uIUKBAKBQCAQmIpA2a1WN998s51wwgl+V/qJJ55Y0jHz+89//lPqODSTRJRi+OpUxHTzDBm7OlDREl70iuvll18upX3KKafYJ5984jSKT+kpLrkrLuzqWHFTXkVHeKWPm2jkj47/Qw895HiQB3A56aST/AcWqfmjjz4qG59HXMRH6Slt/DCjlK7M0vPuKb3KlKclDErpuSX+BQKBQLshoDapDKTtOnWTGT3fvmnPbJ+6++677ZhjjrENN9zQOBy+yCKL+FWy8CS2M0lwIA7xAKWnfEiHRmbRyE3u2GdGKfybb77pV96SF+VnZuJrLEy5fCtt6aSLwi6z8iIa/BHQnnrqKTv99NP93RK2prFas/nmm9vAgQPt2muvtXfeeaeEWdrHEF7fTHEqLU88+R6yhx4IBAKBQFdCwAUPLT/DIMWIeTSKKxXZB3vjjTc6JiyTa5/wLrvsUqKF0WrwrxkyMWPFKWaMLrP21BI5bqLFrnw8+OCD1qtXL58te/rpp0vfBn+uViRdhdMMFkTKT95MOnQI6hTwV56IJ1WiQUfomW222YxDiRzKpHMiHB08WxnA5eGHHy4FT9NXvhRf6qcAxKO85f2x4yclOtmJN/XnO916662OC2nn6RUu9EAgEGhdBNTm01TS9iiegw4tutoy7V7hcUfY2G+//WyOOebwLVR9+/a1P/zhDz4xQhjFRRiFI93UnOajOeamwjblp7hFc//99zuflHt76MpLU2lDIzowFe9mixpvhCy88MKOPf0A75wwSafVEH1D4hcP1/W/8pPeVB7CLxAIBAKBzoxAlRgkhRTDRX/iiSd8MM3y+PDhw0v3p7McrWVoZvthzuoo0/AMpFH4pWkoHYVxomLahIc2pWefLQN9Bv3PPfecxwedaBUfYXCDsStuzDB+3NMOgDDqUBQeHXoUcRFHaod++eWX97L36dPHBQ/iRU2aNMnvqOd2mDTv+CkOpS8BAz/CYxdWyj9h0vx5Isn3kR26lBZhiPS5MvKWW24RWeiBQCDQjgiIT8BTMPOjndLG1ebJnvgWbmr/uN1www221lprlfguj+UxMcSr4ijo0/BuSXiP7OiiTd1m1DyjcUDPAfdVV111mvTFG2c0/aboG8ub3NFlLheP/FMazGleWfH46U9/WvoeTIwdfPDBfo2v6BRe31j8X2kqHdlDDwQCgUCgqyBQJaYKw+SnzhHBQ1cPDhkypDQQ/+KLL/xedIQP9hSLoRIWJssPc8pYFbfcpSttOmGZAV55gO7dd9/1rQSsvLD8jZvoRZd20sSDgk4/5SW1Q0M4xUGc+Cs87lIKx5I75Z577rlLggfbzgjDjNgjjzziQaBXfIqT+FIzaRNOcRMQs+gQRuSnPCo/olF8xEN6uJ999tm+R/mmm27y+PHjl1fl3PI0YQ8EAoFZQyBtZ2qLar+ykwJm2jOz5/AUDjj/6le/8rb8k5/8xN/Y4OVweAwHo8Ub0NPwiieNe9ZKMG1o4p0ZxRawjTbaqMSLWit/5fKmPEuHJjXn7fJDB1++FyrVMbPdCiGE91A222wzXw1fbbXVfBXq3HPPtSeffNLDwJsVnviwE7fScc/4FwgEAoFAF0HABQ+VVZ0Y+rPPPlua0dHsOYwShjvvvPO63w477OCMmfD4XXbZZc58GZyzTYvzEJrNhznr0CNL1ggUs88+u2+j4iYWCSykzWweQg8/hB5m+FjafuaZZzw95eP3v/+954MtB6zEEJYfD0ixSsJMFAILW7TQsXOLCeH/+te/evzE/c033zgEhJVAIExk51Akj1CRFmX77rvvXOhinzXxoQiv8urKRvLNSg0K7KBBgBEWPNjFXfKUddNNN/W4lI/FFlvMywdOn3/+eUm4YAYUjKEnLPfzc76EtHCnnOhsCyD//EIFAoHAzCGg9p2GLueW+suc0tGuUyU/tpy+9957vo2Kdgtv4Mfjd5rMIJx4C/EoLDxFfAUaDWrTdNrTrHzCD3faaSfPK/nJY9GeeUzTJr/Kc+qe8lD8lX+wR8n+z3/+0xZddNFS/8UkFWcDx44d63Six5LG6Z7N/FcufwralJ9oQg8EAoFAoD0RmOZWK5gWKxjodHh0ggyymdWR4hwDnSLbjRBOpNjew55XBujPP/+8hyU8g2QUwoUEFjpUBvwIA9CsscYapZUTDaoRHEaPHu1hSI/BNAKEGDx5YkDOCgzMnoH7ySef7GmRf845kHdott56a/cnLQb9DNYZpBMvbswkEoYfCp1OPj2DQofO8jrpkDcEj0MPPdR+85vfeJj035VXXulpf/XVV74CQRpsSyNeOh72OxMPGHLzDNvIoFlooYV84MAghLzhTjoIEJypUf422GADf5n3xRdf9HCc56ATYyZ0iSWW8Li5UjMdkKT5C3MgEAjMPAJqhzMag3iXZsDhlZwRYJYcfsAPnsUkDZMhpKO0NEhVWAkhygNtXbToopN/e+rkh9uh9thjj1I2lNeSQwUYyJN++ezo2+GOObWDtb4P/nwLVju4phe+rl///v394D/0TX2fmcGmXJhybvlyhT0QCAQCgbZGoAoGKgYlHbf0LAeDXgbOXDXIgJhtAJwngB4mi9piiy3cjxWF9BD6UUcd5f7M+DD7g7DBQ1Ic1v7zn//sYVhFwA4z3mqrrZzmvPPO8/g5XM4AHUGBrVYoVkHooDfeeGO38ygUzJ286YGq999/34UOwhHHSy+95KsV0AwaNMivmUQoobNHgKAs6kyEg0denEWkY+GMB/TEyUoHdgQP4UB4VofIG0vvlIfbXAhD/hDaoGUFBByIZ5tttnEM//vf/9o111zj5j333NPDsBoC/RVXXOG3qiCQkA9uWOGbUMYPP/zQuP2LtBmMSPAgH7gRXj+VJ/RAIBCYMQTKtSW1K/xShV1uosH/66+/9jc24B1MHnAbFe111113df7K7Xm0YYUlTGoWr5UuP+xyQydNlHS3tPG/tNyYV155Zb8RSu5pPts4a2WTU77ynrhLgXdKl/eDTt9EZt1ARj+IIMIk0oILLujfn3rAtjomz6TS8Io/75a3i4440vwpztADgUAgEKgkBKZZ8YCh0fHBvB5//HEfLLPScP3117sgogH0cccd52UQw6MTIaw6P1Y/GHwzuGa7FTN73377rQseDMDpaAl79NFHexrQjRkzxlc95pxzTh9064wCQgwrJQzSGbCzCrH44ot7OAboDO4l6BD3scce624M0hFouAGGQ5gM0omHfCHAsBox33zzeVoHHnhg6ZvozAoD/HTFQ4IHaRAvZeJQOUIMirJDwzI7As2vf/1rd2PbF2HIP3kDp3RFiM5HHQllIX0EGugRkggL7vyYHUXgY+YMOysibMECS9Ln25E+4fhmKJXHLfEvEAgEZhgB2pd+aqu0N9ykxDdlFx3tj0kAHvCDb8BPmYD54x//6LdRiY5wig83mVP3vFlpldPT8OX8W9uN9PWjPJQdfo/Kl6+189JS8QtT6YpXdum45836ztQHdhPw/bUDAD6OUMLEE30KYekLUOj5uib8lAa6+h/lSeFlDz0QCAQCgUpBwAUPmBZKDAzGxg1NDG4RClhhgJFpxYMZG1YWUGKMnNk4/vjjfdDMDSYMmPlpsM3MDzP1dLwDBgzwtNhSoJl/VjwYzNMpM+hWmpxdgEFDx1Yr8srZBwbXDO7JMzTYyS/p4YYwQmdHOLZssTJA+sTNWRFWYNgyRZiDDjrI46XcxK8yUT7suCNUsNWKdBAs2AKF4opL/FF0Khr4awsW6ZIHwiFkoLTigTsrRMSNQuenMyBclam4lSfsHPxnxpS8Ux5wJ58IJdznT7wMdhQvYcAEJd0t8S8QCASmiwBtRj+1JXTanH5EAg3bHZlY4HAxZxrYPsks9yabbOKTMPfcc49PwhAOeoWnfSsN9Lwq55anqSR7ml8woS9gQgpFWVEpjTt04n+UVd+cusOPPoRVrsGDB9v222/vZwhZBWNrMOdC6GNZDUnxSutfPk7gg+fj3pWw7cTVJooWCHRKBEorHhrYqpS6TpcO47rrrnNnhAcYI4Notj8xgCYczI6BMLS8+cFqA/7Y2ZaFIiwCBIN2BA8UggcDZ1YlEBRQyyyzjIfTIJ2bQ3hJFoFF6bFsTdw86ASD1UF4BuIMuFGEQ9AgHwg1CEYLLLCA5/2FF17wFQ8ED+JB8BBD12A9ZdzqKFZcccVS2ZmZYkUEOjBgxhPFtYrE+fOf/9zjJM/ki/xzFgOlsxnQsZ1KinTonNZff/3SuQ+uE0agAR/2DZOe0tx33309La3qkHfhxxXIGtSoLNJJLzUr/dADgUCgPAIaNOJLe1f7kc7KJrPYtGl+tHm2jXKei3YtVa5NEgc0abyiz+tKr7nuebq2siuf8CRNvnD5CEp+0tsqTzOTTnPz2BRd6qfvn9YJMBINk2Jso2XlX3Vpyy23tNtvv92zr34GeoVRn5XGKb+ZKXOECQQCgUCgNRGoSjvUNCG2WjFYpgPloDIMD1oOdeMGU1x77bW9s2QArvMbzNTcd9997o+A8qc//clpEDy0tQnGCrPUVivoGGDjtvPOO/uM/Y477uiMlU5LD2aRJxjqo48+6gKAzniMGjXKBRjyxKAehfCj7V5stSIe0mdZm/MrHHb/0Y9+5GVhwEDadPwoBvrqILBLsNA7HpRV27BSZg8dwgHCFAfoUZy/UAeCGUV+cdOKB26EJU2UBAryzwoOSgf8SVfbqCTAsLLDrCLCkFaD2OLGuRFUdEIOQ/wLBGYaAfEG9LQ9DR061K8Vhyfyo03vvvvuPpMNXUqfhoNvYNePjGHGXTwlpZd/vgB5mtS/Kb+UriXNpJn+iPv11193bPQQLW7tkbeWLme+HE2VCT/VoZROQgNx0ceqvjBRRr8EP1d/Sz/J6jbbawmXxqP6RB+idFqyvBFXIBAIBAIthUBpq5UYF8yMswTrrrtuieFxjSz3sDN4h6nts88+PnCGIXI4mtl4rXiw1YitVqxGSDjhjYu77rrLVztgnhw05GYproPFzgCbTok8sMWLlQXi5srbI444wsMh5JAHGDJ5YCbxZz/7ma+oMLPItivyTf4RclgV0aH0q666yoUcVlsYGBxwwAGeHkIIeVxvvfW8bIAqZo7OjzxxOJ3bpySIIViwSvLKK6+4sAANDF8YIniRN1Z0OHTPtitWYiTMEBflpozbbbedC0tKizhYreGFYmjIH/f4I0QQnu1obMFieZ6zKWzh0KF14gAXbgwDU24IUzlaqsJEPIFAV0NA7ZrJCiZhuPiCNzaYyGBgSPvmrNcDDzxQWgUlDEphabtqi+hS8peOe+ovuhnRZzX8jKSVp1Xa6Pwoly4quffee0tlk38+fKXZVZ5ZzZfiESbgom8uXXWEtFK3N954w1fG6Qs33HBD7xO4QZJ+gBVzVtUVH2GJB3uoQCAQCAQqEYHSVqtKzFzkKRAIBLouAhqszSgC+XCpXQM6uaHrRzrayqJZY/wY+DERoMPhTAawosmERDrIi8Fe9qVSPHFB4AAzPQCLW2CVYTWj/8GNFXmujuesJbjy4xwRZ2iYdEPxDaSndR73tM6KBnd9kzSsRxL/AoFAIBBoQQRC8GhBMCOqQCAQaB8EGCxpwKQcaDAlP/nLXdtHZWdAxgUNXL194YUX+l+mW5oAACAASURBVErGKqus4ufaWJ3l3Bkrimx1gRbhJB3EaYCXpi9zZ9eFLeVMB7CYWYlmcMzV4uAlWtF1dmxaonxgprqGmR/1l90G3ADJtizew2JVnktQEJRZ6Wd7MnVauCus6ip2zOnWLX0X0Sr/2EMFAoFAIDCrCITgMasIRvhAIBCoGATyg6P84ImMpm5sXWSgxRkz3vPRfnr0Nddc084//3y/iCJfQMIwmJMiTg3YlIb8upKexwFMLrjgAhc8dPU3eKRYdSV8ZrWsCLtp3ZNAQbz4cQsW7z4tu+yyjjlbbtkSiNDMVmnRoetbpd8Cc2r3APEvEAgEAoEWRCAEjxYEM6IKBAKBtkeAAVRe5d2w6wetBldcPMGZNZ2nYmae1Q3OmkHPTDC0ik8DM4UnLvlhTgeCqXs+f53JXq6cqRtbgMB1woQJXuzUrzPh0FplSfHCnK972hZI+vLHjSvp99prL7+cBQGES1qw33HHHV6vWTGBXgK06jrxpPW4tcoV8QYCgUDXRCAEj6753aPUgUCHQiAdfDWW8XI0GogRBjM3wfHGBg+2cQkDl01wXoMb9rjAQVtOGLhp8JUKG5jlrrjR+SmNxvLX2d2FAeUEJ9mZbediDw1w83pnx6Wlyqd6hg6GwljupCOzMMaOwMf7Mdx0+Mtf/tIf4OV8CG+HnHbaaS5k86AutNT7NN7G8g7t9FRzaKYXR/gHAoFA50MgBI/O902jRIFAp0CAgUtzBi/To+FqbW6y43Y4Zt75bbTRRn5DFUAx0EIRT2rGjYO8KAZy6cyy3NAlpGBO85Ka8esKijLrB5b8eNuImxHBUJjksewK2MxKGYWp4sCuuio3CRvY8RPewlxh8OOdLh645EyI2gRCCbdNQqd6r7BKI7WnZvnn9ebQ5MOEPRAIBDo3AiF4dO7vG6ULBDosAgyQ+DF4SXWZGViJRoMsVixee+01GzZsmL8hxDkN3t3p37+/Xz/Nezg89ielgZH0vDv2vJ9oQp+KQB4j7BIudt11V782XNT6Zvkw8g991hFoDFt9E74BasyYMf444VlnnWU77LCDP7LLFdG8tcWbIawC8kaUvhlh9G1xw6xfalf80me9RBFDIBAIdBYEQvDoLF8yyhEIdAIE0gFTfgaX4mmQg5lBFHYGNxyqveaaa/xGH53XWGihhfzaUQ41awCUxim40jSVhvyk52nkHvq0CAgn6fjyzhIPyeobpH7Thg5bUwi0FG7Eo5+uj1bc2Ln+mPdCaEdqSyuttJK/xYW/viN5VbjUrLhxS2mbKlv4BQKBQNdBIASPrvOto6SBQMUioAGMdGVUAxfpEhxY2UCxejFw4EC/jUo3UjHQZQaXB/80w0u4fFilEXrLI5B+Rx455fFXfYt0YNryKUeMTSFAO0q/TTla/KdMmeJnQ4477jh/iJczOmzJWnrppe3iiy8uxaG49G2JT26Y1ebKpZOnbYwm3AOBQKBzIRCCR+f6nlGaQKDiEEgHImnmGnMXDYMkCRiYGcS8/PLLfsUt5wZ4twBhg4EtB5h5L+Kjjz4q7U+HnnD8pDBPL13Rht58BMphqkHnqquuamxxE42+Qfpdmp9SUM4KAsKeb8H3QU/N8icNzLLzBsuVV17pQv4KK6xgc845p6222mr+fsgNN9xgnKPS99Z31opkml/54Zaay9nTcOXM+fDlaMItEAgEKg+BEDwq75tEjgKBTolAOlBIzY0VVkIHAxhmWZdZZpnSOxu8TTB48GB/HC0Nr0OxEjo0GNIAKqUNc8sjwHfVT7EvscQSfmhZA1m5h972CKTtTt8DN5lpa5hR+o4Ko/aI/e2337ZLLrnEllpqKeOqXrZkIWCedNJJfm6E8LRFhVV8HvF0/qVhpkMa3oFAINABEQjBowN+tMhyINAZENAAozH9rbfesv33398WXXRR3+bB6gZvbNx3331efIVLB0p44C4/7BowaXDVGbCrxDIId3SwRkfwm3feee3dd98tDWjJu75ZJZajs+Yp/S55s+zpd5EZP34omdH5tpz54GzV6quv7m2UW7L69etnf/jDH2zEiBGl76zwLYVtS8fXUvmKeAKBQGD6CITgMX2MgiIQCASmg0A6EJBZg0/sMktHGJA7bgxgXnrpJbvwwgvtN7/5jW+jmmeeeXwb1UEHHWRs5+CxP2hTpbRSt8bMopXeGF24zzwCwhadgSlnBXgrBV3fDj/RzXxKEXJmEGgu7s2hS2kwM1Fw991321FHHeUTBFzusMgii9ivf/1rO/vss23UqFF+bgRaftQHftqSRX2Re6pTTuypPjNljzCBQCBQGQiE4FEZ3yFyEQh0aAQ0MKAQmPkxoGAwITcGn7hrAIr76NGjfctGuo3qZz/7mZ155pl+U5UHzg080rTkL70pP2im5694Qp85BMA3xRhhkRWPVOVpUr8wty0C6beakZTLhWMyQauLxEX7Z9WDhwoRPvVeyG677WbPP/+81xPVBcVHGJSEErlLn5E8Bm0gEAhUJgIheFTmd4lcBQIdGgENKCR4SNgYO3asDR061A4//HDfnsHe8OWXX963VHF49cMPP3RhhfDp4AN7OqjJD0Ty9jx48pee9w/7rCGQ4oqZb4f+8MMP+6w3sac05eyzloMI3ZoI5L+dvp/cpWvVIr+K8fHHH9vw4cPt73//u2299dbGGS3Oh+y55552+umnez2ZNGmSF4E41PZVj1qzbBF3IBAItC0CIXi0Ld6RWiDQ6RDQoEMFY7AggUN+V1xxhb9ezawnwkafPn3shBNOmGYLDuFQhEnj0CAGPw1slJboUz31K2dWnsr5hdusIZBii5nbrNZaay2PNO+X2mct1Qg9KwjMzHdIw8gsXW2fPNF2ZadNq43jdtNNN3nd0EoIh9T/8pe/+HkglYfwEkjkFnogEAh0bARC8OjY3y9yHwhUBAIadJAZDS5wO/fcc31mE2Fjttlm82s4//GPf3ie8ddgpJxwkcZZEYWMTDQbAb4dg0tuHlt33XVL3zuNIL5vikbHNvMt01++NLRvlM766NtTRz755BM79NBDS1ux4BM//elP7brrritFI3o5pPbULP/p6TMTZnpxhn8gEAg0D4EQPJqHU1AFAp0OATpfDfwxqzPO6ykNIMhf7rgxsHj11Vfttttu81lLbrnp27evDyA4HM7MN3f9K3yanjsm/+SndBKvMFYgAul3SusEZt5b2XbbbT3X+q5Y8AvVuRBIv69Khpu+tepJfgVE4bhg4pFHHrHTTjvN9ttvP18hhYdw5uuQQw7xLZqfffaZR60wijPVU3M+Hwond3TR580pTZgDgUCg5RAIwaPlsIyYAoGKQyDtVPOZyw8IoNU5CgSJ/D38WpWARh34d999Z2yj4g7/nj17+m/BBRf0bVRvvPGGJ6l08uk3lbc8bdgrE4HGviHu1J8tttjC9/GT+8ZoK7Nkkav2QgDBRDyGa5hPOeUUW3jhhf29EF2pfemll9rXX3/tWdRqChaZqWvwHQk5+Kn+EXdjPKm9yhzpBgJdCYEQPLrS146yBgIJAuqI1Qmj46ZOG1I6buzo+I8bN85uv/12O/LII2277bbzQ6IcDt97773tsssus5EjR5bdTqG4k+RLA4HULcwdEwHVJXKvuoKZLTOseIUKBJpCIK0/4kfiQ+ishjz77LN2/vnn+/W8rKjyXkj//v3t6KOPtjvvvNPeeeedEu+S4KI4SBuz+Jn4EW78QgUCgUDbIRCCR9thHSkFAq2GwPQ6T/lLV0bUyWPXigadMz+U/Ln+cpdddjEeCOMwKPoee+xhTzzxxDR0DBBIQz8882nm7R5B/OsUCKQDOuoT16ged9xxnaJsUYhZQ0DtXrpiy9vlnuriSdDyw85NWQMHDrQf/ehHJZ7ERQY8aDhx4sQS71L8Wg1J41V8qVs5s+Io5xdugUAgMGMIhOAxY3gFdSDQIRDId5Tl7LgxUOQngUHCB4XE7fLLL7cll1zSO3a2Ocw+++x26qmnTtOxM7uIUhrSBZTSSGnkF3rHRyD/vfWd2YaHkEp9KUfT8UseJWhJBKgjaT2RGR0eghKvwixB4ssvv/R3f1ZYYQWvb7ol68ADDzS2e4qOMAgs8LXgSQ5n/AsE2gWBEDzaBfZINBBofQTSjjtNDXf9cNfqxueff+6Hw4844gi/5pKXw3nYb//99/eXh1nd0MwjejogwE5nnsab+mMO1fkR0PenPrzwwguGsHrxxRdPU/CoC9PA0WUs+u7SyxUcv5SPYEbhTp1CSWiQLj/0jz76yG655RY76aSTbPPNN/ftWGwF3WeffVw4efzxx0uTLNDr5xE34x/0KOnNCBIkgUAgkEMgBI8cIGENBCodAXWWqU6nrME/+adT1kyfOm/p6sCh43pL7tP/3e9+5+9rMFCcf/757fjjj7dXXnklOuZKrwztnL/8AEx1DH3IkCE+A33zzTeXcpmnL3mEIRDIIaC6Ij31zrvl7dCqLrJqu8oqq7gQDH+bY445/FzImDFjnL+JjjDEww83mdO45Z6GSfMV5kAgEJg+AiF4TB+joAgE2gwBdXLSlXBjdgkc0OVpcEP4yHeS0LEN5pJLLrGVVlqptD1hkUUW8ZUNOmRUekDTHeJfIDAdBFQHqXPUL7a9cBlBqECgLRGgHqouosPLOHy+7777lvgdQsiGG25o99xzj2cNOvhpepuf4kGHl6Ln+SmBcZdKzU25yS/0QKCrIRCCR1f74lHeikQg7axSc7nM4q8fnaB+osVPqxoycxsVb2xwH/4222xj8847r7Enmm1UvLHBtpjvv//+BzN9Skdxhx4IpAhQP/JKbmzZQ/B47LHHSvVVtKKRPfRAoKUQEM+SgKDJF51jY9LlwQcf9Cu/d999d1t88cX9gPp6663nKyF33HGHafIl5a2Kj/jhr+i4NVaXG3NvqXJGPIFAR0UgBI+O+uUi350CgXKdUzk3Cit39LQTTIGgc5WaPHmyvf766zZgwAAfADLD17t3b9tpp53spZdecjI6Za2aEK/SwE0zfHJTvKEHAuUQSOsJ9XPXXXf1eseWPamURm6hBwKthQD1UJMwpFHOjjvC8aBBg/x6cN4j4ja27bff3l9PnzRpUul9I8UBb5Q55bnumPBq2dGj7qdohLkrIxCCR1f++lH2ikBgeh1S3p/Okx8KP82+8aDWsGHD7JxzzvHXorlmkrvueTn69NNPNw5WKpw64zQ8Zn7qVGWvCJAiExWNAHUFRf2See2113bBQ69NqwDyly730AOBlkKAuqUfcbLVCp5H/UQX/5MOLWaEjKeeesoPov/qV7/yrajzzTefH1Tn3Nu9995rn3zyyTRxaPJmRvIedX9G0ArazoZACB6d7YtGeToNAtPrnCQgPPfccz673KdPHx/osb2FVY1Ro0Y5FuqA6XQleOBG+HwadL6iIXDev9OAGwVpcQRUV1QvecGeVTa2toQKBNoDAQkW0lVHU15IvvDHD/fUjN+rr75qBx98sB9K11W9bMsaOnToNCshzSmf0m8ObdAEAp0VgRA8OuuXjXJVJAJ0PPnOJ+0UZZZOIWRWx4gbt1FdffXVvo2qe/fuPsBjoMebCdxdD63CpUDk08YvdUvNabgwBwLNRUB1SIM02aU3N56gCwRaCwHVRXSZ82nBPxFERMN140cddZStuOKKPsHDdizOyf3rX/8y/NIJG8UlHsyB9dQ/TROz0lG40AOBzoxACB6d+etG2SoOAToYdTLqfLBr9QE3zLhJ0XmNHTvWt0qdccYZvveYK2/pAHfYYQfDjTc2ONNBeOgVt2afZVeceX16/nn6sAcC5RBQPfrqq698cMY7MKrv5ejDLRBoawRUR6WTfmpO86Ob/SSEqC5zQ9Z1111nBxxwgK266qrWq1cvW3PNNf0l9bPOOstYhdbtWBI6SIPw4u0y593T9MMcCHRGBELw6IxfNcpUsQio4yqXQXVI+GFGaOBg7m677eaDOO6fp4PbY4897Mknn/Qo1DFigT4VNDTbVi6tcAsEWgMBDaI++OADfxdmk002KdXJ1kgv4gwEmotAY8JFY+E1gZMKCKw0y51w8F+p8847zx9c1Urfwgsv7CvQbDUkbaUvs3i8wstf9tADgc6KQAgenfXLRrnaFYF8JyI7nQ3mVJcZ92eeecYPh3OwkYPh/Lbccks/HM51uF9++aWXS/Gh60c8aVy4y96uYETiXQKBtE4+++yzLizzboLcuwQIUchOhYB4K4USf5VZAogme2SHR996661+dfkGG2zg7WDllVe2vffe2y699FJ7+eWXXXhJeXNqzgMY7SePSNg7OgIheHT0Lxj5b1UE8kw/by+XeJ4mtdPB0FHRSWFGcSaDTmmeeebxTooZM65yHDlyZEmogC7tnNI4MTdmT93L5TXcAoFZRSBfx6jbDz/8sK94nHjiibHiMasAR/g2R0B8WgmnK8vi26mb2oCED3QU+sSJE+3GG280DqRrNWTZZZe1gw46yN566y0lMY2u+BrTpyFOLNDnwyTeYQwEKgKBEDwq4jNEJiodATHzpvLZHBp1WtDylsbOO+/sb2vQIXFInDc3EETUcZEeZtklfBBeM22YU3eZCZuam8p7+AUCLYkAr5VTp7kAoTntoiXTjrgCgZZAQPUWHioFH07t4sFyUxjRy138+/777/cVbNoGN7717dvXbyRkNZsHXFGKQ7riytsbc2+MTvShBwLtjUAIHu39BSL9DoEAHYgYuszY+cmOzg+VdlC4jR8/3rdR/fOf/3ThYvnll/fHqljZ4CYq3tjgALmU4laauKdm0YUeCFQCAqqbqrcIHAyuGGiFCgQ6AwKq49MrS54ubyc8b9vwejrvK3H1+XLLLeevp++44442ePBgGzFihN+UpbDqVwiLW+qOOe17Uv88/fTyHv6BQFsgEIJHW6AcaXRYBMTgKQBmbiiRGeFCP9FpZksF5nD4fvvt54Mwrl9klovOhRtR9L4BYdNwaSeitBSfdKUne+iBQCUhwEFbBI/333+/lK2osyUowtBBEFCdlV4u2/KTXo4mdYNOggR8Xy+fswK+1157+SoIl4jw+/nPf+6PFqb9gw60Kz309EfcspNuak7zEeZAoL0QCMGjvZCPdDscAjB/mLg6DcxSuOH//PPP29lnn+37d7njnaX0LbbYwmexOHDITJeEF8LovEfaOcicxq90yrnJL/RAoL0RUP0cNGiQ9ezZ01+CVntp77xF+oHAzCCgOt1U2BmlyW/Rou9QH8LqOC+k049wo+FCCy1kiyyyiK+MHHfccXbffff56rjSRJdgorYmvak8h18g0F4IhODRXshHuh0OAQkeYvRi9ryfce6553oHocf8eL/gggsu8DLSyagj0GwVHgqfAgEd9OpUUj+5SU/9whwIVAICqpuHHHKILbnkkmXrcSXkM/IQCDQHAdXnxmjlLz2lw60xd+hY6cBffYN03NQ3qM959NFH/cIRVhH59enTx88HcntcXqVppuY8XdgDgfZCIASP9kI+0u1QCMDAxcQ1W/XCCy/Ynnvu6bNRbKFiaXzbbbe1d9991zsTOhIto0un0IRHAFFHg459ekJJhwIsMtulEWB7Ibf4oNRuujQgUfgOj0Bj9bgx9+kVWH2ChAvFQ3+gPka6BBH8OAPCSjp9DquKiy22mD8iq5X0tG9RnNPLS/gHAm2JQAgebYl2pNWqCDTGZGHWqZ/MMHP8UKkuf7njRyfBo31Dhgzx12o5HM7r4dttt50dfPDBfm/7N9984+mknUSrFjgiDwQqFIFddtnFL1Ege2l7qtDsRrYCgXZFgDaS/pQZuWGnH5KQgp1tveeff7795S9/8VfTWQVZaaWVvH+69tprfQKM8Gk/h11KZqUhe9oXQit/hQs9EJhVBELwmFUEI3y7IpBnimKeaaYkCKRuvEArxQyRZpak4wcD/vjjj+3CCy+0xRdf3K+9ZZYJoePKK6+0cePGmeJRhyCmrbhDDwS6EgK0P4T0TTfd1I4++ugYtHSljx9lbRUE1Kc01rdppXzMmDF21VVX2RprrOHbsdiSteKKK9rxxx9vo0ePLm3fSvs4zIoXs/pKCSu0ZflLn5lCKqx04kjNMxNnhOm4CITg0XG/XZfKecqkUnNjIORpxEihFyPHLWXCcsftzTfftN13373EwNlGxUE/BA7OdIjZK32FFeOWe+iBQGdHIN/WsG+44Ya+/YP2kPfv7HhE+QKB1kKgsbaUFxqGDx/uwj8TZfzYmnXAAQf4G1HkjXbJj35LfRfujcWPu34qW0qbmuUvXX7Sm0pHYULv3AiE4NG5v2+nKl3KuCiY7NJVWNmlp8xVTFaMFxqY9tNPP21cAfqnP/3JuI1qzjnntK233trf2Pj3v/9dulNd4Ugrz7iJi5/SUH5CDwQ6KwJqYyofdR832tCwYcO8LeRpRBt6IBAIzDgCak/o6Y+YUjv906effuq3YJ144om21VZbWb9+/Wz11Vf3bZBnnnmmvy3FLVrqs6Srb0vjwyx/5Rq3vCrnJpqm/EQTeudHIASPzv+No4SJkCAwtNJx2mmn2VJLLeWzQixNcxPPZZdd5mQpk5RZKx3SYcSY5Y8O00bJTWmGHgh0VgTydZ0rQF988cXSQKizljvKFQi0FQL5NoZdbqmuvo18yZ0+CTOvo3P+Y5999jFuYNQtWTxk+8QTT5RW8qGlb9NKivq7tKyKW7r8ZEdPzeX85RZ610IgBI+u9b07ZGnzzEt2CpOa08LJHR3myY8Hmm666Sb74x//aKuuuqpfSch+2D//+c82dOhQX9XQjA56/kf8uClu4hQ9bqKXf5qfMAcCnQmBtI6nZrWH2Wef3TSTmvp3JgyiLIFAWyGgNoSempV+2i+pH6J/kiKM3LWa8dVXX9ndd9/tWyIHDBhgP/7xj22JJZawXXfd1Vgh4WV1BJXG0kzjxqx85c2iCz0QEAIheAiJ0CsSATEzMdF05gUGqtUFMi/a1G3SpEl2+eWXl1Y12O8Kc73kkkv8wJ3iE+NGL6cUdzm/NO3G/MM9EOhMCKg9oNPe0LXyx4CGG3ZQjbWnzoRFlCUQaC0E1M4Uv+x5Xf7S5Y8dc94uOvS077v//vttk002Ke0AYEWEsyEffPBB6eFb9a/qkxU/8YgXqN3jJzNp6TKWNP0wdz0EQvDoet+8Q5UY5pZncAgTMDTcYWpiZmKIFJAXwnnUj1kcmGePHj1sm222sRtvvNFfU4ZGQkeeOc4oQIRHSZ/R8EEfCHQ0BKjr+pF3DS4ee+wxe+WVV2yuuebyItFGo110tK8b+e0sCDS37YkOnfdAvv32W+OVdNqxtmNxbosJO5TeIMGsto+ZsIrLCRPBR/2z+l35h971EAjBo+t98w5VYjExmJZ+I0aMsIceesjLAdOD5vPPP/e9q9xpzl3m3OKx2mqr2aGHHupvbOCPEr3izds7FDiR2UCglRFQO0mTwY12Q3vEnA4oaHvdenT3h81YWVxuueXs7bffToP/YGAyjWdYAoFAoM0RUJuWrkk9dN6vOvvss+3AAw+0lVde2eaYYw7bcsst7aSTTrKbb77ZPvzwwxIfGDhwoF1xxRUumKS8AX6hvrbNCxcJVhwCIXhU3CeJDKUIiFlJR7Bgu9Rhhx3mAx5uomKAgxszMxwUv/jii30VRAMi4iN8XsEYpWTO6/IPPRAIBKZFgDalNsYAhR+CPm1R7ZEHzkIFAoFA5SJAn0dbVh+rnOJO+6ZdS+H23nvv2SGHHOL9LS+nc0h9/fXXt3POOcdfUacfpg+GlrBpHLjxC9W1EQjBo2t//4ovfSowwOw0qOG6Ww6wrrLKKn4FLgIIh8fF6ChYykjF7MT48IMhYsesdERX8cBEBgOBdkRA7ScdVGB++OGHSw9tDho0yHOotqXsRhsTEqEHAu2LgPpD5UJ9odxlx19m9ZtscX755Zf9Fsi99trLll122VL/zBYtBJGvv/5aUU8jwJQcw9AlEQjBo0t+9o5TaBggwsTee+/t5zQ0k4o+atSoUkHYNwpj1EurhNEAB/dU4V7OTcw2pQ1zIBAITIuA2gm69npr3zbtap555vEZUELl29m0MYUtEAgE2hsB9YfoUmrj2GnDqR030eKnNr7jjjuWruhVP40wMnbsWEX7g3hKHmHoUgiE4NGlPnfHKyxM7cILL3SGJmYmnfc2UsZH6cQQGyvp9PwbCxfugUAgUB6BtE1hPv744+2UU05xYs2OpjTlYwnXQCAQqAQE0rYqs/Q0f7jJffLkyf7oLtuslllmGdt///3tjjvusNdee837aCYCUemEYBpXmLsWAiF4dK3v3eFKC2MTs+IV1pEjR9q9997rwshVV13lTI3BjQY4FFDMMC1s6paaU5rU3ByalD7MgUBXQ4A2Uq6dfPn1VzZmzBj3o+0yOZCn0yxpV8MsyhsIdFQE1Ialp+WYMGGCb3XW2z1q8+q70VFq9+XiSOMLc+dGIASPzv19K7h0bH+adgtUucyKgcGo+HFdH0qMSwIH+03lpnjy9um5yz/0QCAQmDEE1NbQabMaaMguf2LV4GPGUgjqQCAQqBQE0vZMnmTXlkvZNSkIDe1e/XWllCPy0T4IhODRPrh34VQlcEhvGgqYFT8YGUxLSjMpcpMu/5bQxTxbIq6IIxDoKgjQbrI2y+UNDEqykkd76io1IMrZ0RFQW5VOeVJzufKpnxYt9lSpj1Y80lOaMHcNBELw6Brfuc1LCVMRY3G9oWDGzxAiECAyvcEYnGT2bAVkWmZFWDE06RI6sMPM+Ck9pdnmBY4EA4GujIALGGrzDWaFWqNZFxqySx4yASTjAdO2964MWpQ9EOj4CKjPVV8tgSPtlyll2kc3WMEYDdTZ1MnEDAlNSEIx1SyUlJbbp56Fl3foHQSBEDw6yIfqaNmcymTqM4GjODCBnUwVMGAs7P0s7gEvMZKiPZllkdABDhI80hkUpdfRcIr8ni1c3QAAIABJREFUBgIdGQGfMlC79aadte+6hupSMy/UI4jQzEVIwybk1PcBOjIGkfdAoKsiIEEAnX5Z/XTqLmw0SYg94xIZP/BJiaIbLj4x4YYspFZMFY+EFtlD73gIhODR8b5Zh8yxjzmczzT4LGh9fa0zGJiM/4qlciaT8aMfzIV0yIJHpgOBzowAcwfF9koxswFH1sanDj4yAGjb2cCk3nlAQ0MIHp25akTZuhYCau/NKbXkCgkR2FOhJRM+6q2uodbZC3F7/IwXinwjYTvNSTJoKgiBEDwq6GN02qyIQxTMJk2ZnDGYpLAlplIcw/jWUHGmhC6MgUAgUFkIaLCh5srgoaG+1jOJW701GNsps5XONO/aRpG6hTkQCAQ6GgLiAfl8N+YOHX7iCfCJ1Mx0RE1DthULP62UQsPP43WPfIph7ygIhODRUb5Uh80n2yzY7J0VQDs6tU0K13QHRsaCGJRMO5OaOcT/QCAQqGwEsm2StGmaPZOTbkYIqS9YXQ1nsorntmLFo7I/ZeQuEGhBBBAY8sJIus3KGUVxMMBwgVUPJjJwZ3W0JGsUt20znRGqYyIQgkfH/G4Vn2tnHMVd3L4PXDMVDQWrLzA44eBpNihx5lJkImJMzqTKlFL+ZbzCKRAIBNoYAdq5ZitJ2rdPFYWOWg0QGsyq6xv8REfxRJcPQNLJhzbOdiQXCAQCbYRAuT675FbkEfARHxeYGXyDNVM2WTkPKc5BZtuyCcCkRqyYttHna5VkQvBoFVi7dqQajPjSaCE7QoqbdnRPrq0z+AZMpa6hPtvDWVx+deS04OEHUKdi6fs+p1rd5AKKHwzJeYQ1EAgE2gYBGjc/1+qstr4um7xk4FBs97R9H0wUBxoQFIO0TR4jlUAgEKgoBLK+O8sSZsYCuoeipoHtVtkYobpGIwedISsWwxlIrHpU1EdtZmZC8GgmUEHWfATgBwgdLI42FGqsvlBncJTJX4+3l64cYk8eford9au9bNiue9hDhwyyt4f/z4xLcAjINZzMfviEBkusWbrZwbPi2klxyTZbKZnKjEIIaf43CspAoLkI0K7ySm7u00BbZ5DAEmatt/fJX42zFy4bak8cMcj+86s97L6d/8+eHPxP++y5V3ylkz3c9YWafLRhDwQCgU6GgHiFioWdvtv7b3Zh+7Xb2QzFuNfetzevGWL/PfAvdvv2O9n9++5nr152qX026jmzWi6kybZrZXq2HSvvpnRCr1wEQvCo3G/T4XIGA5DCVFtf41svGmAsExts6AGH2r3LrmnP/3gpe2+uBe3N+Ra2Jxdc3O5cYyu78bizrX4K4kqtCyC+FavIlLimz7lTXbULJqTh/oWpb3go3XJ6mq9y/uEWCAQC00dAgn5NDe26+AoxkwzFw+RZDLVmEyfaDQMH2X+WX9+e6rewfdh3HvtojnntsYUXtdu23dmuHHSa1dc2WKE2BI/pox4UgUDlIjC9vpVxQF1NrdXX1vn2KF42r6svbqGiE5/MFbxZ9/7WfU/bkB13s2FLrGAv9fuRfdJ3Dntnrh/Z3csuaddttrm9dt8zZjW8C1RvPqbwXVdT/PIKOInGDKA1vXxVLqJdI2cheHSN79xqpWysgfs2KxcjsuXT1+550Iavupa9Pvcc9lXvXjZhth42tk93+2Lu7vbC3HPZTRtvYV8++5KvlLBVo64uW2etqS7GxEHUOp0WqTUGPxxSRZEH7FKN5Un+oQcCgcAPEZBggU/ahjiL4cJ/EkT+1ZOn+J1V1dXVvlJJu337nkds2Mob29v9+tmXs89mE2bvYTVzVdnnfXrYf+ed1y7ccAv7ZNTrpRfNk2jDGAgEAhWIgNp7U1nL02DXj3A600WvzXX65hOT2bmw+hqz/x1zqj2+zHL2+rzz2bdz9rMps/W1b2fra1/OtbA9MN8SNuzQo63Baq3at0cQI2MD+n3uzcsEDwzwsWxk0FRuw689EQjBoz3R70RpN8Z0YAtffPyFXbLDHvbm/D+2ST26WX1VldV16241VT2ttld3G9+nyp5ceBH735EnWz234CBkFGrtrddfsldee9VqOAfC7EYNh9JZ5ciWXIFPgyVnNhAlKmV6OOfzmJCGMRDo0giobUhPwVDbYuDADxrc+L3w3PP20UcfZe2woWDjP/zSLt12D3ttnsVtUu85vZ1P6lZlDd1o8z1sfL+F7X8LLmkjjh6c3W5VbLJKV7rSz9vlHnogEAi0DQLl2mA5t3K5EZ/AjwlF+MeLL77oPMPqaq2+bor3728++5oNXbe/fd53Thvfs5vV9Oxh1d17WXX32ay2qo99M8fCdseqa9mz995nU+jL6xuyrZqFWt+jzVZPPwmi86EkWLwhq1y+wq19EQjBo33x7/CpN8aA/NaJ4uGwV+8baUPX2dbGzT6nWbde1lDVzax7T6vr3tfqu/Wx6h5V9kFVld21zQCr4ZExvwFrsr39znO2+TZb2Na/2sGuu/5mHgXwQU92K1b2UmoKYGN5SWnCHAgEAuURaKr9aACBrsHDIossYptt9nP76IOP/WAoF9O9cfcDdvNaG9uXfftZXdVs3s6te3crVM1uVjW3javqZ1/3mdeGb7GjXy6hq3bJkdLP6+VzG66BQCDQ3giorTaVD3gG6rnnnrMll1zaNuy/sX3wyafu1lA/xWrse7tl0Ol23xKrWHWPvlaoYkzQ3Sb37GF1VbNbYfY+NqGqh7290CJ2+UGH2aRqLqWptTqrKfEMxgx+LrSYEc/XtPOQRZ/QKgGBEDwq4St08DyUZT7cvV1Hy2+wF4ffZ1evsIl9M1tfa6jqboVuPWxyjyqr7dnLpvToZVO6V9m4ueawG9ffMlsirS1YoaHaGgqTfXDyzKuj7Pobr7NjjjjWjvrbcXbZFZfb6NGjfZaVtNnmgSqXj3JuHRzuyH4g0KIITK+NMHCABn348OF22GGH2WmnnWYff/yxu2fvctRZQ129vXjHPXb9muvY57P1sboe3by91/foZrXdqmxKjx42uU8f+677HDZ0w81tYnFScnrjg+nlr0XBiMgCgUCgSQTy7TG1p2YiwX7HHXfYwQcfbP/4xz/s4w8/cQGByyVcIKmrtULteLti38Psf4uv7pMVharZrLZHlU3pma2S1nfPxguc9zjnd392vjHJL7PILrSoM1Zh2WPF1q6pWU+MUx3DVBEIhOBREZ+hY2dCMxowGczMiPoyJ7fdNFTbOy++bv/qv52N6TO7Faq6W023bvZ9r+42uVsfa+g2p03s1ste+9G8duuv93OmxOU4bKeCoTCLMdmmWF1hip/xqK0p2H8fGGFrrrmm/eUvf7GvvvrKwdMWkBTJlAmmeUvdU/owBwJdHYG0LYMFh0FpW2effbYtvPDCduKJJ5YgSmlZ4eSQ+TvPvGiX9t/cxvaZwxp6dvctE8xcTqmqspqes9s33Xrbh/MsYHfu8nvjWCiDA7VNIsac2lO3UsJhCAQCgTZDoFx/qbYvXZmBV+DGZOB5551nCyywgA0aNKh4/it7TbTUvhE6Gqr9wPiIy+6z+3/6M6uuqrL67j2toXc3m1hVZdW9ujnvmNi7t70y/9J2xzHn+J4qBAwWUtheNaUhO+fBxIevoBaljxA89FUqTw/Bo/K+SYfMEcyGA6hiKtxike2xbLCvv5pgFwzY29760QJW072vVVf18O1VtVV9rdC9n33fe257ZNHFbOTJ5/h2KrZsZAKHX1thU6za6gqTrFBc2eAxsurqWjvllJNsiSWWsMsuu8y+/fZbT3vKlCnZTIqZHzgnXzBDflLKo+yhBwJdFQHaAj8UbSS1I3SgdtllF9twww3tf//7n7ctaNSeONZZW5sdLEeMmPD5eLtit33s7bnns4lV3a2+qptNma23WZ/eVtu9h33ZZ257lLY++Gy/3YakdXBdcab5UH6ke4biXyAQCLQLArRD2qt+ZII+Vu0Td9rvr3/9a9t6663t8ccf93zW1NX6NAPCgYfxfdPZM4GcM//8jQk2fN1Nbfxc3ey7HlW+WlroW2WTe1VZ9Ry97LO+c9sTq25iH933jFVz+yXRcD4dQcdqbdK34zwfGcfyJOJfBSMQgkcFf5yOkjUxHvKLGQUjgjuwcoHbiOtutqtWWMpen28BG913Dhs3ew/7pncfGzt7X3f7+zKL25O33WEN1WzRqreJVufbrJjSqLZJVlf4nhGKMxreB4HhsMVj7Nixduutt9pxxx1nxx9/vJ1//vn24YcfZgwpYYjkQT8xyY6Cb+QzEGgtBGgTtAd0DfgROJ555hk7+uijbeDAgfbQQw+VaKBDldqQBAeuxLQGn2t45Nqb7dpl1rG351vQvuzT276kvffqY1/MNpc9vcgSdsJSK9tjQ+706UqiS+P0gUQxT0pHZXeeIkvogUAg0OYIiFeIb4hnoD/xxBN2zDHH2J///Gd7+OGHS8KJaL2dNxSstq7BJtfXW3WBfr7GJsJDas1u2ucvNmLppe2N+Ra1Mb3mt/F95rYxvee0N+f4kT289Kr2960H2LjxE20S6yfF0+SkywF1a8iu+GYLV/CJNq8WM5xgCB4zDFnXDqBGLR00YChiQO5eML+nv7a6zhqsxk496UTbtv8m9vD119iNv9nTrlx7Yxuy9Ko2dNkV7drV17Fr9tnfPnv+Gdttx51sx20G2I3X3GQcIB9fO9mfLi001Fld7WQrNNRkS7b1Yi7ZKovSZ8D01FNP2VprrWW77767PfDAA56v/Bcjj5pllZ/KIx331Cy60AOBjowAdZof7TXfBijXY489ZgsuuKD98pe/tM8//9yLqoEDFrU1tQ3aaUN9tbuzbjLo+KNt5622t6euvN2u32kfu3rdzez6ZVayYcuuZVdtuL1dcdAh9sUzL9vvdv29/WLLHe2WW24ptTPyJEU6/JSmzPIvpytP5fzCLRAIBMojMCPtRrTwDq2IMjHxk5/8xFdGP/30U99pAB3+ase0bZnZ0cDbHnTmtVZjH37ytvXfcFM7/ciT7f7TLrR/73yQDV3tF3b78j+zm1fpb5ftuJ1dd+Thdvctt9miiy1hW225ub362hvONwqTqv1cx6S6Oi7ZzR4xLRVz6iRJySkMFYFACB4V8RkqIxNiKmluyrml/pih0U+DB1YjXn7xFdt+p61s8IknZK+TFgr2wdOj7K5Tz7Erdt7XbtjrILv+qBPs03fetRqmMBoK9p/b77Xdd9vLttr2l/beRx9mUyHsuyoeRvNDZJYJHKRdYmZJpmB4l1xyia2wwgo2YMAAGzdunA+0oBUDTMhLA5/ULW8uh0M5t3y4sAcC7YFAU3Uz76dBBOc41llnHXv9dd7YkHCf5R477QdazOhZ24MBmL322ms2YMCv7KQTj7XaOiYM6u2j51+1m076h130233sql0OsIcvvcnbMdskamoLdte999gee+xh2223nb311lueEG1X+aOtyoxnam4OpjNK35w4gyYQ6CoINNZ+Jk+e7BCgn3nmmbbBBhvYs88+Ow0s8AcUPELxpH0vZ8JqJ0+x1197yX651cY2YsQDvojBv9EjX7NrDzzcLtp2Z7tmvz/ZC/+936/X900UhYLdf/+9tu7669iRRx9s3479xnc+METgx6qr0psmQ2GpKARC8Kioz9ExMpNv2LKjT5w40e666y474YQT7KKLLrJ33njTGQJLoDzSwRsdmOun8Gppdh93daHWD4jx0rmrhoK99dYbdvYFZ9kpJ59oZ55ymt09/D/27XcT/fYKVj6IhwlR0tSACB2lAQt+3Bl+yimn+LaRM844w+6//36bNGmSh1O+s0TL/09pZJZePkS4BgJth0C+Lubt5CR1w0z7YIDP4GDkyJF21lln2aGHHuqrDzorldKpPWkQgR319ddf25133mknHD/ILrvkUnv11Vd9pbK+UOP7rtnO7XMGGBiH1HINJnuyuXQCoWKy5+Wdd96xc845xw+un3766c4/vv/++1LbVv6lNwfdGaFtTnxBEwh0BQRoN/qVKy88gC1VHBg//PDDSzwDWk1KwB+gS/kFbvygYXv0pRdfYiedcKJde9G/bNzoT7n80qoLBd9GVcvBcQ5+1LGNqiY798nQoLZgjBHgHRxef+jp++3vp59iJww6xf55+jn20gsvI+oUr6wol/sfujXGJxpz/2EM4TIzCITgMTOodZEwGmDkG6EYDDDAXLCj2JqxxRZb2NVXX50glDEChirO0LIJUp8lzQ6fwypqfQsVA5KpN1EgVfBwR71NnPCtXXLBxbbGGmt53FOmcJleduOO8uZxJzOxygDuYoDM5O69996+Feumm24SyTS64iFMY+UngNKdJnBYAoF2QEB1VkmrbqKrbVKfpXD/8ssvfTsVqw0vv/yytxGEEZTiU1jZpUPDFqmll17arr72Kn8YjFY8ZUqNcYO2t2Ee9kraumYrC35XHWlAl62eOGGRl3zzzTd2xRVX2BprrGE33HCDb9vAX22xpiabnFCbJk9SMotW7qEHAoFA0wjQdtRu1I7EM+ADmGmbW265pf3+97+3Tz75xCOEVvS61h4PhcWsVUwmJQ866CBbbLHF7Pnnn8+uwIXn1LNKwdyEc4Si4DCVXxGHt3KcCtnEBQ6TaidafSEbe1R/X2P/t8eetu66a9uzz43yvOkfPCPNp3iH8oufyu5pJTxFcYTesgiE4NGyeHaK2GiYapxiILKrgWLHzHIrAwQOdjNz+tlnn5X2fqZgZMMDOIevh7qXhgzcjOPmogMaQgh/fkVecdDElqm7777bVzBOHHSCb6fSq8nkRXkkcg2alH/8+cFkxowZYzfeeKPn+a9//asLM+RbzAk6lMqIWX5KQ+k5YfwLBNoZAeqn6rqyIrvqMyt911xzjf3pT3/yFY4nn3yy1E4IowEGZtVz3BSeVYjrr7/eL3IYNmxY5l4UNOrq6Nyz6yyVPu2YfBWbcmlAobYNXZpvpUl6rLyQBtf3avWUd0OgEV1qVjzS1f6Vl9ADgUCgPAJqM/iqraPTvmjz8AwOjPPjDKUG7KKFTmZ04lOcCB3vv/++DR482E499dSiwKFdCsVrcH3rAjwnEyLIR7alGh2bcwwfI7CVyscQxZdHxQN0WxZnTC6//HJfkTnppJN8RTa96VL5UvkIn6U3daUHmlCti0AIHq2Lb4eMXQMQNUA1buz8YCYwHxr2Ukst5duXVFD80k7fm3CxHTtbybXpzJoJI1l60wonnrazHPhNsiJSMHv5xZds44039oPkzNqSLumLCZInwqsc6Kkf9NiHDBliq6++ug/I2KtOHCj8ZCYs9PwUn8oceiDQ3giojZIP1XPVdfR77rnH5plnHh9EaNVA9Vi6whKXzOi0dbZWsMLx3//+19uU4ma2UldlVlez9zsL6002ba8eI5nDUGzvyQRBmifSV/zkjd+oUaNs00039RVLbtxSntU+0/xipp2GCgQCgekjQBtSm4caO+2LSb755pvPJ+nUPmmXoqWNYZZd8WCHjskDtjmzqqrBP+5pHKxzcB4UtqC2nuU4EzYyjyLfEO9A6OD9jprqbFLD79bN0vR5DhccMvull17qB9//9a9/efzpNmvyIaV8yR566yIQgkfr4tshY1enrs5bdgpDA8X9d7/7nc9GsvwqxoM/ZvwVRno24MgYSOaWrHwwuCgOWPATfxF4MDRWVvAjfn5ihKTFisvaa69t++23n58xUb6hU/owvlQRpxRl+u677+zvf/+7C1IsB3/xxRfyLg2CSg5FQ8q48n5hDwTaA4F822OVkBWDjTbayJgNpE2o3krXgEFtBR1hA52OmgPgrDyMHz/ew4uO8lXXTvH2WleXXQCBXzYsKMoYRQvDCDcmnhihJ0+oNF7saqNqz7RhVip/9rOfuQBCm1U4aNTeVa58fE4c/wKBQKCEgNoI/Slmfpzdor3zdg+rFWnbUltV21QYdLZS4Q/vYDV12WWX9Xhwx199dinxpM37ikVRoMj8p44PxFCcX6SBi2bau3gEaciMN+mSV1ZrVlppJd/GqbEE/qKFTvTiH+4Q/1oFgRA8WgXWjh2pOnBKQSPEzo+D2hz+5PfKK694IeWPzi9twE5Q3IqRznJqVlRjEOhc8Cg6uObhGvywqu8B5TA5gxef0pi6kkGaKBjIc88950u6J598sm/74sEzGJHyn+rEgz0N7/koFOzRRx/1+8iPPPJIu/DCC+3pp5/2+EWPrnJ64vEvEGgnBFQPqceql9R57tE/6qij7G9/+5vdcccdLkDQRlTv0fkRTu7YNaB46aWXvJ0zY0lbVzilobaQvdOjLRppuyiufCS4lCYXim6yKy50/ZSe8kiQ1I094vAhhCpu4+IaYAQTtWfpSfJhDAQCgUYQoN0/+OCDzi+OPfZYGz58uAsSkNMmUdCoDcqu9ioawrE6yjlPtmnhThgU5iyOqds6FR98RKo0LigZ2IxdVCV5JMuTb9MmfuY96rIdCsRJ+8cZXXnkXBuXYbDlC77BhRYSrAiT/pRc6K2DQAgerYNrxcVKo5oRlTIMth8ts8wyfqiMGVTNEkCDEkPCrHSkz0ia5WjTfKT+xC8/zaRkzCZjOhx+Y+DF9aD57SGE1cAEs37Kv8qFOzM3++yzjx9Ih2kRLl/+fL5Sezlzmh6zOW73xLNZ4lQIKxc+3DonAtSDmVWqz3SuW221lW8/ZEVAcUpX3SUd1XPM+GN/++23/fAndZ62jlLcokNvKh4PlPAC2cvpxKO84a+2jJl05Yc5zS9m2WnrTBIwQ8uWMpT83JL7pzhzzi1unfmv2eJZiQg7PQI/FPSbW+SvvvrKeQaHxtkeJUUbUhvETLtR28nzBLZlLb744nbttdd6cPlDT1iFV3wQKa5Uxyy78tEcPQ0ns3iJ8qI0yQvq3Xff9dfV99prL3vzzTfdTWHdEv9aDYEQPFoN2sqJWI2JBqiGLzd0uZFjMQjMzICwenDBBReUBiEqFeGkUrPc2kNX3tEpEzo3bbE9g/MolIXbeBic4YdS3qXjzg+7dMwcbOVVdA6j86Izr6XDsPP02BVvPk65a7BFHuWWGfx/aUvKVIQz9/jfORFImlKpgNQNtUvVF9UndP3wYzsUe5kPPvhgn7FkNUB1V3Hk6ykJiYa4WCGhjdDW2WqR0ivdUuaSdoNb6p+aU/rpmRVOep4+757aZebSCG6rYzaTtn7bbbf5RRJpWYgXO5MlDEzAJ8WBuPL0+byEPRCoJATgAdRj8QnpvJWBO4o6jbvqNtufxDO4FpczVCi1JbUDwisO3PhhJ54PPvjArrzySt9OdfPNNzvfEI3oPNLkH+6Nqab8GgtTzl3xSC9HIzdoOB9K3872MvgGDyJKKY5yurBElxKd7KGXRyAEj/K4dDpXmIUahXTNCFBY3EQzYsQIP7TNNgvRdhRAyK8YgVZixCAow9ChQ23dddc1lpOZ8UBBhxIeaZllhmmjwIgtHdddd50/UMiqCjdrCTulSTiFlVn75okHOuVLdNrL6gmVtqi5Lf51QQRqa3mLd9rVBdUl6tuECRNc0ODQOINs6pfqFOFEi1ltQjp+xEEnyyvldLppWoonpXeC5F+p3iZu7WUkL8qz8kVbZ8WTG/c4n4IqR4cb7Zs2CSZSqVlueZ1hVONDqTx12AOBlkeA+qt6Pbl6SvEOqGzrEanRLvBHsQrKeYd+/fr55BluCqs+zgkTniG7BBfsjA1YWX388cdL8dNeoBGdeIfCt5WusjaVnmjII3wThU4ZKNv888/vW1RxFy4pPxCvSMuoOKU3lX5X9wvBowvUABqCGoP0tNhiTDSsc8891zbbbDPjfIQalZhJGqZSzCoPuhiDGAV5hEGgUjpme0477TS/pQfBQQoalRm3NB78sCse6DiAzoF2bv445phjpvFTnOjkS/EqTuLBnZ/iTMOEuWsjoHrCQUjVHzpGhGPqC6t2m2yyia9yjB49ulSHVN+ho84RNjUTVvWNtr755psbEw0o+REG1VZ1U/nxRJO2KntzdOIQZmprhGM1iIdDEUBYDcFP5cRfZU3dcMcuv+akHzSBQFsjQB2VSs3UW/EBdPzQmSDjZjhW7eEZ0PGj3aRtBre0/stOWvR5O+ywgwvzaRiZlQ/sclMeK01XXskXGGjiETMCGhMyO+20k/ONPK3Kgnull1N5rSQ9BI9K+hqzmJe0ceSjwg8GgpJZDIW93JdccolvtfjPf/7j/mJGolG4VPfIZnKgoLAtoavc6GK45JufGKDKISaBjhuHUpnh0IG4F154oYSTwqrM2MXIUz+weuCBB3wV5YgjjvCbM9jugjt5gvbMM8/05VzCY5ef8l4Wh6n9SlnvcOwcCKR1QGbqJnWEA9SHHHKI1xlWODjDwIFx6isvhUMvWuoVinC4yY4ZOuxcEEFYDljee++9TidaaERHPLKjt6aa1fjJv8ooM2VVucCD7WOsCrGdjNUdVixp6/ihoFcYxYV9uqp1oZlu8kHQdRGg3fB+Dqqew9XU14aCnTb4VOcZ9YUGGzdhvLdzeAYrf/AM6reHSXiE2rrqvNoC7YMV/n//+9/+fg/9GA/xQp9va8Sp9iTdE2rnf+Iv0smOzCpvigl+Gkdw9oOya6s2j5uyfVs8YkbKqTTbGY6KSD4Ej4r4DGSiGZ3cLOaVxkJDg5GgGMjsv//+PvOvgTLuaiDS1ShnMflWDa685hOhvPgxm6Fyp+URgyUcy8a8bM4sMPs+paBPGQxmxUvcYlKanWa/64477uiHXd966y0bO3asVVVVWbdu3fzNkNraqYw/zXc6hknNykfonQWBqW29qe9MB9+9e3evOwgK8847r7EfW9fIUgdRqkPo1E10/YQYdZBrojlAitKVkmoLCiv6tI7LrS118jOjirJo1lJhVT7hgjtunGnhSnDeAXrjjTdKgzHoUPCKZuWhmdmErJmkynrogUCjCFA3swf3skksCHF75513rFevXs4zTjl1sP34x/PdO4/uAAAgAElEQVS7EPLtt997XNPwjOL1tWlbl7/i4xwj/SGCOvGrPalt0N7kjh99oWjULzZaiDbyUF5VpjRZlVftXtuuUhrMKtPIkSOtf//+duCBB/oZzzy/yYcLe3kEQvAoj0sbuzKA0C+ftNyzQUbeF3vasMr540YDU+PCzmHpbbfd1g+YyT8fljCKWw00T1MJduVRupgE5ZWbypIyQzENaPjJ/sgjj9iqq65qAwcO9CsBKaPigUZxOSbc5KftGzCoQvbwUW19nd1111226KKL+paYbt2qfBC51lprO2T+aBKMvJBdE1zCkceQCrVWW2hg8ipUJ0IgG3w2GFdAZr+pb154+y8Ut90VzCZNrLGVVljVunXrYT269bT11lnXvvh8jKNBXaxrqPU4OEBKRaHO88NPOsSYOXTNtgFm61SPpXsdTuo39KkSXerWkuaWiF9xlNphUWhRWXBXOcl7Ss9AYoUVVvB972zLQhEu5R3ly5vxZeLSGyWNNdfsu+vGuvKxhWsgMC0C6vendZ1qo2+ut4LVesVqqCu4sLzsT5ezqqru1rt3H9tkw/72xehPnT9oXlNtQvGkbQE37KIZNmyYv2v17LPPitx1/NM2RRjFIz1tb9MEbieL8pVPHneNi0TTmK6wbNW+6KKLbM011/SLa+AbCiMa6Y25y/+Hur77D3XimvH4fphCJbiE4NHOX8GZR5GBZOaps5VZJctXwGkzDA2MAF3MAD21488PaZ6ZC5YNzzvvPN/zqTCKNUtzaucs90rXle+WyCeYgBfvd3AWhK0p7BPnnRAJLsK3vnbqVg0GGAge/BiM8MO82x67W1W3Kv9179HLfrH51vbsqOddsKixOqtjLpT7yRkw1ddYoaHGqgu1lsXcEiWKONobAepGVicQOmpd4ETo5CvX1rMCWWcN9cwWFuyz0V/ZWmv0t17d57Ie3Xpb96oetuH6/X2AQb1E6Kizequ1GrPagrmsWj91koB6xKrITTdkt7nxMCYTDdRd6jaqJdvLrGKbz0ve3pz4FUZ6U2HAEDp+4MHAg8HV4MGDfRsWbZ1bfsALngy9cCNeZpp5d4BBH3JfUfbz9sxkQWmxpmjGTfwAPUubCYZphbym8hx+XQWBpvt7oUC9bCjQV1R7BRzzyee2xhprWI/ZeltVz17OMzZdb0NuTHH/+lr4Q9bu1Uao05hVvzFznTb1nzHCkCFDfDIurfsKq3yU05tDUy7crLg1J03RSJ+Z9AirH1vUb7/99hLf4HV0ztHIH10YK63Ur7wZ3jT15wMDuEfJLUtf8XVUPQSPNv9yGWNRpfOZCBc8anxAogFKNhItVkAGCuSzUOez4d6JFcxqCmbcx8DAlfhQGhizVSDtYJ966imf2bvvvvuclq0WeVXKU96ji9mFJcUW44DJsE1lgQUW8AP4JaySFQ9uFPHvV2ToDGgQTFZbZXVjxaOqZ5V1n72bCyB9es9h777xjtMThuEo39Xq6s3qtQqSDRK7GPydq7hZs8wGo7V832y86WNOryxUMkYENVZfN8WsrtoOOHSgVXXvZj16Vlm33lXWrUeV9ejV0+68/a6sH3Jho8G+a2CGvs4aarLbWACO+sa5pVVWW9Ue+O99pRtbVKe1qte5QJ6x0ggLxys596ZtFhygZbWT196feeaZ0kCCB9FcFeqttmaK82LsTBDUIIDUF/kwnxNppDhgyJg3rTsTVrLvDU8vbosTf89ij/9dHgEJHxkQiKdFNpI5+CRVVu9q61jxrLeB++9vPXt3c17RbbYe1r1nN+tdVWW3/eduo6eva2B1JFNTJk22QkOdu+FCe6Cv4kG93Xff3bcQlfq3YhjGEhpPKEzRq0to4hnShQF2CW5cL/yLX/zCt2vz/heYpvTiLwLMxxbFCaNJU344HnP+IWLnJdkKeTa5AZMpeXY4Qwge7fTJqJAuK1CLfMiZ3T6RzUrADLItN76UqkFpIeu4PEQDnV29Ta5tYNLTY4C5ZDNqWaE+/3y0D5KZveC+bWZBqez8UGmjyPIzVYBpJ1gqItkUCzEV4cbAjUO5HFDlUDqPCr733nslLEvMRoOPunq7dchtNvKRx+2hEQ8YZz5Gv/We1X3LbFWd1dRO9LD+SagLMKL6bJtVB+YrFfEdKyETat18Wm+njCIYqSKAUEf8dd2CMYBAaCjUTbYam2R1DRNsSsN4m2STbUphitWyEoZMys4KFjpq6301bUr9ZN9y9dmY0XbWWWf5Gxa8Gsz1sRooqJ1TN9X2KwGb9sqD2rfaNnaZwUf+3PzD9jTaOTyUts4eemjhuFqx4Nt605UQwyy0f9sijy+w0pQJiT5D7R8/K73z69LActoBZ3vhE+m2NwJZ/+y5KHYC3oaTDiHbYgkbYTWuzqwu23JFvayur7P6QrZqzuTkpLoaF3pZUc0E4mw7IYIyFyzwhgX1m4sr0nOQ6vPUJsiP56O94WnH9FM+IVzEL/DjB6aXX365Y8q7IE888USJvyg84wjCKQxFghcwX+F9huQKrwrF8Zp3GwV/xT2jS+pJO2IyM0mH4DEzqLVAmKyyKiIqUPFHD0bNo7MqIAXLr85nNrx6ulBSXOJntaO4L1m0NAgeuONQ2Pvvvz/NYIPBBwoaKr1UV2cowkHYgJOwwk1YidngBpO+5IrLbdNfbGa7/PY39uGHH2YDjqLw4KMRDtuxUlVU9BFMj/rSNwMU36Obbf3g0+tz1zp7UajQOzICtC06FdY02VTVQLOrZ9BQsGpmG83s++p6m8z3p+l7r+KbsJwGgYVBQja6bSjKLTjWGVv1bvn3UPv5Zpv4Mj/hVW85Z0R9Ran+Rjt3OKb5J2xwFHYpZjLzKjPXke66665+nbHeWeHbunLWnW3Pgn8XNIjwT1DnWyidf2ef3+uE2H2p4YsBZDHG/y6OgARTweA1rVhpGuqKZ8UK1S6AwDZqJk6dZZ/gM5t0STVWU/udjymo6xMnZ2eZ/vTHgbbvvvuWtgepHUj4UJq4y6+r8o98ueGr4hXyE68Vbtj5HXroobbMMsv4liwmf6HHHUz5nq4zEV3kC/QH2XfX2C8bEvrOFo98qrvS6mh6CB7t9MWofPAFMRaGJuzZ9A6oNAKdusJBpfQwyq+PQ7KZjDoeGquvsSkTx1ttzSSv6AMGDPDXxtUYsv3K2YpGnrEoytCnIpB9nwwv7Y3XNjYxHKhhBnxDHitbYrHF7f/Z+w7wuoqjbUm2MS0JSYAQUr+EFD4SCH9IIyGdwBdKEjfJqpYLmGA6BAjFxt2427K65I4p7r3j3otkdbl33GXJ0u33/Z939szVsZD7vbZk3/M89+45e/ZsmZmdnZmd3e3bs5flOmMJkN7ag5woMQo+PCIzwu2TSXBxj2M+NXDA4zf+/k7eh5WPWoQ01jsRRjlQUAnwiOLBk2XER1vWetDyJVoIfG6gssopMxrCCtyA0yuqqQix4oYHH6r9ZpazZEsxfvyTe/BkqxaybSZpVgUEt5O8wVxKr8oLGisog1VvwkkvwoTwUdjx3u6Oxnt9r/FcdHvbbbeJa0pF5QmBM2cvnY4qmy+2YQMuuMTBisKE+RlFk/e2WphFwmGlQ9ESDutCwCYrKOFw3OF2uhw7TsGDGr4QIwWNlk7AUw1hKn5j8tCtd2fMmIH77rsPqSOGC62TZ7Af2Mc8Fq+8xF4VTWePu5bu68JI4aQ8ljBTuClcmYZr7N566y386le/wty5cwVkmo4PxA3z5qYjZv0e136S99fyCz6LxCgzqmYbZYlqhH9hxeMKIU0JmMXrOCgCCBUQ0Yb9YuDkVOlRF7C8cAdmri7FrPVlKD9UIes7jDuWC/A58emCuejZ4z3Zn3/VqjVC/BR0mBcvDbW59TEQ1il8fX46WWGnONOQjIO7T8lOVmQaHi8WzZuP97p2kwXpQ4cPw6bCLSAKRD2xFqadOOXE9q27kD93AQqXrsTxvYfEou0GffXd4KwI8xIlNIyQRg0B0grtkiJ2Wmt3KCjQIk4Nw+83lkiim/sUuJ0ebF+1AUVTFqN07mpw0Wi12wcHBWR+53Fj6adL0L1bD4wYNAKHDh4OuGwJXWpft3VlpVcCkvfX+qXw0NAOF8apQKCh/T3vlR9wvVzvvn3w1ltvYvjgASjeshleS4Dgmg/alQ97gE+L9mL6mgLh3cWf1aDKD1FAPZzFEjogLXCXMiNkhDF0rVNobftVJgjQqhgljdJKewUtEpw1PbHvM5QvXIHS6YtQvjYfRytOwOdyy4YV7PKHjx+TjWXe7dYVEyZMwL59PIvCHK5rp2+ledK4/vR9oA611btm7wgLwoehwkdDfafAUTgynge/6gY/dG8bO3YsDh7cb3iKr0byOwVg69EazF9Xgpmr8rA0fwc+qwG4woyzWqDB0uPkaNBor7DicYVQRyIUolXq4eJE2SHJA6fbwf1qUOH2Ysu+SnTsnoukPp8gpt90RPedirjuozFq9kZUeYHCwi149O8P492u78HpAWocRhMWK51o0rVTr1eoqQ2+WMHDOWp5pjQ6Y0XmIpqiz5zrQbQWlBTjX/Ft8PfHH0NxaYkIiIcKdiLj3y+jz98eR/qv/oyMB/6M9Ef+iU2jPgacPmPervLB7yJTO0elwq8bPgSM3i+0QRcqoSNxlaA6QnuWOF+hwuPA8R07kRqdhKzf/w3j7/0TPvjFI0h5rAXWTvgAHm8N1m0tQqsn/4k+77xrBiqOQpQdWEZdWrEElLoAUjrWsO77a/FZYVE3rA8W9jS894oZ0oOtJYVoF5+Axx9/HCXlO0HhYfPe42jzxnAk9JmE5IHzEdt3Itq8k4uMmWtxBKa7i3++uGXRKu2XdUB1UVlfPcJx1wYEaAFnB6dxSy6f8ZSQSVIqri5g97ylyG6ZiLEPPIyP7voLRvzqEQxKfgq7VxWB/pt5m7bikUefwLJlK4TGqFwojcl9HeH52oDspbVS+cCZcjnXe37HNNOmTcEDv/gNunZ7C1vLS8VY8dHyckS/m4POQ2ag4/uTkdR7Atp2y0Hm3EJUyIeW0UoY/5lq0LDjw4rHFcIPBxkyFVo0hEhFk+UsB6fmvTjmBTbtPoHO70/BUxlrEJe+GW1zyhGTXYaEjPXoOHge2r2dgvfTRmFTaRkctJj6zO4VHMxUaFULxvl0hCsEikZVbF04iuJhUyKN8mgW/jv9XhEry8q2YvDAIeje6Rl8+Jf/Q95XbsXBm27C4etvxoEbb8bOL9yBZT/8Hca2fREVuz+TbVKdPuNy1aiAE67s5yHAEZ6GbYtGhH5ElqB128xqsr9+VrYFk574F7Z86bvYf8NtONLsKzjS/FZs++I3sPzHP0NabFv0zxyOzSXloKXc6XPJ7IfH4wP38OdVlzbrVuZc7+umv5ae64NNfXEKE/LVgMWTUqCXM89+FJVuR49BwxD3ck906DsGndIWIjlzM+JS89AhtxQd09eg8+DZeKb3OJQfqYSLgqSs8zIzHmLR1ELCYRgCVBVIX6opUA2xlntVH67A6KfewNx7f4vir34d25regGM334K9N9yI/Dtux8SH/oaeic8ha/goHP7skLUNNDMyigzXjYnBLAzlC4bA2XjD2d6xIPIOO/9wedxYtHgJ+g1PQcKbg5E8bD4SMjYjLm09krLykZi5CUnpm9Fu+GIMnrZOjBrGYHHB1W4wH4QVjyuACqvri+JBqycv4S2cnweEsMpPAIlvZeDZ3I2ISS9C25Hb0SJ7O/6eWoiWGYVCkMmDZ2DFjmqcoOGDK1ZFwLF2tqISwrUf5yGQSKLw30VBgLiUHzU9y8pM6xTx4ZCV5Gaj/4rte5HVOgH5t3wVrpsigWYR8ERFwN8sEtVNorDthq9g8Td+huKUdJxwVcj2nBdVofBHDQoCpA1extBgPcmMBxUF44Hl338IH8YkY9HX/gfHIq6Ds3kEXNdH4HhEBKojI3Gi+W2Y9us/4cD2HTjlhPhy8wQQ7nhFVz9eQoN6Yz3Li/DfRUFAhQcN68tE1n5xMQ6Zt2AYqPT6saPCj8Ru2eiQuhTx6ZvQOrMALYYXITq9FO1yivF0xia8kLEUKVPXyIYCpA2zAkRzYWkmtr5yw3HXFgSEa/jMWkKOMaQ2jjH5qR9j3vfux67b7sCJyEi4ro9ETZMIeJtH4UhUBIpuuwuZbTphf3454HfA4eYaJMDlrAlseHI2+r62oHzxrb1QGOpaMZZIRwmu7+B85+5TQLv+kxCdugFtskuRMHoXYrOL0Sa1EC1S8hCbsRmJg+diw8HajUguvtZX9suw4nEF4E9C5WwHDwATr15yFmt3Rm55V+kDMuYUILHnh0gYtkqIsFV6EaKzS5D4wW5EZ5UiJnMTEoYuQfdxS3CUMi93tHBygp/3ZhnShXaIKwCKRl8kGYaICJYZijAnOjkw8EdG73d6sXLcFIx89J84/MVb4OIgERkBX2QE0CQCniaRqLz5i8hr+iXMi+9oTi1nLjLiNHoQhRtgQcDSN2otmNQZPMCKUWMw/Q9PovjmO+GMiERNswj5Oa5vIsKEK+J6zP72TzF5YKrp5+zj/hpU45TZojdMKpeFxuz81FiKZZparMbkuU6vT1wlRi7IQ1zX0WiXtRrxY7ajTWYZOo07iLjsHWiZUijKSIcRq/DqiLk46jcbpnMA8HlpKDKK5GVpULiQBgwBQ1uGHsxaTUoNcvkgHg5rXn8Hq276Co43j4Q7KgKOZk3gbX4d3BFRwHVR2HfdV5Hys99hxpAU2Y6bSgvplMMKaVkXRNcHBDut1/c+HHfhELDDVOEvQ7y15itr9npRLNrmlqH1yB1okVqE+MwiJOZuRUzODrTNKkHs4AV4J3sBqql+NmL5IKx4XDj9XPIXJDrdvUC3WhWjmZ9br/rEj69j7zHoMGgBkjPzEZ9dLjMcCRkbZQouIbMAbbPzkZS6AS3+m4ND1k4W8FbIQnMqIbzMwrRLrm44g7NAQO2SZl91M3XNuPyCLaiurgbcXvhq/Eh98S0M/vnvse/Gm+CKjIInsgn8EVHwRjSFLyIK1REROHrjFzHmz3+RGS+u+7MmUM5SevhVQ4WAfZAhPSidmP7uEZdK8gAqrmlvvIZ5//NLHGt6J/yR18Eb1QS+Jk1RExWJimZR8ETdiLVfuw/ZMc8BJ80mBvCdhM9fIZsQBNaO2IAhwoXtOXx76RA4Dae6sJSLw0WgM9scn/IDT3fPwdODZiEpewsey9iKNjlbEZdWIHy8beY2xGeXoe2I9YjvOwVH4BdlxQiD5kwGXVB86TUO59A4IWBXOqx7azCQsZ1Wcq8fHz/yd+z/4g2obBoJT9T1qI64Gb6IGwzvaBKB482/hEnf+QXGxj4nOyfSrY+KhyjNcq6QWXNmp2vCS581bJwwbNi1JmzVVZPGSW5E8fz7o5A4dDHiRm5Dy/QydBhVhoSUjUhKy0NMRgESskrRIW014v6bYdytGrHmEVY8rgB9CtHpGo+AguCTA+Xo43scwLMDpiDp/Vlon5UHKhpJ6RvFV7h95nokZuYhJmsLktLWoNXbo3CYB8/Q59hZabbPY55XoF3XYpHCnKn4ycYABgLzFy7ALbfcAh5AJiv+ncDQN95F/988jF03fRnOJjfB3eQmuCIi4I6IhC+iCU41uQGHvng7xj78sHHRMpNW1yJIr4o266DCg/8omLI/qjskLY2iiNBtwutG1n9fwsS77xcLpS8iAr6mEfCRLppG4FSzKLgjb8DyO3+KnORngGqXWU+AKvhx0minOpVyVUCucTSC+DM81pqqlsNdzW5VL/T9AE8NnInEjHy0zNqL6MwdiB2Rj3a5ZZCZ64wCJGblI6n/dByGETp4gCR5ifCTxgGCcC1DBoFaxcOYLKwDYSylwPAWYMoTj2PHbV/AoYgoeJo0hSPyOiCqucymu5o3wYkmX8D0H/0OY6K7yK6JRnexrJLkPfbzpVSRtjakCVnTwhmfDgFLUOPG+i8OGIOk4csRM3InWmftQlJ2ARJTVyMxdSXaj9qO2LRidEhbi5jXhgeMFadn1nieworHFcCVDjCkObWE0k+Ylksu1aCr1cdLdyG5+yfokL4O8ZklaJu5BbFZRYjPKUFsej7is/KQNGQBUmcUoEJcrbiWgKdhm/37A/legfZdS0UKzmTrW7Owf+7CBXjiH0+ipKzU7P9Ph1yXDxsXLcGIxx7H7i/cjJqoKDiiIuGPioSnaYTMgBy94RasueUOzHn2WXh8POm41vJ0LcGzsbdV+zaFA11AyJBWrZysXJSWlgtuubCTs5w8HDBv5gxM/8PjKP/Ct8VySZrg2h9Xswg4mzaBI+JLmH/3r7FgZLYIC7SIm22XzcYU9QqrZC7WoNbYYdoQ6y+824KvWRxuzmDitsfTV29DYrexIiS0zSxHq4xyxGVvQ+uMYrTNKpWZkE7pK/F21lyZ3eZ2qLzERZbSoWXdbojtDtcp1BCoVTqMm5U1kstaAN1q3+xKteTtt7D0a3fg6M03w0U+0aQJPJxNj4qAi65WN30Vo//wJD7NHGOs69wDwe/DuPET8J83XofLY9aAKq9iy9T9SnbFtOgy1C2+tvM37tjcSmbKihIkD5qFmMxitMnejdapxUjIKUdizha0zShBXFoR2g36FNnT18oWyo0ZbmHF4wpgT4UTFs0hR/o3pRCfE05HtbhfcNaj7+hZSOw3Q/z8okeWo0XuNjyZWYrYkaVol7oMzw6aKLMjDjpucYcKOXXMNMgaE69A6669IkXA5PmwPi/+0bJFYI2G4FlPMfcAC3v3xIbvfxufXR8Bx83XiwKC5pE4csNNWPPVO/Hx/b9G+fQZclicm1vrhpF4VRCTw+VEWVEx2sUmCkplQwm6VbK/s/M7gaX/HYCVP3gIe5rdjsom14tiynVAJ5o3x7avfgOT/v4PoQeu4iJpyOlSDgqrRhipV/m4KqDXMBvBrlk70WSEReKA6scRPzDww+V4avACJKeuQ0JuKR4ftgmJY3cgMasQ7YYvw7+HzcKk5XmyobKc5eGtht9fY043D/R7yzrdMEEQrlVIIHC64qGkIK7YqD0tm54R2xYtx8TfP4IVt96OIzc3h6fZdTJ7XtM8AvtvisCSO+/C6Jf/K3xDlFqtr8+P5ORk5GRla8xpfMQYSrTkQJLwTcggYNaJVgJ4ZchkdM7eBBosonO3oUV6Adpklsg6j07ZRejUb5IYKxq7YTmseISMmM6QsY5YllUrIDBwxsPtkB1S6GVDAWNVyUE82mUAktJWITarAK2zShCTWybbqz09bCb+M3gsajxmyp/ZBhaqB3hG2F/nDFgIWjQZAK1IVDpefPUVpKSnweHh+QxmxsLlcMp6Hq/bh32b8tHz3l9h1Xd+iJJm16PmhkgcbxqBvC/fjrH3/AJtv3s3ao6ZwyHDRs+goeiKZESFgBcNAg5HNe679ydYunQpuMVyDU8U9rtl1zlRTmuA7RsK0ePnv8fy796PvTdwkflXURXxFRR+5VsYec9PMPHt/8oMCS1jVaqTeoxuSho0/f+KNPWaLNQOb3GHsazDPPD1JIClxYfwyFO98MyQeUhMXYuknGLEZeaJj3bHAVPwvT/GYvdxw+/hccDv5ldO60DBaxKk4UYLBOyKh+nf2rl5vhfpjqyFW2gf33Mc7e/9LXJ/9xBW3P41HI5sDl/zm7H3+luw4PZvodf//hxHyvfIYcPcuIDjFJUKXuQZbeNiZYZDeZXOcuhzGCGhhwDZhuElbtkwIHfaEvzkH68jcfhKcaePG10kYbv09UgeMA9vDpkiO+GJ3MgPG+kVVjwuM+KEYAK8hdPqpgKcrvfLjhMusYSO+/ATdOjyEtaX7cOQT1YhecAUtOo7FS16TMYrGYsweUU+hqZmozCPp+U65ERLFzc6UEq+zO26VouTgQB+UTjeePst1Dg5/2TW3MhMCD3gOL09bhxefOFZ7Csswur3h2JyTAeM/t1f8fHvHsaCDq+gfOpClG0qxuDhKXB6uVkqlcaw4thY6UoH+K1l5fjDn36PCR+MEzqogdcIAA6POSzOC0z4YDI6P/ci9udvwZqBQzH68ZYY/dtHMfbBRzGnYxcUzJmN3GEpKFy7URaTmxNeuLDIAw93x+PuadbsaQBen4sIvAnfBBkCVDxElPN7pcd+MHEi2v37VazffggDJixDp/5TENd7Klq99yHezJ6PicvzsbJgG4aPSDHusS56eHMXPGvtT5DrF86u8UNAlALLFYpjPLdyHtBnIA7v2YWtq5Zizsuv4ZPft8RHP38CHzzcFou79UfJojWIaZuIVWvzzJhkbb3t8Rm37pkzZyI6Ohq7du0KrC0S+UGUG0swafyga5AtUDgbAdBYkrjfWLf3h2Pykg14b+QCxPaagOie45H0/kT0HL8Ck5YVYVD6GKzbsJb+FQ2yXedbqbDicb6QClI60QvMtu82pcNkTqsECWrd2hV4/rlnA9YNEiRnQI4COAa/rAHhIYNcz/HDb92Bg3t2yC4XPBGEg6BaQINU5XA2Z4EAhb5d+/YiISkRbq85JZ6DAi8uOKf8t3zlCrz8xn9Q4+P+6T5QzKj0e8UyWm0OITVHAfiBIQP7Yu/OYnhp/VSt9Czlh181LAhwQLH/aFU8ePCgddYD6YOO1nSP4qJiPz5dsxovPP+K6evW7OVR+HDADzmfx5o4gc/hwb0/+CEO7t0Dj6cKoFul+Ggzr/oVVNJe+AolBIzCJwfBygynF6vXrsLzzz8v+KSCSBxX+v2oAsRFgvc0KnAIGDSwP/bv2ykKJGfGyDW45sfgTa1Toax/OO+GD4Fao4LMglsnTPYfPAjz5s6Ez+8UeuKMO2mN26xSVqiRnS698NYAP/7hz3H4+EnDY7hdIi+fH1RAxo8fjzvuuANVVTzjo3anpfCsx+WhDGuiVMb6ESOGY8asmcIAXG6z6QTX7x73QmatWCNnjQv3/uSnOHziiMh5l6eWwS8lrHgEH6ZnzVG2vj604ewAACAASURBVCTzsKQC7mbCkyv5SAGCgknXrl3hdrpA9xz4KJmaQwGp45JtyJSpzwm/z4l1yxfhod/80ige1rpEMhCXyxGwYpy1QuGX5w0Bu0DJj/h8vOIE/vcn92DJkiWSj1q6+U4VkG49e8hMCJFs8jDoJz6JSw4t5ufF3j278OAvfyGWbV1kqgv+OBiEB4TzRtdlSag4qYsXPi9YsAAvvvi8VQ8qoS7ZQMLrMXNZFBDe7NMHxyurzCCik1zcp19cqswC9BouTnd7ULB2DR78zQOQHShc5uRsl4Nrwy5LU6/ZQthn617k1arwCe+2FIYe3d9F9akKw7O5INhSJig01vZz4xq3e+8e/O7B3woP4Bkgwt8DikfdEsPP1zQErLHD6XZh5+5d+NtfH4bPYfgJ6YpyAd38KFp4fHTvdRsjhxPYsGw90lMzZNCR8ccauzj28HrrrbeQlpYm90rrdfnZNQ37IDRe4apZ8ZkwlsME/cCyFcvxx4f/hBpntSCRciLNE8Qpt0GW9C7KfB5s2LRRPCzq5qXPjQF3YcVDsXUZQxIGhVISE/fj5sDlcntBJSQ9PRMzZ842uxpRprBtcyfEK2YPbr1rdrCC34MF8+dizJgxIFOiFcMuqLJZjYEQLyP4L6oohSFxwB8VjNLSUvzlL3/BxIkTjUDJGQ5yfuLI2mI3NzMLM2bMEBxzRoTMRBRMUTLNgEEhkxYqWWjsBRbOmI2xI0dJPixHy2P4OXq4qNaEP7oYCBD+9ou4ULpgn1NcMW7hwoX45z//iUOHDgXSkDZoTJDQ78HQ1GGYPHO6vCdtcIChxVukB1okafbyGEs5acPvdGLW/NnIGjcW3L2ZP+YlNGevWPg+5BCggcgYiozlmHx3RFoKZs+aBq/HLBLnicSqoDC9zHZR/TArhUURmT9/IUaNGiMbjJB+lIbO1AClQQ3PlC4c37ghQPzqjy3hPflKTU0N+vTpg8rKykAc34vCoU2WXRGr4fFXCS1yw5oBAwdjz9795kBbcbvg+jOz3oO86+WXX8aqVaskjs/K1zTLcBhcCBDGgl8Aa9aswatvvI6jlRUiv5Hn+13GIElzFRVLKhygJ4XPj2pHDTjjtWfPHqkU8Uh88cc8eWkY3FoHL7ew4hE8WJ53Tm63WXDMxWK0OnDGg7Lq9BlzkDIiQ4RUj8dYI2gxkwkSFXpIV9agJ4MaidLvR/fu3WS6zul0yrMSIglcr4ZOjFrPhhgSdsosWD929o4dO6LmVHXgEDcikUIgBUaGc2fPwYD3+0taZeQBJuI1FlO6anFVyEmfR6bKiWt4vOjZuxdOnKwIDA78PozLK0cZZ+o79sGbtaNgwCsmJsbQCxUDGhZcVEql68LndeP55zojddhgoRO6UXHWgrsyc+7TGBWc8Pocwhe47NhFunD7xUXn3d59UeXxo5pxPD/CR1t5fYOO4SFXDmpXX8lKBwwpDMig7wdmz52Dfv36GN9rP41CdJt1w+2yFpAr8i2QkJ3T6ERFs2/fvrKbIWe3Tzu93MgQ8oWWe/VBNNyis0LAogEqtrxeffkVrF29RsRRh89lzgbiCwqr6vFAnuOhWy/P+uGCdBcqqk/irrt/gOrqKqNUWGlJv6Stw4cP484778TOnTulHB2v5CH8d8kQsPdfhS3jeP/ee++ZMcLnFXdtbhxAXJKr0ygZ2G5bDE1m5vTYieO466674HAYzxbN015Re5n2+IZwH1Y8LjMWSAxKEEJ4XNfh9+LQkc/Qr//7MvPBAYlCJvfq58BE1UH0DSvUKpPYKNaQKR04cECEncLCQslfhVSWocKRfsdQ62CPC9/XDwE7rAjzkydP4sUXX8RHH30UUDqoaIgQYuGEfv39+vUTvDFXCpuUIulmY/zliDuu1KmBx+8QP13x8fb44HEDuw4cQHRcPIhPZSoM1X2LedrrVX/Nw7HBhEBdePNZf9IXfT6sX78ef/vb37Bu3TrBG+NpWFC3BvryT5o0CePGjpZT7cXVkrOU3A5bBhxrW2zZGtstggXpQuwO1mza3n0H0CI2HvsPHxNBlQKuWtG1vXXrqvHh8OIgoPDU0Ofxmr7vB44dr0DvPv2EFrhFMjf7oDJIwxAv0oB+p6G4Xglv92Pv/n2IiWmDstJCo0TyNPQ6/nP6HfOz319ca8JfNRQI1MVl3WexPNDtsvqUzEqMHpVrFF6/B1Q8ajjC0G7h4cYGNFu4RR6QGVJ6TJBOKUd4HdiUtx7p6akWPZqJeeVblBfKy8vRpUsXcf/5XD0aCsAacT3qwvTUqVN48fkXkL85T2QH8VbxcfbC8Huu2yEeaZwUfkHFQ1zpeI6LD3mbNsvmAFQaFY8KnrplMb6+OE1/ucOw4nGZIG5HOomEmqqhJjdOHD+MX//mARw6dFC2XpXTjmXPblrOjJrL783PqjCFWPpakCKpFbs82H/gMzz44IM4duyYpKWwY1c67HW4TM2+aooh7FSZS0lJwaBBgwxs6RJjmzbljlTHK0/iwd8/hINHDoMzV+Y7ay0HvbBovPKQebjNNCpRSL3E6ZfQdcrMiB34bD9+9atfgQyKM1m8xCf0qoFq42lIfX1H6cH0Sz+2b9+O73//+ygqKgoweZnhkr7rhctTg6MVJ9C//0CzfktWEnMbAeOT7fXQxgXQ358kImX6zIJj+m3LOQ/+Gji8Thw+UYlB/VMkjfCSOoJq44Fsw6+p4ldrKnhhn/XRUnwUDz74Oxw+csx67YOj5pQogsSLme+yD/q6GQBno3yorKoWw9LBI0dx//97ABUVFVpMwGihEVKuPoTDawoCQ4cORVlZidCMcfEzwie30JdZdq9fhFSxTVhri6j2irumNRNPgPXv3x/79u0T2NGwyUsVY9LX5MmTERsbK3Hy8hx/YZo8B4DqeU2YcTwfMWIEyrdtFTmCcYbrG74ibi6UAd3V8Hk5a+qxXHDJS4zbJmW7I0eOCE5ZjOKxniIbXFRY8bgMKNHOqSFlBBE+OfZ4PfjXE49j6pRPrAMAjQ9wQGGg9Ut+9NOgNGII02i4ZC1mgZJlDMWsWbMwduxYaRXL40/Xk1yGpl6VRQTwZrWOjJkXcSDKn3VPIYPK3t+ffAKfTJnMISGgrFBh4HtaMcQ67TMuMvKNlwtCzEZF4lMj64U5k+XG3Llm/Q7LU3xa1QgHVwACdWnB9EPj0vTOO+9I/2O1GK+XbBIhu8250apNaxRsKbH6P/unOddDFp6L9kka4ayH9bXbuONwdsznrwEd87grEt93e6u7KLan18mUe3qc1iQcXigE7HC030s+fuDJJ58UYU3xTb5NnCrPFfcXixTM94b5G/c4s30ucUkddMacuRgzdrzJmrzbqqyWq+GFtiGcvnFBoC6e+dy9e3dphFEWjIxAJiJjCY1YfrrlcEGyGfNJUzRgUD4Qo5VlRS/bWo7HH39c4gMEZrkOsxyOUw888IAY1s4Ftbr1PFf6a/W9womh3hMW7777rh0FgkvBL5Hn98LlrDFCgZfn/LhE9uMMFnGqs6nM5+233xbQKg9qDHAOKx4hxpKd0PSeg5NaS8eNGYt5c+aCCxFJUJqmNjSEZn9nqkyRtVa4sTfj/fffF59N5sGyGhNB2ttxJe8JO/2xHoRjfn4+/v73v2Pt2rUB60Jd+I4ZNxYzZ88ShhIQHGwNMUvFLGXShj+WRYwylPJEUDV0Qpctum4Rj4pLrZvGabytqPBtkCCgOFEY85l4V9zzmZs7sN+xXytOGM97ulcxfvz4sZg1a44ICYHvZbcamQL7nDAg1acSQmoSsqgdcNxuL8rKyuQEYk61a1ksR+8Zhq9Lg4C6NhJfevGesB09ejTmzJkTwLfSh6arLxScWLikcEFBgy4Whpv7xd1WXSeY1k5j9eUXjru6IECcK/9gSO+Fzp07ixuUnRZEfhAB1ZpN0zUbAg6jcBia4swI5VgjWzDP2bNnIiEhATWnHIGyhC45Q+Lx4OjRo3j22WfFlZjx9f2YjyrXVxcGgtsahR3hxXvikDPjhC9d2xgnyoSMA7X8mvEi89mqo+ycyqYonJYxUscBbjjAcpQ/adkmL1tGDeA2rHiEGglkDtalBEDi4LV161YMHjxYX19UWJu7YTbMZP/+g+Jy5XEb9xwt76IKuMY/IuzIYPfu3YtvfetbgjMVRvhOYcs4MhROiZ921SLIEh4DgSQLvNYbhtbWm6qXfPbZZ/jd734nLlf8iGVpHfjMOihtnVZ2+CEoECBs6e7GSwZ8i+Fr5twR5s9//vNpOFF8iCIAYM++vYY26JLtcZn1W25rK1wL5yLaqo7BzOXeMi4ofSi+rXDdujX49a9/fdpgozSpddB6hsOLgwDhqDAVtPj9wgdGjEiTzQQUzhpqmrOVZk9LQYEzp7RMc60e+7rGaR5hF0uFxLURkt7IO4YMGYJt27YJPWjL7bSoBgnLPBEYXALsQscSK4J0R1rLL9girj4cR0hrvPiOP9Iay+7QoYPwNH3PNIznTy9+f1p99EU4PA0ChCv7N10pf/vb34ohUeK4E6kNnqd9JIZom6eLvLTGAyshv2U+xcXFyMzMlLx0wbnisiHiJ6x4nI7pkD6REHixI3OLVVoyjh8/HujwF1u45qt5M+S5Erm5uZLlmQn7Yku8+r6zw5AdlVvVqXDPnYp4KBg7N9NpZycemZZx3Fr3mWeeOc1H+1KhxLy1jGXLlonvLRkXy9Mf3+v9pZYX/r5+CBC+vAhrXsQLf6QDWr051V1dXR2IF7c6Kw3TTZ8+Xfr6iRMnAvkozvhe85eX5/hjWn7Dumh9VqxYgaysLPlS3yntniO78OtzQIAwJkx5Ka5KSkqkr9t5t6Y5R3afe628hC9U4Fu+fLngU8smzhXXdTO4ENqp+234+cpDQPHHUH/ENe8pI9BtmrSl9MV+rekupvbMh/mT7mj0pFLD/BinefMd03Fjk0cffVQManxvr4fe2+vC+2vtqttm+zNhxkthzvsBAwaIbKFwU5gzzfle/FbT857l8Kf45DutB/PXtOeb/+VIF1Y8LgOUlci0qA0bNoiLBJ9JMEokfLbfa/oLCbUs5sv9vtUNQ/Ow52+/1/fXYlgXDuyoycnJAj++a9OmDaZMmSId2J5W7wnrbt26CTMn/ILR0Zk3BwBeSiO7du0S5sJ3jNPLnpZxWi99Hw4vDQLEp+KAOdFyRRhT2Xz66aclczvOFTdk+ps2bRKlg0Ilv2HIS3GkoUSe4U/TaKj585nl8se+ThcJrQffafozZBuOtkHgXPCyw5wHrtkv7aeMU/jb35/tXsu1509DR+/evcXNht/qu7r5hPFbFyKN/5k4JQ1lZ2fLGKT0pAKqnR4uFP+al9IT+cUvfvGLwJkgzFv5E9Pyt3//flGyeW82sYDs6si0mp+GCv0LrZd+11jDuu3VZ4WL8gcagqdNmxaAm+LBDssLgQHLIa9gOQzplvf//t//C8zCytoeG54uJO9Qpw0rHiGGMInDTohkIL169ZLOrkUrYeozQ/3GHnc+9yRm/ZYKDs+a0EvjNdT4cFgLAcKGvx/96Edo3ry5bFfHqVFlIgz5nh2deGPn5tqPjIyMANxrc7v0O5bHclgmaYcKDkOtD0tQ+mEaXhpeeunhHOwQ4DobDsSKi/vvv18Of9LBmmm1/ykOunbtGpg507x0wGEapSd9d7aQ6TVf0h8vpYONGzciMTFR4lTJ0bz0Gz7b7/X9tRyeDzyIL4UzD/uiUMg47XcKV8566f2FwFTpQYUIfkue0q5dOymHZV8InVxI2eG0DQcCpEX2XbrWUiHgpbTBe9KACpP6LInO8495K80yX5ZHYZjrPZi38g3G2+ntpZdeEiMLi+E5HzwcVfNh3Pn0ofOsYqNOVhcO9mf253vvvTfQn9lQwlhDva8LAHse9neMVxzYaYTuVp06dQrghGmY9kz52PO8nPdhxSNE0CaitXOzCH2mawa3rOOlRGHv5JpWEpznX31EpUxk3LhxspBJrRWa9kyEfp5FXtXJOLMQERGByMhICbmgXN2sCDeFHUMy7ldeeQVVVeZgJsXzxQJI8XOm77ds2SIWKJan9GWv07m+P1O+4fgzQ0BxSlzffvvtePXVV/Hf//430I/1vdKF4mDUqFFyZgfjGac/LUnT6fOZwrrptBwNlQ4mTJiAp556Sty+dFDSNFoHllE3vzOVey3FnwlOClvCjPikEEYFg8/88T0v/f5CYat40e80H4bEJ903VaFhOfb66DfXEp4aY1vrw5PGEc/aVxnHHw+UpEst3/Gn8Ww77xl3sRe/r5vPhx9+iI8//jgQb6cx3lMReuyxx2QW7u6778Yf//jHQB3qGsG0XlqOPl/tobZXcakh4zdv3iwyGBd/K79gfN3f+cBIy9G09me9p3uenDFmU2yYXt/XDTWvyxmGFY8QQ5sdk4hmuHjxYtACaidKZSza2S+1Opof81EGNXPmTBk0Wa4SvtbhUsu7Gr/nTjVUPKKioiTkfcuWLU+bhiY+uY6Gp47yUvwpfIMBl/oYBPNnuRSC9L2WrWVqvD6Hw+BAgIdrkRY4E/aXv/xFMmU/0n7GUPvfp59+Crrk8Fn7muKFod5faM3O9J2WW3dtl5ZlDy+0zKs5vcJTQ/Yl7cMaR9gSrtz+0o7vs8FFvz1bmjO9U1xquezrakhiHC8Nz5RHOL5hQUDpQUPWzs63eSgtL44nixYtClS+Li3qC3s+Gne+YX3fkrZJY7yUtjQd6/bLX/5SDHE0xnFctM+82NtxvnW42tIRVoorO78nLCnz8VIljWkVtnXhUDe+7nPd9Pqs6dRIwa3debFOdfHJtJpev7/cYVjxCAHEFakMFelciEhLBuNIDEqcSqzBrIbmaS+fi5p0S1b7+2CW25jzUpyxDfSvpoD585//XHznFyxYIIyWcFP8caEw/eoZp/EKb8V5sOBhrxvzZHnEJ91+WJaWZ09nvw9WPa7FfBSODB955BE0a9ZMaKNJkyYyGBMHxIcKhoQRrZWkIcYTN/xW8wkVDFkWL5bDwy15SJiWaacPvQ9VPRprvgor1l9xRpgynr7T7Ouapi4MNZ6h3l8IHOp+o8+aHw99UzrTshXfWtcLKS+c9spAQPHK0imE8lJ88p7+/3TjY5z9veJaPgjRH3fY5LpGKhmsp9IVy37ttdcCPI/jIpUPbinPS9Paq2Vvpz3+ar5nmwkrwo2yHe/pOskdD+nyzvf6UzgEG06aH2lHt9jlLnmsk+KTZWs9NL3W53KGYcUjxNAmEZAAud0md0oiAeil9yTSSyEC+7eq0ChxsSzec+DiwUDK0DTUulzLocJPYfbGG2/IwX2KH8JGmYl24Iceegi7d+8+jVEznf2bYMNU68cyuGnAz372M6mX1q1uedquuvHh5wuDgOL0m9/8pgzAHHiphNDf2X4xHV0a2df1dGDiRr9n2lDiRPNWH3GWzR8vO4/RdPa6X6v3CguG9nvCg890aeTsFvu6vleY2mGm7/Q7+7tz3eu3GjI98aU8morPfffdF1gErOXb6epcZYTfX1kIKG7tONMZBuKZlmqeA0RZgbjnxdCeXvMIdkuUN3AXK56mTfqyl8X60dW4RYsWgVmPnJycQD21PvZvNO5aCbXtdtxxvQUVNL7jT/Gtz2eDjeZ3PmnsafWedFNUVCTrSjSubqh1PVsZoXoXVjxCBVnbGo6kpCSMHz8+wERIAOzMOrDoQBKMqtiJyc60mHdaWlrgwKtglHW15kG4EUcKSw4G9uuTTz6RbQ61IxOPTEs81oW5/bsLvWf+Wga/tT+znPT09NM2D7jQ/MPpzw0Bwpy45QwXrX1cIEirpH0QIS6UZuLi4mSjAdICv+P3Z+rfdtyeqyZnSqvxWoaGnPWYNWuWZKtxfAgmfZ6rzo3tveJQYcp+zYWaI0eODOA31PDTspX3EHf8paSkyO5oikNN19hgHK6v4eM6Q6r0xI0hdBaBMNI1mby/VFyf6XuNZ6j0xhPSSW8ap2lUIaIcc+ONN4r3Buum313reFU8Khz4zI1geJGPKBzrptP0wQqV17Mc0hBlPm7LbC9f7zUMVtkXkk9Y8eBaK/v209YBXh4r0u/jaxKO5cogjMAc6lL7qZnFMNnw3mdOovUBH4wbj8lTp1jPPniZIS+fX0oggeiPhHCpxBA4/Zr5+zxwe12sDtx+CtNAzx5dUVnB6VRTB3lpO7RM2qANkzZb9ZUXcobyhdDXlU8r9TbVMPDVKnksvFu4s05+ZXKeJMqTXpWpEj+85wnUe/fvw+BBw80hcALT2ilW5q+41FLOFdqqV09Sg7MA7cmJpYZulI5SUoZh2ozpPATZ1h5+Z2g0gDHimN/LqYRC1PWUdw1GCVwE6xZs7HA093xbWLgFXLdhcEwB3iMwN/g2cONGDtOnTTInk1v9nDQjaS3cBR3C0nfJQyzFlMKAVXavHj1xquqkpSQxDQUKrYGhjMCjRJu+4IFFJzz81DodWb9qiOHZeObp7WMXMTNAwgsU1dZJnaZvWLzZD4yf8IFsIMDTxYls8lNexDmvunlL5AX/WfxVvrPxIp+1Wx0L8Ru3nMzsLEydPk3GEvbl2slzzUP7tdXrA4fXWu+t50C9AzcXXOlL+uCs+LItfmYhmlZDLbjus8YHPbRgFOCbpxVAuLK3mEugrjC1xncZX0lf0k+tMYf3PhqpPOKW2bnLC5g6bYYZOzj2yDhSO0sZurYaupAubskePJD01VdfxsmTVWyajHtsF5vFepC31DgdKCkpMvUUrimNC0BB+sppcGrID9p3WEdzL221VdkOf0Gv/NV+Z2DjhVcOhvWCm9N06fJvFJUUC075vRqZ7XnZigjaLfPnj/KKKCF+oFfvvjhVaTa/Ma3kwbVMZ2iNtH0aq6htWtDqVTejsOJhQURoifdWHwoggmONMH4PvH4Pqhw1glgKprxcPtMZDav3we9zyY9M5XjFCfTpO0CGOmbj8dgwGijQqkCQAmESZN7WQKlMo0bUJ6CgaAtiYv4pgrXP64AfDulwMpj63fCD9fcIYXLA9XmdctKp9ElmaylgQapu6LMRrmDxFCLV6nBANeCrgcvnhZPw8nqgOiHjeGkn9rjc0olrapy49yf34eTRCqCGQtzp6ULSmEB9iUmjuLqoSHo9oiDB50W37l3hprDo80BkJDZHmmwsLRR+DWfxwOeu5mgiCQKCVkgq3jgytXdDkoGgnjCXPsBuZJQ4h98Bdnk/J79cNCy4jYDvM8rm4YoKYfA+cIGmBz6/ObfDCIfs97a+H2TQGN5DemXJfritRhUXFaB165bw+NzwgD/AI4oQ4Pb4AukgdTUcgl2E3wv/C8DBDqUgVz6E2bH/sh1sM9vE9jMURcI8CU8nXpmOQhW/Ie/kOp1evftbtfMJHxSasBS7UEKEdTHVMBUz5ZLmvHin67tSJxEuyAdsOPWx89PQ5HfD4/Oatmub/cbAdRq4BcmnxYTkQa2w9lnCsxUkOLASqPVd0+s7DRlvNxDZ4/WbSwrPiGj2ZzNekq6EfnyA102cCVKkWA9lPD4LQ/ZDxlwyEelzXjmZfNfu/SLYq0JbW1+LHmsjgnwnFRVeRtriieaEH5Xbf7VoJfXWPkMweD01cMEDlzxQeTLtdsMpebByQYd/kFv8ueyks7HiRBBbS/RZMh3BIyBi+/yothij2PRksPDD7ak2YwHHWD9QU12BB+67B5/t3GUNJqbEywkXlsWf9B3Q5aoALZ74lyhBlGFdfoeMazJUuWhkckucV2jSGNWEID8HrOBFhBUPC5Z2/sL7AE+mgEeGDo81gNdq/0xT5fOD+1FUAqj2m8Hc7TLCyB//+Hts37FLlBMOBKLUiCBjL+0SkWnLirfsOkLk0jvIGE2dqqliePnej/i2rfDh2AmStoadhT/W3wc4rNkaMkwDBI9o67VKk/bGS6z35f6cQmMA9h74cAoe5wmBwSlLMHc6zGAt8HP5ODYIzsh8+O0fHvoz5s9faKzGjLPBPmTNYRlUCKlIWrik4iGDlNCUF5MmfYIRI0cJukipJ6uBU/CjgvRJOZmDBtFmKdAkDYscQ1btxpKxXfkSxULGGpcImj4nJXCLBuCTfiw0IR2JyrnV4TzAn/72f9ixczfcjkrA55bBSFAnRHJ5+gz5keFUKgB4ZMFo7tiRVLNxzOmXvn7K5ZOwilZ10oeHByKSA3hEMFeyp8BrFLDLQejBpRj2YRXkKDSwnQ4u/GQrfVTTTb8g7yP/PqX9xO+Bx+3EX/70Z2zfsccaByhRWgYZ7UtBrG4AutYN6yjKJBHq4WwL6cmFGo9DLOPZWaNA+ZY8/bgP0s95z+94VVdRsDU0QMOYGCmoSItwdXlo0apKINBdkGj5JV6ExwbemhvGqXKiygrf8Fu+Y5zilPH2e83KjneNC0VIYY2jJUPCXQxYomRYncrrg8vtRw28OGX1SyfJiPRDid1vjHu6+xBRTzzZLzVs2eMu5Z5lBGjttIxIbYbONE1s2yRsXFckbRMWRqG7ukZIiGMHDau8CG+nh6ON9az5SkGktQZ+sZ6spvQNtoE8gq0xRgvhgXDD4SGEag0ZlW6fjK3kG/wRt8xqzNgsfLpgLvxulzEM1tN8wiwUF/OtTwmn/JockyBnA1G+I68Q5dFSHCtdRu4T44zb0pdCU8VAs8OKRwAUp98EiMOajiJBktGxi5J5cNDevOswBk1cgS7DZ6LjgKl4NW0GUqetwqqyz5A68gMsWbbUspTRCmWEmVrmf3p5F/1kIxDesutI3TlocTpebBQQQqPywxkZj7sG//lPd0yYuQKj55eha9ZydBk4G10GT0G/j5ZgVdlBnLCYqcvvFKZqKfuBakoZtrIDLxrYDQVLEdotKwDxx5+wEZ8LLhHGffA7/DiyaxsWfzQOE7q8jHGtkvBx+xexZuQUbFuTj9FpY7Bm2Sp44YQDlajiFLtaSEPQZoKWKDQKg2iBFlM0UHnwvwAAIABJREFUVlviEe5TYkFzedx44Z138eG8pcicuRE9xq9Bx0Gz8cywqXgzcwGmrtpuBj8qmF63KKDEZ/iqhYD2aw4gpAmvnypbFZx0N3ADR4v3YNHgbIxLfAq5/2qLCZ1ewpKxI7ErvxDPJnbGivnLZEaT+dCtkQMXQWyEh9AKe4a+qZjWKh7CZ/wuuF0OvPxmV4yftwzjlm3EGyNm4Ln3P8bzA6bi/Y9WYmnhXhG8WWfhcfDCYwmtpo+T9hrnxfpTcOCsLS/2V1p2KQjm76vEqAWb8Fr6XHQcPA0vpc5A9sxNWFmyF6k5Y7F06VIzw2Xh0LipWbuUKY8NNlisPin8icKJGBvMzBnbIoql14P/vP02Ppm3AiPnrcN7Yz9FlyEz0WXIVAz4YDVWle9HJV07ROYjFXIWxAG/zym830hZLOHyXcZN1SyWl3bYdm2qrxZUPuxKhl1R0Xv7e8GzpZgwns+8NKyvjEuNkz5H7wZ6CLAs6ydIsmakT/iAGXm78PaYVXhm2HR0HjQdr2fOxqS1O7GhfD9iOz2LXTu3w+eqsbwkBGm2epvnS62rfh+oo0ZYMOJYQrhyZtxJ+yiVCUc1+vTojj1lWzBvSCo+TngBHz2ZhIkdXsXanIk4um+P8EnpFzI8GZgza4F77aOttIZ3K93M4nemb/DfyAhGuXIAbofMmlJgp4F57ubdeGf0Sjw9aBaeS5klOJ26shybS/Zh4PDh4kEhQjwNmgoPWxhKKBCPvDSk3cLp5XpDP97u9T6KDp3C6MWb8PbYFUgeOB/PDFmAHh+uRO6C9dhdUW3hP5Q1NHmHFY8zwdiyDnGgojBvhExDlCccbszeUIbknmPwVNoyJOfkIym3AMlZa9F++GJ0HjITWdNWiRMTrZ9k/PBWw0vmb80onKnYS4knmRud3fhKGKHHxLjdxqrJAaja7cNJ+NGx24d4MWsLnsnYisQRpeiYux0dMtbgqYGz8eLAT8SSdtLtEAZj/L5ra2e6VHAZY23uwbsjvM0UohGgyFQCMLKYI1FdPGcVPvz7Y5h2993Iu+Ub2Pal21H05W9gyXd/jAl/fhSrxkw1liohBk44e8FZoVANbqyaCBoKClEkrQFOlChanypEsOCrE/AiplsmnslcieTUNYhLzUNybiGeydmMpwZ9itcGTcIxL62kPlSJm03Dx502PbRhrfVV+rgwbYNXMUA6gKKFyzD+8RZYd8dd2H7711H+xS+j8JZvYsEPfoTMx/4Fx94TIqRKepkIsQhLcKZKYyhbQXMbLbDs/2bQFE5AYwe8OAYg7t1ctB+2DO3S1+Op3I1ISluHjjnrkNx/Bl4aMkmUD1HGA1ZxwuBy1D10cCEWTP80LqMcjOlQNmNdKeJ6f4C4wXPQPnMtOowqkbBLxnJ07P0RcmaukhlgQpT8glAQQcIS11XRC1XNZZbJmuFUy6vg1mMUWs7QJL+XiaT3Z6HLqC1oO2I9OowuROLwRWjX9xO8PGCCCEjiYunn2GNce+hmoVctbDQmNKHyR850cDOM1q1bo7y8/IyFUUnh9uU8tX358uUB33hVXvRD4vLQoUNyeCsP5OUzy1KBS8vV9MEMSRPMX2bQzbAi2Rs3a47xEF7bY9R0JA2ehZgRG5CUm492OYVIyMxH3PBV+Nerw7Cdyyg8LsBbJTiSe6uioax/ABYBAwPHMr+45zmcnF0zM70rJ07H5L8+iU+/8UNs+cLtKLvldhTceCfWfvtnmBydAByjVd9vpg7FA6CWX1yW+gcacvE3KgtImy1+IbiVNVR0S6a6YWbpqHS8POIjJA6ajnYj1qJdbj6ih63D09mb0HnQIrR5bjAOucWJ2xh6L75al/SlfdbDcDAjS0xesgmt/puL9iOWIS49Hy3S8hCdXYDk3CK0G7Yczw+eKuMAhy1zhU5GCCseCuMAsBnBXsRO5JGBnAMQX1Ow4NT1/hrgpZSp6Jy7EfHphUjMKkd0ejmi0wrRLqcYSSlr8Pywmdh13CWd2awfcIkllG4MSuQyxaflBylUpkip1XR+I5TIYEb3Ip8Tu0858d6oReg0dAkSR2xE/IhyxGfuRXRWOeKytyA5ZT06DZ6DiSu3ykBNZm7czSxAWEFjYS4BdUxmrzgL5BdB0U0hke4kx09gRtLzWHX717Hn5hvhjbwO3ogIuCIjcfi6Jsi79SZ81DIRB484xL/f76rhiCGuWGeDwdnenQvdrCOFDnF7oVlGeLrBKXHh95+C318plrIKF9B71AIkpSxEUvpmGdwSMooQn1qExKxCJKeXosOgufhoebm43Ii1UHyGzlWLq/+9ZRw1DSWfZWfnWiyPW2Y6qit9mBj/NNZ8/VYcbxYJT2QUENUUjqhIHGp+PRZ990eY9+J7cBw4atbX0EVPFEN2dFrcTY8PHSRZafZxllPLW2hgoML9mQvoMWoxkoYuQ1xWKWKyyxCdXYK2OeVomV4g/Cp+4Cx8uLRISEwUGOF9hueFrt6hzZn8msoC3RLZ/7nmhm5Ve6uBF9Nmo332BsRkbBZYtEwrRGxWAeLTNqNj6lq8NHwudhz3wOU2UiVngwhdg0laG4xKErQWWGOPCeiPY9yirPkK26wncMIN9Bo9G+2HLkD7nBLEpZYiNrMUbTJL0DazEB0zNuLpQfPw8dICMbB4xOhlFFD+1woVrH3oBAs7bDh+jB49WnaF485wTz75pDU22VOZ+7y8PEnXtGlT3HrrrRJJQYp9iiHz4owI73lAJ8/TadasGUpKSgLKh33W4/MlXHqMGWMt8JEcxIXXLBinkMpVk9M2liFxwGQkZaxH2+wCxGXmCX5aZRahdW4REofNx+up01HlcAKeasBdUysXWPRw6TWtPwcZl0gIIiOYTQxknZPlelNDZeKIA3Nju2DjLbeiotmNcDRpBlfTSHiaNMXhZtfj0+/ehelv9kXlgQr4OE3CvLQ4JbJAhL5oeCHdp9i/WWUZC7RLsI/7ToEmWvJRjrE9suej3ZC5SMhYj4T0LeaXRWWyAB3SCtBx8EJMWFEoM6oiV1ym/mWHqvYTDblRDttHhei19NlIztyM+MwixGWVISazGLHZpWiTXoToEXnoNGI5umbOwrFT5G+h5f9hxUOxZnUSE6jiof5+RIJBBqfpxy0sROLAOYjNKkJ01jbEpxUgJiUPbXO2oTURml6E5CEL0WfMLGFCXJzMXsk1IGRKIemPVqa0cIql0ur8tVZLDr5OUSRGfVqANt2nCVNMyNqEpJxStM0oBpli29wyJGWViGX0peGzRVAlY4XLTPlr5UPSBsVFMEOpqLFrSN3FkmFc5iTWB6ybOBmzvv8zVH7hFrgjI+CPiIC3WQQ8TSPgj4qA94ZITPzhTzFy4FjRYbhAkG5OdUbxYNZaBiEyDP7kkgFOiyCjrIHDfVKocmP5YSR2/RDtcgrQJmUz2uWWyUCXPKYcLYcXIDazHO3TNuK1tOni3wmf01rcqPld26EMxAoC0osIaw7B9ezxczH13l/C2SwC3iYRwE2RcDSLhDsqCoiMxJ6bbsG0nzyE2YPSZF0vxxoKjPTtJr2Ji4sovKHqMYY+jIpqNUJGURcoaKbPXIvYXtORmLEVrbN2oXVOCVpnF6JlbhH+MXIHWmSUoMOoYrw8fLYI5kaAoIit1nEdiRVAjSOk0sE1HeJ7TTcceEHXl9wFG5E4dCFajtiMxHG70DKjBInZJYjL2oq2ubsRTYFiyCK8/+EynKLeYc08iIBiKXahnfEwG5RQcGHfJy1xDov1oFV63bbDiO0+HomZm9AyjYrkdsRT6cgqRZvschl7OmVuwKsjZqJCZkgMvgxNGnety41BKguTJk2SMyCoULRp06beKrAf7tixQ9JRQfnWt74V8FlXK64qIVQ++vXrF8iT563w0nT1FhCESPZiwlKGVwrq7CY6c+Bzwulzie//2yMX4OlRRWibRsNkPpLS1iAxbQMSc7eidfY2EQAT+kzBys2lRpH1u0VRZv6n8aMg1LluFsy/9mfe6jDjoKAKPzaM/QSrvncPjtzY1PC6iOuAyCZwcVy8MQI7v/BFpD30f5g0OCugdBhZw8CDypmMt3ULb2DP7GOcCRR4WGOs2Pm4sY6vWvg3Z0nXlB5Ehx4fo33GZrTNzENyThkSMkoQk1GA6IxiRKeWITljHV5OmWpkPBc3rzGGi8vZZO0f7HO8jAETSJuxXmTSuMzNaJWaJ7JrQnY++Jw0apcoIPFsW+9JWFrA86kIk9DVPKx4KGwtIAdgbQ04RhNmrEM0X05z/ydlNpKGrUUrWppytqJjej7ap+YhLnsH/plWJtbEdikr0L5rjvjbGnWaqwPMWgtTpHRNLf3SQ6m4rmewhB6LSQpDECudW4SL1zJnodX7c5GQsx4JORuRmLMF8ZkFiM3ZguicPMRnlIoy1bHfLOOCwf7jNlYnrbuEAWBdevVDloPwPw4VFkO36szxguIVFcmP3+mOgju+j2MREcANEXBFNIUnKgLuqCZAxPWojojAwu/8GKO6vAl4nODQoi54Qa+3VT9SB5ctshyZfaPsITPgtPy5xYLrhkvwM2tNGZL7z0JSZiGSssplsEvKKRbm0iarGK0zitE+cz069B4n6VlnY9RunEJl0GFuxsrAwmqZE+Nia28Vxrz+PhZ//354o5rAHXEdqptEoOK6CPgiouCNiMLJ5tdj3nfuxvBX/oOTdGET4GoNdSYilHDWvG0DBS2wcIuRgevOYgcsQkyGEawTsorF9SNu1Fb8I2cnWmRvR5u0fHTqP0UWSZLG1Mgiw5Y1+6EtavChrX/TyMPFlLwotFcAeDVlEuJHLEPrnFK0yihHdFapEQizS/BEWiniRu1GfOoaJHUbKQKELAI2oqb8iy4ieSrcgw0Rgzv2e8t2ZAxJXHcEH6avLUNsvzkye9U6cztic7cimeNP9la0TC9DTM4OtMvegg59PpG+Tuu18g3CQsBzBWRCnoPz0ksv4Qc/+AFWrFjxOeFahW0KTD169MA999yDDz74wODOOgRTIa1CFZWUv/71r3Jegi5Ktysemqd+F4yQEBTFw3K3klmjgLXfI2NKhd+Pfw+ZhQ6jdyA6vVQUjw7p65CcsQaJmcVok7kVSdlbEDtwLqZ8uknwzDZRSa4VVYNDX1Z3CDS9VuGweUTI+lUzvlBh5++j17uh6Gtfw4mbouCIbApE3QJ/RBMxvjgjInD0xtuQfe9vMPK5N8RGYWjVMlYIfdW6sAYKb4A3xGdgjJVpH9NfZD0sjPGGKu30tSXo0G+2GPBoqG2TWgiOsVRCorOL0DqjHO0zN6Jjn7HCR8VgURf4V6j9XEj+UvZiRA9fCTE0Z+UjMTMPsWmbkJjKZQL5aJu6AUnZBYgZuBQfLi8OeU3Dikc9IDbEaKhG/mVKshJcaH3c70dyj48QP3y9DOYkOjL+pNRNiMvehn9l7kDLzFK0T92MFq8OEUFfBH9Z32H5T1plBpcuyag4RW/tOW9ZNcgkWQ5nLciUufAwvmcuYgcvBTXeNllb0DZzC+Kz8iXkc2x2GeIyChHTcxqOcGqbXMXF80AstigZUkAJDnOsBwVBjTIDEM1T6l1gdolhu2jNSPl3F+z88rdRE9UU3qZN4Y0wLjXOqCbwR1wPX5OmWPL172NYm0SZ6TD7dfvNNrxBrak9M0uJpKuOZTHXQUPQYe2iRsVp/MINeHrIQsSm011kK9plbDNuJDl5Mq3fMmebWDYS+0zAUQ4slpWuMVik7BAJ3b0RyAgWDroi2HBnKmc1Rj39Bhbf+QMz6EZeB0fT61ATFQVvk0hxPahqFoWVd34P/eKeEkHvlCxgtmYHKehZ/TBkda8zyAcGUVka70Ni9zGIHbQE8dnb0CZts8xydkjfIP7mNJxwljYxuwhx3T8SwdwI1oSExU+sFVHmOWStCHrGIrhTVLd2c6JVk7zs6T65aDdiNdpklonSxZmC5Iwt4vMcnb0drbNKkJi+Di1eG2GMRtxRLjBD6BXBULtPcCp9Og9lvTk7IxTJji4GB+44xk0+/JiwdAsSBy1GfEa5uEhwtiYxdTNiM0tkRotjTxL5ec8JYnnnVuHmHBJr+2epdIARBqcJ58hFrbBMpoepnUlB0P6ii8f5rK5T7Jd85re6Oxbj+GOclsM0obqYs25SICqIrX8znrIrBdXkPpNNn8vagZjsrSLoJadvQlzGFlF2Ob4mpizH2PkbQJ5BmqJboM4ahK4FxgCncDb0ZQnflCB8dM0BMju/hOJbv4PK62+Cs2lTuJpyLIyApwndrZrgaLMv4YMf/RopbToJfgTellzAcSWUOAgmbgUONBeJa5WlpAe2JffhlM8tfH38gjw8PWQxktIKEZ9WhsTMMsSm5yM6Jx9tskvEAE3cJvYZjxM03XDYDiEdnjcMrCU40T0+RmzGJiRkbUBc5kYkZhQgLrtYFGFVoBKyNyNu+AaMWpAX8tmqsOJRDwbtiocIfbLrw0mZ+uaMR+rUfCQOWCRIom8wLc1x6ZtlMIvO3YFWZCpDF+PttJlm2s3agYgLlehrXCsBnz7o1FOVC4wi57IOhQkoHqKOiFXF5fKI69SgycuRPGguElLXi1WcbgZc30EXjJiRBeKLmpCxEZ2Hz5LdreiyQF9B5m2/RMixRzTge2ECBLcwR9qljYX4hM+PJTmjsfr2H8Jx09fhjGgCREWBVh260jgj+IvAou/fgynd3gccbgMGt1kOEMomm0HIEhICeDUeXjJQiUUXWFK8F0n9pombSFLWbrTPKAenTWNz8tGKysfIXYjOKMC/R8zBUWv6VdznQjm6hRIwIciboKDQwEtgw9HXBazO+Qjz7/qpzH65IyKBZs2B5tcH1nnsa34zPv3xfZjaa5As2ue2A+zfZkCrHeRDUOVAlnY0yr0xP4pbXcr0dUgeMEd4FdeftUvbiE4Za9Fm8Aok5BajZep6EbTpIkABSMZKZiIKDfuJRX+B0hrJjdUGeBzGV9vrRCX8GD5lJRKGLMC/UtYjftxOxGSWiAARz7Uv6aWITl2PdinL8WbWbDMDRMcTUf6NsxWzDa7icTo8OfaoRV2YNmevxGjlkLFkaelniO81DfEpG2VDk5iMfPExTxq9HS0yytAqvQgJqRvRZdhsWWAuCoy4DtZYZ0jYeLgQy+nlh/JJFQb2DVHubYWpkKbKhb5ShULT81kvKiS8+C0VEV729xIRgj+pv3XIpsoK7HJmAxoas4C3s+Yjdug6tMzchtbZOxCTUyq+9fHZ5eLWHJeyFp2zl2Pm6mKZJREdU/Bh+mAoUcP6238EkXHrNTyQUF2eOQrrvvtT7I9oJgY53HAjPNaYSMPc8etvw4c//xumdO1vrDWEvTW8EiahrH/wUUq5if3cuFwRF+yDxCe3Ied2ucuL9yG53yS0TdmA2Ixt4lnAWYP43Dy0ySkCjXux2cXonDJHNvMwqLzyUKBKSYlz4MQ1iBu6BK2Gr0K7MdsQnVEkvC8mvRhxOeVok12K+Iw8dBi6DDPXlQr+QinfhRWPeqiY5CIMW8wBZgtaCoEceuhks/2EB88OmoxO6atl8S4X65ChkPCoiHDxUfsB01FwsFKQLgu7ZTtDLvg0zFIG9qBrxGRapyseZDBkCLRkUOmhPLXtRBWeH/ABOqUsQSIHroxSWatC6ydnPzqmbUCnIfORPXujnAdRw0V9jYyVKFqJy1p8WkIlFSj+6I/vASoOHMTMx6ORf9P3UNX0a6iJvA6c7aCVp+qG6/HZdV/G7N//HUe37zNSB/f093AxIJ05QnuJ8kGcClM0W6bqIEec8kyCIzVevDjoQ7HkckF50oh8JGXRCroO8blbEJtWjIShy5E6Kx9VHCADBwqGtu6NK3eumyGL5qJCpzlQ0gtUbj+OhY+2xq4bvoyTzZrhVFQEPNc1kcXlNVFfxLI7foDRScnYt61ctiJkZ5PdrfQAwcs1CFtGAXIX0geJnn1969Ea/GfoZDyVuhhxaRtlZpMLI5OzSxGbsRntMjfg6RHzkDl1pezEwoHKWHIVe5Y2po+NKBRhlXCh4O3jIVnAzgo3nh08RZSv2BEbEZdRLJY/znxQWe+YtgKdB0xE3t7KwGy16YOWVTSEuxIStMqrhN8Kn3IJXZqZED+OVPvx6qAJ6MgdrHKMkSguuxCtU/OQkFuKpPSNSB4yH7lzN6Na1vtx1oRrusyZE1cCfTpjUVfYra8umobvqEQQh6qM8F3dZ42zp9d8+S4UV20dzahozFgcS8zqbKfXhwmL89Bu8DxxeyNt0d2VITcCoMDKrUzb9/4A+ys9qKF5nA4/IhvY+ltoqh8AiWmHLgw3s0YEGWfW3Ac+w5THWqLkq9/C8agvorrpTXA3bQZns0gcb9oMRV/9NnLbdcKB7TtExqGMISqhxXsChTTwG0MjxKPp3yI/WfKfzGDxBHCfF0dq3HhuyDjED1sC2bglrQBJWfmIzdiA+JEFslA7fuhyjJiTB7rayRgrA8GVBQDRQSVq++Eq2XK7U/YWRKcVITqnVHa0ismhKzZl1zJ0HL4Wz/Ufi4OV5sDEUNY8rHjUA10iy7AUMgElSLN886STfsPAB4vWo93AiWibvkkWGLVK3SI+crQmth84Fznz8sXiyMFfmKW1QxEHvxDzkzrWDLNAkS4HPHmUC8wr3V5xq3imz0dIHroUSWlbZDq4ZUYh4jLWocPAOXim+ygc4+ZNrDdPZ66v0vXF1QPPKxlFPFIYE4HMgrwwXFoSqX9Yitqaj2di2m//D0u/9l0cvOkLcF/XDMeimmP1V7+JkT/5DTaOnyxrdE44HeIKIVkZI1uIm0ca1BaYNR+iRHLxmCgkLlS7nLJ7UULfD0VpbJ9TJK5y8dz1Ztg6dBi6Ep37jMNhlx8ebq8pWL0slQ8xbC49ezPwmHyELqjgsa/IeR5mHdD6j2ch+/4/oeiWr+PE9VE4dWMT7Ln+Oiy77WsY+0QbVB2tgv9UlUj8PDha1vX5DJxJf4aXXHpdz5yDoQW+J6XIhgTss163nFDOWdp2vUYhOWczWqZuQ5uM7WgrCyPz0XbwIiT3+QRHyObU5UBmOaznMxfaYN+QLREOFADJf8US7XPB6fLLmo/xSzfKNsLPZK+XRdrk3dzdhS5K3P1t3HwK7Ybf1+JOYWwTDIMKgdp8Dc3QyGDOiSAPZm/luZXVHg8Oe4D2fcah7dB14t7bJiMPT43ZJTNXFHYTuuXiAI/5EU8tI6yTJkS8JXCEb9e2LKjNOENmnJGgIsE+pjMVmlT6naUk2Ptj3dmLut9pfnW/V3cuzT/Yob085k24kt5E95d1AmY73fheWUgYOg/x6esQl5MPKoix6UXoMHw5OvcegwMOc2ivWMDMSGvlxFxr6SFY9Q+gPpAhaYAdX0yToAsxLzcVKADrps3C+J8/hMJbvg13sy/gVEQEPmtyI/K+8RPkPPFP+Hfvl4aLwiU0ZWhL4aNRklkD/QvU1VLy2SBCRZUO3ZG0xlktfSq5V44s0n5K1ncUymYBMcM3yhj7TJ+xOMJNykTJN8rkFW+25YpLl8tJKwrRrudMdEjZgGi6/Y0tQMuMdUjKKkOntC3o3HeaccVWxGkYgkaEFY96gFoLb+5+ZE7lpMWJwrfsgsB9ut1An9ELEdN3tuyL3Dl7g1g44t4bj1eGTsJBOTPBKDDyrSoeahmop9xgRWln4gBDsUeYohxAZVnP2A54MWNVCZ7uNxltu09Fp7R16JS2Btxpg/vA76k0lg822liZrNoJcILPFIPV9rr5sLrEmwpkZCoc48yPbfPITJbD6cPirn0w+7F/Yd53/gcbv/F1rPj29zDjwf/DJ6/3gLvahWPwitLJA3nkqlcbq1uDS38OWFxlcDICg8yAuB0yaLi9LhGUpm/ahrbvjEaHYYuROGyFbA3aftACdO47GTtOmI0NKMxQ+RTrfi2hX3olr4IcRPaxdqqh/MDtV6v8TjgdwJz+mVjywENY9vVbsfobX8Oi//ke5v3fo9jy8XSxpNOqTlqy5KfAYE5sGYyFEEAyaFI0NX2dgqoIE6RTH+D0ezEzbxta9vgEMSnr0CGrGPGDVyBu4GIk9/0I2ygAiTTKL6kwmf59mcg7KIAhz9OLdxSlKHizRabPU+hly7w47PXjvew5SHpvHDoMmYeOqauRNOxTxPScgOf7fyTCg/JNwkBzln6ohQQ9rOWppjzW2igeOn6wLlRqSZfs67G9JyH6/Xly9hLPj4rvPRGvDJuMnYJPttW4vPA7ikFi9GLm2qCgt6H+DFWB4Dii93Z81fdVYAyzvdQ4XUiur+yzIHWVE00T1FAQYQiDdSKtEUem29EtGbKr3U4n8MKwyUjuPw1Pp32Kp1OXyUzHU30+xM6TxoBJAVf6Kl19iG/LEKZ9MKj1/lxmpDnt6y64XJwVM4ZS9p0aD7Ck5yAs/vVfsOG2r6P4W3di2XfuwpQ//AMbps1WfcWEtryFvGSMvcyEZqvD+d4qTZ0+xlousl4eI8DZQrfMetDtaq8beH7IRHQasgiJw1fKGNth0AL8u/cn2HHcGAgC/bbBbFlvDk497gUypuch+s0PkDRoPtpnLEH7tOVI6Dcbbd4Yj7nrdolbmYwfIVB87TgJKx52aHzuXjul4dXWDmViDSVyaH3aWLwd9/zqYTzcsh36pY1Bye4jwnRka+s6bhZK5J8rJoQRwkhE2DZ3lMLZPTgI0xd1+8EKLFi7BX/6RwySnn0dawvLpX0y4IoQVjvdrdVkTg2fpWhtrRkny/rHWO4p73QSBrQKW25o3Lvc40XV3gNYPXM2fnTzl5HVpy8+K9sBro3h4CayjY8DjSUk6GL72qJCeGcGiQDc5YaDlmGSHPiIz12HKrBodQH+9EQCnn6xK+Yt34wDx6rhcvvlsCeu1TEClNWGENa4IWetfZFgNIKLB4cOHUSXZ5+By+GUOC7yZR9nX6AMv3NzHlZOmY4f33o7Mnr0xtHScviR2/DyAAAgAElEQVTdPMHeWMmM4lErqarKEcBZKAEiVkvTL6U8aZg5FIxKFNdp7fjsJHqnjcaPf/0oEp99Cyu2bBU1gwIpd33iJdmQNOT7UFY49Hmzv8o2oaZpRgG0hPAqnx87D1VixqK1uOmOu9FjSDqKtu2RWU0al4yQbG3MYVWVNHN5L9NHpR2y+Ni4vIqxxO/D3sMVWLh6Izr/pwd++uBjWFWwVXbpq+buSLpex6qwKiGn1f9yN8dW+IXCsr709cWxCOLucl0EoSgPsjOU2aadbjbksTQFHK1xYu6qfHwwezl+8uDDmL86DweOn7SUFbPWwgympDnLoHW5Kq/lWPTCmfSxY8ejutrs2ih05/Zgz+Z8vBqbgMd+9guMGzgc+4u3Cp9gdckb+Z2QkjUWyX1gpy8tpKGHpBnLVV2rysbJWM94o2Bym/QjpzyYt6wAv32kNRKeeR1zl62XMdbpMbRA92f5zuLJmt2VCtkK4sjMevpw4LgLC1YXoWXH/+CRVk/j0/Ul2H2EB1wrLbOmokqHrMphxeMcoJVOFEhDi40hKmFufuDTJcvQtXsfnHIB7/boJzMJdE1yeGjBqHPpgP65F3XSBfXRCKfCIShPBJibYZJUoNZt3ILhqTn4zvd+hONVFF8NQ9Hpcbb1TEw+qFUNYWY6GNHi9vzzz+PUKaudlg8xOan4qAJYuGgZ3uvZH2+/10vARnTJQG7VT9EX2q55vsAwDJOpeW4D60Z8DhmRhTu++QMcOFQhDIdCMN/y53Sy7bXfnW9JV1s60jQhYi4f+vbridWrV8pGCl63iSc8aUVlryfz/m/XHnjhzbfwbo8+Yk2Xb9UVkRswXOlLB3+2jSOJpUPQgsmZj9ff7SnKxjfvMn39ZLVT2sF2GqsflQ9DG0rnV7pJF1U+K0/BQYQHkwOxQ5xz9yDO+BIm8xYvwytvvIv3uveBy1kjJ0mzj4iPdoA2LqoGQfpI+bdlhQVQWVUttMg+zGa+1a03vvn9e3Csstr0b7fFCRSBEhqc8gNVZD4/QAWpymfJ5kzjyJni62al6TSs+16fz/Ve011qGACxtf6Ez4Svx+2UfsSZpkoX8Oa7PfH4P9pg38GjsqtgAAd1KsB4Xper/lJYwKvBh85PPWPKhw9uJ90TPThw8Ah+dv8vUVPjx3vv9UO1mztdWju8cYkIZ3ql0vKp+RNA2J4b0a2FAluNDR9lBFV/GpXffa8vZs1fjO/dfT927T8i8JAmy8c+uNycH2kgl1UncU0EzwcC9h06ih/+7y/Qt/8wHDx8AtwUhfq60K642tW2ORStCCseZ4MqmTTfy5+1eIqPnILzeVDjcKF7j16oqDKDd7f3enHTI9tAzg9rB3FhNsJZrEHgbGUH7Z0ZuDhEWc0QAZtChlgrANz/wG+xe98h9O43CNPnzpWSZUizPpAdrWwDuCTQzIJWz9BlJG31+WTx3wsvvIAZM2aYNoprjIEDZzXEDcDnF6HyaEUV3uneW5iMCCJW9QIDgtBGaDvnuSBCFATQQGGK2zL6vPjfe+7DwWPH0H/IcLzw8usGzwGZ2Acvd/oJmLbPVcrV+Z54NMooXSNMR+/SpYsoIsa4ADidzsBMwKlqB05VOfGVr31DhIJ3uvUS2AcWhOpaAguuAToJNfj+P3vvAV7VdaUNi2InnkySSTKZbzKZxE5znMwk+eebZCbJzDdJnOp44goS6kiAIW7BHdv0ajoSqveqALbpvfcmimgSCFENphkwxnTU773v/7xr7XXukRA2tgET2+fR1el7r73W2qvttfdx/dLjAzlQvlQjhrJK7W/6E33I02FgaEYGZs5bJIaqZHuIcNIFF6Kwf7j8/V5QF4VZ3yIa1CznucMH9zQKEcH5Kn4LB+g5aCCq6yLo3WegvMhyJGedET957VrjoGn5PI9eYzuUtnpdZTEQ4prYHLWuqcOLPQdgSGY2Zs9b7GBWeosj6bXdlaOFuTLfC4av7rNN6WWlX+4677/fe1b2td7LQEuUYIJj8uBbp87j67d+G8tWrsdfnn7O6V8/NEpv7a+8HqW//6lrcazgcuW0BlD+zZ07V6qxlDjCn5sTROnmLbJ8fK9+A6XfcM4A+4m8L8HMKMy86tjsWoB8DcqMws7CfSS0zufVSZlw7vxF3Hrbt1Fdz2DVCDz5VDeXyh3tYwxWRYNa3usf0gHlnma5CKkiwKjsPGyrfA0l60vRtWs3DbrSI5G/ZhzJqwz5J47He0AoO6N/2b6TJ09iyJBhXgecMHEyJk+ZJoxrHbdp8e8kPJs+e7XPbeSCsPGY++TkVIwZ+7IIE3aqXr37iqFSX89ndGURwuyH2398tWG8FuVZW/ml23bt2oE5wkZHtoX3LTf46NGjGDp0qIAxadIUTJ8xyxkiUcg+7PY3X7+OxqWkJMmHt0i76poGxCckoWL7DjHC6Cw3NFgeseeJRBv2MToizW1jP+jduzcmTJjg9QvjBz5nz2ZkZqFyxy45nzhxIqZMmSJ9iO8bH9mzzdPIarw2ezUDomUTBlGAzkhIbZ+OzVvKnSNKY7ufOiV0THz4YAlUvizPftFS/3qOLkcD0osjmG8cO4pBLw2RBpGeU6dO9eYg0Om80TY/j1F+8Ueabt22XRyOPn37i7NMuJvS80Zry0cVHuKd/GX7s2fP4ze/+R22bq2QvhYbFy/y+Erafzn+vZJ3r/QZ46mVK1d6utFkBgMwJhuZisnfxEnTMGXqdGkL66AubQ7O5q5dKUw32nN+R4Q6NGt0BioqKgQfxEmbtnHYvn2HjBYY3dn+GwkHEiyXTyIANVXV8pFOhbUecXFxmDxxkixGwgVJ/CPlRour3ZZPHA/D7BXuKezNKLnjjjtw7NgxeZPXeO+f//mfceTIEVXbTXL8rjbxrhBkeczqJrPZxsh/ZmamZzQR/uHDhzv4o8qL79r79i73zV3z379ex+8GB9u8efNm3HnnnQIz22nw+/HBcv71X/8Vx48fF1pSqH7jG98AnZEPc7tc+3jd7jG6OW/uTOTmZKKhvlrSZpQnQ+jVq5eATyVCc1Kdj7+umNQHwX8UR43bXFNTI/grKyvDz372M68K8gTfuXiRK7ir802e4ReVaZDyHnnj9ttvx6lTp8TI4DW+Z+96hV3HA3MWWKW1mXByYyQzNzdXDG5LG3xpyGDhdYPd3uHzFrVsjDEp6q/mn789GkWm7NPRau75dewTJ06IcWV9/eDBg177TM57F26QA5NZTz75JEZmjJJRTvZtyu5z585I37eU4BsE5I8FGKSL9TejUU5Ojuge8hJ/vD5gwIBG+GjMp41uXZOTpvXx/LHHHvOCFKxUdWQYXbs+jrVr13o2D+dGfutb38G5c1wrj1sY9fU3npPugHvfu6Y4soLq62rQr29vOeUzlI9VVTXo06efXDO6G63tveu1vxzcEm3iaG9dPZ575llNKXaBSOq5O27/LqovVsl9aZQPYCvT9rzlP/Y9esWHnzgeV4wqRbYhfObMmSgoKJAxbZk3QScjEsKqlctx9x//gNqaKm8+Bd9Roy9KMCvnPVT/vh61egwGg4MGlBlSpoyprF5/fR/+8IffOQWmcPMdfzkExM7fF1DX6CU/TNZOq+rpp58GR6isLfYsBQWPeb1Dhw4YM2aMKAfihMb8qlWrcPfddzeKJNrzVobVcS32zdXBaybgWKcYGZEQ+vXtidqaCzKsysgFn+Fv4MCBuHDhgrST79rvWsB7o5Xpb6v/2M8HxhtN71tbiMP09HRs2bJJFK3xxpo1a0QG8D3Dtb8Me/9a7lkfN2kP+6WrjPDYRiXIvm6OFq9XV1fjwIED0tfPnz/rJrY2dpyud1sM3quxN9gVD+pwWOoRo5bJyYkYN459nRN6VQaQnr/73e8859JwezXg+aBlEBY/j5WWloqxSKOPgQS2Yd++vfjNb+7UycHOqGC9xgtN29P0/IPC+HF8nzg0PJpMYX/jselYHpM+JjcGDOgH9jnlR6WPv5yrjUeDj+UqLFH9Td4YN24cAoGA8AmftWc2bizFI4/82XMs6FRR3JSUlKCwsFDabf3nasP8YZdn9LC+Q3ioUzt2SEV52Uax9Ug/65P9+/cXHSvPuVEvP96vZ3v8MLNeawtN1GB+AF26dBGbQb7rxrlIkRA44lUQKJQMbHve3uWePH01t08cjyvEpjGRDcH36dPHEzh6zzz/MEaOHIn58+dLyRYB4TNNGeIKq/7Aj7Fui/KTgfhbsGCBrO5EYajrd4dlQhzPMzNH4fHHH3UKTRm3OdgNJx8YwA9QgB8Gwug/J+55bfHixRg2bNgltVhn4jurV69Gt27d5BkVKFwaNSS4IT5mzZrlCeRLCvqQLtB4JOxsx5JFi/HKy2PF4RXpwQR2riwSCoNGyqOPPq5tc7CacvmQQL9u1Ro/NN0bP69YsUJ4g/gwfuCx4Yf9hoq2R48XJZAgQ9HkC+fYMUWLG99lHVbudWugq4jw0umoq3crzDgjg9eXLVvWyMjmspns5zQaRo0agb/85TFpL+E3x8Xab/vr3Z4rrc/oernned/oajJw+fLl6N2zl8yToOyz/k7a5eXlyeiQPXu5cq/ndaGLczCNv2wUU/kuhJoaTmYNIyNjJLp0eagReGyL8Ed0EkGj+5+cXB0MkE7+/sKAz+LFnDOpcyhkCfRICBs2rMdTTz0h+tWep66y46sDzaWlWPncE1byEg3O73znO559YPYK3+7Zs7vIOfYPCgbOL7K5RT179nQVaIovy7PNf2zX/lr3bAv1LHHGkY4B/XvLHMlIWJ194pDPrFu3Dk888UQjGlpfvZ5tN/oZra1uzmHdt+91/O53f5BLlP1cHEf1mOqu3r36yyqf/nf9bWA7rxZtP3E8jDKX2fuRbcccnh8yRHODjTDsnJbCcvbsWRlOtXssmu/6zy9T3VW/bIxidXPPaz/96U9dChGHh5lyokxIIcnh+jvuuF2iMga7AWbl2fmNtDfY2HGs83D/gx/8ADt27BD8mxHC6C833idOqCToVCqeVJgSF/wxOsX5If7y7d0Po/1sg799PP/5z3+O40ePaX4ml/zlqkwKviwdzOHxCxerZZWSpusEfBhtuF51kmbG+6zTaMhrxCHTpXbv3t3oGSoabsYrNmJkCKXQFmUMSPpSeXm5PO+vRy5cx39Wd12DrjnPdCr+uNjAj3/8Yxw79oYaQPLBsHqJ3rEN7AdMJ+SIGDe+z41t532NaMqlG/6f0TYKqI7gkM68xx+NcM7hOnPqtM7ApvplXrNLi2XaAUeHuN0Izoe/TTxmWyin+vbt6zVTaaSOZFVVFb73ve/h/PnzsjIXn9V210o7+ZK/TK+QTw4+MAbYB83wow3wta99zdkEIc1+EB5TffuTn/w7tm/f5slx0uR60IUwsh72b/L3d7/7XQmqNXVOKQ/69+/r2TQCm+gVNVKpD0+fPi0yxZ9q5W+D//gDI/c6F0DYDX7uqRO+8+1v4q0TR3WitqxzyEnbOprFFCzRwcePo9ZWlbsOMBuMVpXJLNMHZtNQ5+fmBbB5yzZ5lG4i02lNT/B86LBROP7m23rftdn4xfDRtD6r973uP3E8LoMxQzRv2zGJQKeDw/FvvPGGCA1TzmaMGMGp3N58801PsKjyU0V+tYh3GdAbXba6uCdsZMTk5GTMmDFDhI/Bq4qXQkkdkHXr1qCwMCjvWPsbFXyDnRiMZiyyXcQ5h5CLi4sbtcOeYRP4HGnJ/Gg+z5/ixAwSzeenoOVcD3uXHdxw+2GgwujJ/eTJk+VnsBN+/bGBpDuwevUaFBQWS6qn5e9/GHB/WHU2pRUN7j/84Q+SMkC8ceMzPPbj9tChQzIiQrrrdeZp6zHPKQ9++ctfCm8o33w4LTSas3abw8EVjxKTkzB1+jSB2Qxswm/yiivTkDeKisa4JWRN3oU85+TDadEHrTUqy6hijcaHDx+WoBHxRfrZYgt2zj1HRykTeP9G2QwW8m1KSgoqKysdaOpwkLZsJ+Hn6G1BUaH0dT7Ea6S3Os43Sos+enAQz6YfOHK2bds24SGjndGAtGIg7L//+7+9lCvtk4wU6Wbv2PnV2hNGKzsYDKKoqEjODXbCT+ebNsL27duFd/i8GLRc8SikfYlzoX7/+9/LXA8rzw9jc9f892/0Y+0ziiu2JSsrC1u3lkk/ko/v+gMW/OhjuAE7d+7E6NGjZdTYZPCH0c6mOoz6/tyF8+g3oL9MiKc9wB/Fm+yp+/hNt9cP4u7/vQdVNZpJQdjZdv7Mobla7fnE8bgMJg3hTW9zpGDDhg2egDFhQq+f73AjMSsqKnHPPfd5r5uDYgrCu3GdDqw9TLHKyMjwIjN0RMyoioKiE5CZXiJ+sfPq7b610/Z2/cPeGzy2ZwfkpDnb2E4TsHaNz/77v/87KEgtWsVnuFk53FNRPPjgg3LdlIsZM1bWtdgbDH54CJ8JF17v3r27VB2FR40uS6lhGRQcPXr19IxSa+O1gPlGKrM5/BE+OqN0NrkRF4YPv4DltV//+tfYs2ePPGd0Z5lWLnHO1a3atGnjlSEPfwj/zHghTIxwLVy0BCNHZcqoB+GlkW3yyt8GrmBnkyN5zHtMKbNo3ofQlA9cJeWt/fjdGusv//M/v5S+bvQjjaW9vj7Pvs6VXownPjAwV6kAwkP53XRExuA0OU4t1L1HLzEmqqt14q/hgqBY268SWJ8U43BqdCBCLBWJuDa5bDzIa5QzTN+dMOFV5xBGnUOjj+2vJoKtTPLKww8/7BmUfhiZMjRixAipls+b3ON3PZhuxXbyOh30J5560nvO4LQ6bG/X/5r2hJ0/jiBy4wgj2037jR8IVHuusZ1A+4EpkBbY+zDCFoZzwsof+YzXnnz6CTCYbBvFnRN5zglhgLIBw4cPxaJFC8QWIk8Yrfmeld302Mp8L/tPHA8ftohY/89u8RoJMHv2bMkB5nWem6A3RuNytFT43PP3xBNPSe6fvs/0GGVYMu313Ax+7ikQjZneaU9YJ04cjylTJglDKswqcK4n7O9WF9vEHzc75p5RG0YGmc9NOllb7RkTtBz54SIBVoZd5/PsmPVcq5yrQTQ0oGvXriKQmz77bjBe7fvWBgqVl156CUuWLJH2MU2G35Ug7ShExNgI1yEcovERFlqSpnLd4exqw3Yjlmf4ImykK6PGpCU3v6NhdOWez3Xu3BmMCvKY9JclJd3X6v08xftcYYh5vv7NyvNfu9rHVofRm3vCQ/LS+KQcYroV+Zp0533CrkolqkwmTpwMLh/N91gmI5v+RTOuNtzXvjzNMzSZyzZ36fIw8vODMrJDWpqcZnut3ytewpKv3ZSe1x7m5mswGhM2k99sj9DJyT+jp7Vr0uSpsrQ7S1R+UNpbWbZvvsZPrr4fDBCnpAMXKdmyZYv0M7vGPX+0FeQnVl8Y3bu/ILJZZbKm7Vxt+cx6uSkfqDGdlpaGpUuXetcMTo5+PvPMc/I822J8Ju9SJsg3zNSo5bW2se2wY+duD11Wl+29G39lB2yb9qkwOnXqhE2bNjWiH9vHH/HDjc9ym79wAUaMGon6kPsWhly99v8M3waX0Zr71atX4tnnnkRDqEZ+Mk+Rws9lQ6gTQq6sl/u9e+v8HZbF97mxfVbH1WjNR97xiOazqyIi0niNaI6yBu/xTIeredcmXMuxi/717sUJpnXynL7PrwGznOY30oyRROm8MKdDP9Ki0cRonRQ2EqISGeGUZoRfoK0nNO6ndbE+PiaMEFGYRZxJGbq6FieBRRlFJ47Pmjkdr7zyiihc4kDFUfOwM8eTRtmtt35N8oUJbyRcK+0nAinLZJTHfeyIHyGTAgXhnD9xOaw0X997vSpDvvyIlvtaNNuy58ABnDh/Tr4i2vWpR/HnRzugHprbzI/EMduA/Y0047dySJ+B3Qfwy3sO3hpHX8NNY0eL+PzRj37kLa8rwiZSJzmfQk+Jskaxyud5pnRgWTrxlyIq+hTvi+6Ri1GaMWVGcWidn0vh2THxNX36TNx33wNe5KJ5HGqUhvdocN9222146623pEL9grlOSOZ9J2O0gwgv8SNrtY36RfN13MhXGbmvx6pli3H2zCnB9ZNPPo05c+YJvhm9kqFz9iNHP5Jj7VpOAH2qScPI5MbnOiBAnqIsIL/37sHFCdTpY7cQ1gjxCn+qqIwn+Ja+Gf2iPEthP45eV2chCoQqhwg4sZEfkCPMxkz6nkS4ADE6x09QR8LeF97yBT28uuiQhOrxja/9M6rOnZc+RZklc0QafQyMsJKHo3ggRATh+m1at/UTq9+T8/xQFp1tIt/ByVFdOhGX0jMKNcupsw9oUUggjN69ekjfjTqn+vFNm1iqdFK5bnWxRGfnuf6s8ljlvZJL9I/TQUYD5T1Hb5PjCMua+1pmCLNmTsX4V8eKHFHaKASEvenGFLpvfvPbePPNt9zcDvILy7cnpcXCR6J77LLAT33DIAZx+HHYKGepi9lqtQIa2wbKD9rV9GNs7HvydXKf00r8ZmaMxOOPPaIGvQQ2Lh9kZB8bPTpbUnSI5RD1K3S+pdFJ966/Odo04jveooBxK9oSRtKNrTD60RY4tPcQzrx1Wvj54Ucew2OPPswJXUJcfnhWliYIAX2699UvJUerbJYBTA9VV19E3/79PBtF5JvjMeoXtV2IVSez2CelszbWrdaP9X1XgNs1C8BlLvIVlmXleXKBz/PEBVbsdT4vP5+RbW3jM0OHDsezz3aTb3l5+tFednuTRWacf//7d6CiYqvK51CdfrDXGfl8RZ53FZNOwnFOLhvcUjSfMVnr6hI54nSVlMWWSr+OOgbkGa8N/Ehq9x7aSCvjMnvCxcAURz2OHDmkciYkQIjdpO10fUHgvZRJovC7fiL9ymhPftP3P/KOh+JYG6ssqf8pWKIGoO++h1BVsjTWuPF7HcOGDZEoIFNYaLCI2xAhqpvfyKhcKYAbiWZlqaBXhhFC+OoUxmKurnOMVAzqOQWEktDV6BhOjQHWou1glI+b6E/KJKZT1dfiW9+8DRdoWMiHf1To8FgZSi67e/pRIF4fNWqUrNDFb0OoJVUv1YSMIRs4EdcZQE6jSmdyHSla6gc7agqjOD8u31RKDgPB4jH4wle+iuUrVuHWr30db755TIx34tK++MvjaoTELTp18ixGD84QZUx6htiWEB0Jg5X41M3qHz9+vMyn4Llco5AP16qQcUJAOMw0RxP8CizOWOMxN68sX11WH/cUIiZI7Fkqra9+9as4deqMF22xslwxjXbGe0yz4xC7lW9GlQlN7yXSj/xFy9rjT+/uX81BhDQN1+O3v/ol/vmfvoqlS5fji1/6MmpqaTgQ99rOulryt34Qi43jhHJO0DX8W4MNbzxn/yaZGd2ik9i3fy80hNXRra+lU6z+AXeeCUeS8yfOuwUhrHQpVdQmeYPyxWNF17cJrxn/qnCkMGdcajlca/9f/uUHOHtOJ4z7S2eBykOuLkdb0jl3dBbmzZrt8T9HSgiD8KkAEpWTVqZ0eR+Udv167BU30T4aVcokrP6s75CenPDrp5/BKPhwJ8Qdgxrswz17vCgpB4ovIo68ouWqDOdLZAJ+8d3JA0de3pG6GvUhR3qfYSTPsT4ho9JSBHdDyMGhgDEQ9M1v3obz585Inez/flnStF3ky6ysHDzyqI7ssRTr4/qswq3tiOoi4SlyWCQsdprW/tH97+FCuVy6rJlJXqudjFDquP8yZ0YNPOKVaTbUrd/8xq0iM3nNNqON7Xnd5G5l5U7cd999Tr6TJqxd+UH50MkovuTYQwmjgQcHmrwiIkIeI/3ofDC1UmXUuMJXcOvXvomFS5fhH//xn3Dx7DkwGEeYLoQaUOV4cnDvfnKN9G9u4/MGu7WHHx2uqav1ovy8rjaIX3e48pyN0LRsNs1+0lTTr00ffJdz6xO2t8cNVtv7r/Oawqw0o8ygzUT5T+f9wgVNt2r6Lsuwa7Yn3TmSxPmDxEGo7qLoH6EZHQKKEJHBBkG0DC3PnXt4akoHElSDzVqCG5nm887hMFuB98+ePoPBg15yzl60Tq0rKrP8d0pL18lKh+I4Mtsj5Bw5AdzJQKePooynjqToCimMcBKfyqeqDKNt+Zg4HsQEG61oMaY0JJFpokpcCc8OS+ZjZzh3/qJMujl85KhcYznCVExreQfHg3SaP38hRowY5QSAepQChxgQrNcYj/CJK+NFX6QbCPEUcmfHyFNKW3IaIdT70i6Xf0ldxltMFeJSaq++/ArmzZkrF2VJPF+nkQJ8/4gPE5zM+eaSoWRmXmckjTKJ9zl0JxEaqKPC+gmNPesr8qofCs3YSKe068IRDBmdiZhWN+PTLT6Ne359N0pL1oswpMMmowdOStPJOPbGUTzw+z/h2KGjqGkIoSrSIM6kNI5GhBOEfsCtQ1u6g7TTPSeK2rVfcBAljb8I7/hy5cu7hkffqhPWVEmliOja68z3pkOl/Ms3deO5f7P73JOnExMTQYUnZYVU+KjxrD3C/3aUP/0l/vUcs0XE3be/813ExLREy5Yx+NM9d2H/gb1Cb/KxttEciQjeeuvNRhOQm7bWaMSya92QOnls5vy5GJGZoY+z80k+tKa8eX2C/ZKjbyaXVSyxA6uh6fqzSQKhpRi7OrLGcz7CupVaajRSfrEO/l5++VXMm7dA62iGj1mA8gRHL0yJaXR98ICBaKjR1d3YTsJhzofA4pDBe8YnWpadNcXWBzxvUizbbHX798SJnVtfJG2JDy4KwXx0k2l+iKxNnvwnbphSEolIwGU4ZbdLn6Ujxk14hnKuCWxWrsGhZfsI7HDG+/528D3BoQ+nNO74DHmXiwTw68hz58/T53zBALav6WZtohMVH58ok4TpqEitok+0feR7w5tSWo1VpXiUvk3L/+idW2dUfDhMSTMNlzwxmnFPvJM2lKHUsdSL+fn52LC+VAqRQJen2y/FGMs1A57zEBng4zhNrb4AACAASURBVBbtx/oOnQf9aa6+yCqC62wWBv0Y7GAYVDbHv0JY6edKx1EZ2WgV0xKtb74Jd/3pHqxcvgI6n0tVaFVdLe558F68tncnqhuqUAddblULbfyfbWf95Cn2hfETJmHqtNmSfEA9Ql6ykXLrV+Qz4TU2QGBVvvXj1/pN49re+xnLNFqRavprXI7BI7R0slTo6FIwCUt2bo6kzLG91tbGpeiZ1OdwwivEK1N5uYw96yGPSJ9nGqw4lipVLWCseHEle4A5gdaU77QkaR8f5cb67WewUladPX8Obdu2xd69e73n9A39z3e48R1uVgb5MiUlCTNmTBP9ZjgiVg2f0h6HNytHy2A5UpyUJ8/7ZI7eAT5Gjoc1OYoUhx+5wGNBpusgZELjAa4GtGTpShE0yiTsdNH13xuXHD0zxXf//fdj+vTpTqiogCCxpHwRIq5y8w6dR2uMIMLGiOkeFWIbHxjsTimT6fg41/SnQc56XuzRvRGDVVXxg3KqSP2MQ+j953U1tSIUjx17E8xsYlnakTSqYkypvq2mglEg87lruUVxw7QpFYRcm79FixZo1aI1Ylq0QouYlhiTG9AIVKQBdREK6DrZ3/3732HzytWI1Deo48EIImEm8IZjXwMMJ+ykEyZMkAnFvE1qStqWGT7W67x3tbzG+FB45RHfDVZvAtPwKnU4elpdfK5Pv75qAHEuh/t5VTY5IMym5HiLE04HDhqs/KzgyRvWRp4QLFGsrn2sk7+/to3tqK5vQEyr1mjRsrXwR+tWLfCNW2/TaDZT0BpCQkP2FW7/89//Dwf2vy7HxJ0fL9Z+CmFxZvkOgzrEF4D77m+LKVOno5ZL1fIr8ZEaiVCJQUEMOhuHr/HHZyzC6mcdHjtwXJoCy1EniddJG2VVFQIcIhfuiUTAbwxxI9zGT0Y7aYtzwNUoINTaRjpEI4YMxfnTZyT1ykZOjRetDAKmOPExjyHmGu5Zv8Fi1fDcNh4TC/5+QjjvvPNOvP660lPhtjf8e8Uj+5IpYuL53gdjMWnaTOEPlmuBJoHD0YgQ2M9foh1bnfZMFGJ7wukeU+SuHtZB2TJhylSMGz9JjvmuOBFcvl2+GN2YBl5djpk4123QoAESKDMeYa1sG398TN9hQImcaKNFguwogB/hI2m/z0gXOjljTghrOpoocUaa7f12AnUsN9KHZfIjwtyMJnLi/gkN5VkN2t17773YsWOXPm/0oT43He3jMdKNjkaDpGCfRx0uoA4+5yMENFTVqWJq0FTtF/v0QIsWMbipdUvEtIhBi5tbyoqPpD/Dq9RpsydOkvmADEbUSkp5Y94icNZu27NH0s647bY7cOTISW0rU8RDlFfa2Et5zUXBxc5xCHE7wb3DWXN4a/z0lZ+xXPYn29ubmgoWkXlw0r+dM0kbp2/f/t6nBqzvGD3sfdsbrIYX7rmYSx3Lc7aYPkNmihJTcOP1e6dreN/Ba7KMe/78bZC2mN0RLdKTUbHt4jBx8iShicFn8Pr3hJX37cc6qmtr8PXbviZfMxcnmjU7HcN3rW45dvDqcbQcK8/qtnM+97FxPKK4UQWjw+aaZqHkVAHB58yIFsEfakDvvn1EyVPImMInEkkwKud3Y8ajR4/gzjt/iePHj7pJv6a4o0JJiGM9lHtPKZBMwnG+A8coBJS3TBhKhFzTPmgUsVPRCen2wvNYuXqVg1cnGb4T3BYZZLn88QvHd911lyydR4eLXUA6ojOiRHlJepibi+KUGvF3rTaLahJvjB9wDPOpvzyOFjEx+Nxnb0HKnztg2vxZ4LwIaljCTWHNWTPT585Gdm6WrtxTHwLTYiQKXatGpGhkAu4Dn/XQeOf+3Llz+O1vfyvLJVMYONNN8C28RAPRFLhECXxYMBo7+vruSNn2vuCYk8KZs+6i2Ywm8de9Zw8sX7nCRXBVIKhQ8JcW5S3lU43+msIbMGigjOSZc+wJVpuULlRW3BK/RIUPHY0ruoHP2F9PnnobMS1boEWrlvjsZz+PtLQOsuqctIn8E1ZFyz7Dr7rm01l1/ZtN4zF/0c0ZqeQoGn8hRsE1On3k0DH84he/wrGTx1GNetRzVNBFqK0/CD0REn6kIyx9lX3Y9SfZu/q4E9o4p4MwsBz5ESSTFU4p9Oj+AlasWCagen3ERztphzgeNDA1QGFlsS46XP/7h9+j+vw5ne8kI7PROWaKCzpAxuPuWOBriqcoxq7WUZQWTo6z94vBbGq5cSCAC4JwKUyTabZvTE/SmGmFFkzSoBONjzfePIH/+sUv8dbbJz2FrlFdbZHwUCP8qjTgXeLTSOTIpILcOX6qgxrzl4kH8i3rJ2169OkrzjFbSCOPG+cgcl6OrD7Gl3yb4cj6PdPMzsj8JgPIwebja8GHRcsdz/uK/EgfWtujjaR+delzJITP8eAJ5QV1q+hQBnJqa/DIY49i4+ZN2i9Fb7qAkOvHVrbxHfe2iiKPjx8/7n0bzOtbXgqzy1oRh9TpdedkczSEMoS6TTiD3UK7gvB8qKFG5o480fVRxLSMwd9+7hZ06NQeM+bNAr89wboZuKONA/IWea6uXuZJkvcut7Ef8V3KJtoYq1avwx/vuhe11XWarsyRDy+tyMkrX3mCX6cbWY5/45n9/Nev9JjlWZlWdPScJTv6CmHrBT9sB6FkW5g2xlGojRs3es9G7SUi+NLN5Ar7nOnYUZkZ2LGrUmUAF6qRFQO1v7MEGfHw5CtHnnV0XO9FgyikqwU8eM/fFtca4Ts5dnqAH43tP3CAfFOEbbLN/65dszIJOzfWxR9txsKCPLVBKGPFUVTmIm+wPtmkYidbHHzeJbNznGCz+j8WjocgwUMTEefydIlMSbrTTiSKQDoDDe4GEepZ2aMwd+5swa8hW3Do0o3eyeDjS2JPhMMoL9+C3NxsYTdR+J7i1olgIt1M68hEJMfgvCbEs1ZYREpzgI2Q8r6DXY7dJMtgIA+dO3fS6Lj1QvecTqBX3mn6n52HjMhayYSjRmWi6+N/UdyFmbdYLaMFYvgIjHRImHrF/QcTHE1hae6cnUk6o69NHVIS8eXPfgYla1aggUYfBTJ9CTofMg+diWHAi737Od+C2p33VMmIHGKDbfMfCy1dxwyFZAiWQ+u6qSCLKgx/RIfv6HserVgufy74YdV5NGQHp3KrZ8RMDSuLbm7cWCr05LOszz7+6JUdLazREe+bYOHevrRqMIvR5RMuMk/HE4TRNjQq9K/ghO04cHAvWt8Ug7/7wt/KV8gJNvEhPxHUVDr1WLtulTcBmfxPRcQPRxlubW90EmVVr5E9sqEonzCwbWsZRudliuNBHhVDQEZFKKw5X4uGiyoanTPg+rIXB3HMwReJeoosZ0zIBQ7Xy4+ygHwUEecmPy9HJraag2zkMXazc51MzzLoUKiCYxfmRnk2euQIdP3LY84xcXAKIMYHCpT0daeM1JCwGq71PtrfBDGEQeDwGRQOXqaJkm7G+9JGT2ZE4VT4Ve6TZhLJdp2UE0VzsjMEN2LoSxTajwszBhoTy3ArpPP0Mju9T/84uK0/S38UJ47GQgNyc7Jk2VVCKjaw6QJHc4IY5ctoe3hkBhD7Or9OL/pNCqG8IwyaxqM4VHlEfaXlEXq25+O2Rekj+OJos0u9s34vBqpE9HUhibzcbDz6yJ+FxwznIhskiOM6VhM0Gs2ox1TLuiV4nS6NRC4CnPJN+4SsIB2UMknTmxUW1SO8JWUQdKfK6EzwaQt6pKWl4vOf/yxWr1nlRjPIH2pMUm7MmTVbuJ0fnhX29sFrsNol/7m2V/sdlydfMG8hIgzzSxoA33D4dJOo7V3b8wn/sdXB9jSPOXvi8vtG5Qk+FU/aMNdHpd9RKNMGdAtSuNUfOceha9fHNfWazojLbmlUbjPV+7MKuPAOA80//NH3PMeGr4hN1Uj+qO6RQKWnb5WelBsiu4UgZlMIMyheTSZ7iHKjlpF69O3TQ+A2/vIeaQI329Rcu6wtvXq/oHJCFj7QoHNUGZFKph+cknKBUtYnfCnyydFYaKFO0MfA8VDhSXkrRBSnQzucCHkKFSfUhQC+COOp48fxnW/fippqjf657i0IjRJSy2+OeKbsTBjp2t7aSan8xQDxVg2KEofCQpwCWS/aGUjOUVFlr0YDBaL1K0bh2BLpsMLYYYRqq/Ct276KY0cPCaNK+z2mJ9wKexNelFNrDx/nMUcEvnHrt1F1kZPTqxAKyzoYnnAQBozUIRS6KM/b+82VfTWuiWMooWZl8IuRMHo9+zzOHz6qwtZ9TEuUPptJfq8Hjr7xNoaOyFaHxIQbOzZTF/QR19mjFDZ4OT+CG9tGmnI9/QgNTypxUeScoE7XRjUA6diIHr4Jh1oQ/ysd9Jsbznh1dYiCo+LzDJEwhgwegFNvM+2Nk/qVdwmpHkmpzQoSvRP9zxS627/zLYls821bxc3jPSfsZCleh5/o21deT9N3rvt5JIytmzeh7f334I0jB9zSwr5cWxG8KswHDeyvX7QmuzSlVTOAky5UG3U2UEYnhk5sqAE9ej4vLEfyMvjHWzqooSOOYpjwY52cWyQpNWoo8FgiYYxh0riR8tQY0L7Ib3S4YIUYsCGlXSQkk+f59XqTN/4+KH3ftcFzPGi8knco88yAjYRw5vTb8kV3TsYW/iT9naAhDKI8XWStvq5K+htxwY11+uttBm3v+5KW6+Sn9K2QrgRk/YP4ZP/jAhFowNE3Djaa22HK9PIAsBfpQh56pCv50Tjp1/tFn3OjeDOcci8OJnuhOO+6qhZpTHqKDOJD3Airc/DFKPRGioUSEkUn7FywIlRzAbd/6+uoOndaLUq+bj9hBldkMzj304Dt5sT0ixfOCX4kyCAGgzrAhFM2xwh0rviMLsOttz7K/4VnvQZSdjv7gI5DPQ1Tvcl+Rb4wUobralF9/gy+951v4uyZk9JXlG+sD+iLUj7p1cymfKP9ZuL4CZg1g4s71KO+nnq2BvXhapERqtnZ72tkERQnnj0DXyaisw/LW0A1OZknLsre9cXncOjoMdHjBIP6nHW/XXcWX7/tq/KBOS66wk1DiIRJAfbzkl5p+p/tbBCdNKBff7HvReZJBF3vsU3kJ+F9caY0b5tpPFcia5vWeMXnbIPIrpCswkliiux1/Yiy1r53xcnUlGODXuqHCxfPeLJF3nG2FettDh/+a3qscqrNPfdg1/YKwY+031axolQQI12dQ5MFUr5wklKcdYtMc4vY6HO8Sj7UkQnjSbU3iVd1PEgTfkWddHakFLQZrLY3XPLcf43ljRgyCMePHFRYaZc6vSjPudEalZnkHdWrop9oM5peJKwir7zI2sch1Uo7v46Y6moLNNroxZIgXFqVJjR/tc5RJwrPXzyH++79E8o3r4esjCN5i1z6TIluxPYTyghoexLOhDqH2TIzs7B7905RLhyupTdKg5l1X2QuOlfVIfm4mkxIh0gJo9QlUkA9dCollss2VdeHURPS9xkj4To2NH35TYcxxYVYu3KxMIQYrz7YDcbm9myT/eQ+lWUojHVrNqCgoEhUaVVDjcAruAsDVQ11OlmXKzy5CbSNuL25it73NSc8xOAAuIgXAyxMQ2DKC3P1iZv6Oh1/IY157cjh43jg/jjs3/eGLJ3pORrOcCHe+JNO6u+pPjjZ8YzmXCGqcju/TqspbWKEcui9IaK4IQwy8VBMj0YCz/Aq3MT33RwTPkk+rAoDF8Jq1HIOAsHRSc8veel9rJe8YT8+Y7D5QPYOG98LY/myJSgeMw5VdfWiqKoiYWl/dSgkk8pUYDGioULUeMLKYf03+iaOVD1H7zR1hfTlCi78sc/VuEmiR984gWFD9IOCbJO01b9qWjMN5TPsr+wD3ItS4ITyUD0ys0aifPcuoT/nRpFHyZvqWKgjL+hzkUHimlFKSZmQNEmmANQIrcnLDCLSwSH8NCrI0/yJsA83yBfY16xZJ8aCGBX1jSdambyStjmj0/onS1EZo+kjPOMweyBYLP1K+hbb6XiSeGN7GeyQkTga/E0+NqXoUtnbDOre3yXXT1mXyEiaYSHFSVV9WPo4acK0CC4Hee/994Ffnuc1ymJTmo0rdzC6neDCRZDVASQNLmJ05nBsrywXuUp8GP4ps/ljn5V+6BmtGhxiD+HzTJuSjX3W+86Owk98XqDMaNA5HTUN9bhYfQH33Xs31q9eCtgy5j6niKWJLm9iLPjbZjzMa6tWlchXqkXvhTSVhjQ853QGYWCbWDfxZ86Hv7yP6rHSTenH/iQjQWEG0eiYKV2IH/4oNyiXRVeHQxhTmId1Jcs1ak7+dPRW+kR1RVPcGS+afUC6XDh3Eb/4n9/gxAmm9anTyr5+sQHC59Sxcp0jFeRXBiVEidHj0HRIzhljSKpWvrmhPEIngPqP1/kKhQllClfhuqftn7CeqZlcJIN9h2k2Ic0mUJmgfMt73GzftD260EwdBg7qK6tB0ehknWIfmE0ioVZNBWd/lCL5IH+UQb75dJerp2m9zZ3731Udxbo0VZptkv4bdjh18pQ6j/dOnjyBoUNe8oIDxhW8Jz8FVau1YI0DonG96lAcP3IYw4YMFbnB/ib0jIRxQWw/N1eP6W0NigcWz3pMTzCgy/kyEtC1FRMbqCtUBpv8oWwmvk+ffhv33vNHvHFwvzgsUpabI9ocrpq7xnbY79CBg7jr93/AmXNnRT6wPuN/6iLKNdarIysaFBMHy9kmXjvYNxjgcCNNH/kRDz+f0BgnQokMKiwK3cPVYby8YheeHjkVffLnYGnZMRw6H0LWuFcxa95yiVZKBC1Ekz4awRYGEcZrjnSqxcTxoCHiFBmX5P3hD/4v6CC8URPB2AVleGb0FDybNVNgOFwfcY4D2UXTKKxfsgNJ7IwEDeuE1DMI4eBF4OXl2/BizhT5jVu+E/vO1kkd3Xv00Q7UoB+QM5ijEDttG70gR8Z0ttfbyuzdeveTskt2n8CL+XPw+PDJGDl5LbYdqcNp50ARdunwfuQ3qeOKT5stQyOLsu45pZfqCnAFU3bIQ6VlmNJnKMY82QsLsoKoOXREGP6P992DOXOWiMCjMCYf0KymsUexws3JVwdeFD8qG0kXJ4oiIRx/8y388N9+iouhCM7UA4UzStA9ayp6BmajaHG50Jg8RpiIS9mkSJZj9TFqGzUo36wDAnPW4/msGeiVPxNjlmzFwfMhKf/uNsmo3LnDlRU1LAmb5IM3hysX1RZN5b/PlyJAtx79cCYcAXmpZO+b6J43Ey9kTUHRzDXY+1adKFj2FcIoZfiUj2HDIevG3DmFTKOOtFhWeRi9ihfi2azpKFqwBQfPR3AuBPzirj/K6h9c8Y3cQHIZzWx/SQNlkicFvkZyRLCKAg/hzWMn8YP/+DfJvI68cRzbJszChO4DMLXvMLy2cr2uu38hmoYljOiEdUhMBEadG1BbR0MijNMhyirg5WU78dyoGeidNxtLth2QNp2NRPBCzz5q9LATeEo82ga56RogEpBej7CAGwomXV0KWF1DrTg6PfqPEEV5vA6YvKJS+OK57GkILijH4YuqRBmK4Yo+3Mhegis5cJV94J2WLYWz06IBNbUhEHWnAKzcewL9CufikYH5GDlxOXYdrxae/e0f78HceQu8RRWMhra/HFgEXaUBeYA40lHct04cx49/9gucrA7hVAgonrcZPbJn4IWc6Xh5yS6hDY0KMezYtyXV1X10kpiVieDuw40R4HxNGBciwP4LEYyaXILnMiajV+4sLCs7jLMRIDhhAiZOnaEjHZLWYym5aqdp32MrHH6aa5Dr+9LmMIRHaHzSgF63+xheyJqGF7JnCz33XAA4vkVjgg6XGYPNFfvRuuaWqjfedVqBOKMjRkPrjVrglaWVeDFrIl7InYRXV+3Ca+dCYlS/2L23Mn4Dp2iTc1yAXczHd6GP6zN0Ooh1Bp+2bCnH6GAR2KdPhICRU1bhkSHjRceWH6sWnmewhClYpkNUwXDRFCYXN4ghyDUtxCmhnD9Th5KMAgQfew5LMooR2n1Y0qEmT5qAKZP1g7KSchzi0vD609EulSXvSG+xbTRwxsaXrF2N9EcfARd9PloLFM4rR4+cuXgheyZWVBwSHqMzwiAMccVNUtlcWpqnU1Q9uSfe3y7a1zVtnLqeozpvNgDBuaXomTcD3TKnYMLqHTh4oV5sr1/87h7s37/fyTENurF21dhRmD2I/HBag7ybYVl1slf/l4Rub9RFMHzSKjydOR3P587A/C0qv6lfBdPufdbFc4ahGNpi2h1l88WL1bIYyfF6YM3eN9E3MB+PDRqDUZPXYuuxsOjw39z1J8yds9BLoyMoxMMloHkwKvv6TvWQIsy9N2RkNro82R1H6oExSyvxbM4MPDtiPApmr8exi2GcA4PnDPhQ/tWggSnizsFQiU1OVVkqaScfj8nlSkI13BWnXPCByFpaeRqJPQvQrv8kpA2bj5QB0xHfYywSu+WhQ7fhIqBFJMh3MdQQMAL6DbFLiCbKQL1sT0Gwg4bD+OP98Xh1xVak9Qkgqd8rSBw0HY/mrsa9LxbhqeyZOIkwzgvRhfOiDC9GCaFRw4jKadPh80jr/wra9X4FqUOmIX34DLTp/Sq6BeahcHYJiiZMVdBEgbrouDXAwXgp7NEr0nGpvBwDUrH2y8zHy4vKkNJ3PNoNmIHUEUuR9NI8PPhMAGMX7xZDSBS2dqVoYe/ziOB6IHvHYS9qKEaPczzqQ3UoX70YE++OxYrv3YnV3/oV5vzLr/By27ZY83IB7v/fP4g+pYeufoCmt0hkU6KpIkUvgZTt99NbHEqu0R0G7orriLFz1+KlcUvQvv94oUPy4JmI7T0eT48mPSGOiSxDLJVytEZ5Q20G5RB23DOIoH/xUnQcNhOpQ+ai/bA5aNOrGM/nzUVw5lr85v500THUO2LkOvHEEgiLH09eIy4nGNWTwksZAex6G5iyfj8S+7yKhEHTkTp0Otr3exmpPfJRsue40FRyhkVBeiUrg/pPb8hjKmM1qqaUHEB8r1eQMHie/JL6TUZi9yDGzl+P3zyYIAqbTYji0RnULgJ0SfO8j0JpqppMQHSCnhYLh9kXz5mEaSlpWPRfd2Hxd36GOXf8AhN//SAqCiYBNbVCQSoeyXZxE4fZf6QsN/GTSRdbj11Aaq88JPSZjA7DFiNl0Byk9B2HUTNK8OrSjXh18nRv4jH5tb6WEXef49HIQNXoprWHzysXunQIN4LTe8ho7D4eweDxaxD7QhHSh81FwqCZSBwwBd1yposRoVFUYoxr31NRczNj2Pbu8vvcmQyVdBLnGJyORDBpzQEk9HsZiQNnInXobKQMnIzk7nnIm7EKv2/TUfq6P+1M2inpH368XAoU6+MvKsdqZTTqznuSMH5hGfoVLUWHoTMQP2AqOoxegsR+4/F83jw1CqU47d9KR+Um7a+KDxqHdIJLD5xC56EzkNh3GtoTr30mIqX3ywjML8OTA7J0FI385NK3FJ5LHQ+2iz9lXCdbCIfoHLZVR9yGjxiN3SfrMbFkN5J6FSJ12By0H74Asf1eQWz30Vi2+xBOcQU853hYVP5SDH20rpBClG9q/ukH3XhOGp2IAIPGr0Z8r5eRNnga0obNwAM9itEtuAjjFpSi8NWJggzSV2gg/f9SGWIYs2d4zhQ41UOa2kkZTmfnyd7DMWPjAZFN7OeJQ+YjedAsPPhMHsYs2Sm2C9mYydrGpxLsc04TGAjgHO9QCLtXLkV2m3ZY+n/vxNpv/BwL7vhvTG2bghVji9GjxzOiT+gIiE4JcVSVDpT76J0B/S577S2aZlwdqsU/fveHWLHnTST2ykenobMR338GHspYiqRexcidvwn8fK0692qTsHhZ4t8Er7M53qXad7wteBbHW4PNxBPbSee679j5omPbD5+P9kNmI7bnWHTLnYOCWWvw+7jOqHUD+f4+azLhkkqt2/GGwe8eYn+lms0fPwPdc6YhtltQbKV2g+ah46hlSOn7CsYtrhCH4TxHqI2ewkPWp5nGrQAZTy4oP4Gkni+j/ZCZ6JAxD3H9JuKhIdPFmfpjbEfRKQzKqvF/uZHeaEuagC0ChiMwzNJhQPNUdRhfuO0/0T0wX+ybpGEz0TljAeJ7F+OF/Hk40gAJopCmHPkQ51UiabpSqPCooIf6QVysj0GqFbEqClgjy+xgZMBXl2zFQyNmoVP2WqQGKhGfvwtJgR1Iy9+Mzrnr0WHwNJS8fgJnGE0WZDoHxvGXBIwlV0IZJkpGHlH46zArvUDWL5O2IhEsLt0hjk56zjq0D2xGSrASCQVbkRosR1r2Ujw8+FXseuucjMjYCI0KK5JPPXCOvWw6fBZdhs5Cx9x1SM3diJTAViTlliM5sBXp2avR5rlslB8+0Tja7mAXWAU+18MaA6+3nTKzDschWEbocqevRJeh85CctRGp4/agTWAHYvO3onNBGToOX4TsaWslSiT4aabc93qpaafgOaEmTbipUqUxD5QWFGLaz/8ftn7hNpz81D/grdZ/h0Of+RLWfflWjP/PX6JiznQgUiOdySbR+Z0O4tmvGC6BlSlcHIZmulWYkSVgxqZDYpR1yliO5NwNSCnYgXb525FaUIHUrOV4eOhk7D+p814870BYQqMZrJ9pGlsOvY0nhk1Cp9ELkJS3EfGBCqQWVSIhZyPSRy9Hu+fzMK1kt6S7aMPdBFXHZ9a5FSeNsdb4zLXKDY+W7jyApJ4BpIyYi/b5ZUgI7kBCYQUS89ajU34pOoyci2V73xInXAwf50CbwmyMo+b6QuMnrvcZlfPhsxfw5PCJ0pb2+VsRG9yJdoW7kZxfjofyS5Ha5xXMWLsPF1x3oANrRu478oNDrM7V0tQa8iUlBVPDd69YjbG/+jVK/+lb2PeZL+DE33weh2/5e5R96euY/f3/wNTkdJw/uA+MZ9H5sKCQDkaoAURZtfnwKTwyfCbSskqERsmBr6ew5AAAIABJREFU7Z6sSh61DG2fL8T2g2+KMpeRLyGDfo9C5hSQR0R2GPajxqnYW64dkQaOxTaIzOAoy7qdR9C+ZwDpmatFPiXklyOxYCcScregU9ZKdB0xGcu27ROeFFEoclajazRGog6I1ftB92EZUWAUesyiLUgfvgAJeZsQm1eBpMJdSAmUIT13lThGE9fsw9m6aIoV6WhOSLNQUGC5gITKPMpvxRvTYjlKMGv960h4MYC0UYuRnLdVcMF+yn7TMXslHh48Ebv5dWgJDOgyqSxLUhZd6g7pQ5puOXIWfx4+Cx3yNgofti/cLjI8PacUXbKX44WCeRKIuMBl3SncyFWur1PBk2TSHxs5eVGcs72UUzICwxHVmjqUbd8jxl/KyMVIy98I8lG74FakFm9Bh0AJuoycjqXbj0gqhSzIIVHLZrH10bxI/LplZEkjBvYeGzoNHTJXIiVvI5LytyIxoLq6fWYJYrtlofzQSU2zExo1Ros6I06o+G6RNiZXJMVGRgA0vYnOzsAxC/DQqPlIz1qLpPwKxI+pRHxgKzoHt6DDiIXImb5OPlTOgApLt74tOoAjNbxYF8bmorGY8uOfY/Wt38ahv/0iTn3qCzj6N3+HDV/+Omb84CeY2bu36DC2lTpInBV+pDhSKyMnzct4X0O8Q47c0mGpF1lQOGMtOgyYiC55pWKbpAYqRJ+l5ZSi/ejV6Dh0Ml4/cUbkjGQDiOOjqzOSx7lZ3/OqeA8HHn5FkLK8BrFJNh84ha4jJoqOpa5ODu5EfKAS7QvKRMfGdcvHpBU7nY7lqNKlIx7NgeHpV+9AnyI9GFAMzl4jDmt67gbRr4mFexCfW4H03E3oNHwWcmes14Ct0FL7sMhlcSvVWOeouoyEzitDl8zF8m5CwU60C1QiKbgV6XnrkdxvMqaX7MZ5920utTc0Q8bgNr6zc//eu0c5rlMVBRdbD7+teiBjCRJzNyC+YBsScreKvE3LWoVHh07AnrfOg+mu0g34DSI3UZ84kJ/oBtKC7fuYLKerBpOmQ5DR95wEOr00XTp2+8JKxAb2oG3B62gTfA3t8vcgNbAT6dlr0GHQJGw4clHz/oWJdbhbhL5HMUWkIpTH6qDwtggC9meupR0BTp9vQOfuQbQfXYr0Ma+hXbACscU78UD+HsSN2SVOw18C65E5rVTzuGm9GDPTg3VDuW/WR9DuhRw8lLMOybk70S5vJ9rm70W7wtfRpngPUgor8EjuGuTM2CIpCepjKkMTJtm4I1DNbNZxPUZ06UK73g6LQ5aWtQEpxXsQW7ALDxbvQZsxlYgr2IHk7FJ0HjYfm/adbmTmNFPFe7vkB1MyqyJebj7ncbCTXnjrFF79n1/hwN9+EbWtPo1IyxaI3BSDmpta42LLz2Hj39+GsQ/cg7d27xRhS6Eq7RQhF1UElwKmeKMSN3yJIwrgdFUD4nsUCx2S8srQbsxe3F+wH3HjjqJNcA+SiirQIWsZcmau96IozNFV4co9k7yAE9UhpHTPQpeR89E+UIoH83egTdEB3J+3UwRV+4IKPJxTgsQeY3DkHI0hAq2RHDWW3gn+S1tkV1h30dxN6JJbgvYFW5FQsAfJ447iwcBeoS0FW/u8DYjtPga7jtdI3jCjcjSkBASeNNoUVyZcGt36EE6IJ2YcsI2P5a1Gav56xAYr0LZ4Hx4oeA3tivYgKb8cnXPXos2zQRy9oKOS0nOd1hUn83Ia2PEQF7KskWUlqSRE56O6qh5ZiWnY8vffxLmYzyJ8002oah2DhlatUNPiZhz8wlcw7xu3oiw/G6dCdWKMci6I6F0SRhafCOHtOiD+2Sx0zi1FQk4F2gV2Iq5gF+IKX0N8cDcSArvwUPYGBKeVSIRcXnU8re1wwl6MSEc3Rwvr58JDco1yivF4iDNUOG8L/pJfIsGRtsE9aFt8EG0KD4ucoQP3cPYKJPUowMFzDZpuJVX5O2tT/nAVv+edC+S4ydr7TwEpA6aKM9SuYA9ix+xH7JgDeJDBo8IdEgBI6Psqyg+eFYnph4irlNmm8o1eguvbTh7yeX1H0194+fjFMJJfLESX7KVILdiO2IK9iCs8ggcLX0fb/J1IDmzD44H1yJ25TqU0ixUh40Yn3YIAdBr2nW1Am+dGo3PhJglSxBXsR5vgfiQWH0Ry/g4kZa1F++FzseU46eDSHDlh3jkCpswVSH+fI+X4000cFgl6cY0/YOzsdXgkf5Mas4EKJBTvRRvhpd3iuD2UtwFJPYrw+pka940b5Wcr7yO7F/pTH2pAiabSyXqg3fMBPJq7Cim5ZdLX2gb2o13hYSSN3YeUgnJ0zlqOnNkbJUPBVKmaWU6OOPngx5vynF7R5XT5gV+6EEq5185F0GHwdHTI24yUwE7EFlfinsKduL+oAol0rrO3oMvQOdiy55zH22LfuG5O+4bOS+3xU5j601/h9c99Fedb3YK6FjGo/1QL1N0cg4utbsHxVl/EzJ/eiTf3vC6jq8I1NDGqdK4Usxv8sPrbcOkxeZCrSDaAaUBx3XJFpiblbkMcjezCfdJfEvJ2IKVgF7rkb0PB9HWevLJ5LmqbKD+rU83e8v42z+Zz3zF7qwZI65GNLqPmIj2wBW0D29Gm+CDaFuxD28A2pAa34eGctUjvNx6Hz1IGsmb/KNZ7wYfCTJzuPRWR0YiUnLVom7cFbca8jvuLD+C+3B1IKt6JDhLkno5tR+m2ad81vEt6kpuwTXpwWkDqgKlIC25Cm7wdiC1+A/cFX0dc0T60YxAtZx2SXsxFxZEL4tRRrokjLUrlyvEoIz3uw7gnqoCkF3LwaN4KJOdvQUKRyqrYQu73IDlYiccL1yNr+gbRYVKLfKyUuHM2lguYROXqx8Lx0OgeJ+eEGqolctX/lY1IHbkSibnbkZS3E0mB7Srw86nId4sjkpRXiY4ZS9A1c7oKf6ZbceKgY0ZP0HhGCbsNHRN9hgSQZ9ywIQ2gRZUHkDxoBlLyt4Hlp+ZWIDmvQoyHRDo9gZ3oECzDn0fNkmF7EUfufWMgfil5WeU+tH9pCtLySxEbrBTFR7gT8ysRl78DiQWV0rkezpwv+fuqPrRDE0oytv3elR1dzyf8g15ZjeSMVcJs6mlvE2+bTscDhVT6+5E+ahVeHDVNIyheNO5da3nXB5oKINq8gl/6kzURzB85FrO//0Ocvakl6mJiEImJQUPLGNS0jEG4dQyOfeYWzP3e/4fiF4YKbOzijPTQQ5fUKVvZhde8NAsnBGXOikLAe3yXQ+JrK/Yi5SWnJDhylV8utGU0VAzE4D7QeP9zxjzhO0mxkiJZFucLMU84gqUVB2QYv1NeifBhu8AuxAd3IClYhoTCbcIf7XMq0H7YMswr3SNCkWJKWE8MHGfkvCsWow+Q/uSvJ/OWITFvF+ILDqIdFUOAUb0tQtek4Dak5pUjfegCvDhygkSNqNiIdxWOxAQbxHMSIjoKE63pwzsiljni8Vz2AqTnrUNsznYZ6UgorBSHjoY7jXjSq/3IZZi7fmcTYKMjA01u6CmVGuN8XKRCVK/DRz3w2poyBP/z1zj8mb9DqMXNaGjRCg0tb0ZdTGvhyapP3YT9X/gbzLk3XuaRMTJNvDJSpAZjgzhNCysOyGgUHSRxNIKvicxKyd8hvJKSt0tGbKlQOedBZYYuPsFjr79Luo6mNlCpynVek6geP66p6SakI+vnqOpT2QvRPm+bjIAlFOxGUmAXkvJ3Iz7vNSQG9yAxfzNShi/B9I275X0Jr8s8DIetpp22WSS++0XlNTKZLoIwbALlUAniCw4jMVeN/oSczUgt2o6E4DYZQUgfNh89RkyUAA55trGPrI6MOWaekeLgFf62Jrh5NyXb9qHzkNlIy12HuOBexBXtlMCRRB0L9iAuuFuMlz+PnCN9WvtmrYsE1yAcqRb9ww9LDhzLlIV5Ej2nA8l3OdqemLdNZDgjsSmZq/FM1hwwpUyMILdqntDHjXioAPQpd8kJ1wnR2kfZwjrpA29HgKdzF6A9R8XJO4Ftwvd0XOMDe9E2f7eOlo9ciJkbdwkfWYDh3Sn0V/6ELV8v+l0N75UVqmM75K0R+4B6lTqWI8IcJaJ87hCowGOjFgqNyGOkDXuWjHARJeZ8erwU7RAeT7MnioWmfZc6tv2oVVJnfJC02Yrkgm1S3/3kk6K96Oh0bCPnoJ6rV2iP5/U5mUGUfONfcfozN6G2dSs0tGiJUExLhFvdhKpWLVHbqiWW3fZdTO7WjzlfmkFA8Ghw6hSSKyMqZZbmIAjPLKk4iNRh84SXyNeUG4n5DGBRt+wUXcYRkC4jF8qcUOpRCbKE1TkWXmef4wpYru9FsXZlIPEp7dO6ahv1/JLtB5A6ZDI65a1FSv52JAZ3i45mtklCQZnQtn3uLqQOXYpZpbs1cMpggXRk62PvDRJSY3jxPDyUuQJtnRNG+ZQS1H7etqBSHLGUzDV4cvRssUusPuJUpLRzGjjKO2LcErFJGSCkQ8fANfmRI/htC3fLqFLysPl4dvQs1QOhasnMEH3yDqizOhVvEcE9V9LiAgULKw8jcegcpAW3qM7M34PkvH1Cy/j8nYgt3C4ZO50y50gaG+nHNC9qQtqdLJuLIQktPdsh9NFPtfKQKp2yXiY9te1ZIFElGiAcKk8uqFBBTGFcUAF2eArktIwVuO/JbHE8RIq4SdpCIKfUo/SkKier6ciEXCeiuZoKv5qNMMYt3YT0jCWiHCm86IDQ0+ZQGVOW2hXtRdusjYgbMEEml9XUarpFDY0RRzQSc/yyTeicuRSMslMAkhE5ZJhSuB3Jxfs0bSy3HO36ThZmIFQiFEUwajRPGMJ1qmgbmjsSUSBGelL3cUjK3gwOFcpwYfZ6dCwqAw3U+4P7JHrAVLUHn8gW5dtcaR/0miphnVBOXHBlnVBNBIH457D8K99FbasY1Me0AFq1BFrFAC14HIO6Vp/Gmi/fjsHJjwstpCPIShIkJIVfdBhQYRSTUrWHdCP9+jdFDzsVDbUZy9bhodHLEJe9VSOfBa8jOX8X0mjIFlaKkdsmvwJt+04SOtBAZS3ivKpo0K/GLmXayEKNchVWQKK4wZ0QA7lwm4xmsVymBY1dWBrNRxamIHG1g18pbkl7KkcqqPh+U0CnNy5A2HfgoSLlxwdytuPBwD4kjdmPP+dvRNuuA4QH2HY14tQpk37hE/Q6EmO4VKfkSuG62s+RVhTYKf0nIiVYoSMFwb2iFJmWk1y4V6LkiYV7kZCxHmMWb3L0dpC8g56R/sOVY7isq2MfpmfJRwM5/2rKQhTf/hOcvPkWRFrfhLoWLVDdsiWqW7YAWscAN92M2ls+h6n/8Rux18VxkZEkxr00UkVcv7qiDEkjl4oD265AjVSmU6YWsu9vAZVXO/Jav2liAAltQhdEadn8UpGBTB9zy/+y35C7qfAjEZmlIfysZos6HlTWKf2ngEYCZRVTmRjdSgww3YrpoTsRn1eG9tnrkbeoFOdkgjm/fcRaozLm6tE0LPNfqxBG/AtBJI7ejNjgQUkX6li0Fen55YjLq8D9wb1IGnMInQMb0PYvA4Vn2V7iRfAgjrLyricTvb6v/Cr0dIAzGkujctqKDZJKmpZfgdjCA2K00CBk6hnT9jjqwZEQylxGnHUemS4paUmVZKfzkQgSe2YhZeRCxBdsR9uCvSLDU3NdIEpSb/dIKuufnhwp+oppFly2m8En629+vAovippnS3UBFLZX0ny5pGaoQeRP4sBJIqvpbNOgZXoveYlBEsLRNliOToE1KFi4DlV1liPur+mjd0yaEH/EEaUz+wX74oRlG9Fl9DKkjN6g6YUcDQ5WihOQXKyjjZJ20nuK07GqL2gsclOj0XguijflQT33jglEWEJJSOr5CpJGb0B80S7EF+1BYl45OhaUS93kbUaZO+aX44GumRIcEH7gNABZcEZX6iSXDE97HNs/dxvO3RKD6lYxiLRoBbRsjVDrm0QG8Xzdl7+H4vs6cRlGkTl0Ari8DflfZXwU7sseiYzknEu1USYsp7xaLPKBUXFxqpnOF9wiPNe2oEIM1Xb9FW/sW/wmGNth8kpEky9QIrLqsgA0d8P1b3UfRM8RrvQR89Ahr0zSodkH7s+v1MBeYYXoWAaDHw6UoniRjsaoXnXCjEi50s09Sjqk98xBavYaxFFGBFWGis1HORLYA8p0pvDd/XSW8B1NMlZllgKrJC0YCOrUIx8dRq9CbHCfOB7su0z9oyxm2XRC0jKX4YGnskTusSwuXED8vQfoxWUIR2oFby+v3IrEUUslvZYjNImF2yQ4mcygaAHTTSuRWFAh80x0bjJXQCXfq50kPO5Ge9ku6jT2jY/8qlbCK2xxpE6MVK62kDZwDNJzV3gRMkbvqQTiiciARjOI1PZZSxD3QkAjWCzIU1CXciARrCMe/MCPpsGIXR+qk2UxyYTTVpZLXjI7X5vCCsQFysUJiSuqFMbhsKpEmwdNEoVTG+bieHWaxuEzeKesrkT68MUyYsIICBVfbH4ZUseqEyIpMzmbZFTkRG2DROeF84ShjQkt6ndpWxpfUUEqjD9oMhKzNqD9uH0yskLHKTm4GfR82xXvR9vAa0jKKUVCj0InFBuX9L7OrMe4vZ2yd5KJhZFrInj1sSFY8pU7UNe6hRh5VS10xIOjHuEWMahp9XmU/OP3kZH8sHRkyUWsdR9LEv5ouvShCi+KABoo3GQCnHMbWO/81WVIHb4csXmVuL/4EB4cewQP5lYivahSDN2E4HbE520BJ5ufqHWrW0kYTE0RQi98sXoHOo9cidSsjZ4xHFu4A22C2ySFLa7gEOIyN0se+fhlW1QwyVBNdPhXYVRavROeDX8URjQuOUGNIzU02toX7kRS3mYxZNsU7cd9wX3iUMUNXYaU50dIPyCqNP2oKb4obDQvXpThOwFxne6xrTQCOw6djQTOX2F6Y8EeaW9CLvvLa+J4yChhZqks+qCwXwEenYZgm2muyICoLLepk9nL56xA4fd/hpO3/I1GG1u2kshjlRuJq4r5FM62/Dwm/+Iu4QHSQuYtyQfFdMlV9tmZ67YjYeh8kJfaFTFlYZcoy8TCLYgvLEPboh1IKCpH6oBJYtSKgd2gc4qocoS1JeqkaaJU9HSaeV1HcHWUivzMaw2yZGMIF0PAw0Onon3eJlEuktdbUIbYgnLEFW4T2ZVeVAHOFxi7vEyCM7YKC3H43o2Fd2IKQqfODFOPugwaj5TR691cqu0yz4Nyu03Ra/hTIVMnXkP8sCVI6jZcR+nYd7mWvSe/XZSZZRI3oimjzrKgxoHDY/bWOWu3y6jkQwWb0CZ/ryh7Kno6HpL6VsCRpwpJARPHgyNIDRo9Z/48f8Q973UYVIyO2ctE9jNli4EuRoUZBKMeis2pRFrORiT0KhA9oFFg6pTGfU7g9liVT0VXvlKjg1Sol8AX633opSlSPtNxmWqS7GjZlhHTMXvRLliO1FELMWH5ZrcqjjqR70SZj8I90rg6pIku7D9s9dSS7UgbugTpDLQxcl/0Gtoy/amYTts+GX1Mzi5D2uCpOFGjfV5SW4SfLtWxymes6dJNjTONEHcYOFUcj5RxBxAbeA0JedSxZYjL3464cfsQG3wdidnrwSDgeQkk6tK65K0q6PwyBlsyH30elX//A5z+VAzqPt0CoVYtgJYtURvTCrU3t0Z1y9ZY/X++j6J2XSW9itxPXRTGeTeC2zysTaHnU/Jz36yasbYCjLqTl9kf6XhQTiUUbRK50bZIR1AprzhnQeROPa0Lzi3RsiiI1MlWJ/q9yxLlex2BD4n7MY06NqMEyRkbkVrwGtoGdqBNwU60Yaq9zPk7jHajy9EpYyUmLt+sxrosGGANNPnQFAPNnDvUMbD38KBXRVaRf9jXE/MrJL03PmeLOB2xgV1IyN4iKdsMWnGz9qpNqauJcoGRJ4aOE8eDo5McKaXBzx+DzyyHo6YdRi5FYo98nZPJVOM6rlCo/Ch8dgm4ToCIQnC0jFSjPnxR7INJa/YgJWOpzNVJLlYbOT64CfHBcrGXSWcGwVIGTqLL6hxWfoDV0ZYL6chKaUpL0pvo+Xg4HqKA64SsRM60DYeQMngq0gs2CvJkqCq4S5Q6EUkln5q/SdKiMmZukSXYmAohgl/UkKOe9DjecNiUbqRRJz6hAoXRS07WCoOTdBJ6vyKMwqEyEfjBXXiwaLfk2tIBSguW4LmC+cI4SiQuk0ehpKtZcVnQLUdOI7bHeJlgxPQLRtU59E/ma5tHobgLqbnr0K1woUbfJCJruUnGXOxIqtAv4UX/Bb4b4QKfYUwqPYr44aowmV6VxCE/pooV7MF9uUw32IekUSswetYmYVp2oQ+6uT7sdUbimtekc9Y7w7suhMolZZj9w5/hzE03IxLzadRTyLaKQSimhQwvv/43/4C5/3EnVhWO1TWz+WElymy3Gol0cle2kVMcR2mAM6QcMDRiOAy588jbeLDPqzKRnHOE7s0/KHMzKAiYNsG0pQ656/BM0eJoFNRFXGV0zAle5qIn9JqCTlmlkkbDVA5xPDg0XbwXsbl70JlDwgOnYM2uow4XpKfSRrFBvmuCb0Oejwh6SdvDCbP9XikBJ7SmEd6cchk14/yHewoP4/6xByWKkjBwDoIz1stEM47aeMXyA5e+svUwCsOl9y55+JpdYN38cfW63uPWSl4slTejTIwQ0WjkuTjpga24v/8ccIno6MZ2RtsSva5H2rfdikNMg9G55XKTfHN09wHk3H0fdv3dl3C+xacQYrSxVQvUt4iR1Ku3b/4SNn/xVsx/pCv0k5waHZdhcVo/pG0IqDx8Rvp6SmCzOLhU5JRXTLGkrOJoB+89H1wgfU5SF8IX5V0pRvov/6lRyh5PThHauNRRViZxMeegsG4aMgNfWYrOOWtkNFhGh6ngCvnbLqO0krYwYCpW7T6Gi5xfKvxg6QmXx11TXL7rubRB5zaRZyeV7EXqiMUyYpySs0149sF85sIfwANjDop8jX9pLvJmrQW/TSNyVDozJz/yTB0P698mp8VQkd7l43FnkG09fBpxPcaiQ85acTQkTY/9NLhTZDd1Rof8UjxfsFgUcLXgkN+J0kVNWCsdSxqH1D9cXS0tsF7ox3SUBM6rClCG7tUUupGLkTlrq4xiieHg4PbjSvjTG8nhBKHGjgc/ziYfIozoiMeAl1cgIbBRnNXYgt1oE9gtKbKMorcJ7ERycCPiB07Amt1HHBZoin7EN+eE22K4pPyFUAPKjlxEm56vgPNeSNsH8rehXSEn8+6S6Djpn5K3Ds8WLRCnWyZnk+WF7ZX3NQNCLwqPNYPKqIxUPp2w4SjaDVsiowNcpERGFnO3SobBfdmaGpqUuQqZMzeKjRBCrVgk7Ovi+HBp1lAEOxatxeI7/gtvfOpvUdv6ZpcFEIP6ljGo/lRLnGr9Kcy+4ydYVTxDZqjLohQiFVSPMK4Vha0ZwL1L7Esalmcbtx05hdger8gIJBd94NwwBkskuMsAb3AHUgs24PngfAlkkbc54kFepcwRPEndmtpOXdu4N3oVX/bA7DQdfScVwth66ILoWM6H44R9ylE628L3xa/JnIkODOYMnIZVu96QOg0Wjd6Y46G0vVzlqjP0GToek9ceRPyI+YgLbJORCuJB00F3SFAxPrcSiRkrkTmzUtsvS5rTrjEZrSMeDBzMLD2M5CGzkEx7MUDngzbkLmkL7TGOKnFlv4wZ6yXgQpqKQ+mCtE1hVp507XHElh2XEEe18PWmQ28jceBEmQeanL9JU/sLKmSuJPUPs13aZ5WgR8EScdipv2SOiLMuhXZUZKLSNG2UdXxsHA9VNro8GNft7xlchIeyS9A+dwvi8/fIsL0YJQGujrIVD+Usx9O58/AWP6zkUYxovJTxlEE1csYIkygwepmkOr9C2lAtTHW2ARg6fhVSR67QiHhgF9oEDoBDknQWOuZvQueh0yTXnB8NUvvDcaBLlWB0latLDZu8BqmjFqF90TYdKg+8Jp08IXcn0nPK0WHULEzfvEsMXlG8zpDRUCfbEV2mzWteswfa7bmCE5eieyZ3Dv5cVIp22ZuQVrBbRjviOOJRuFOG7rk85HmbR9Jsee/tonaExu8QIo1gctUauk8R1F2sx4L0ZGz/ymfxdstWCLVuidBNMahrHYPqmM9i5df/BVN79gZCtTIxXVYcESNMV/CgwSbGgXNqWK8LAsgVM1gICenN+xSUIyauQuqAyZK3+UDhQV2ggCtN5OtKEx1HzMWcTbvEUfFYx0VYNUKpE0hfenklOg6eJ5PN4nO3IpmRouxtaE+DJq8MSYNno+soTdkSnIj9pFpTBK0wWxPelAebXHOo5DvE3LKtB9Bx6FwkZy6XCeakZVzRQdzLOSY0MIcvxNOZk2WyJSOBbLs5a07LSokqxBrT6UY4I68s234IacMWgIqFEeo2uWWIy9vqrRrG4eunM6dGUyqvEHDlgxqEZEJ2RKLaHKOkc0Zaz8vIwMLbb8f5z34D9TGfk1QHtIxBVYtbsOuL30bgRz9B5cIFomG4Nj/9AFl/nyKE/BjSVLFhhQvQZcQSScVjZLxt/kHE5h9ASt5upI/ehIeGLsDsjZUi+GUZXToAjkeFLmQBiXox51mXeBTWkIipGhr2vKxGUl8tsmfF1r2ybGxK9ibJgebiFUxvYmpeWvZadM1cgGeGjhN5JCjzjOArROCVPCaA6oMSOQNkpcFn8uYjJWM50goqJXoZP0YXB+Hk8qTh8/FU5nS8VafGDHlAedZG5JyBQ342wH29vxFY8mEuiHPYb+wSWU6ScpqOH5U/g0c0TFNyNqDDiFmYvWGXBopkOWOnC/jV5jDXtnf6h/PlXl6ITiMXIDW3VNJ7GcTR0Y/dkprx6Mh5eJsf93Nzb9QpiqYDKYx+B4qtJC3pgKjTqgZArYxe8M6i8v1If2keUrNKJd2kbeCAjGhS76UHK/DuHBJtAAAgAElEQVRQ5gJ0GzVVPm5G3UMJ8dHfnOGsWkSFfiQksmDo5BVI4lzK4BYx7pjiwlGIxLw9MiKVljkbMzdxeVu34IanY42xdJTKLycvxadY2eo0uOVeqWMfKVgPzltihJz2iaR/FzCdrwKdhk2TjAIuBMHxGU/Mu/4no/nnazCv42PY+/nvoLrFl9DQ4jMIx7REpEVrHI25Gbv/4f9g+gNxsvoe9ZwYuhJcVaNXdVXzusPfBpEvBMB9LJdJU0OK58ocjg65WyXtu03eAZDXRF6N2oQOwxfoPAquoFVfpaMbzgFUeeVW5HNGODn73TeFVUCR9mgn0D4QFttl0LgVomM75ZaiXU45Ugv3yjzf1IId4ijFD56Bv2RMllFG6UcePWn10fKK9i/C825wsS0coX02sFyC3LG55ZKyytFZOiK0ETi5/LFRM2UFO4bxWKbakCqbpD38UDQiOIUI/pKzAJ0DazVdP3+/BCvIG7KiX8Yy+SYc7TSmDqoBShnkguPGlk2RyUr8KBbbVfHJOagjxszHQ4MnoGPOBqTk70e74CEZrWGwJDGXK63NwpwNO8XZMfrRARG700YA3ZfMzab6GDge2rFleUyH0Oo6yFKzLwYWyUSoFA6/5VaKE5I8bCU6DVuAEZNX40S95tYxx1YmOzXJsRUkk2YectWYU6Z1joesDsDcyzp1PiIRDJ+wEukvLUDHrDVIyuJShhVIHbEanQfPwMTFZeCazhT8ssqN9B8aMqq8qEBpJL8ZjmDQlBLEvTRHonBpOZvRMa8CHTPXoPPw2Qgu3oyTzA2sq9JUAvIewXOeJ7uRP4+wKS82PSdf1kbqseG143g6bybaj1yCDtmlsvxw++xNiB+2ADSy175+VI1sTjS+ZpvOm2Fj2FEZVaRzeGLTBizvlIYF3/sJSv7xDpR85dtY8vXvYu6//QdWvtgTofPnEKrlV0C1l/FjQnyTTgyvifA1g60J7GqoO+HmnmEnOt8AjF+wAZxUynz3lNzNSA9skiHRzsNnoWhRGU7zy7O15x0NVchLNEZj1GKwvo0wihZtxsMZs5GWuRgPZa3Dn7PXydDvQ0PnoWj5Fhx3X6gX6ElMUTTKf7JalmqLJpDr/cYXVaKSp/khtjHzy/Bc3iKkDF+AxNGrkRbYJsttpg2fi0HjFoArglCIaFTNjRKRlfwT8v2Cq3FlH+oZ+/35SD2KF2/BY9mLwOVn04Pr0Dm4CcnDlyB16EyJ7J9wbXwvwJL32IeIewpa8gOjTIIssn9VFdb17Yc5P/4FFtz6Q6z6p29j1Ve+gkV3/AhT/pSMbZNmIVLFCciaDiP45EdOXaomlQEjgqTRyMkrkDp4DlJGlYisSh69DR1HrMSjw+bJB+xO1bNaEkHzrcnLalDwgJd5Tw3XKKnkhsoH0leWiab3w8g5cCYEjFtRjv+fvfOAsqyo1r+oiDlnEcEcngmzT/8P18OMggLPpfIQEUV8KJIEURTMSpAMCkjOCAKSwQEkpwFEQMIgGYY8w6SeUP/123W+09Vn7u00HW7f+9Xq01Wnwq6q75y9a+8K535n97PSV3/3t7ThPtelr+9zU/rqrpeEjDnsjCvSg7GFEOu/+hUsSFYVZJ4ZCaKt8/ZP9swLOYwBfNEt96Zt9js7foviq3temL5+4LUhv/ltit8cdlp8DQy1jHeW5oh/8fNz03YY1VlhMUCdIA7lMW9Pm7lkUTrwzOlp0z3/ktbf7fxYcd5grwvTN/e7JG24y1/SwedOjx96zHJVxgY/qMDn0nhASKnFmd+ZtDjmb+lbu/w1bbDneTHp9NV9r0jr/f7C9J2dT07n/yt/1hZZH+9F9RGAeL6VYtU/7uQ+tDQ8+Pod++erH8w94sxr09Z7nh5bdeOT6PteF+/UN8Ht4LMCt/gh1th30/+mCKVu9PM4nmUiK0TMwDOm8Bse+/PZ/d3/mjbcF767PH2LCaU9/p423vXUtP9Z02OMfWxBPifFy6YxNviPs1qKGBI43sr8A3eX3nxv2na/k+J3nPiENp9c3mDvy9JXdz0zfkvn4lsfiDE2PliQOMjLO5InO6IBTDz0LUwPXPOPdM7/fD2d+Z6PpLNWeWOa9vKV09krvSWd8u4PpdPWXCs9csmlMQKxIhB8EuNa9cGJbL8O2WploJ+0n3eHz5LHhFzIq/MTh7bX22t62miX89P3djo1HXH2P+JHOOMsG/yFXoVuhqiq+wHlkW+1og213Avs2cQ6LyZlHlqyJB10xpVp090YY8+NnyLga4H8psbGv8v8e89ifmATvkdo5PMK0plobwjTYbIFmPAJ74tuvTvGnvV+/7eYVPjGHy5Kmxx4ZeJ3RL6/x5/ThTfeHz8MyBugd7Hfz7KL4YRxgB/53e6A02OLKxMgG+57VdpgnwvT+jv9Nf3y8PPSvfOykYLcWswP+dHzMFBzn4ZsOhl4GRYtTosX5K+x8jwPO+vS9L3dz0xf3+3S9LW9mNy+Jq2/20Uhvw4577r0UPXjzWAWujIPs9aNMx+E3K0a0BOGBw8xfmhOoC5eEi8ivxJ9+T19aYs9zkhrfH+vtM7We6VfH3JBuvS2WelR9nouZKkqD+QxGFen82tAA9o80FJHv5BBCJQD/vxQULIwWhI/KPf3fz4cv+b5ha32ih/f22znY9O19zwW7eI3Jvi+t17EmramRPm6y5L8y71n3fhA2mafk9PaW+ye1tlin7TlLn9J0++cHZ/DDIOJhUa+EFEJxeDFmK0fvtmRmYDOzgvjCYNs/1OvTv+zzT5pjc1+nzbY8eB0wpX3p3sWVC89Rkcc5hdAY+lnBSHP9uRPtoWskqK1YHG66IiT0z7rbJb+tM5m6eCvb5EuvuDMNC8UOn6obVEsVeQ91xgw1W82sHwR0rd/H3V/vwe2v4wHV5TyGx+YEz/0t+aWe6c1t9wzbf77Y9LVdzxWzVjyjvADSwxQiC6ENCM7M9DMieSvZCEmrr9nXvrxviendbbYNa27xR5pq98fn66887GYcQ1dIMQ7GCzMMjBes/xlpYqng95g/2KQYIsZRuwiWrAkZpEPOOPqtOGvjkyf/L+d0qa7HpuOu/DmGJhQrOs+VzPnUX+lpFGvrsHqnZS0vrnB+2A7My1J+512dVp32/3SmpvvnDbb5ah04mU3h4JN/2Jyompk7m81ALVoOP0Vf8Zs9OL8Hf6QAU/MD1nPHn8U8hlXXp4O/enP027rbJD+8NUN0t/+cHCa9/DcWErN3/Fn1nJ2mrvk8bQgzU5LlsyKpe6oIZ5vXyiEF902L75Y8oWt903r/OAPabcjzouZMvoWWxZoZwwy2eiPPmWhUxkeebKh/z2pBqNqkMgjNjMUeaYWBZ8zcTc8MD/9dL/T0tqb75k+890903YHTEuX3f5QyKC5TJLww5LIO5SVWg4SbgHcCKPK9yoUlEqucJidmb0DT786bfiLo9J/b/zb+DHYYy68MX73PYwo4FAjEHwoEoXhwfMrXQyM9UFMGeeggBGRT7CwLe7GB+albfb4S1p3qz1DBm78i0PT9Htm5bOAVYPzBg+Ufn4JGgnBM8lWEG2Al1nNmHb9A+nbvzwsffzbv0lr/mDftNsJl8eP+D3B+xSTIXkgT9WvlweNqtEDW09KoRiFmMyzvrQ8T4kt4Rxx8PRBp1yRvrTt/mnNzfcKXj/psjtCxsyrDirzPDVWlBh1Wzi/Hwsz78ez48nMi/eEiSlWM26YOSf9cJ+/prU236MaY09O0+98vFLaUY75wb25wQPVaxYw8dSb71h7/CRr+JjB4jRzQUrn3jAzbfKrI9Ma39szfW2HQ9Jfrrg/3dtH66Ccv5QWyjvjVnzcgZUXtskwpvCbN/kLRXdMvyL9cdNN055f+N904CY/SDede2FKjz4aE24xDlYz7ch5JuJi4gN2Ee+0b3Tdv8xv+TdnaAOfAb/w9ifSVnuenJBX627zx7Trkeelx5fQ8mzI805moVF90k/8qne3Mjya7/kgzcmjYxjmlRyL2vJXlTAmMSquv29++uF+f05f+sGeae3v75q2/v2x8eltTpqwsoAhF3K81uFoZaDSkBiDtYSVNPrVl+DlmUsWp3Nvmp2++evD0ppb7JbW+O7O6ffHnRfPGTz4wVhcjClVKGOTV02pncdM++6ek9Kfzpie1t5697T2Vnun9Xc4IJ142Z0hD3kz8nMLEItzX/m+VYuFb5TjJiw3NodUHySJd25xuvbu2Wn7/c9Pa37/D+nL2/whbfa7o9L0f89Kj0S7pDehVzDBkt/+3CP61n9PXNcbHvAOKny8Q3EwFmTnh1HBtghYlE8WMuPMoDIbkKvJu1AcACxmQfSVDwmI6iWhgrDWs7WaZ+cKw6OalY9ZieoJoyTMYevSwnzY8MHFi+PTcliNs5B7vDyVYpgHSg6N5UElK0fVTH8ojbyMefvVTGa1Fi0JhWD2PNoLsYXxM/aZKGNvbn/M8ueqhvhf9Re9gi0Yi/KQCpMilBn842JWv5o56Vey+7EaopJBk8UYZMrhvI8wZvioIpSevL1k7jxmbPP3yJc8sTgteXx+SnNmx69wMv7HwBAzO1Bj0ICxK76IVRoYJLuyXsVlPyqtxERfzBRjCHJYDiz4BjxfeECoz56XBQZMvXDRvBAeeTDqXwrFGMoTxuysRNnLv2IOLX7Akn3tKAS8aosWI6bydFS829UEO7NW9SDXvuF1NzSoIIzZ5sObQpvhhfq5LuGH7bLQpiAwh4tZ1KxIEaWrSu0sr/oMKa89yInn6Cf8Tl/z3uI8DEYXK8Gr7rbqEGnB09F7Zu3y5EJ+Nn2hPASZeXkCgWyL2fj/BO/jE5FtAaNwpawzWPNBSZ5HfFgS3s0TT9WAk40A3jHazrvBOxfnv6pzN/mZ5hWTaDN6bhaA1cPTe6seZf6s+4msjDNPWdbwPoENF9jxRSY+y8ovD8P/IV1QjsGwL2/hqt9BVbGMfgzeMZjm5wM54tj6yTv/OLJzMVuh8lYEnueCWFnIqzu5+mxEBKAVn9DOZlsVl/GoysRkD883z74iHej3nNSX2LILr2K4I89pYVAN4yvzBTR5BLigX4Od73mGtPnRtChmDeFB6ISYJi/vb210aPDO9ESqn74+wRnWaqWAVG9pKGNL4stgUGGceywtjpnnh9OidO8Ti2NGFVzzO5O/rJZr6t7/ATFPLQ/j+SmFgZqVT2bwUVY5G4qu8FDf4lomz5qPgpVnlNlOHa4aj8AwP63myloLLONBZp2BMYKzQKx0QVGyOPwwGvlcaT5bFr9OTX1z4hBo8AOGw3wmLjAiaAAvEww8e05MmS+evSgtmcXkWx4LseNpK0brgiV9lM58AV29YC2arKichQahcC6I1TnaF/rNkmosq3z6A88KF2jEGB5LsqJY1RuDTTGmFcmDBfU8s9ygpqy4MznJGAscbB9iQgXeRY4+Uv04ch5jwbcaY6tVGPgrUxrGs6wbVxke1Rkv5DQTRI/28UwXx0rZI6GJ6sMX+R3U4wpZRWdC/mQDhj6gt9G6kMeL8hj2GKZmfgVqeQ986IxNGVc3T4HqGVdexGbdUJNU+WuCPFPqyHjFt8+iP/xYJdhk/TS/A3lSNT/lkHIxg8HkJb0LBul+wwMkAZVZBKAAVJgMxuTANvEwA34w8iL24vIlqmz5M3PPigEz7AAXQhmalfIa95XhoYErnl5IMvL18360pdrrhlji05NZYVmQ5i6aHwchsWhpS7xwfQxpeYtWHj6w4jNNZuCyEp23vLAcz4AbCmi8oQvi2/HqP82JB1/1gbaCx8hctZ2E10cLBDHZkr8dDxbxDef4AZmRUR4sd8kUyocBRX30Id7nvvyLrTAHhl3eBsSXMhA8C9LCBXnZlB8cpFA+TJdnQKHJc8pzmtXsbTVQq76BfmaeYCqYrvpkXdAEj4Vs3cLg4PcUcq56NjIUnzwTSkPy+1MtMSNfwghYGPNOCEh+mC4Gmnj0fG89L39CN17sysblnalxqgMDW13e8fwWcMCe58ggxdeMQjjnX3iGWtTLDHGldEUN4FIddKUsVRGfq6yEbXMgKSue4DCDOO3HYOa5gBuY039WweAr+hn9rZfY8wse/W3T3uh3pZDzTZssU/J7MW/JvPQEcRWPoLCg0IUCsLAvpb65sb1qCbs6wDyGQxqWv8CCnoDCGUZAfPksDzYovPGRiTBy5sXM5oIl81IfhzOrZ0A79Cz6Xwh1Qu+t7rNPfjDRpETgUz3jQIZf3Q55yAc6FsQng9l2iXJEWVbN4EPewQHv4cBqRneXOxNlCS7oqwZoZHT8yCK/0A2/V4pFPF8MEwa5/Fz5n4VE7j9YCa/IUQ2IA+MrwYJsrz7tGXSQ2yF7WQnP6xg8L3iBX/uOcaJSrhA1vAMhWzgrKGU0eChPkMRKSmXc5U4uiK/nRVvYvsfYg/EfR4jFX5Gzfrzx7Kq+Rr9UYX6NY8zLYOSzcbzzC5fks0nQndu3ILaqPgGP8B7xrBc9lg2eXFVX/493d8BEQn5m8dosAHN+Xydr6vwYMOML71xsnYvZ3ZDk8U7lBw4PVnK6kpFDAhgvSuZD5BFvL3KZaJ4pk6CMT/n5Lkp9fXkLYIha5Eg18cf7Nz/NS3PQb6gbocEcJEo3dNm/TZiDx/ANTBX6CxMe+f0ImsEqBfMN1gGycQaVMbkyzGNSJD6Iw6Ta3NBFaBu/TjR3Ias1IpjH8XxXhsGiX99S7uH48IN4NQyb4MG8HS0fv8tnv+gvk8wo8Vnm5h0RfNkv5Kjqr8bY4I0BDQCk9o72sxKUZdOS+KoqCNF39FDqDMyrMYlWMxb0Q5MFSJY/jCdsgc1jTcjqRfk3YzR+9aFPxsoqHyLq71c/1gPbGvXUlfWn0Qb0JsyWLNsq+ZoYnxbkj4igFyyZX+sC0rditTze0yx/80RMNjhC/4yXq0cOl4MtF8zLS8nsXL0cFLO3+YHmpXwYk6VTmAOupcyiUOqD6atBmscULzhMy5PPOSvBUI04pFVWPvPD8VKEwsyDYCWFJfzH0+LFzB/2xX5AHjSCDWWWh8gDhQYvT/QjBsmq7kopzL+4yuxLtu5jhYbBigGlOqBKT6LOoJlxgN5wXAgA5FdoT9nQgaGCTWKmJyv34JdnTKtZvuFWMJxGFHliICgU7pCqCzKDh8DTMvGSRSGAESSUyVvYshbIs2N2OZQICaYY3LUsUmFc1NsfzAoM7wa40s3AI4zTuSHl452oHhqDBPqmflstBqUYWir5iDJFf7iYlkHsLeZrJTx7RouFTOPG4IdACeOSZw39GDRKRapqUH9jlwrRXorGYEZ98Z7nrVcxs8sgS1sWzQ9FkoNqA4RuvIO0JL/3WdBTTaXgVe/oUhVPQgR9pX0L5ufnQl/ZFoGSSHvDqELBCz7Lq2a5mYMPKuThnQKX+J3bYpY7hld+vCn25+dBDREBb6OYz+VcESVRABiA4jOoOQ2hn3V+XkqMj6ocikcMPJxReiylJXPSwsWzQoEM/qyaq4EtVMgYgAcHnTbWbFoFaFPun2a9tYrCebFZMSMYykT1Dmcai0NG1rQGr3YEqbQlt4e+8c7ms28M0MibLCfj+SJ9+5h1XRyTOIFF3TvRybT6G5DluwbFeF+UCJOEy+81vMG7E0poX/bJEe/AQgbhfMV9vBuS85kKd8j24NZ6FZ23JT/jGLwXzUt9fbOiD5TK7xA9yXImhwrZVMku0kmLFldygfI8OejjQjHUO1HJqhh7UFbnz83KClt8eQF5OSuluirepV5+S3hmXPk9yLyNkIzUwANerPSBMCryj0OyC0BjLDjn8nliKZ5dPJDBodOzJRcfh+CeCZO+vmxw5m04HMLGwkA+5PGVtuU28/BzRVEnCjXnevidqmqXC3Ll8UXVROb8vHpHCYwb2qx3h/I4+YO3vHopKzmax6L8LjMZEZJxyZzQcdLi/APOyI1++pn3+uuGQ5bd5baL37P4kMEVRlefZMDimLQJvSjGWMZaJlEYoaUbwAcZb+IHOtEZGKs7tSN/hj/zFLJj/oK8FS5PLOVtnP16UzY8KBvlqyprHVMTEX0LwvBlMo0s/OZb/IZSTBDlLfHak5DboVYN7fM+8O6FRKnagT4ak08xthfnRjDOkMMhL2gJXJAnZ6iJGF1Zjuf2dv1Wq+h8gJVlaYxhvEhoAnEWIStYIWSq975+UNVsAwMxF5D1M0llCRRCXunxaKt4WJotN1koMZvECyjGzgYAD2TunMerma1cD7PnPDCUUR5qlgf9g+TCRfnlZZDFhSc+4Etasx6NDvPyxR7weAEQnkx/UKAyjqJ0+3+aBI4ctLtuf1aaQIT2z583q6KdBWN7isuYQtur5udXnNr7BwWMiZC1rLogUFl5YA4otgzRAWacs4HG76TwXOP1iEEGJpLynOup34V8W/zP/eb3DjQcoRiGAit8WV6djaDNzy1myQZQyEwbDYimIUwqTkXxD7WhLy1CUGH08SNT1cxprKDQl8rwkD5RkG8bpE/VaxOvwYIF8ypFJ/cp94H3jw8Z5P3oKMzx7kdF5NPSqd5lqhN2YzOAtO3ACBLideFdD8UwK6UUpxsxs7UIgZ3fh6xYFMSrd62IqYOUz1DwDHnjMg68T6xKxYoFGjLsxorBkgVZEcAAZj1kybzERy6CRswM8h4tjHzBUpWRX1dIH3gC8B8ZFmNMZfkR50SiPdV2J8LxtHK7ahp1IL+PuuW54ngv6i7He8VzzCtu8b6RqWpHLpuN4fqMhx5/7lRuZ844+v/Rr9z3bLjT2r7YthjtVV2Is8BmYepbxKxvpZTVNQ/sM9GZt6v4LATq3AoM5NmMd+CPYlUZhU8syONDYrU8Vicy5wYXxBhTyaLKMIhBOs4RZNkQk00obwE+gzqrs8jUrBAyVHGRrmfFTbRf/F89miBBHAUyl4ZIyW3OY0+MGeSpFOm5cxlLFubV1GoFkLIZTyHRxX5gmIfFkGvBzxi4PB9kQ+47Y3J2PIxFaeETj+Qxdkne9oisjPKh/OVJjPyODY2dKPNcY/Ip3uf8DEMHYHpi/uxYhUIG5LjctDA+eDPgBYoU4rdvfvVuxljCVt95sTU7+AOlFQU2VuGr1f/49CqqpN71odtOjlCnBvBQxVeME/HysiIYgikbTjE52C9zYmwpsB4ubq1aV5bNYZ5hNiDyONDPB/AUOtHi+XmMpa2ZH2lbPyYZ2voptap2qTjqzuKSszbVzGM8okw3T1Zy9jPvqsnvWX7mmRgCFT4s4ugHzQi5yNuWt2EH/qGb5c+Zg2eWJ7kf+cUo6CzV2iIC2vHMshxhZSMc+hSf6I5nlz8TTh9j/ItnT66BdagdGTnSsgTresODFyZegGqDH4DyIBk0ArSw6AhnSAAob8NBOauMgGrACCU1P/P8IGIkoKBgHThwx8tR5Y86K+sx2hMPLw8e1I0jnq8g4PSuBUNGeqVwBL1QrfMMKJMa/Ho3srB65jFDUg1IoahWM2qhdMdMV1Vh1DT4P/VML5SYIPoQgzvdz8Ir2EBCvFRiBq9i6NS6ufnFpQDClivwybvN68GWWZzAHgHcl79cFa870azKVIDHthXwJF+FV1AkoujHYA3k0TM7hWOVDIw1KOQnWb1/lcIY+NGfqk9h6NCTerWIWeaqTGV4xIoEbeddDtZFIUF4Ve9e1Va1s4ZLES38KFtnzMIgjIuoAO04v2+xVamqV7hlcv0Cpj8+a55ZsWpR6SRE9eOdn1E/r2WhDf79Clb/+6XnoybXUClCWcGpErqaEQtFgOcNhMgblqSrrReMrdSHIRLbkkIm8L7xl59ryG6eaSUTqhc0yysYHbrVgJTfgfxu0LToT914NbL/WeXmSynId2Xf+uuEZh7k6E/IvpCl+d2MMijVlQtlKR6/6lTKWPkBUMZJWFUrSPH21nXnCRE9i/7a+9vV/75WqdHPEAL92RuheG+qZxLiHmMgtu9mJY364j2q3gXwCdkUykA2bKPx0AXHkEOZh/VIg0bMumfsQ7ZUMo5w0It20dn8HOJR611Rm2lDNDJH1FiEIoXczIpipIq3xQfVM476yhdDtLvMjy7SWfU1nl8++xeKZ2wzXVR/YZJnjqvHkdihEPMLwc95iQGjg2dbPaOhMKPu3JCcs3pVszyIESnzfmUQBV2KVHXQfNZYeENCB6h0C70D+fmzTStvBYwVc9oW9eRyWXnME1lSvPOoMFTjMx56t+GtfOV3W0YHVGodCFYr+hvvWkTkcbsGIfIMVX+LdAjWTrIu+5L1+dnQasZb6qXvNDLL3dzE/BwDR+JDCNSEWwSERU5S/pCjRMUWcGrM3Y/0kONwJFc0oJqMatDKxas8+b3izYjdMdVkAc8w6qrkMijEs0DAVLTrRpcQVeE6SvwQfn5nwugOuQLN3H7ejxrqCOQ3po6LOrMoCtrBWzlP1xseNdAOGAEjYASMgBEwAkbACBgBIzBpCNjwmDToXbERMAJGwAgYASNgBIyAEegdBGx49M6zdk+NgBEwAkbACBgBI2AEjMCkIWDDY9Kgd8VGwAgYASNgBIyAETACRqB3ELDh0TvP2j01AkbACBgBI2AEjIARMAKThoANj0mD3hUbASNgBIyAETACRsAIGIHeQcCGR+88a/fUCBgBI2AEjIARMAJGwAhMGgI2PCYNeldsBIyAETACRsAIGAEjYAR6BwEbHr3zrN1TI2AEjIARMAJGwAgYASMwaQjY8Jg06F2xETACRsAIGAEjYASMgBHoHQRsePTOs3ZPjYARMAJGwAgYASNgBIzApCFgw2PSoHfFRsAIGAEjYASMgBEwAkagdxCw4dE7z9o9NQJGwAgYASNgBIyAETACk4aADY9Jg94VGwEjYASMgBEwAkbACBiB3kHAhkfvPGv31AgYASNgBIyAETACRsAITBoCNjwmDXpXbASMgBEwAkbACBgBI2AEegcBGx6986yXuadLliwZEY2R5m8SV3l8hXPJlLEAACAASURBVJt52t2PNH87Oo43AkZg+AgMl+9a5WsVp5oHS1Me+0bACHQ2AmPJx61otYoDkTK+DJdotYtvli/LODw6BGx4jA63niwFY3ItXLgwzZ07N/3qV79KO+ywQ1w//vGPw//JT36SfvrTn8ZF+r///e+6zOLFi2vcCHOJ5qJFiyKseO5xKoNPvcQrriZWBBYsWBDpjzzySPrlL3+ZTjnllEhtJVRaxRWkHDQCRqAatB977LHgd3j7Zz/7WfD3jjvuWPM6cVyPPvpoYAavirfxxd/yyzjlI40LR1xfX1/4useHLg4ZQB78s846K9qx/fbbp6OOOiriRCcy+58RMAKTgoB4m8rPOOOMmk+lNyBPCCM78O++++6at+FhjfWlPBHvQ1Pp1EMe7sX7ZflSnkhuqG34KkN50S/zKW5SQOzCSm14dOFDHcsuwXylE7M+9NBD6eUvf3m65JJLaiXhla98ZcLwQPkn/QUveEE69NBDl2Jk6JVKheiL0bmXAFH95MdJQKhM6Stt8803T095ylPScsstlzbaaKM6i2gRUYbrDA4YASOwFALw4i233JLg73vuuSfSd9ppp/TCF74wFAUibrrppvSc5zwn3XjjjWn27NnBv8TLUCBc8lwZTxpl4F/y4GugL8vMnz+frOFU/ogjjkhPetKT0tOe9rTgd3geA4TydkbACHQGAvPmzQvd4OKLL44Gwb+vfvWr04tf/OI0Z86c0Bl+8IMfxMSBWqwxX/fIBcohE8Tf+MRzlY6J0VJ2KJ04yQ7C0kOgQxuVhq8weVSf6ihpK87+8BGw4TF8rHo6J4wG84nhHnjggXTMMcfEPXEYGyuvvHL64Q9/GDiR95prrkknnnhizbRiXvySFkKBewkQpUMI2qXQIK4sWz4U0cBHWLz//e9Pm2yySWRRu8v8reLKdIeNgBHIxv4NN9yQUPLhGQbk3/3ud+kZz3hGrHBwD49ee+216frrr4884mHyc4nHFZYvXua+DIM799AufcLIGvJjiGy33XZhtHDPbOnnPve59NKXvjTi/OyMgBGYXATgV13nnntuNAZeZXxeaaWV0tOf/vSaV++77750wgkn1PxNOekElOESLaXJOIAwYeXhXmGVlQyiLPXjiFM+7onnvvSbtKJgYyJFcfaHh4ANj+Hh5FwVAgz6OPkChlkLBAmKQOkkGMT0Kgfz46RYcK+8xMP8zEAov+Ja+cThKIOT0EAJ2XjjjSOuTG+G6wwOGAEjsBQC8KZ4S/5vfvOb9MxnPjM9+OCD9eBNQaWLiBQHjASlic+5Vzr5W9VDHJdoKyz/iiuuUFVB684770zPe97z6i1fdaIDRsAITDgC4nUqVhifcf1Vr3pV7IpgGydO8qHMKz5HTuC0kkHeMk1l8VUPeoDClBUN+dITSBMt2iVaykcaYcXLjwb536gQsOExKth6q1DJaITFzPgwJBeGx2te85r0ox/9KNJhVpVjCfXd7353OvXUU2ML1Dve8Y6akc8777yIY7vEl7/85QEzEaD89a9/PdKf+tSnpnXXXTfKSUg0nwLxCBMcis7nP//59K1vfauZrW7XUgmOMAJGYCkExMfwOzzGtfPOO6cVVlghMUtZOs5WPfvZz0677757+v73v5+e/OQnp7333juyzJgxI7ZFwetcRx99dMSLb2+//fagSRrlWGGRrCGPnNrAxARO7cO/9dZb0yqrrJKkzKiMfSNgBCYeAfFtOYFIK4hnovJZz3pW6A7aRglP33bbbekNb3hDevjhh9OHP/zh9Pa3vz14HFlw+eWXD5Ah1113XXSKNK6LLroooSuw5RL5RLpkiAwJ5ITqQ+Ygb/baa6901113xWop2zbZUipjo2y7ZM3EI9ldNdrw6K7nOa69EQPDfBIoYkQYmT2brHgoH4x75JFHpo9+9KOxP/wXv/hFHC7Dv//+++P8BcoH+bjWXHPN9PGPfzwEEYrD1772tfSPf/yjVnZYwfjkJz+ZnnjiiQHKBp1WO/ChhQECvXLFowmOyjTjfW8EjEA/AvC6eAWfe7ZaPfe5z42zXIqD73bZZZc4b7HWWmsFr3Ng9Oyzzw5lgo9NSDZcdtllsWICPyM77rjjjoRcUPqll14a6QcccEDUXbZBLVMc9dIGrj/+8Y9pq622qturvPaNgBGYHAQkH+TTCngWfYHtmhrPiUMf2GyzzWIlhFVVDp/zkRjOgB188MGhT1Ae3t9nn33SG9/4xvT4449Hx8p0aO25557pTW96U5o1a1atrxDPJXnx29/+NuQMk5T77bdfyKJdd901JlE1eSE5Qxm7sUHAhsfY4NgzVFoxH4zJTIW2WnEvR36UlPe9732Rh3iUCwSMZj7xmfnAZ7YCYwUhwqwFF7OfSsPXTKmUFK1yqG34XGussUb69re/bSVED8O+ERgFAk2+ggSHy9lqxVkv8RvxzA4iB/bdd9+oSWlrr712vbIJD3OJr5lc+OxnPxv3xOnDEIS/8IUvBB0pC/jIF/F+KWv4oAXnO5i5tDMCRqBzEWDMZocEq6MyPMTLTERgULCLAvnBPXLlrW99a8iNUidAVujs2dve9rZaxiy//PJ1GH0CBw0ZHtxLjnA2FSOGe9LPPPPMOHvCZIjy4UsORqT/LRMCNjyWCT4XBgEYEuGBINHhcuKlHGB4sNVKjA+DMxPKigRlyYcgkiCA+flUJ7MQEgbkI4zPxWyIllRRYviiDrMiOPLhUGZarXhQ3s4IGIHhISB+ga/EW/C0zniU6VIodtttt5pX4Uu+XqPVTWoVHcKks98bBQKHPIAmF/mQLSuuuGIYJiga8Pu2224beZWHG1Y7OOBOGWSI2hUZ/c8IGIGOQQAe5yt5MjxoGPwK36InvPnNb46VDOKQKWy7QofAibeVn3vOmr33ve8N3of/oYFPHi7kFRMZMlpYrWWbKLSRLXvssUed97TTTot8fChDNDoGuC5piA2PLnmQk9kNCQdmOjnjIWanTQgYtl9wrgMmlvv1r38diguzlHIIEDnKsAqC0iFH+ZIG9eBKX4KCWZIvfvGL6Zvf/KaKD/BVZkCkb4yAEVgKAXhFfCe+YYsCX6SZOXNmPcFAQfidgVwrHsSxGsq5iy222KLmVfE6PmWQHRgTikdxwKEYNJ3aQDku3EEHHZQOP/zwoK845WuW970RMAITj0DJj/C5tlqxsiG+h3e5f8tb3lLLCsqhB7zkJS9JfDwCR35kg+QSZV70ohfF1k/R4iC6HDQUrzjKImdoB9uy0BmIO/3002NSk0kMubLtirM/egRseIweO5esEIBZ2UeJwsEPCXIPo0p5YFsGhgf3xCNcDjvssGBujAPuxdj7779/Ou6442KrFbOb/CAYAgahQJ4DDzww4ggTh5NyQhx1UD9x7DPX53T1sFSP7u0bASMwOALwjAZt8Q/nNfh6FFutcPAcDr5j9YIVD8WT9ulPfzoOiWKEQEN0MBauuuqq2BbJIVIZDZQlL3JCdGiDLskY6Pz973+P1dPIWBk/lFUexeOr3jLOYSNgBCYWAcZuJhvYqVAaHrQCHn/9618f8cgDyRbOa6yzzjoDxvurr7469AXoYax85jOfifySVxxGlwyBNvKJNMkBaCOvOFwu2YPhge6hg+vkVf6JRal7a7Ph0b3PdsJ6BlMiAJgB5Us2JZPC2CxzMuPJDISYnmXOD37wg8HgCAsOkbEtCsMF44H0D3zgA7HqwY8SsjULI4IfB5MBQwelXEg4SUggRFZdddW0/vrrD2jPhIHiioxAlyAgnqI74rNNN900ePOf//xnHUc6fMcEBCua5JXigHHBzCJpbMfUVkr4nTzID9JRAvhABTyPksHBdNGlHapfPisdr3jFK2KlVb+CDH2+pEeeUhZBp3kfxP3PCBiBcUWgyXf33ntvbLNCZ9DkhfKwuoFRwhfyFIfPr5uzXYofLkZuSGfA6IDX+TgF6ZztRL6QrjOepEse4OMwQqgLehgeOPQTDA+2c3L2DFe2ISL8b5kRsOGxzBCaAIO89k/CsHyOjh/zgom33HLLSCOefZs4GFnMf8EFF8R+StI54CWn9G984xshBEhnObQpBMp76sMxw0F+2oRPezhwqqVX0VZd9o2AEWiPgPiFgZovvbA/Wnul4bGNNtqoLvyhD30ocbCTeA6U41Sew5qUgycxFkp+hI/LdJQBFArxNDTII37nnjMd0OISXcKtlJm6gQ4YASMwYQiI9+FjeBeeRzeAR8W7K6ywQkIPwDFxSbzG7mOPPTbixfuXXHJJze/vec97YhKSDEqfNm1ayALGfCYetQNCckN58ZFn7LhQO5jsYPVUso3D7MovORQR/rfMCNjwWGYIe5uAGFozm6ChOIWVJiHEPY7tEDjdIyR0EQ8dhIPCYn75kdD4R3mll2VVN77SG0V9awSMQBsExDP48Ct8hlO8eA3+ksEgOSD+5r4MU5448SZplFU55S/LKE31UlbloUc71LZooP8ZASMwqQjAs/Cr+BQeJa7Jy7onH/lVruR1dUR5lY97xZGnDJd1i5bklXzqVBm1U770FJVVPrXF/sgRsOExcsxcooGAGFLMK59sYlLiyFfeKx+KBfG6J6y8xEk4lPU0mhC3lCuvJl3RUVta0XCcETACAxGAp3DiSRkH4qOSb8krviM/aWU+8bB80nAqg09aeZEH3sUv6XOvOOJFU7SCsP8ZASMwaQjAl1ziU3xc6Ze8Lj4ufcKlXKC8aEJHVxlHnnISkjzQwKc+fJzC3Kt86ZOue8rbjQ0CNjzGBseepgLTapZRzA0gMGzpCyQOk5XxMDeOsjIOVFaCQvm5V54o1PjXTNO9fGVXnbq3bwSMQGsE4EXxi/iSnOWgzL0Gb6Vxj6NMc9BGXigdQ0b5xKdlPTJ0iFMZ6HGvfLpXedELwv5nBIzApCAg/iwrFw+zkkC6ZAvxSlN+0iU7SONeH44o8xCWHClpKKyyyAdolPXqXvXgk19lkVXkEX3Va3/0CNjwGD12LlkhICYtfTFzyeAwLodIOZDKFyOuueaa+O4+YT5dh8+BLuKVjs/3tKdPnx7nNCSkoCtXhss2SDEiXUIEn3jREQ37RsAItEYA/tFgLF6CfzRQE6fBWXHiLwb6+++/P/gbvtYlnkcewPNc4n9kAZfkA62iDtUpHiZeYXzqVvta98SxRsAITCQC8KN4Eh+ne4Xha6URhpdx+MqLHOEePQD9QfqCZIRkiO7lS87gE4dTfaKtuEgsVl+pT/Wqfcpjf9kQsOGxbPi5dCUgJCQECIwKg+PEtHxyl8NifEKTHws75phj4tO4HAbn4hdGDznkkHT88cdHHn5wTPkOPfTQxMGykl7cFP9UD77aU8apLHGKL4o7aASMQBsExC/iHfkySFSMeBkfxDFwM+jD6+JvwuJryQM+my1+Rz5wkZ846EmWqB74m6t0updfpjlsBIzAxCMguUHNrcIyNORLrpR5KasdFXxqH9mBbJCMwP/zn/8c98gT0rgkc8ivMqIPTX1lU6ggN9QO4sqJDMsUoTQ2vg2PscGxp6k0hYTAULyYnV8oRsGQQCDMhZDAl3CQ4MAnTmkyPJpKiOqzbwSMwPggIF4eDnXllY/hwYQCSoOUBXi6DJc8rzDp5Tf4RW84bXAeI2AEphYCJX+XYfWCOGSD5IbkhPxSVyh1CeUnDteKtupo54+mTDtajk/JhoffgnFHAKbl4pvZEg6sapTLoIRbXXxmT0Lk0ksvjbaKnhpeCoUyrHT7RsAILBsCw+Ur5ZNPrWyDEA9rSwRbJbS9Snxf3p9zzjl1GWYbuUqay9YblzYCRmAqICCel4+RIR1CcgNfW68II0fYVqXtVipDueE61dfM3y6+mc/3gyNgw2NwfJy6DAiISfG5MDwQAsxinnTSSTXlwZYxb7vttsSPhFHm4osvjjKiWxNwwAgYgUlDYCh+RBlg0GfmUU4yQffyRQvlgfysjBA3mIxQWftGwAh0HwKlrECO6Gr2VLKDeHZFqBzbr7SNs1nG95ODgA2PycG9Z2oV8+NrqxWCQ4aHBIQUizI/IN166631VixttVKengHRHTUCUwgB+LN0GB6acCCedPhevE+cVjRII8whUu3XLtNKuq3Czbpb5XGcETACUwMB8bP0AxkQyBPJBXqidPwynvJMWjKJgd4hJ7q6H6m/rOVHWl+35bfh0W1PtIP6I+bE59KKBwLglFNOCcWD5ipdAoN7hWfMmBGHzZn5ZKsVyoqdETACnYUAPNvOYXigMKAs4MrD5+J14sXzhPnaFfnhe+Un3c4IGIHeQ0DyRasdyAbiJD8U1j0IEcYhQ7hkeCi+iWK7eOUbKl357A+NgA2PoTFyjlEiIEbFR2loGh5SKAYzJthqhcBg1oIVj9EoH2rHKLvhYkbACAyCwGD8RRrbplAUZHhotWMQkvHJTHgehaFcGRmsjNOMgBHoDgSaMkX3kiOSJWVvlUc+aYT5mE1peJRllKcZV96X9Mp4h0ePgA2P0WPnkkMgIIbF58LwkAA4+eSThyidkzE8VIYVD9EcVmFnMgJGYNIR0FarUlkYio+bZYbKP+mddAOMgBEYNwTE/8gQJiJLWTJUpcqvFY+h8jt9/BGw4TH+GPdsDRIW+Fw2PHr2VXDHexiBphEBFJIN7WBplhkqfzs6jjcCRmDqIyD+t+Ex9Z8lPbDh0R3PsSN7IWGBz2XDoyMfkxtlBMYVgaYRQWWSDe0qbpYZKn87Oo43AkZg6iMg/rfhMfWfJT2w4dEdz7EjeyFhgc9lw6MjH5MbZQTGFYGmEUFlkg3tKm6WGSp/OzqONwJGYOojIP634TH1nyU9sOHRHc+xI3shYYHPZcOjIx+TG2UExhWBphFBZZIN7Spulhkqfzs6jjcCRmDqIyD+t+Ex9Z8lPbDh0R3PsSN7IWGBz2XDoyMfkxtlBMYVgaYRQWWSDe0qbpYZKn87Oo43AkZg6iMg/rfhMfWfJT2w4dEdz7EjeyFhgc9lw6MjH5MbZQTGFYGmEUFlkg3tKm6WGSp/OzqONwJGYOojIP634TH1nyU9sOHRHc+xI3shYYHPZcOjIx+TG2UExhWBphFBZZIN7Spulhkqfzs6jjcCRmDqIyD+t+Ex9Z8lPbDh0R3PcdJ7IcFQNkRx+FwyPBAeJ510Upm1bXg4v+OhetoScYIRMAKThgBGhL6lr0YMxbMyPPTt/Wb+5r3o2jcCRmBqIjAYT+uHgyVH0CGG6yijcsMpM1g7hlPeeYZGwIbH0Bg5xzARaDKshAXxXHPmzIkf/kEIjOQHBDXL0eoHBEV7mE10NiNgBCYYARkRw1EWJEPKXzsfKY+LxgR309UZASMwCgSGw6/Kgww5/PDDh/0DgpST0YEvOqNopouMIQI2PMYQzF4l1WRm3Zc+Ya14IDiGa3jMmDGjNlYwPGTMlFirHsU17xVv3wgYgYlH4Nprrw0eLg2PoXi0WYb8ZZky3KpHQ6W3KuM4I2AEJhYB8an8drWTznXUUUfVhkS7vM14GSql/CnzNOtu3pd5HR4bBGx4jA2OPU8FZu3r6wscFi5cGD5xuojA8Dj66KNDcAzX8Lj11ltrpeWyyy6rDQ8ZIBISuqeesk6lR4P8zwgYgTFDAN6C7xYtWhQ04XuFS35st+LRjjeJp8xxxx0Xs5vNfKKNTxoXskdh+WPWURMyAkZg3BCAX3Hia8KSI/gKE4/xoCsKDfEP2uRntQOjRU51qW7iFZavvPbHHgEbHmOPac9RRDDMmzcv+i3jA+YlHgaXgjB79uxaCIzU8DjssMMSKx5y0FYdxBGmbtWlfBYiQsK+ERg7BOArDd74pXJQhjFGmqsXtEJl27UIw0NbJMgLnZKXFS7rgpbkQju6jjcCRqCzEBAv0yp4XfeljFD8oYceGpOXrGIM12F4YHRQBjqSGdRT1lHGD5e2840OARseo8PNpQoExLwo/hr4FSchQnYMj5GueLDVCqEhw0N08aHNRb1No0P1yi+a66ARMALLiAB8JV7UCif3ukjXQH7NNdfURkRZbZM3uVdcuUqyYMGCKFbSLOshrDSF5Zf1OWwEjEDnIiB5QQvFv/LF31rtwJesGKpHmsBA96AO0URuEdalerm3G18EbHiML749Q11C41//+lfi4nDo9ddfH7OdhJn1vOqqq8KIQGgMd8WDr1pJ2JxxxhlBE7q6UGpuuOGGdNNNN0W9rLyUAol2lfc980DcUSMwjgjAUxqwWYk86KCDgreZkWSgZ6IAn+uYY46peVhNGmpwnz59el3+hBNOiPAhhxwStKCJEsHFLOY///nP9Pjjj4t0PflRRzhgBIxAxyKg8fmhhx5Kxx57bDrwwANrWcLYD49zIUcOPvjgSCM8XIe80OQl9LmH7vHHHx80oY3cQmahVwwlm4Zbr/O1R8CGR3tsnDJMBKSAoOTPnDmzVjRgcphaqxwwOwIAxh+J4SGhIwOE8lyijULC53nvuuuuEBoIMhlCEmrD7IqzGQEjUCAwGP+I7zm7NW3atOBH+BKlAB9e54JPxbsiPRhd8jBRgdygnPhfskP08FkZgRZtwddl5UFI2zcCUweBhx9+OF1wwQW1/BCvS45Il0C+DNdBQ3IJAwNaGBmiif+Xv/wl3X///fWKyHBpO9/oELDhMTrcXKpAQIM9UQz4rDr8+c9/rmcTxOBSPhACwzU82GqF4JCwkEIDLQwbBMk555wTBg/1Y3BI6ZBfNNVBI2AElhEB+F2GPaQUvvnmm2tDAX6FV+FT+YTloDGYY+YR3taqhhQQ7jl0Dk0ZHdASr5eyaDD6TjMCRqDzEJBcOP/88xMTivB7KUukC5SyRL1QWd3LR1ZwyWiRLJFsgv59990X2SXLVNb++CBgw2N8cO0ZqiWzl2G2WzHzCZMzu8CMArOYbKEgja1ROPZvS2loBdqDDz6YbrzxxsSWKrZsEUaAIDTwMXAeffTRKFrWT0TzvhV9xxkBIzByBEqeJQyvMeHw97//vVYU4E9WIUkTL8ovB3jF0QrRFU21TCup0ESenHXWWZGk/Mpn3wgYgamFQMn/kgusfLAVCoMBwwBd4rHHHotJDvJQRpd6KzqiQXwpRxR/5ZVXhl7CFk5kCfqI0kTL/vgiYMNjfPHtWeowMkYChgGCg9kL9oITr0PoOtw1GNMjOJTOPu5TTjkl6MnwuPfee+OLN1ZAevZVc8cnAQEN+uJNDfr8SOh5550XPKrZSc5pkU5e5ZNCIDp0QWF80rmQFVdccUUoHpr5PPvss+PT3NBr8r3oTwIkrtIIGIFRIFDyLGHJFM58/PWvfw3jg9VPJht0lksftFB1oqGy0i0kR0hnYkSyRBOiTGYiY+TI15QpSrM/dgjY8Bg7LE2pQEDMq21XYnSUEhkerHZIYBRFlwqSB4HC4XJmPjA6UEKoQ4KGPKIlfylCjjACRmBMEBC/yYcPuXT/t7/9LSYd/vSnP8XWKIwPnL5QBe82+VRlyad0PkhR8jwrn+QT30vOjEmnTMQIGIEJRaApA8TPMgZY+dDv+Wji4Z577qmNA8kJfJWVUSLayIq5c+eGzsD2bFY58JElkiOqj86r3IQC0WOV2fDosQc+Xt1txawSBHx1hi0SujiIiqMMDN+qrNIlRMqv3PAFHVZTZLhIeOC3ozVe/TZdI9CLCMBnrXhNcfpCjT4wwbYJzVYOh0/JwxZKjA4UBSYbzj333Hp2knpKZaMXn4H7bAS6CQHJBfG2+saPCMvoYOvViSeeWG+vpoxcq7D0ByYwKMvKCT76BE7ySrqKaNkfXwRseIwvvj1FXUxMpwkjCGBomB9DASUCpue6+OKLI418Eg4qV/rs6zzttNPqrRvsy2R5lJUUHPShUdYdCf5nBIzAuCFQ8ltpAGjwJ53zWRwSRWngOvXUU8P4EL+Wg31JDxp33nlnTFQgKzA6+IDErFmzgs8pp3pKGuPWWRM2AkZg3BAoeR9dgHv4W3KCirXtCjnC7gl2PzAxQZ7m5GVZbv78+WFkIEMox0SIjA7VgQxRGYXHrbMmHAjY8PCLMC4IiIFhaDl+b0OCQ8rEUIrD6aefXh8kR2jw6U4JCfnQL8Oqr6xbcfaNgBEYHwRKHiwnE9heyRkveJ8zX3fccUdtONCSkk9ZxYTH2V7BSgerpOWWCPJKOcEfTH6UdMenx6ZqBIzAWCGg7U7SHaAr44AwxgfyQJOXTGSyiioZUE5GiPcxMtjuSTkMDyYtSeMqyylurPpiOoMjYMNjcHycOsYIYHywVIrwQBHh8BgzoziYH+HBxUoHsxrkIS8Ky913313nK5tFOTsjYAQmHwHxYqk8YEjowDm8jFFxyy23BL/LQKEcRgdfnEFJgO8xPFAUpFCI9uT30i0wAkZgLBEYjLeRJZInGB8XXnhhrT+wGwLjAxkBDS7ysiMCWYIc4eKrmnwyV3RoO2G7yUHAhsfk4N7TtbL8yZYpVj04r8EWDOIQHrNnzw5sWOnQfkwMFeIRFFJCehpAd94IdDACUgCaTcT4YNXygAMOiG2XbKfC6cA5s5PaDoFswOiQomC+b6LpeyPQOwjIoKDHyAQ+281KBqseTFQ88MADoRswkYHRweQGsgY5wqXf6aC85JNlyuS9PzY8Jg/7nqxZy6n8QJiWTZmR4MA5ggChwCfvUEAkVIhTOSkiPQmeO20EOhwBDer4OHhafM0XaphMYPWSlQ/4W6uY/Gow98gCFAXOdKg8tMz3AYf/GYGeQ0D8T8eZoMQhS7Saga6AocGnvHGXX355GB0HH3xw6BjlVk0MExkcklFRyP8mFAEbHhMKtyuD2cX82naF4ECIMIvBt7r1i6XMWOh3OiR88CU4jKYRMAKdhQD8WV5qHXG4Rx55JLZdaSYSX9/WRwawvQqjg+0TlMHgwNnwCBj8zwj0HAKauCjlASAgS/hdL4wOdAZ2SSBLmNBEruDrILnkj+SI7nsOzA7psA2PDnkQ3dqMdgwu44FtMOiyvAAAIABJREFUFmylwvjgkkLCrChfsdEecPCREiKa8rsVO/fLCExVBODVUmGAV7nEz9qnrUkHVjtQHjj7waymeFv5NdOp+KmKi9ttBIzAyBCA58sdD5RGtiBjOPPB6imf60Z3YEUVH2OET+hK5sjgoCxxukbWEuceKwRseIwVkqYzbATE9Pi4mTNnxvYLBAYKCEKDlQ5cM6/KyI9M/mcEjEDHISAeZdDXwI8hQTwrGhdddFGsdOrrVdddd12tYJBHkxPyoSEn2rq3bwSMQPchUMoB8T9xXJIrrHxccMEFsVqK/nDSSSfVB8lBROXwJTcU132ITY0e2fCYGs+pK1spIaDOscrBxeEwBINmO5Uuv1lO8faNgBHoTARKRUEtZLXz5ptvjtlKjA4pBoPx92BpomvfCBiB7kdAMkU+xgcrqPyyOU6yQhMXQkTx8hVvf+IQsOExcVj3bE0lgxMu7wUKcfxCKZ/exLWakWhVTuXtGwEj0FkINPm1HU9z1ktbqWR8NHsiWvKb6b43AkagOxEYjOclU8jDZ/k5SK44yRLdC53B6CmP/fFFwIbH+OJr6gUCgzE8ezgREKWwUH75BSkHjYARmEIIwMMlHzf5XOllnnbdG06edmUdbwSMQHcgwEoGsgBfugM9U1x5LoQ4XcrTHShMzV7Y8Jiaz21CW72sDEv5oRx59D1/tlhJqAxVrl36cOpsV9bxRsAItEagHV+1i4cKaSgGCiuvfHhd2yrlt6592WNV53AojSTvcOg5jxHoVQSavFTel+EmPoOlkRfZIUcYY2OoMso/El80m/5IaDhvPwI2PPqxcGgIBMR0ZFNYfruiQ6WX5ZRXsxdSVso87cIqW6a3iivTHTYCRmD4CLTjp3bxrSiTF77GV7kyrLRWZdvFiU6ZXsaVYeUp48qw0u0bASMwtggMxmeDpQ3WCspJX1A+4paFnujIFy35zXjd4zfzlGkO9yNgw6MfC4faIFAyEzOS5T3h0kDQ8qbi8ZVffptqIno4eZrlyzLljAf7xptCiVUV8hOv2ZLyXrTkN+vyvRHoJQTEB+J78Trx4h985SOdvGWc0trh1kxv3rcr14xXnWoX6aJVtltxyIcyb5Oe742AEVh2BMR7UIL3xH9a3eRefKi8ShNPqxUqq3v57eKVPhy/2QbdQ1uX2lXWp7jh1OE8GQEbHn4Tho2AGLEsUMYpjPCAMRnY8XUvoVKWH6twKQioR3XJEJKveAkL3Sud9ihurNpmOkZgKiMgXqEP4jN4hAueL/lFYZUhXXJhKAxEe6h8zXTVSbzC4mdozp07t5ZDao/aR5lmH5r0fW8EjMDoEBA/wofwWZPHFQ91yQn9Ajk8rO3XzXKja83SpdQ+1V22o6yzTEd20DbK8gVOu5EjYMNj5Jj1XImSAWE2XQAhYQIjwpDkJZ34PfbYI/30pz9Njz76aB0vWvKXFcySDmHq5ZJiQVuIV5vLNOomn/LQBy47I2AE+hEQP8snhbB88Rf+3//+97TjjjsGz5NHVz+1sQ+VfK8wCgu8Db/j4GvCpHPRLuVVi7i3MwJGYGwRkAwoffGexl98xZEPOfLLX/4yfp18bFszkJp4HtnAhdwo26n2lXHKS5zaPJCq74ZCwIbHUAg5fQACDOAw50477ZSe9KQnpWc84xnpyU9+cvz+BhlPPvnkyP/5z38+0p/ylKeku+++ux7oBxCrbsT8rdKGimuWZZWFupdbbrm6ftrJjxPi+Mb305/+9PTUpz418qy99toxI4oQwTXpRaT/GYEeR4CZPQbh5z3veTVvnXDCCYEKPE86vyAMr8Ffd95555CIjRWvQYdfLKZu+J6LdvIDhaTB2//5n/8Zcgp59Ja3vCXiZ8+eHW1EkRD/D9loZzACRmDYCJQGBYXgR1YgX/jCF9bj8xe+8IWghxyBF8XLz3zmM0OOlHKiDA+7EUNkpI3oNdD+05/+VOsGyBP0hM9+9rNBgd8cok3LL798tH2ttdZaivJ4tG+pSrogwoZHFzzEieiCGAqjY5VVVkn/8R//EQIEQQHjfuc734mBfd11143mkB+BgmGC4cG9aMgfq3aLXulvscUWIRwwii6//PK6btp/xhlnRNoaa6xRN6EpIOsEB4xAjyMAj7/61a8OnuEHuriH1zbddNPgeYx37oknncH6rrvuijj4ivjxdtRz8MEHR93/7//9v6hOM5Lc8OvGKDtvf/vbQ8lADuCUh/ZLfkSC/xkBIzAmCIjHMDhe/vKXhxzBuMCRdvbZZ8dkgXQH4g477LDEJIF+DLDZkLHiVepSO7Tb4a9//Wu0cYUVVgjdgXTkheTYe9/73kRbVVaypGyj5UmJxtJhGx5LY+KYBgJicgb3L3/5y+lNb3pTuvfeeyOXmA+mvP3229M3v/nNYEjyrrnmmulpT3taPWshOhRUuOk3qh72rehQL2GuK6+8MhQm2oxwII727rfffmnatGlxT7uJ41J42JU6oxHoAQS+8pWvpDe/+c3pH//4R80n4iUMDPE8PIThwYwgkw3w00TwlNpC/XvuuWd65StfmZq/hM5kw84771zPbJZbrygHDTsjYATGFgHxFv56660Xq43XXnttVKI0eO+OO+4IOYK8wCFHUPzLlVPyjTWfQg/dgLaU7UF3WGmllcLA4EeNScNdddVVaffdd18qP2lj3baosEv/2fDo0ge7rN2CicRsCAPuL7zwwphRvPTSS+Ney5NiXnwGeBzhT3/60+k5z3lOCBXFQRPjQLQVj08cV6mslHHQlCMMHZXDl9AiTXmZWWHrxVFHHRW02TuKcjKUU/mh8jndCExlBMr3XGF8eAt+uvjii2PmEZ6XHCj7y6ANz6ssWxqZbMDwkFM55RHvl/xK3lKeKI/KiNe5V5roK49kBRMeyJ0HHniglgm77rprtFF0VNa+ETAC44sAfMm2RyYkkCM48az4ka2aZ555ZhgBpGvltClH1FJoigZxkjH4kgOqRysZxOPkKyw6ZTnSWHVhu9U666wTdZ1//vnpAx/4QH2gXPlVPoj737AQsOExLJh6JxNMpIteK8zZiU9+8pPpNa95TXytSkxHHsJiPiksCADOWmjWgnuU/v/6r/9K2267bWIrFNugvvWtb6VZs2YFjT/84Q/pxz/+cdphhx3S97///ThcRrmrr746ffvb307bb7992nrrrWOLB0KAOtWOUrgojrYxW/GlL30pve1tb4s6qVdf2+qdp+qeGoHWCIhvSYVvcOJ5eA+eZ2sladxzlXmIh+cpg18aHuTFMIHHf/SjH6XNN988JgHYlvnYY48FzenTpwev/+QnP6l5HvqsqLKSQjw8/93vfjedd955UbeUFbWTNshooU7kDArD6quvnh5++OG0//77xwonhUkv+xwE/c8IGIFxQQB+gzc/85nPpJVXXjnC8Cs8KF7kHse9eBnDg23arHgQJzmy3XbbxQdr3vOe96RNNtkktlCSzkoE8oWP2TDG/+pXv4pyGC7IG8qhdyBTLrjggkijHBdOPmHJB3QHdkugp3zjG98IOfT4448PkIEljSDkf8NCwIbHsGDqrUwa0PHFWP/+97/TC17wgjjbweyEmBOhQp7S4AAt4hA2CI/bbrstAOTMB4JB+UlHQbj++utjFoF0PqUHbQQJeQkzg0kadSCADjrooFAkJNT0dEgv21YqKK973evSu971rtrooA2tnPrVKs1xRqAbESjf+ZIvHnrooTgXwTYrnJR7eFBl4EH4TPfMEnK4nC1YGPgc1vzYxz4W5aHNuSpWIOF56HBAk0PppF1zzTVhaFAPigc8rzoPOOCA4HnVRX7qVL20g0vt3GyzzUJh2HDDDWMyo0yLTIWCoXv7RsAIjC0CnOvA+H/Ri14U2zWhLp5VmHv4Gp6GT7nnvNaznvWs+qwY26P/+7//u5YHhxxySMiRG264IcZ8dIRjjjkmyl9xxRUxeQl98nEGDYc8Ovroo9M555wzQHZIllC32qC2MSn6uc99LrZs0w/FI7vIKx0jEvxv2AjY8Bg2VL2VEebnEiOyB/O5z31u+uhHPxpAiOHIo0GdvHLEw7CseDB7yf36668fn9okzMVMJrMJzHriXv/616djjz026CGwDjzwwBA0CBUZKOTDuGAPJg46Zb2Kk8ISmVJKH/nIR4IGM6+k2RkBIzBQCQAP+EmOz2C/+MUvTjqsXaYRhg/lJA90wBvDA3fJJZfUhgd8t8022wTPY2Tg+GKMFAPoseqJ0xeyOFfCIM/sI5MROOSNZI7a1ORpJjuQVxhBHCwnH21U/iDkf0bACIw7AsgRJiA1AQHvtuJD4hSvCQyd8eBMJrslSOdrdGzL4iMW7IZg/P/Upz5VH/gmD3IEucEWa3QHyRFkDIaJ5IXaInnSCgx9qObnP/95GC/SN5o+ZdX+VnQc14+ADY9+LBxqwTgwEhezBexvZNuFBnCYVYxLHIzIRRz3GB7s60R4EEeaVjJ++MMf1p+45LAZdeyzzz4xi4FAwShBwFAO4cISKUYKPsuoCBVWR57//OeHYCGNupillUCgLEKPJVm2Zn34wx+OPH/5y1/iWVtI+JU3AhkB8QK+wvAPWxpe+9rXxhfsyAlf40jjIq980jAY9Dld5WG7A6uXJc/roDoTCKuuumrwMDyvrQw6tA5fs1ULnkdpgLc5PE48CgUTGzNnzox2lMoE+U488cR6llUyIffW/42AEZgoBBirP/jBD8ZWK/QInGRMyZfICxxxGB7wtgwP8iNHfvazn8WWKbZAaTKS/ExksKMBHWCrrbaK7dvQYtJzo402Cnmx8cYbhxyhDbSJw+P6/DYyizNh1KOLCQt0B2QaPx/AV7b4kh9laSv1SuZEw6t/6lsZ5/BABGx4DMTDdwUCYiAJhH333TdmLu6///5auSd7KTxQPqRwsFKBIECJgBbMy8wHS5bcsx1CsxHciw4rHQgEFBIJKurhs7gYJZTRAXHKqBw0yvzcs6/zvvvuizwIjBVXXDG99a1vrcsU3XXQCPQ8AuJ1gCDMVikOi8Oz3MNT8HjJr/CfBmAGaXheh0KZPGDVhEGc8t/73veCf5lsgB/lWCmBr9/3vveF8QF98rMaSjzX3nvvXfM36Th85eVehhFtYrKB3+yAjuSEyqle+0bACIwfAuJxtkrxGxhMDEpWqNZy/FZ+zorps9zwNJMOyBEmGeBnPmiBIaAvZEEL3kZHke6gr1GRH90BOVbqDqUsKOUG8VycL0N3oDxtlqGCjMOpH6TLlTQVZ39pBGx4LI2JY9oggFLPqgFLphgfYlYxKkKDvdnEw4xso0B4MGuB4IBx+boFaeRhhhNBwOwn99pmRTphZjzY4sVSJz71UMfXv/71mImA8YlTO0oBRhr7OzFiiCcfdKHDAXm+w62VGLqrdHw7I9CLCPDuN99/eOZDH/pQWm211WKQV7p4Dd7jy3HwJXHMVOoT2vA8q6TMNEKH9C233DIUAz53S1nuddD8z3/+c0xMsD0LxYJzZdQHL//v//5v0OG5ECeeJlzek6600vAQHXw7I2AEJg4B8R6yADnCZIJ4lDQuZAG6AzoGaaUcQbZQlt0OONJPO+200B302Ww+RsPuBtxxxx0XMogtVaeffnqM85SBzgYbbBAfqinrp27dE0ZW0RaMJcJqIz8XwMoNH6phMpUyKke95LMbHgI2PIaHU8/lasdE+iGuV7ziFbGcKabls5syMgALhuS73cxKaL83TKsfGzv11FNDcFAGhYN7GBo6lGVv5jve8Y4QRHxZh/3azKIimD7xiU8kPo+JQzBwqU7CbNdgdgXDBSGndPLQXraAoRyRzoyGZi5IszMCvYpAOYiWGDz44IPxS+BMEvANezm+HgUPsZ2BsjhmKssVDxQCVh1w8Dhp0GEbFPfIA7YzwHuserz73e+OSQoUD/E8qyYcNN9ll12CDv+QT2V7pRzA65JdGDXUp61Yiq+JOGAEjMC4IwCfMsYiR1i1YMzfa6+96nqZYEAmML6Lp1lVIB8/IAjfssWJj1yIzzmzycoGusMpp5wSn7yVYUJZtohiiBBmGxUyihUQvrTJyqnGeuqTsaMGsSWU9mhyhHjkCnlZAaZe9Aet6oqWytsfGgEbHkNj1NM5ysEaBoP5cCgCUiJgUrZV4chPHjEvhge/Vsp5DJQS7snPt7FhYsIYMQglZhi0HCplhVkKPqN70kknRV7KUzcOgSFBFBHVwfM3vOENddve+MY3RhKCA1r8ArP2h1N3mU5GCxEhab/XEBAvyS/7TxyDODyjCz6UPCDvjBkzYsUCY+RVr3pV8BKDP1sbKcNnrVE4CJPOtgv2Y/MDhfC1eB4eZMUDhUJ18fUrOdqCo27CaoP8clJD8oZD7Tjzd8Dgf0ZgwhCQPBHvMc7Dlyjw8HdpULBKyk4EZAjpL3vZy+rzGozV5EdHkO7AeS9WTNm2zU4I0pE3qouVEeSI5AAyS2mSHfKpm10a6AdcTHziiEd/YMeG2o1RxA8p4yhfuuZ9meZwRsCGh9+EIREoGQmm5Z5LswAa8IkjTLxcmYc0lYUOsyCio3wSCuQtL+hxjyNvmY84aKle8pGu8gqXZdVW+U16xNsZgV5DgPe+vOi/+Er8Spx4kbD4q+SZkgZh8SzldE9ZwqJFHgZ50eeeNOiTr4wnTJwu5VGZyFwYGs140VM++0bACIwPAiXvEdalMRdeLPPQCvi+lDfkkZzRWK8ykh9KJ140CYsePvFcKkMYpzIqpzjlK+siTnXRFuURrSDof4MiYMNjUHicKGbCZ8WgvBfDSYCAFnHkg1FZkcC1Y36hq3QxM3WIdjOP6iedS3UTJg1aokdZxROmXYojXmGVEa1IaDGToXj7RqBbEYCHdKmP8Aqft8aJb8Qr4nHupSiUWxeIh54MipKmaKk+fNUh+k1f5UufcvAw9Ajjc4nfyau2leUcNgJGYHwRgH/F5/jiZ2oVn2q8lkFBmmRBma+Mo4xoES/5RH7RUzppCquOkhbt4J48yqd6m23hHkd+aNmNDgEbHqPDrSdLwWxi6pJxCYt5BUyrvOSRUxnuRatkeuohvrxUN36r+kS7rEdh1SFhIbqqX+nyRcu+EegVBMQTTR4oFfgmP4ENcfBuq3KiST7lEQ188TLprXhTeUkvaSmeuDKs9qgtpKlepeHbGQEjMP4IiA9LHoTnuZRGuHTiZ8kD0pRXabov6RKWU1ny6dIkCffNNkBXtJs+5SgjmtSjMPWVbVD9+JSxa42ADY/WuDi2QGBZGWg45cX45JUAkT+c8kVzI9iqTKs4MitefpOW742AERhbBEpekxKiOGSBwiOpVWXkq6zum77S7RsBIzBxCIgPqbFduJk2nHv1oNQlRL80bhSn/PJHGq9y9keOgA2PkWPmEuOEQCkcEB6aoaA6CYWm36opZZ4y3CpvqziVaZXmOCPQ6wiMB3/w8QlcuSVL9cgfDu5lXsLl/XDKO48RMALjj0CTL5v3ZQuaaUPdS49gpbY5iaGyTV/1KZ77MtzqXmVa+c2yrfL0cpwNj15++sPs+3CYaKg8SpdfVq04CQwtbSq+zEu4VTxxreLb5W/S9L0RMAKjR6AV77WLK+MJSzmA/1nl5H4oV9JolXdZ01vRdJwRMAKTg0CTn5v3ahXxkifESZbIV77Sp0yTXvO+zO/wsiNgw2PZMTSFIRAQE8tvlZ00LgmIcg/lYOVa0RpJ3HjSHkk7nNcIdCoCE8EjzE5Sz3jXNd70O/UZul1GoBsRaMfP2qaNPqEJTfW/XZnhpivfUP5Q9QxVvpvTbXh089OdQn0rhQMMi+AoD7VOoa64qUbACIwAAfG+lIURFHVWI2AEjMAABKTw8/sehMtJzAEZfTNpCNjwmDToXXETAYSEVjxQRlZbbbVmFt8bASPQRQhISZDx8fGPfzx+abyLuuiuGAEjMAkI/OY3v0k333zzgK1Xk9AMV9kCARseLUBx1MQjIAVENWOA8CukdkbACHQ3AiXvr7zyyun222/v7g67d0bACIwrAsgUfsn8qquuinpKGTOuFZv4sBCwZjcsmJxpPBFoJxRseIwn6qZtBDoDAfE//oorrpjuuuuucT/r0Rk9dyuMgBEYCwQkQ0SLewyPq6++ut5FoTT7k4+ADY/JfwZuQYWAhAc+lw0PvxpGoPsREN+zyvm6170u3XLLLd3faffQCBiBMUdAsgTCG2ywQRgeimvnj3kjTHBIBGx4DAmRM0wkAhIOKCHLLbfcRFbtuoyAEZhEBOD9d77znWn69OnRCsmCSWySqzYCRmAKIoDs2HDDDS1LOvTZ2fDo0AfTi81qKhpe8ejFt8B97iUEmGCA7+XzQYnzzz/f2yN66SVwX43AGCFQ6hDaalXGleExqtJkRoGADY9RgOYi448AAsIrHuOPs2swApOJAAYHTp/O/uhHP5ouvPDCyWyS6zYCRmAKIdDOmMDwYPVUMmYKdanrm2rDo+sf8dTsIMLEKx5T89m51UZgJAjA6ygHXKuvvnqaNm3aSIo7rxEwAkZgKQRarXgslckRk4KADY9Jgd2VDoWADY+hEHK6EegOBOB1XWuvvXY64YQTuqNj7oURMAKThoANj0mDfsiKbXgMCZEzTAYCNjwmA3XXaQQmFgEZHNTKisd6662XDj/88GgEaXZGwAgYgdEgYMNjNKhNTBkbHhODs2sZIQI2PEYImLMbgSmMgAwQvkRzwAEHTOGeuOlGwAh0AgI2PDrhKbRugw2P1rg4dpIRsOExyQ/A1RuBCUaAFQ8Mj4MPPniCa3Z1RsAIdBsCNjw694na8OjcZ9PTLbPh0dOP353vIQTg9YULF8ZWq6985Ss2PHro2burRmC8ELDhMV7ILjtdGx7LjqEpjAMCNjzGAVSTNAIdhgB8zoVjxWPrrbdOO+20U4e10s0xAkZgqiFgw6Nzn5gNj859Nj3dMhsePf343fkeQqA0PH7+85+n7bffvod6764aASMwHgjY8BgPVMeGpg2PscHRVMYYARseYwyoyRmBDkRARgc+149+9KO0ww47dGBL3SQjYASmEgI2PDr3adnw6Nxn09Mts+HR04/fne8hBGR80OUdd9wxbbfddj3Ue3fVCBiB8UDAhsd4oDo2NG14jA2OpjLGCNjwGGNATc4IdCgC8DrXokWL0s4775y22mqr+txHhzbZzTICRqDDEbDh0bkPyIZH5z6bnm6ZDY+efvzufI8gAJ+X7qCDDkrrr79+GeWwETACRmDECNjwGDFkE1bAhseEQe2KRoKADY+RoOW8RmDqIiDjA58fD0RhsDMCRsAILAsCNjyWBb3xLWvDY3zxNfVRImDDY5TAuZgRmGIIyPDgc7r8eKBXPKbYA3RzjUAHImDDowMfStUkGx6d+2x6umU2PHr68bvzPYgAPH/iiSemtdZaqwd77y4bASMwlgjY8BhLNMeWlg2PscXT1MYIARseYwSkyRiBDkZAqx1q4tlnn51WX3113do3AkbACIwKARseo4JtQgrZ8JgQmF3JSBGw4TFSxJx/KiPQVMCncl9G0na+ZIXr6+sLf9q0aWm11VYbCQnnNQJGwAgshYANj6Ug6ZgIGx4d8yjckBIBGx4lGg4bge5FAF7XZcOje5+ze2YEJhIBGx4TifbI6rLhMTK8nHuCELDhMUFAuxojMIkIyODA53D5Nddck1ZdddVJbJGrNgJGoBsQsOHRuU/RhkfnPpuebpkNj55+/O58jyAgw4PuEp4xY0ZaZZVVeqT37qYRMALjhYANj/FCdtnp2vBYdgxNYRwQsOExDqCaZMcjwHvfa46VDhx9v+uuu9KKK67YaxC4v0bACIwxAjY8xhjQMSRnw2MMwTSpsUPAhsfYYWlKUweBXjQ86LOu22+/Pa288spT54GNQ0uFxTiQNkkj0DMI2PDo3Edtw6Nzn01Pt4zB90lP8uvZ0y9Bj3ReM/584Ymw7nuk+0lftqK/GB4rrbRSr3S9ZT+RfXoH8Lm3MwJGYGQI2PAYGV4Tmdua3USi7bqGjYANj2FD5YxTHAEp3lI2dd8rCqf6vXDhwvTYY4+lZz3rWVP8iY6u+Xre+HoH8IXP6Ki6lBHoTQRseHTuc7fh0bnPpqdbZsOjpx9/z3We37FAyeQqFVDCE3FJuW3WxYNoxg3nfrjl1F+MDhztePKTn1yHh1PXWOdph8VY1yN6wop6icOBC5hwL4wioXoeCts3AkagNQI2PFrj0gmxNjw64Sm4DUshwIDrrVZLweKILkSAd51PyD7taU+Ld573fiKv5ZZbrq6vXXi47SnLD6fMU5/61LpuwiUGI6U1nPqGyjMZdapNzbrBYvnll0/77rtv/dbLMJFfJzhgBIzAAARseAyAo6NubHh01ONwY4SADQ8hYb+bEeA950LpZmabWW/8bnDDVY41o49f9n245ZcFK9Uhf1lojWVZYcGqx4477rjUdqtOa+9Y9t20jMBYIGDDYyxQHB8aNjzGB1dTXUYEGFiZCbQzAt2MgBRIZrsn26ktE9kO6tTWJhkd8ieqHe363S5+ItpV1v2Tn/yk3oJVxk9EO1yHEZiqCNjw6NwnZ82uc59NT7eMAdaGR0+/Aj3V+dLwkCI+0QDAczprQd1afWkqu837sp2k6SKe8GD9aUWrVVxZx3iF1U7VP9EGUNkvtQF/hx12iCTFKV/zXvH2jYARSMmGR+e+BTY8OvfZ9HTLGFRtePT0K9BTnS8Nj4nuuBRYfJRt3ZeKN3GKV/ua98SjvOtSGSn0Ktf0W9Fp5hnve/WVthJWH8a73pK+8CKuxESGRzNvee+wETACAxGw4TEQj066s+HRSU/DbakRYOC14VHD4UCXI1C+60Mp6uMFxYIFC4K0vqbETRkeTr3wrZR35R9pf6R0yxed8fTV7vnz59fVTGT9daVVoKy7leFBtjJPs7zvjUCvI2DDo3PfABsenftserplDKqlMtbTYLjzXY9Ac8VjspRKzfxTv2atHrCqAAAgAElEQVT+RwK+2l36IzE8ynIjqXcs8pZ1Ex5Ju8ei/pKG2kIch8vL+zKfw0bACLRGwIZHa1w6IdaGRyc8BbehRkADLL4NjxoWB7ocgdLwEA8Mp8vkHUn+VjTL8jrjodUPGSKtyrWLoyxKuxT30dBo0i7b2Exb1nvR1mpHq3YrT9Nv1q30ZvxQ981y3Cuu3YrHUDSdbgR6CQHxi/psw0NIdJ5vw6PznklPtUjCQr46z+Bvw0No2O92BGR4wAdNXmjeC4tmvO7lK99IfIyGlVdeOT3lKU9Jd95554Ciw6VLPvh37ty56fOf/3z64he/OIBOq5vBaA+WVtJql6+MV1h+WZ4wP+TI9bnPfS6tvfbazeS296Inv8yoOPllGuFW8TJ+SG8aHq3yN2n63gj0CgLwg3iiDLczPJS3V/DpxH7a8OjEp9JjbZIgKIUGYSljPQaHu9tDCPCey8jG19UOAlYPdtttt/SmN70pflzutNNOi0FXPKTy3JN3jTXWCD7C32+//eozG6SRV/UrjNK98847h7L72GOP1Xloj2gS1ioGceUlOqSzgkD7jjnmmKBDHHnPPvvspb6eRTnRVJi8rMAoHl8rMj//+c+jXy95yUvSz372s/Tvf/87IKPs9OnT0xe+8IVI32KLLep4lSWPLurA3XTTTVGP6jjrrLOi3UrH56Kc4hRud099KheVDPOfykAfGhgeqmOYJJzNCPQEAiVflGH4WIYHQIinSlDK/GW8w+OPgA2P8cfYNYwQAQkJr3iMEDhnn5II8L4/+clPrpVLFM5WjnxSwvfaa69QrJ/+9Kenhx56KLJrq5DyXH311bFqiAF/zjnnRJ5ysCWf7vGpV2XLuhSvOHwu1Yexoq1Z5CVNDnrEceHmzJmT3vGOd6RZs2alefPmRX0lLdWv8ijeKi/a5CH+e9/7XnrrW99a113Wi+Hw/ve/P8rSNtEhD2FoEOaiLbvuuquqDJ905aGfhOXoL059KutVWhmncoqTT3wZVj7R1T2/42FnBIxAawTgoVZ8tP7666errrqq5tPWpR07GQjY8JgM1F1nWwQkQPAxPCRU7Gfhahy6DwcUW365HIUYxzMezKGYHnzwwbGaAY8w40+clF4prqyM7LHHHsFHf/vb3yKP6oC+8lFfqZirDcSjtJftIVzeN9sJTdUhn/yEUd5pN8bSE088URdVPvnkh44MG7VTBbgnz0UXXZSe9rSnpUcffTRoqwxt/tGPfpQOO+ywuo+UZesXTjgRhg4rQdtvv30dr3aUxgb5ZChRjjBOedVGfJUjjTBlR+pUhnrKHxCEDmm+jIHfgX5ZJCzgP/Hi1772tcTkC3xIunhnpLzo/GOPgA2PscfUFJcRAQkRGx4eXPUudKuvQZIzFeqj4ppsVKYfeOCBoVi/6EUvSi972cvSPffcM6A8NFCo999//1gZOe+880KxhgYDMUo5X0tCqcVwefzxx6M6FOWjjjoq/eIXvxig0JNOHGW47rvvvhjgqYdVjN/+9rdpn332Sf/617+C5sUXXxz17L777unkk08O2vvuu2+s7GAs/PCHP4xVmMMPPzzqpx2sykCP9v36179OP/3pT9OMGTNCeadduiCmfB/5yEfSpptuGn0jjuuRRx5JH/7wh8O4ob/c//KXvwx60Lz//vuDFvXQ5uWXXz599KMfjfRzzz030jDaTjrppLrOE088MbCkDaymQAcfRx1qD3jTF7aCYRCpreRpulZxygM90WWrVXmvcorj3pcx6PV3AH7AiT9Y8cDwIF5p4i/7k4uADY/Jxd+1NxCQ0MD3VqsGOL7tSgRQZp/xjGdE3wiXg6T4oew4ef70pz8llORDDjkkDAtWNsg7e/bsyIqhgQEhw0NbrVgN4PD4qquuGrP2l156aawabLTRRlHvN7/5zeA7eO/uu+8OmgzeGEb41P2pT30qvfnNb456oMd5E7aKvfe9702f/vSno/xnPvOZKAOd73znO5GXFYzXvva16bnPfW6tlKP8U/7LX/5yGBxkZEXiiCOOCOWePgkP8jYd51FWWGGFRD9oGw5j5pprrokwWy1o++233x73tJ365GjTKqusEoYQcdTH+ZCy3Z/4xCeCxhvf+MbEFrc999wzDCJwpE5Wb2gz52i23nrrIM3ZEra4QecPf/hD0FU/VHfzXvHQJE3PHkMPp3vls28EjMBABOARLiZDvvWtb8V5r4E5fNcJCNjw6ISn4DYEAhIa3DDwrrbaavUsJTOMvoxBt70DWnFAcUfhHEq5lEJ6wAEHJIwLznd87GMfSx/4wAfqbVEowp/97GdDuScfyi9GCu7GG28MhZgVAOrjYkvCOuusE+ko0P/5n/8ZivYdd9wR6R//+MfTmWeeWbePNq6++urpS1/6UmyHYgsTh7xf9apXpdtuuy3y0U7i11prrbTxxhuHUYHh8IpXvCI961nPqrdaQYuVGVZtWEWhfuJ+9atf1SsW6jM+Dl/XtddeG0bbW97ylnrVg9UKtihBB6NBbVdZ+vM///M/kZ/6MCBYgVE9xPFFK4wwaHDPqtCKK64YB+PJR9y73/3udPnll0ebLrjggsAVA4h+zpw5M/Dg0Ds0RDsyV/+Ix8lvlQYtnu+Pf/zjOGTO+8IKSLfxgftj2T6W7wBbJ9dbb71YgW3HYyW/OTyxCNjwmFi8XVsbBBh8ywGYAZfZVDsj0O0IoMQ+85nPjPdfs92D9Zk8bLXC8CCMgYAyz+w+fHP66aen4447LkiQj/Mj06ZNC/qk4+Atvlr1nOc8J9LXXXfdoAU9Vi1YlWDFgy1WGBUYBTjSubbaaqtYKUHx5h6jg0Pj0IWP6RMOWptsskmEqXullVYK2uXWLownDBJWbXCsQkC/lAfUoXt8FHkc8VtuuWUYV/SR+n/3u99FXgwwtqJhBJCPNlF2u+22CyOBFRzqevWrXx1nPESPvKyM/N///V/UwT+2fnFY/eGHH67j2ObFihP9OuOMM6INGELUQTswhi677LLIr7bXhQcJUH9pqGD02BkBI9AegZK/4B/u4W1cmdaeglMmEgEbHhOJtutqiwDCAidfChJCw5cx6NZ3QO87qxJNN9iA+cc//jFxYFyOVYo111wzbtl+xIw/PMS2I2hzHkEDMnQxSNiixNmQ7373u7EyQWHyaKsRhge/5fHsZz87zkWQLoX/97//fZS/4oorIu6lL31p+uAHP1jXQV5WPGgTWx5oC4oAqwZsK9PhcinYbE1idYS2sTpz5JFHRl9UX9xUSkT5LhB/4YUXxgoN50k4cM42LRxtf97znlef6RAtVlMw9C655JIwRtg2hjGidNrJ73iwUiMDapdddknve9/76lUY+sPWsuOPPz7qwvgD56OPPrpWesDkwQcfrOlGxlH8YyaY+oRV2X+HLRt7/R1oxxfiZ2SawqNgPxcZBwSWHu3GoRKTNAKDIYDgxEkJY+BHULQTKL0uaN3/7lI2UCo54IyP0yApvmj6pGM4oKATphyfg4UGSjVbl1CYSdNWK62O8BsXKMQYA8zKk+8HP/hBYsVDdXM+A6MEZZqD2S9/+cvDEIA/KYOPMvya17wmVk2on+1KbD0S70KXeCnw0CaOFQ8MD/Zgy0GPVY93vvOdsXLAasO9994b9dAH+k8e4aBypHGRxqoHhoC2mNFOlH62cJVftyIvB79pB32jTa985StjKxN0oUe7+eFDDA/Rx5h717veFe0mjrZg7HGOBkcZwmx5Y4WC8x6UIW/TNfvRKl110D79gCDlFE/YlzHwO9C/+lliIXkhv8ljvp9cBGx4TC7+rr1AgMFbDiGC8mBnBLodAZTJ8scypVyW/YYf5AhzwJntVOIZzhIw417+ZgdpWvHgnAOOmXsOW3MWQTT5KlR55oEzEBgHd911V5Th4DmGCMYAjsGcOLYZQQPlmO1KHFjXQE/d8C9nJb797W/H6gdxHORmFUJffIKe+rvNNttEH/h6ltoGPejjiFM8ZRSHjxHBtiraVDp+RIztZPxWh8pypoUfNcRBGwNq2223HVAP7cbwwFGO7Vus6LBFTJjz5axjjz02ylE/qzkYVBhftFttDCKNf2pLIzpuhaHSmj8gSNnByqucfSPQiwjAG5Ip4hPuS35UfC/i0wl9tuHRCU+hx9uAENBATVgDO2FfxqDb3wHYH4OB974cHFuJBRRlthS97W1vi3MIfA6WOPgH5RijQb8xQT6+xIRBwgw8X2TicDlfdeKH9ziovNNOO8UWJwwCPonLWQ7y8slbDA/o3nrrrWnDDTcMxZpDzptvvnnae++9az7lq02cCWH7EoYNz4s2cC6CuliJYDUAWhhMGDWsUKC0k5d43JVXXpne/va3xxeopDhIYdA7IEx0j6+8bBkTFuQj/pZbbom2sxLCKg1buvisL3WqLH3BqGC1iDbxy+qvf/3rY2sVW75YJfrQhz4UKyP8Pgj30MLY4lA+xh2fEX7+858fWIM352rwOYSv8zG0iTqH49Q22kld3Dcv9bsZ7/ulsTImvYlJKT+Gw3fOMzEI2PCYGJxdixEwAkagJQIoReWKB/elk9LUjONeeZt+mbcZJq8Ub9FQHQzUbLVi2xbnP0qnOsq4MjxUeru8lKNejJODDjqoziZ6TZ8MiivDZVxNpJG3jB9ueCi6pGM0sj1LkyaizeeMzz///LhtR0d5S7/Mq61WZbrDRsAIGIGpioANj6n65Lqs3eVA22Vdc3eMwJAIYHiIB+Q3CylefjO9vC/zlOEyD1uhUPhx5NGKCysebE/iAHi7soqXL7q6ly/azXTdUz958fkMLmGtgChPk0YZP1Fh2lX2SYab8Dv00ENj+5YMD9JJ45wMq0xl2TLcrm+iS7oNj4l6yq6nWxFo8m+TB7u1353aLxsenfpkerxdFgw9/gL0WPcHW/EYKRTiHfnN8qXSrDz8DgVbr/ilcM5qsGVKyrPKK698xY/GFw3ORnCmg+1EbHXClUp3k7bKNeMHu1cZ+YPlbZXWLMc9F+3UxTYvzrLQH8WxRQ2DRMZIk06ruhRX5rXhIVTsG4HRIyC+HT0FlxwrBGx4jBWSpmMEjIARGCUCpeEBiVLxHCXJQYux2iHDgs/e8jsUnOvg4uA3ZyXGsw2izSdvqfOLX/ziiOpT+UE7OQGJHCTHYVzw2yMcwudsBxcH1EfbzrJc0/AgrUyfgG66CiNgBIzAmCFgw2PMoDQhI2AEjMDoEOCXy+UGm/FXnpH6paIKfe4xPHDcE9Y9PumauS/LjrTeZv4mLdWF4k4aBs9w+9+k1axrou5pr9pPf0rcaONo2lmWKQ2PMr4MT1RfXY8RMAJGYFkRsOGxrAi6vBEwAkZglAhIeWSGXE5x8hW/rH5JT4pyGQd9lGbFkWekTmXll+UVJ19pMjRQ2rlwzTzKO1RamW8iwmqv6irxU3iwvqhc0y/LsA3NzggYASPQLQj0j3bd0iP3wwgYASMwxRCQ4VEqnBPVBdXZ9EdTv4wI0YKG4giX8U36SpM/3tu9mvWP9l7tLcu3iivTFS7ztQu3MjzKvKJl3wgYASMwFRCw4TEVnpLbaASMQFciIKWcMx5aYVDcWHa4VFQVxle4WZfi5TfT292r7SqHrzBlyrBoqIzulY+8ZVoZLvN2QrhVv0bbLvWb/rKiwqH/Tu77aPvpckbACPQmAjY8evO5u9dGwAh0EAIvfOEL47c8WPngNzQwRAiP9QXdkdAeSV61VWU4t9KsT2nyVabpU5arjG/el2mTGR6qL0O1rSxPmB8f1A8QUpYfdhxLw6aDXns3xQgYgR5EwIZHDz50d9kIGIHOQUArHbSIGW7umeFG2ZyIq6yLNrSqkzxlvlZ5BosbKdrUVTptuxqsjslKK895jLYNwhafvpY0hQW07YyAETACUx0BGx5T/Qm6/UbACExZBKRUSrHG6CgNkWXt2GQqq6qbvl133XUtr2uvvbaO/8c//lGHy/z8kCGKuOgtKyadWL7smwwPxckY7cR2u01GwAgYgZEiYMNjpIg5vxEwAkZgDBHA0JCSCdkyPIbVTBipZvtnz56djjzyyHTUUUeFT/iII46ow9w3L6Ufdthh6eGHH57ymCwL+DJOu+HdWBYcXNYIGIHuQMCGR3c8R/fCCBiBKYpAU1Gfot2om01/1Cd8Viz4BW8ZF0cffXSEZVwoHl/GyeGHHx55uL/77ruDdkm3rqwHAsKyB7rqLhoBI9ADCNjw6IGH7C4aASNgBCYKgdJAkOFx/PHHh1Fx/vnn17+Krpn8UrFW+I477ohVEYyU++67L5qu/Nwo30T1yfUYASNgBIzA2CBgw2NscDQVI2AEjIARKA6nAwbGwpw5c8LoYIXj7LPPrjEqD1DXkVXgtttuSwcddFBi5eP++++PWBsbTZR8bwSMgBGYegjY8Jh6z8wtNgJGwAh0LAIYCDIS8EvD45xzzol2Y5Bwka6VDJXDv+WWW+qtWVrxIN7OCBgBI2AEpjYCNjym9vNz642AETACHYWADAgaRZjD5ZzVYMVj2rRp9Ve7lE++DBHuZ8yYkY477rgo98ADD9RGijpKHjsjYASMgBGYegjY8Jh6z8wtNgJGwAh0LAIyJNRAfdWKw+OseCi93WeDZXiQH2MFw0PbskqDowyrLvtGwAgYASPQ2QjY8Ojs5+PWGQEjYASmFAIyLGg0Yb5qpa9VnXvuuW37UpbjjIfKYHjYGQEjYASMQHcgYMOjO56je2EEjIAR6AgESgNiJIZH2fim4QEdOyNgBIyAEZj6CNjwmPrP0D0wAkbACHQMAjY8OuZRuCFGwAgYgY5DwIZHxz0SN8gIGAEjMHURsOExdZ+dW24EjIARGG8EbHiMN8KmbwSMgBHoIQRsePTQw3ZXjYARMAIjRMCGxwgBc3YjYASMgBFoj4ANj/bYOMUIGAEj0OsI2PDo9TfA/TcCRsAIjCECNjzGEEyTMgJGwAh0GQI2PLrsgbo7RsAIGIHJRMCGx2Si77qNgBEwAp2NgA2Pzn4+bp0RMAJGYEohYMNjSj0uN9YIGAEjMKEI2PCYULhdmREwAkZg6iOAcYGTX/ZorAyPo48+OvHr5fyAYKt6yjodNgJGwAgYgamBgA2PqfGc3EojYASMQEchIGNAvhq3ePFiBcNgmDNnTv0r5IP9cnldKKXEDwhidMjwKNMUbtarePtGwAgYASPQuQjY8OjcZ+OWGQEjYAQ6HoFFixZFGxcuXFi3FaNABsjs2bMTqxdHHHFEGo3hMXPmzARt0aMSGR34CpfxZd66UQ4YASNgBIzApCNgw2PSH4EbYASMgBGYWgjIsMDo4JLRIUNA6fTqiSeeqFcvhmt4zJgxI1ZJDjvssIThgYOmjBwMC9Vb1klYeSPgf0bACBgBI9BRCNjw6KjH4cYYASNgBDoXgVKx7+vrC2NARgfGQJlOL7jH8DjqqKPiOuecc4bVOQwPVkmO/f/tnVeIXcUfx22JBRXbkwURFXshCrZnwd7wwScfxC74oogodrErikpULEmsiUaj0SQqpCDBxBhTrFliSeJGwbKCmmR9GfkM+Z6dnf+5d+/9Z917zr3fgbMzZ+pvPuc+/L47M+dMmxb6+/vjaodWMRQzLpfs0HgtDeBKJmACJmACHSFg4dER7B7UBEzABOpNAFHBNTAwEJYtWxZWrVoVVqxYEb744ouwcuXK8Pnnn8d46dKlbZ3xoM/0jMeiRYtiX19++WURL1++PHz99dexfw6fc44kDYgRBxMwARMwgeoRsPCo3jOxRSZgAiZQWQIIA606ELPq0NfXF1coOAw+derUeJ5D5zrIY8WDmK1WtB8pIDw4E6KVEvXx0ksvFX1Pnjw5zJs3L2zcuDH2Sb9svyJuZYyRbHC5CZiACZjA6BOw8Bh9pu7RBEzABLqCQDMHXuJDdTZt2hTeeOONYcIDoSDRIOHRChi2WklkcM5DIoQ+EDRTpkwJbNtipYPxERyyR3Er47iOCZiACZjA2BKw8Bhb3h7NBEzABLqWwC+//BLefvvtKDYQDKx+fPXVV+Gnn34K69evj9uyJBKaCQTOhbCF6ueff47t2K6llRQEyYIFCwJvy2rWR9dC9sRMwARMoMYELDxq/PBsugmYgAl0kgCrDbqwg/SGDRvCm2++GYUC26Fmz54dD4BTLqFArHMYtFFQWlumqLdkyZK4+sEqB6sdb731VhyDuupP7R2bgAmYgAlUm4CFR7Wfj60zARMwgdoQkBDgIDgigdUJBMP8+fPD4OBgnIdiiQxNLr8nf82aNbEfVjtYQUF0MAbChFDWRv05NgETMAETqB4BC4/qPRNbZAImYAK1JIAQ0Gtu2WLFygfnMrgWL14cOAdCoE6zgLhAdLBtC+HCa3V1kDzdqmXh0Yyiy0zABEygegQsPKr3TGyRCZiACdSSgISAViQQGjNmzIhvp9LZDG2jajRB+li3bl08UI7oYJUDAcPbq+iPcoQJscZr1JfzTcAETMAEqkXAwqNaz8PWmIAJmEBtCWirlWImwsqHXouL+NArddM6+YRnzZoVt1jRDtHBYXOJGYuNnJbvTcAETKA+BCw86vOsbKkJmIAJ1I4AQoGP/XFOQ9/z4KOA6XYr0giRtWvXhjlz5gxbIeHtVRIbimsHwQabgAmYgAlEAhYe/iGYgAmYgAmMCoFGwkDigwPnnPdgC9XChQvj1ilWMljR4HW75HPx3Q62WLG9iqDVjlEx0p2YgAmYgAl0jICFR8fQe2ATMAET6A0CCAdWNXjbFYIC8cHqx8yZMwPf/ujv7x92EH3u3LmxPqsgiBbiZluzqkKxkfCqin22wwRMwAQ6TcDCo9NPwOObgAmYQA8Q0KoFXxvnwPmkSZOi+OBr51oJYaXj3XffjV8kBwlt5MwTK111XK3Y2Uqdqs/T9pmACZhAuwQsPNol5vomYAImUDECVXdisY9L5zr6+vridiqEBgfOFb///vvhjz/+KOqlqxxVn6N+ErJTc1a+YxMwARMwgRAsPPwrMAETMIEaEyhzcFOHvUpTk10IkNWrV4fp06fHVQ++08H2Kn3nI59Tfl+lOaW2YGcamG+el5Y7bQImYAK9RsDCo9eeuOdrAibQdQTk4OLkalWhSpOU4MCm1FbsRXyw3eqff/6JTnq6vapKc2jHFg7FS3Bovu20d10TMAET6FYCFh7d+mQ9LxMwgZ4ggIMrJxenXY678qsUS4DIpsHBwTAwMBDfXkWenHSV1ynmx6Y58AyYi+bbEz9ET9IETMAEWiBg4dECJFcxARMwgSoT0CoHju/EiRPDVlttFbbZZpsYk+70tfXWWze0ATsp5xo/fnys16x+p+fSbHzmMmHChEJwaBWH3w7PRiFNK8+xCZiACfQCAQuPXnjKnqMJmEBXE+A/6zi5XLfddlucK/91r0OQc469qYCqg+25jcwBYYKw0Ly0ipPX9b0JmIAJ9CIBC49efOqeswmYQFcQ0H/OcXhJEyM8yrb4qG4+ceUrzsvL7tupm7dP25JOr1acdNXP+63CPfYjPAikEVJlz6IKttoGEzABE+gEAQuPTlD3mCZgAiYwigTkzBPffvvto9jzUFc40AibsqDxy8rK8tL69Cnh1MhJV33FeZ+pbY36yNv8F/fYxzYxAulO2vJfzM99moAJmMCWErDw2FKCbm8CJmACHSaQOuTtCI+0XTqFPF9boFSHQ+HNQt6+rC51uOScS3yU1U3z1Hcap2nq6j5tN1ZpznkodNIO2eDYBEzABKpEwMKjSk/DtpiACZjAFhIoEx7NHOC8LL/XagKxLurk9fJ7pqG8NCate612qF/akG4nUB9hJHG0JdubZFc74+d1teJB/mj0l/fvexMwAROoMwELjzo/PdtuAiZgApmD267wEMDUSU7TOPK6RygQmokD1c37Jb+snQRDvuKhfhSn/eV5lKkfypRWmzwua0+dRvl5+2b3Fh7N6LjMBEyg1wlYePT6L8DzNwETqD0BOczEZcKDCapOnk7v0zqCgljQqgJ5uUBQvWYx/aZ9655+1R9p8nkbVFlI26fleV/008lg4dFJ+h7bBEyg6gQsPKr+hGyfCZiACYxAIHXKc+GRltHNSPf5UAgDrnPPPTdccMEFsVjOfd5X3pZy1VFMHQmO/fbbL1x11VXFSshIZ0dom/aT3//1119hr732CgsXLsxNafk+tbnlRklFC48EhpMmYAImkBGw8MiA+NYETMAE6kYgdcZz4ZHOhXrahoSYOO2008K222477ON+uidGaMgRv+6668KFF16Ydhe/OE6GBAN1tYKhcSRSqCc7P/vss+JDgVdccUW0SWUaT+1ZAZH42XvvveNbo3hl7bhx48KKFSvCpEmTwieffBLU53bbbReWLFkS7VRfGhtbNI7SaR3qMa6+wRE7afOPhUebwFzdBEygpwhYePTU4/ZkTcAEupGAnGnm1kx4UI7DnV8nn3xyuOWWWwqRgaOPM3/RRRdFpx9nnDYSFRICCA457irXGMSU5WORT3uc+zPOOCMgPNRGfemeeox9//33h2OOOSZMnTq1qEv7hx9+OAqYV199Nfa5cePGcMQRR4SPP/64sEt9yRbNRfnYRxmB8bgnUE/2EOueOs2ChUczOi4zARPodQIWHr3+C/D8TcAEak9AjjMTyYVHWka5HOs0/6yzzgr33HNPdLwFAwf70UcfLc5cpPWpg5Ov/nDKlVZMey6VIVIYW44794x75ZVXFg4+bdM2pE8//fRCXGCD+qOM/q699tpw9913x3zEyCGHHBIWL15cCAXyaENM+3T+aX9///13HJs8LtlJfbXBPsqaBQuPZnRcZgIm0OsELDx6/Rfg+ZuACdSeQOoMjyQ85FSnMec3br311kIA4GivXbu2uN+wYUNcXZg5c2bMGxgYiF9If+qppwLnKu69997Y/sMPPyzEBX1s2rQpPPbYY7Eudv3www+xHCHA+GeffXa4/PLLCydf+bSlnFUXvoux/wMW1KMAAAioSURBVP77h99//z22pSwVBeQvWLAgPkPaH3bYYVF4aH4UyAa+6v7OO+/EvtUPIgXb7rrrrrBmzZpoI21+/PHHuApE2XvvvRfHkNhp9oOx8GhGx2UmYAK9TsDCo9d/AZ6/CZhA7QngZCukwkP5iqlDOr0n75xzzgl33nlnsZrA4exXXnklnt1YtmxZXHFAAFx66aXR6T/88MNj3oknnhguvvji8Oeff0ZhwGFx0jj1xAcddFB48skno2nU22WXXQL9SVgwLofLCTj1XLKNtLZSseWLFQsCbQnUo46ChMRRRx0Vt1qRj/A5+OCD48oN9x999FHgDAjzoz5nQU455ZSAsFq3bl20b+7cubFLtoBpFeSGG274n5UkjZvHFh45Ed+bgAmYwBABC48hFk6ZgAmYQC0JyFnH+FR45JNJ66mMVYLzzz8/CgkdLEdkcG6CIEcfkaBtUb/++mvYY489Ypt58+ZFAcDKx5FHHlm8UerZZ58tyumH/jgU/tprr8V+2WrFigcOfioiEBMa88Ybb4xtGFuBuipP05TTJ6KIVQzCp59+Gg+jz58/PwoX+j700EOLub344otxuxd16ev555+PKxswYRuY8pcuXRruuOOOuL1MY8fCkj8WHiVQnGUCJmACmwlYePinYAImYAI1J4DTrJAKD+Urpo7SinHG2WqFY41TjfPOlqPZs2fHLpXHG64kEqizzz77hOOOOy469NShPw6pz5kzJ/bz/fffxy1W3377bWBr1iWXXBJFAMJDfSIo6DPdYsWglJPHXBBBbMeif65UmChNTBltEB4cLicwLn2sXr06IJYefPDBwKoMqzm0wVaEAqsubC1jVYWVD8ZnJYS3eLESRD+LFi0qbGCsRsHCoxEZ55uACZhACBYe/hWYgAmYQM0JpI5wKjwaTQunmyDBwH/3OeOhfMWqwz2v3r3mmmvi9iUc9AMOOCCccMIJcRWA8dnWhPCYNm1a7FdtETU77bRTeP3116OTP3ny5Dg2IoG3WqVbrbBHgTFefvnl2IaVFPpXwB7VTWPyOePB2RDyVcbKys477xwFFdvDEB4E7OZ8CK/mZTUGO9leRUB8kadX9yI+OFCfso4Vsz8WHhkQ35qACZhAQsDCI4HhpAmYgAnUkUDqDOfCIy1jbjjjOP2pY4444D/7EhyUkZaDjwg477zz4soDbVnx4MD3scceW2xhom+ECCsatJsyZUrYfffdw4wZM+J4H3zwQXTieSUu/TGG3mpFWrbJLsZZv3592G233cL2228fvvnmm8Ju2cncSNM37TirwYoHqxPcL1++PH5QcPr06bF/6iKOEB6Us8pBrIPku+66azxQTj0druf7IKeeemrgGyLkaezYYckfC48SKM4yARMwgc0ELDz8UzABEzCBmhNIxUUuPPKp4WjLYceJxsFHVPAdjzSoDJGA0GBb1NVXXx3bkrfvvvtG4aGVCPK04kH9Aw88MAoNnHrCrFmz4scKWcVgfOogeC677LLCmacPyrCRgA0cBB8/fnzx1XTyNV/6wHa2ViE6CJzh0FarBx54II4pGyg/6aST4hkP2rIKo48Ncv/cc88VKzCPPPJIYQcfKtxhhx2KfuNADf5YeDQA42wTMAETCN5q5R+BCZiACdSegBxxJtJIeKgOMQ69nHva8Papo48+etjqBYKEQH3SOghOO7Yd7bnnnmHChAmxTay4ecWDrVS0uf766+M2KW1rYjWE8xo33XRTdOCx4cwzzyzEjMbT90HoEyFC+O6778KOO+4Yhc5vv/0W8xA8bNPiALkCeXzHg8PgBM6psFWK7V9soWJs3mrFtjL6vPnmm6Mw6e/vjzZjz+OPPx7fyMXKibZssXpz/PHHx3xx1Jh5bOGRE/G9CZiACQwR8IrHEAunTMAETKCWBFJnuEx4pOUSHMQ41Bwq5/sWbLV66KGH4koE9dWGlYT77ruv+BYHW6kQE9Sn3QsvvBDPQ5DmYvyVK1dGcUNd5bNqQJrxeBOW+iTv6aefjuIGMULQ+LIBUcK2K+ryvQ3FbKVSG4QFh8cpw4aJEyfGPmWD7GLFhfQzzzwTVq1aFfr6+uI9YoRtYIwJG0SH2DzxxBOFUJNNjX4oFh6NyDjfBEzABLzi4d+ACZiACdSeQOoM41S3EtI2ef1GZY3y1V7lEjfKT2PVGSkvLU/TZe3T8rFIN7PBwmMsnoDHMAETqCsBr3jU9cnZbhMwARPYTCB1hFsVHim8tH2aTuuk6VbqqL7qKlZ+GqtMcVpGWvmK8/K0jsqa1VWdVuN2+rLwaJWq65mACfQiAQuPXnzqnrMJmEBXEUgd4zLhkZan6RQC+brS/HbTZf2X5TXqN62bpv/f+vTRrJ9mZYw5Unlul4VHTsT3JmACJjBEwMJjiIVTJmACJlBLAqlznAuPtCxNtzJR1VfcSpu0Du3ytvm96uf5+X2jeuSX1VWeYrVXXJZflqf6rcYWHq2Scj0TMIFeJGDh0YtP3XM2ARPoKgKpw5wLj3YmmvajdmV5lLWbr/7ajRuN06yfkdqUlZflNRujUZmFRyMyzjcBEzABHy73b8AETMAEak0Ah5lLr8jlrU56NW2tJ1ZD4zlUz+t7CXrblp5PDadjk03ABExg1Al4xWPUkbpDEzABExhbAnJyGZVXwBJG6z/4YzuT+o2WciY9bty44tW7CMC8vH4ztMUmYAImMHoELDxGj6V7MgETMIGOENDraxEgfF+Db1Kw8uFrbBjAmy1uxBIeCI5UEHbkh+FBTcAETKBiBCw8KvZAbI4JmIAJtEsA4aH/rMvZ5d7Xf8+AZyXOem7a6qZnofw01vNK85w2ARMwgW4nYOHR7U/Y8zMBE+h6Aji4OLsSILkj3PUAKjJBrTzBn2ei51ER82yGCZiACXScgIVHxx+BDTABEzCBLSOAgzs4ODisk2b/bR9W0TejQkBiQ53BnzyLDxFxbAImYAIh/AsKEU5dUT0fGAAAAABJRU5ErkJggg==)"
      ]
    },
    {
      "cell_type": "markdown",
      "metadata": {
        "id": "g77StdxJTd0z"
      },
      "source": [
        "## Imports"
      ]
    },
    {
      "cell_type": "code",
      "metadata": {
        "id": "5Pynzk8WsVof"
      },
      "source": [
        "import numpy as np\n",
        "import pandas as pd\n",
        "import matplotlib.pyplot as plt\n",
        "import time\n",
        "\n",
        "from sklearn.impute import SimpleImputer\n",
        "from sklearn.preprocessing import LabelEncoder\n",
        "from sklearn.model_selection import train_test_split\n",
        "from sklearn.preprocessing import StandardScaler\n",
        "\n",
        "from sklearn.metrics import confusion_matrix\n",
        "from sklearn.linear_model import LogisticRegression\n",
        "from sklearn.neighbors import KNeighborsClassifier\n",
        "from sklearn.svm import SVC\n",
        "from sklearn.naive_bayes import GaussianNB\n",
        "from sklearn.tree import DecisionTreeClassifier\n",
        "from sklearn.ensemble import RandomForestClassifier\n",
        "    \n",
        "# from tqdm import tqdm\n",
        "from tqdm.notebook import tqdm"
      ],
      "execution_count": 1,
      "outputs": []
    },
    {
      "cell_type": "markdown",
      "metadata": {
        "id": "VMUTG-tX0TtY"
      },
      "source": [
        "## Carregando Base de Dados"
      ]
    },
    {
      "cell_type": "code",
      "metadata": {
        "colab": {
          "base_uri": "https://localhost:8080/"
        },
        "id": "pGYechQF0NLN",
        "outputId": "38697ff3-7066-468e-a6f2-c4e2f5154ea0"
      },
      "source": [
        "!rm -r MLUD\n",
        "!git clone https://github.com/Crissky/MLUD.git"
      ],
      "execution_count": 2,
      "outputs": [
        {
          "output_type": "stream",
          "text": [
            "rm: cannot remove 'MLUD': No such file or directory\n",
            "Cloning into 'MLUD'...\n",
            "remote: Enumerating objects: 336, done.\u001b[K\n",
            "remote: Counting objects: 100% (336/336), done.\u001b[K\n",
            "remote: Compressing objects: 100% (318/318), done.\u001b[K\n",
            "remote: Total 336 (delta 147), reused 62 (delta 6), pack-reused 0\u001b[K\n",
            "Receiving objects: 100% (336/336), 5.37 MiB | 10.58 MiB/s, done.\n",
            "Resolving deltas: 100% (147/147), done.\n"
          ],
          "name": "stdout"
        }
      ]
    },
    {
      "cell_type": "markdown",
      "metadata": {
        "id": "dkC8QahvvpS_"
      },
      "source": [
        "## Funções de Pré-Processamento\n",
        "\n",
        "Nessa aula, o vídeo mudou a maneira como são criadas as funções \"Compute ‘método’ Model\" e \"Compute ‘método’ Example\". Para facilitar a construção das funções, que são muito semelhantes, foi usada a abordagem de Orientação a Objetos.\n",
        "\n",
        "No vídeo não é utilizado herança efetivamente, pois ele usa as funções diretamente da Classe que seria a “PAI” no lugar no “self” ou “super()” para evitar a necessidade de instância-lá.\n",
        "\n",
        "Eu optei por usar as instâncias para realmente utilizar a herança. Outra mudança que fiz foi colocar a função “Compute Example” na Classe Pai (Classification Model), pois nos casos da Regressão Logística e do KNN, elas são idênticas.\n",
        "\n",
        "Já a Classe do SVM precisa reescrever a função “Compute Example”, pois sua função “Compute Model” tem um argumento a mais, sendo que a “Compute Example” chama a “Compute Model”.\n"
      ]
    },
    {
      "cell_type": "code",
      "metadata": {
        "id": "fwStz-ILvpTE"
      },
      "source": [
        "def loadDataset(filename, delimiter=';'):\n",
        "    baseDeDados = pd.read_csv(filename, delimiter=delimiter)\n",
        "    X = baseDeDados.iloc[:,:-1].values\n",
        "    y = baseDeDados.iloc[:,-1].values\n",
        "\n",
        "    return X, y, baseDeDados\n",
        "\n",
        "def fillMissingData(X, inicioColuna, fimColuna):\n",
        "    imputer = SimpleImputer(missing_values=np.nan, strategy='median')\n",
        "    X[:,inicioColuna:fimColuna + 1] = imputer.fit_transform(X[:,inicioColuna:fimColuna + 1])\n",
        "\n",
        "    return X\n",
        "\n",
        "#só funciona se i = 0 ou i = ultima coluna\n",
        "def computeCategorization(X):\n",
        "    labelencoder_X = LabelEncoder()\n",
        "    X[:, 0] = labelencoder_X.fit_transform(X[:, 0])\n",
        "\n",
        "    #one hot encoding\n",
        "    D = pd.get_dummies(X[:,0]).values\n",
        "    \n",
        "    X = X[:,1:]\n",
        "    for ii in range(0, D.shape[1]):\n",
        "        X = np.insert(X, X.shape[1], D[:,ii], axis=1)\n",
        "    X = X[:,:X.shape[1] - 1]\n",
        "\n",
        "    return X\n",
        "\n",
        "def splitTrainTestSets(X, y, testSize):\n",
        "    XTrain, XTest, yTrain, yTest = train_test_split(X, y, test_size = testSize)\n",
        "\n",
        "    return XTrain, XTest, yTrain, yTest\n",
        "\n",
        "def computeScaling(X):\n",
        "    scale = StandardScaler()\n",
        "    X = scale.fit_transform(X)\n",
        "\n",
        "    return X, scale"
      ],
      "execution_count": 3,
      "outputs": []
    },
    {
      "cell_type": "code",
      "metadata": {
        "id": "BSmCRaj5uug5"
      },
      "source": [
        "def printAccuracy(confunsionMatrix):\n",
        "    accuracy = getAccuracy(confunsionMatrix)\n",
        "    print('Confusion Matrix:\\n', confunsionMatrix)\n",
        "    print('Accuracy:', accuracy)\n",
        "\n",
        "def getAccuracy(confunsionMatrix):\n",
        "    accuracy = (confunsionMatrix[0][0] + confunsionMatrix[1][1])/ confunsionMatrix.sum()\n",
        "\n",
        "    return (accuracy * 100)"
      ],
      "execution_count": 4,
      "outputs": []
    },
    {
      "cell_type": "code",
      "metadata": {
        "id": "xiHOJujiyR5g"
      },
      "source": [
        "class ClassificationModel:\n",
        "    def predictModel(self, classifier, X):\n",
        "        return classifier.predict(X)\n",
        "\n",
        "    def evaluateModel(self, yPred, yTest):\n",
        "        confusionMatrix = confusion_matrix(yTest, yPred)\n",
        "\n",
        "        return confusionMatrix\n",
        "\n",
        "    def preprocessData(self, filename, delimiter=','):\n",
        "        X, y, csv = loadDataset(filename, delimiter)\n",
        "        X = fillMissingData(X, 2, 3)\n",
        "        X = computeCategorization(X)\n",
        "        X = computeCategorization(X)\n",
        "        XTrain, XTest, yTrain, yTest = splitTrainTestSets(X, y, 0.15)\n",
        "        XTrain, XTrainScale = computeScaling(XTrain) # No vídeo está recebendo a tupla em uma única variável. Fazendo com que no classifier.fit, da função computeLogisticRegressionModel, o XTrain tenha que se passado desta maneira XTrain[0]\n",
        "        XTest, XTestScale = computeScaling(XTest)\n",
        "\n",
        "        return XTrain, XTest, yTrain, yTest, XTrainScale, XTestScale\n",
        "    \n",
        "    def computeModel(self, XTrain, yTrain):\n",
        "        pass\n",
        "\n",
        "    def computeExample(self, filename, delimiter=','):\n",
        "        XTrain, XTest, yTrain, yTest, XTrainScale, XTestScale = self.preprocessData(filename, delimiter)\n",
        "\n",
        "        classifier = self.computeModel(XTrain, yTrain)\n",
        "        yPred = self.predictModel(classifier, XTest)\n",
        "\n",
        "        return self.evaluateModel(yPred, yTest)"
      ],
      "execution_count": 5,
      "outputs": []
    },
    {
      "cell_type": "markdown",
      "metadata": {
        "id": "6BL8yueav0gl"
      },
      "source": [
        "## Regressão Logística"
      ]
    },
    {
      "cell_type": "code",
      "metadata": {
        "id": "sPUjICFWv0gr"
      },
      "source": [
        "class MyLogisticRegression(ClassificationModel):\n",
        "    def computeModel(self, XTrain, yTrain):\n",
        "        classifier = LogisticRegression(solver='lbfgs')\n",
        "        classifier.fit(XTrain, yTrain)\n",
        "        \n",
        "        return classifier"
      ],
      "execution_count": 6,
      "outputs": []
    },
    {
      "cell_type": "markdown",
      "metadata": {
        "id": "4y2feIUuNGeB"
      },
      "source": [
        "## K-NN"
      ]
    },
    {
      "cell_type": "code",
      "metadata": {
        "id": "22fZbLDKEIaQ"
      },
      "source": [
        "class KNN(ClassificationModel):\n",
        "    def computeModel(self, XTrain, yTrain):\n",
        "        classifier = KNeighborsClassifier(n_neighbors=5, p=1)\n",
        "        classifier.fit(XTrain, yTrain)\n",
        "    \n",
        "        return classifier"
      ],
      "execution_count": 7,
      "outputs": []
    },
    {
      "cell_type": "markdown",
      "metadata": {
        "id": "QZN8YU_L4t6w"
      },
      "source": [
        "## SVM"
      ]
    },
    {
      "cell_type": "code",
      "metadata": {
        "id": "deuJPr7C4x5_"
      },
      "source": [
        "class SVM(ClassificationModel):\n",
        "    def computeModel(self, XTrain, yTrain, k, d=0):\n",
        "        if (d <= 0):\n",
        "            classifier = SVC(kernel=k)\n",
        "        else:\n",
        "            classifier = SVC(kernel=k, degree=d)\n",
        "        classifier.fit(XTrain, yTrain)\n",
        "\n",
        "        return classifier\n",
        "\n",
        "    def computeExample(self, filename, kernel='linear', degree=0, delimiter=','):\n",
        "        XTrain, XTest, yTrain, yTest, XTrainScale, XTestScale = self.preprocessData(filename, delimiter)\n",
        "\n",
        "        classifier = self.computeModel(XTrain, yTrain, kernel, degree)\n",
        "        yPred = self.predictModel(classifier, XTest)\n",
        "\n",
        "        return self.evaluateModel(yPred, yTest)\n"
      ],
      "execution_count": 8,
      "outputs": []
    },
    {
      "cell_type": "markdown",
      "metadata": {
        "id": "wJKj_kscL-CP"
      },
      "source": [
        "## Naive Bayes"
      ]
    },
    {
      "cell_type": "code",
      "metadata": {
        "id": "e7u89QG-MA9q"
      },
      "source": [
        "class NaiveBayes(ClassificationModel):\n",
        "    def computeModel(self, XTrain, yTrain):\n",
        "        classifier = GaussianNB()\n",
        "        classifier.fit(XTrain, yTrain)\n",
        "\n",
        "        return classifier\n"
      ],
      "execution_count": 9,
      "outputs": []
    },
    {
      "cell_type": "markdown",
      "metadata": {
        "id": "L9djm7wIkC5y"
      },
      "source": [
        "## Decision Tree"
      ]
    },
    {
      "cell_type": "code",
      "metadata": {
        "id": "-IIrmAIDj49q"
      },
      "source": [
        "class DecisionTree(ClassificationModel):\n",
        "    def computeModel(self, XTrain, yTrain):\n",
        "        classifier = DecisionTreeClassifier(criterion='entropy')\n",
        "        classifier.fit(XTrain, yTrain)\n",
        "\n",
        "        return classifier\n"
      ],
      "execution_count": 10,
      "outputs": []
    },
    {
      "cell_type": "markdown",
      "metadata": {
        "id": "An2FJUAawIHl"
      },
      "source": [
        "## Random Forest"
      ]
    },
    {
      "cell_type": "code",
      "metadata": {
        "id": "v2vWOPhGwKMV"
      },
      "source": [
        "class RandomForest(ClassificationModel):\n",
        "    def computeModel(self, XTrain, yTrain):\n",
        "        classifier = RandomForestClassifier(n_estimators=10, criterion='entropy')\n",
        "        classifier.fit(XTrain, yTrain)\n",
        "\n",
        "        return classifier"
      ],
      "execution_count": 11,
      "outputs": []
    },
    {
      "cell_type": "markdown",
      "metadata": {
        "id": "d00MmgOm0DZq"
      },
      "source": [
        "## Comparando Regressão Logística, KNN, SVM e Naive Bayes\n",
        "\n",
        "O argumento \"class_arguments\" foi modificado para receber Listas no lugar de Tuplas, para evitar a necessidade do uso do IF quando o \"class_arguments\" possuir somente 1 \"argumento\"."
      ]
    },
    {
      "cell_type": "code",
      "metadata": {
        "id": "ANUYlnhQ61q5"
      },
      "source": [
        "def run_testing(n_loop, class_model, class_arguments, class_name=None, ncols=500, verbose=True):\n",
        "    array = list()\n",
        "    model = class_model()\n",
        "    if(not class_name):\n",
        "        class_name = type(class_model()).__name__\n",
        "    for i in tqdm(range(n_loop), desc=class_name, ncols=ncols):        \n",
        "        confunsionMatrix = model.computeExample(*class_arguments)\n",
        "        \n",
        "        array.append(getAccuracy(confunsionMatrix))\n",
        "    \n",
        "    if(verbose):\n",
        "        print('Média da %s: %.2f' % (class_name, np.mean(array) ) )\n",
        "        print('Desvio Padrão da %s: %.2f\\n' % (class_name, np.std(array) ) )        \n",
        "\n",
        "    return array\n"
      ],
      "execution_count": 12,
      "outputs": []
    },
    {
      "cell_type": "code",
      "metadata": {
        "colab": {
          "base_uri": "https://localhost:8080/",
          "height": 617,
          "referenced_widgets": [
            "d2c65294ecaa48c1b378763aa389fcbf",
            "4520846316c94d1baa3a81a0c9f70f12",
            "c135433d052844ce80d62ae9eee2f35e",
            "ca8bed8182d344418c1f99943f59114b",
            "51fe025b85ba49ec976ab3a249cf4e2a",
            "7991fd29b6c848d99c96f20712e13b8b",
            "0250b67ce23742b38214fdbb5ed3e74f",
            "6c772ae3a77b4a89970d57d9f9c47b45",
            "2cc02855dced4a2f968da98f5d9acde8",
            "44ba41866d3342d9bbefb2a240894b4d",
            "c0aee468ca2f46a1b5d08782687095d5",
            "f26f7aede2c3468694aa991de07f9dd7",
            "6e6089ee1a2f4529ab32b3989652f294",
            "822311eb7c94412993e21e0d25fc0863",
            "c5a64bc2626d47bfaf253532621abd16",
            "3927e55f19cb4a688751e5e605f4b1bc",
            "46224fddd2eb46fc83f240cb3b9d3f0c",
            "44c577fb1203490cb1878b9c23b4ea67",
            "e222696eeb934b51b23d19d866114bc3",
            "ee0e3d7776fb490d9fc57d7d336588eb",
            "f503dc3ea5ff4e1589b3ead08b3be69d",
            "b712d0fb59c5426b945910d144a94d35",
            "9418e930e7d24669b60a18eae0dfbd5e",
            "de14ba901cdf4ae58c3d146b958ee536",
            "2357d8507c6845c2ab5c4998b462c88a",
            "8681e55ffa584f34b336a04f96a30bb2",
            "bd24b12acbdf49b0ba26fa3151331341",
            "21b0a90b0d034acfae74240f583c805b",
            "6a7f0c7a2ddb4459903a60e5bfbec652",
            "ec6f324c5d794624921f534cace3404f",
            "db9d6a4560bf4e0f8282e9622db14bdf",
            "654dae073a6d495e834725e43c148e62",
            "8eae96ca06e845f0ac175fc7bfb7a2ba",
            "99393d59b8c24eea8e0ab1dffd092db3",
            "9c68eb44a1ec4df4ae029b2bc1ca150b",
            "73af9e2702ad44f5bdb46429822fb282",
            "87db28ec1afd4850b35c6b6196c96c21",
            "2052b19f325e4f59bdd35ac55ee67561",
            "961ff9a2a231472b9f2efc8e3f5da004",
            "a89a09af52874923a956415140bf0e31",
            "fad52750bd794847be413ed446178ddd",
            "f5f8198348cd4ece9a4e68aa0c82fb5f",
            "55f9ea80128c4e84805f37f2032edc22",
            "003638b8bbc94a0faabf830f39a56fcb",
            "8d3a5fdf68b349bdb91b92bcea6c75ff",
            "b938cc467b5f4c35ad7ac897ddb31544",
            "68c5b747aaac45e5aa737772df054a23",
            "13c0f12421a242008a6c5588ffeb151a"
          ]
        },
        "id": "IeS6Ra2XEuTv",
        "outputId": "4ea557ec-a039-4757-db8e-de9c3bf90a96"
      },
      "source": [
        "total_loops = 100\n",
        "ncols=500\n",
        "\n",
        "rlArray = run_testing(total_loops, MyLogisticRegression, ['MLUD/Aula13/titanic.csv'], 'Regressão Linear', ncols)\n",
        "knnArray = run_testing(total_loops, KNN, ['MLUD/Aula13/titanic.csv'], 'KNN', ncols)\n",
        "svmGaussArray = run_testing(total_loops, SVM, ['MLUD/Aula13/titanic.csv', 'rbf'], 'SVM Gaussiana', ncols)\n",
        "nbArray = run_testing(total_loops, NaiveBayes, ['MLUD/Aula13/titanic.csv'], 'Naive Bayes', ncols)\n",
        "dtArray = run_testing(total_loops, DecisionTree, ['MLUD/Aula13/titanic.csv'], 'Decision Tree', ncols)\n",
        "rfArray = run_testing(total_loops, RandomForest, ['MLUD/Aula13/titanic.csv'], 'Random Forest', ncols)"
      ],
      "execution_count": 13,
      "outputs": [
        {
          "output_type": "display_data",
          "data": {
            "application/vnd.jupyter.widget-view+json": {
              "model_id": "d2c65294ecaa48c1b378763aa389fcbf",
              "version_minor": 0,
              "version_major": 2
            },
            "text/plain": [
              "HBox(children=(FloatProgress(value=0.0, description='Regressão Linear', layout=Layout(flex='2'), style=Progres…"
            ]
          },
          "metadata": {
            "tags": []
          }
        },
        {
          "output_type": "stream",
          "text": [
            "\n",
            "Média da Regressão Linear: 80.31\n",
            "Desvio Padrão da Regressão Linear: 3.26\n",
            "\n"
          ],
          "name": "stdout"
        },
        {
          "output_type": "display_data",
          "data": {
            "application/vnd.jupyter.widget-view+json": {
              "model_id": "2cc02855dced4a2f968da98f5d9acde8",
              "version_minor": 0,
              "version_major": 2
            },
            "text/plain": [
              "HBox(children=(FloatProgress(value=0.0, description='KNN', layout=Layout(flex='2'), style=ProgressStyle(descri…"
            ]
          },
          "metadata": {
            "tags": []
          }
        },
        {
          "output_type": "stream",
          "text": [
            "\n",
            "Média da KNN: 79.54\n",
            "Desvio Padrão da KNN: 3.56\n",
            "\n"
          ],
          "name": "stdout"
        },
        {
          "output_type": "display_data",
          "data": {
            "application/vnd.jupyter.widget-view+json": {
              "model_id": "46224fddd2eb46fc83f240cb3b9d3f0c",
              "version_minor": 0,
              "version_major": 2
            },
            "text/plain": [
              "HBox(children=(FloatProgress(value=0.0, description='SVM Gaussiana', layout=Layout(flex='2'), style=ProgressSt…"
            ]
          },
          "metadata": {
            "tags": []
          }
        },
        {
          "output_type": "stream",
          "text": [
            "\n",
            "Média da SVM Gaussiana: 82.18\n",
            "Desvio Padrão da SVM Gaussiana: 3.14\n",
            "\n"
          ],
          "name": "stdout"
        },
        {
          "output_type": "display_data",
          "data": {
            "application/vnd.jupyter.widget-view+json": {
              "model_id": "2357d8507c6845c2ab5c4998b462c88a",
              "version_minor": 0,
              "version_major": 2
            },
            "text/plain": [
              "HBox(children=(FloatProgress(value=0.0, description='Naive Bayes', layout=Layout(flex='2'), style=ProgressStyl…"
            ]
          },
          "metadata": {
            "tags": []
          }
        },
        {
          "output_type": "stream",
          "text": [
            "\n",
            "Média da Naive Bayes: 77.69\n",
            "Desvio Padrão da Naive Bayes: 3.44\n",
            "\n"
          ],
          "name": "stdout"
        },
        {
          "output_type": "display_data",
          "data": {
            "application/vnd.jupyter.widget-view+json": {
              "model_id": "8eae96ca06e845f0ac175fc7bfb7a2ba",
              "version_minor": 0,
              "version_major": 2
            },
            "text/plain": [
              "HBox(children=(FloatProgress(value=0.0, description='Decision Tree', layout=Layout(flex='2'), style=ProgressSt…"
            ]
          },
          "metadata": {
            "tags": []
          }
        },
        {
          "output_type": "stream",
          "text": [
            "\n",
            "Média da Decision Tree: 70.34\n",
            "Desvio Padrão da Decision Tree: 6.51\n",
            "\n"
          ],
          "name": "stdout"
        },
        {
          "output_type": "display_data",
          "data": {
            "application/vnd.jupyter.widget-view+json": {
              "model_id": "fad52750bd794847be413ed446178ddd",
              "version_minor": 0,
              "version_major": 2
            },
            "text/plain": [
              "HBox(children=(FloatProgress(value=0.0, description='Random Forest', layout=Layout(flex='2'), style=ProgressSt…"
            ]
          },
          "metadata": {
            "tags": []
          }
        },
        {
          "output_type": "stream",
          "text": [
            "\n",
            "Média da Random Forest: 73.41\n",
            "Desvio Padrão da Random Forest: 5.55\n",
            "\n"
          ],
          "name": "stdout"
        }
      ]
    },
    {
      "cell_type": "code",
      "metadata": {
        "colab": {
          "base_uri": "https://localhost:8080/",
          "height": 458
        },
        "id": "Da-MHIgOEuT9",
        "outputId": "2e7d0086-2ba9-4fea-849c-0a877c1180d7"
      },
      "source": [
        "plt.figure(figsize=(20, 7))\n",
        "plt.plot(rlArray, 'r-', label='Regressão Linear')\n",
        "plt.plot(knnArray, 'g--', label='KNN')\n",
        "plt.plot(svmGaussArray, 'ko', label='SVM Gaussiana')\n",
        "plt.plot(nbArray, 'mv', label='Naive Bayes')\n",
        "plt.plot(dtArray, 'b^', label='Decision Tree')\n",
        "plt.plot(rfArray, 'yh', label='Random Forest')\n",
        "plt.xlabel('Tentativas')\n",
        "plt.ylabel('Acurácia')\n",
        "plt.title('Comparação das Acurácias')\n",
        "plt.legend()\n",
        "plt.show()"
      ],
      "execution_count": 14,
      "outputs": [
        {
          "output_type": "display_data",
          "data": {
            "image/png": "[encoded data removed]",
            "text/plain": [
              "<Figure size 1440x504 with 1 Axes>"
            ]
          },
          "metadata": {
            "tags": [],
            "needs_background": "light"
          }
        }
      ]
    }
  ]
}