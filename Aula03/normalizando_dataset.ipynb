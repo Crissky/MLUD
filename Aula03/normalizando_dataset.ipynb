{
  "nbformat": 4,
  "nbformat_minor": 0,
  "metadata": {
    "colab": {
      "name": "normalizando_dataset.ipynb",
      "provenance": [],
      "collapsed_sections": [],
      "toc_visible": true,
      "authorship_tag": "ABX9TyN6ORQv1hGOvp0kWju/0nQp",
      "include_colab_link": true
    },
    "kernelspec": {
      "name": "python3",
      "display_name": "Python 3"
    }
  },
  "cells": [
    {
      "cell_type": "markdown",
      "metadata": {
        "id": "view-in-github",
        "colab_type": "text"
      },
      "source": [
        "<a href=\"https://colab.research.google.com/github/Crissky/MLUD/blob/main/Aula%2003/normalizando_dataset.ipynb\" target=\"_parent\"><img src=\"https://colab.research.google.com/assets/colab-badge.svg\" alt=\"Open In Colab\"/></a>"
      ]
    },
    {
      "cell_type": "markdown",
      "metadata": {
        "id": "MHtOUd46GZg_"
      },
      "source": [
        "# Normalizando Conjunto de Dados\n",
        "É necessário normalizar os dados quando há uma diferença muito grande nos valores das colunas, onde as com valores maiores seriam predominantes em ditar a classificação, diminuindo a relevâncias das com valores pequenos."
      ]
    },
    {
      "cell_type": "markdown",
      "metadata": {
        "id": "VQpNkFdcGecU"
      },
      "source": [
        "## Imports"
      ]
    },
    {
      "cell_type": "code",
      "metadata": {
        "id": "L1Ov6156Fk7w"
      },
      "source": [
        "import numpy as np\n",
        "import pandas as pd\n",
        "\n",
        "from sklearn.preprocessing import StandardScaler, LabelEncoder\n",
        "from sklearn.model_selection import train_test_split"
      ],
      "execution_count": 1,
      "outputs": []
    },
    {
      "cell_type": "markdown",
      "metadata": {
        "id": "npqjrOhmGobT"
      },
      "source": [
        "## Carregando Base de dados"
      ]
    },
    {
      "cell_type": "code",
      "metadata": {
        "id": "lBCL1rmnGjtL",
        "colab": {
          "base_uri": "https://localhost:8080/"
        },
        "outputId": "4988d401-b8d3-43e2-b68c-b651aca686ff"
      },
      "source": [
        "!git clone https://github.com/Crissky/MLUD.git"
      ],
      "execution_count": 2,
      "outputs": [
        {
          "output_type": "stream",
          "text": [
            "Cloning into 'MLUD'...\n",
            "remote: Enumerating objects: 50, done.\u001b[K\n",
            "remote: Counting objects: 100% (50/50), done.\u001b[K\n",
            "remote: Compressing objects: 100% (46/46), done.\u001b[K\n",
            "remote: Total 50 (delta 12), reused 12 (delta 0), pack-reused 0\u001b[K\n",
            "Unpacking objects: 100% (50/50), done.\n"
          ],
          "name": "stdout"
        }
      ]
    },
    {
      "cell_type": "code",
      "metadata": {
        "id": "mfuxl4iUG0cA"
      },
      "source": [
        "dataset = pd.read_csv('MLUD/Aula03/admission.csv', delimiter=';')"
      ],
      "execution_count": 3,
      "outputs": []
    },
    {
      "cell_type": "markdown",
      "metadata": {
        "id": "stc1tH0kHQVy"
      },
      "source": [
        "## Visualizando os Dados"
      ]
    },
    {
      "cell_type": "code",
      "metadata": {
        "id": "ty-Oky1eG4mH",
        "colab": {
          "base_uri": "https://localhost:8080/",
          "height": 204
        },
        "outputId": "5af80b1c-9069-4e0c-a87d-ddd569b17313"
      },
      "source": [
        "dataset.head()"
      ],
      "execution_count": 4,
      "outputs": [
        {
          "output_type": "execute_result",
          "data": {
            "text/html": [
              "<div>\n",
              "<style scoped>\n",
              "    .dataframe tbody tr th:only-of-type {\n",
              "        vertical-align: middle;\n",
              "    }\n",
              "\n",
              "    .dataframe tbody tr th {\n",
              "        vertical-align: top;\n",
              "    }\n",
              "\n",
              "    .dataframe thead th {\n",
              "        text-align: right;\n",
              "    }\n",
              "</style>\n",
              "<table border=\"1\" class=\"dataframe\">\n",
              "  <thead>\n",
              "    <tr style=\"text-align: right;\">\n",
              "      <th></th>\n",
              "      <th>Name</th>\n",
              "      <th>GRE Score</th>\n",
              "      <th>TOEFL Score</th>\n",
              "      <th>University Rating</th>\n",
              "      <th>SOP</th>\n",
              "      <th>LOR</th>\n",
              "      <th>CGPA</th>\n",
              "      <th>Research</th>\n",
              "      <th>Approval</th>\n",
              "    </tr>\n",
              "  </thead>\n",
              "  <tbody>\n",
              "    <tr>\n",
              "      <th>0</th>\n",
              "      <td>Lucas</td>\n",
              "      <td>337</td>\n",
              "      <td>118</td>\n",
              "      <td>4</td>\n",
              "      <td>4.5</td>\n",
              "      <td>4.5</td>\n",
              "      <td>9.65</td>\n",
              "      <td>1</td>\n",
              "      <td>1</td>\n",
              "    </tr>\n",
              "    <tr>\n",
              "      <th>1</th>\n",
              "      <td>Ana</td>\n",
              "      <td>324</td>\n",
              "      <td>107</td>\n",
              "      <td>4</td>\n",
              "      <td>4.0</td>\n",
              "      <td>4.5</td>\n",
              "      <td>8.87</td>\n",
              "      <td>1</td>\n",
              "      <td>1</td>\n",
              "    </tr>\n",
              "    <tr>\n",
              "      <th>2</th>\n",
              "      <td>Jose</td>\n",
              "      <td>316</td>\n",
              "      <td>104</td>\n",
              "      <td>3</td>\n",
              "      <td>3.0</td>\n",
              "      <td>3.5</td>\n",
              "      <td>8.00</td>\n",
              "      <td>1</td>\n",
              "      <td>1</td>\n",
              "    </tr>\n",
              "    <tr>\n",
              "      <th>3</th>\n",
              "      <td>Carlos</td>\n",
              "      <td>322</td>\n",
              "      <td>110</td>\n",
              "      <td>3</td>\n",
              "      <td>3.5</td>\n",
              "      <td>2.5</td>\n",
              "      <td>8.67</td>\n",
              "      <td>1</td>\n",
              "      <td>1</td>\n",
              "    </tr>\n",
              "    <tr>\n",
              "      <th>4</th>\n",
              "      <td>Zileide</td>\n",
              "      <td>314</td>\n",
              "      <td>103</td>\n",
              "      <td>2</td>\n",
              "      <td>2.0</td>\n",
              "      <td>3.0</td>\n",
              "      <td>8.21</td>\n",
              "      <td>0</td>\n",
              "      <td>0</td>\n",
              "    </tr>\n",
              "  </tbody>\n",
              "</table>\n",
              "</div>"
            ],
            "text/plain": [
              "      Name  GRE Score  TOEFL Score  ...  CGPA  Research  Approval\n",
              "0    Lucas        337          118  ...  9.65         1         1\n",
              "1      Ana        324          107  ...  8.87         1         1\n",
              "2     Jose        316          104  ...  8.00         1         1\n",
              "3   Carlos        322          110  ...  8.67         1         1\n",
              "4  Zileide        314          103  ...  8.21         0         0\n",
              "\n",
              "[5 rows x 9 columns]"
            ]
          },
          "metadata": {
            "tags": []
          },
          "execution_count": 4
        }
      ]
    },
    {
      "cell_type": "code",
      "metadata": {
        "id": "rEY0rmjDJTYR",
        "colab": {
          "base_uri": "https://localhost:8080/",
          "height": 328
        },
        "outputId": "3c2049ea-1153-4fb5-a035-f91c2cb31ee4"
      },
      "source": [
        "X = dataset.iloc[:,:-1].values              # Pegando somente as variáveis independentes\n",
        "y = dataset.iloc[:,-1].values               # Pegando somente as variáveis dependentes\n",
        "D = pd.get_dummies(X[:,0])                  # Criando o One-Hot Encoding com o Pandas (Ao usar o get_dummies o LabelEncoder não se faz necessário), pois ele funciona com strings)\n",
        "X = X[:, 1:]                                # Retirando os Labels Numéricos\n",
        "X = np.insert(X, 0, D.values.T, axis=1)     # Inserindo o One-Hot Encoding em X\n",
        "\n",
        "X_train, X_test, y_train, y_test = train_test_split(X, y, test_size=0.2)\n",
        "\n",
        "D"
      ],
      "execution_count": 5,
      "outputs": [
        {
          "output_type": "execute_result",
          "data": {
            "text/html": [
              "<div>\n",
              "<style scoped>\n",
              "    .dataframe tbody tr th:only-of-type {\n",
              "        vertical-align: middle;\n",
              "    }\n",
              "\n",
              "    .dataframe tbody tr th {\n",
              "        vertical-align: top;\n",
              "    }\n",
              "\n",
              "    .dataframe thead th {\n",
              "        text-align: right;\n",
              "    }\n",
              "</style>\n",
              "<table border=\"1\" class=\"dataframe\">\n",
              "  <thead>\n",
              "    <tr style=\"text-align: right;\">\n",
              "      <th></th>\n",
              "      <th>Ana</th>\n",
              "      <th>Carlos</th>\n",
              "      <th>Daniel</th>\n",
              "      <th>Davi</th>\n",
              "      <th>Joana</th>\n",
              "      <th>Jose</th>\n",
              "      <th>Lucas</th>\n",
              "      <th>Marcelo</th>\n",
              "      <th>Zileide</th>\n",
              "    </tr>\n",
              "  </thead>\n",
              "  <tbody>\n",
              "    <tr>\n",
              "      <th>0</th>\n",
              "      <td>0</td>\n",
              "      <td>0</td>\n",
              "      <td>0</td>\n",
              "      <td>0</td>\n",
              "      <td>0</td>\n",
              "      <td>0</td>\n",
              "      <td>1</td>\n",
              "      <td>0</td>\n",
              "      <td>0</td>\n",
              "    </tr>\n",
              "    <tr>\n",
              "      <th>1</th>\n",
              "      <td>1</td>\n",
              "      <td>0</td>\n",
              "      <td>0</td>\n",
              "      <td>0</td>\n",
              "      <td>0</td>\n",
              "      <td>0</td>\n",
              "      <td>0</td>\n",
              "      <td>0</td>\n",
              "      <td>0</td>\n",
              "    </tr>\n",
              "    <tr>\n",
              "      <th>2</th>\n",
              "      <td>0</td>\n",
              "      <td>0</td>\n",
              "      <td>0</td>\n",
              "      <td>0</td>\n",
              "      <td>0</td>\n",
              "      <td>1</td>\n",
              "      <td>0</td>\n",
              "      <td>0</td>\n",
              "      <td>0</td>\n",
              "    </tr>\n",
              "    <tr>\n",
              "      <th>3</th>\n",
              "      <td>0</td>\n",
              "      <td>1</td>\n",
              "      <td>0</td>\n",
              "      <td>0</td>\n",
              "      <td>0</td>\n",
              "      <td>0</td>\n",
              "      <td>0</td>\n",
              "      <td>0</td>\n",
              "      <td>0</td>\n",
              "    </tr>\n",
              "    <tr>\n",
              "      <th>4</th>\n",
              "      <td>0</td>\n",
              "      <td>0</td>\n",
              "      <td>0</td>\n",
              "      <td>0</td>\n",
              "      <td>0</td>\n",
              "      <td>0</td>\n",
              "      <td>0</td>\n",
              "      <td>0</td>\n",
              "      <td>1</td>\n",
              "    </tr>\n",
              "    <tr>\n",
              "      <th>5</th>\n",
              "      <td>0</td>\n",
              "      <td>0</td>\n",
              "      <td>0</td>\n",
              "      <td>0</td>\n",
              "      <td>1</td>\n",
              "      <td>0</td>\n",
              "      <td>0</td>\n",
              "      <td>0</td>\n",
              "      <td>0</td>\n",
              "    </tr>\n",
              "    <tr>\n",
              "      <th>6</th>\n",
              "      <td>0</td>\n",
              "      <td>0</td>\n",
              "      <td>0</td>\n",
              "      <td>1</td>\n",
              "      <td>0</td>\n",
              "      <td>0</td>\n",
              "      <td>0</td>\n",
              "      <td>0</td>\n",
              "      <td>0</td>\n",
              "    </tr>\n",
              "    <tr>\n",
              "      <th>7</th>\n",
              "      <td>0</td>\n",
              "      <td>0</td>\n",
              "      <td>1</td>\n",
              "      <td>0</td>\n",
              "      <td>0</td>\n",
              "      <td>0</td>\n",
              "      <td>0</td>\n",
              "      <td>0</td>\n",
              "      <td>0</td>\n",
              "    </tr>\n",
              "    <tr>\n",
              "      <th>8</th>\n",
              "      <td>0</td>\n",
              "      <td>0</td>\n",
              "      <td>0</td>\n",
              "      <td>0</td>\n",
              "      <td>0</td>\n",
              "      <td>0</td>\n",
              "      <td>0</td>\n",
              "      <td>1</td>\n",
              "      <td>0</td>\n",
              "    </tr>\n",
              "  </tbody>\n",
              "</table>\n",
              "</div>"
            ],
            "text/plain": [
              "   Ana  Carlos  Daniel  Davi  Joana  Jose  Lucas  Marcelo  Zileide\n",
              "0    0       0       0     0      0     0      1        0        0\n",
              "1    1       0       0     0      0     0      0        0        0\n",
              "2    0       0       0     0      0     1      0        0        0\n",
              "3    0       1       0     0      0     0      0        0        0\n",
              "4    0       0       0     0      0     0      0        0        1\n",
              "5    0       0       0     0      1     0      0        0        0\n",
              "6    0       0       0     1      0     0      0        0        0\n",
              "7    0       0       1     0      0     0      0        0        0\n",
              "8    0       0       0     0      0     0      0        1        0"
            ]
          },
          "metadata": {
            "tags": []
          },
          "execution_count": 5
        }
      ]
    },
    {
      "cell_type": "code",
      "metadata": {
        "colab": {
          "base_uri": "https://localhost:8080/"
        },
        "id": "E4XLKmqXdz9O",
        "outputId": "9df6faa5-2b54-4ff6-8459-7ffaadd6f7a3"
      },
      "source": [
        "print(X)"
      ],
      "execution_count": 6,
      "outputs": [
        {
          "output_type": "stream",
          "text": [
            "[[0 0 0 0 0 0 1 0 0 337 118 4 4.5 4.5 9.65 1]\n",
            " [1 0 0 0 0 0 0 0 0 324 107 4 4.0 4.5 8.87 1]\n",
            " [0 0 0 0 0 1 0 0 0 316 104 3 3.0 3.5 8.0 1]\n",
            " [0 1 0 0 0 0 0 0 0 322 110 3 3.5 2.5 8.67 1]\n",
            " [0 0 0 0 0 0 0 0 1 314 103 2 2.0 3.0 8.21 0]\n",
            " [0 0 0 0 1 0 0 0 0 330 115 5 4.5 3.0 9.34 1]\n",
            " [0 0 0 1 0 0 0 0 0 321 109 3 3.0 4.0 8.2 1]\n",
            " [0 0 1 0 0 0 0 0 0 308 101 2 3.0 4.0 7.9 0]\n",
            " [0 0 0 0 0 0 0 1 0 302 102 1 2.0 1.5 8.0 0]]\n"
          ],
          "name": "stdout"
        }
      ]
    },
    {
      "cell_type": "code",
      "metadata": {
        "id": "GG43JvcJKwNR",
        "colab": {
          "base_uri": "https://localhost:8080/"
        },
        "outputId": "5ac7bbc3-af0b-4577-e83b-ac834e87833f"
      },
      "source": [
        "print(X_train)"
      ],
      "execution_count": 7,
      "outputs": [
        {
          "output_type": "stream",
          "text": [
            "[[0 0 0 1 0 0 0 0 0 321 109 3 3.0 4.0 8.2 1]\n",
            " [0 0 1 0 0 0 0 0 0 308 101 2 3.0 4.0 7.9 0]\n",
            " [0 0 0 0 1 0 0 0 0 330 115 5 4.5 3.0 9.34 1]\n",
            " [0 0 0 0 0 0 0 0 1 314 103 2 2.0 3.0 8.21 0]\n",
            " [0 0 0 0 0 1 0 0 0 316 104 3 3.0 3.5 8.0 1]\n",
            " [0 0 0 0 0 0 0 1 0 302 102 1 2.0 1.5 8.0 0]\n",
            " [0 1 0 0 0 0 0 0 0 322 110 3 3.5 2.5 8.67 1]]\n"
          ],
          "name": "stdout"
        }
      ]
    },
    {
      "cell_type": "markdown",
      "metadata": {
        "id": "w4EAfPsYL3aH"
      },
      "source": [
        "## Normalizando os Dados"
      ]
    },
    {
      "cell_type": "code",
      "metadata": {
        "id": "Y6U1o4VxKAPm"
      },
      "source": [
        "scale_X = StandardScaler()\n",
        "\n",
        "X_train = scale_X.fit_transform(X_train)\n",
        "X_test = scale_X.fit_transform(X_test)"
      ],
      "execution_count": 8,
      "outputs": []
    },
    {
      "cell_type": "code",
      "metadata": {
        "id": "a__Zm0J9KymY",
        "colab": {
          "base_uri": "https://localhost:8080/"
        },
        "outputId": "c0f205e5-9995-4c53-ef25-987be66b59cb"
      },
      "source": [
        "print(X_train)"
      ],
      "execution_count": 9,
      "outputs": [
        {
          "output_type": "stream",
          "text": [
            "[[ 0.         -0.40824829 -0.40824829  2.44948974 -0.40824829 -0.40824829\n",
            "   0.         -0.40824829 -0.40824829  0.56308063  0.56875012  0.24618298\n",
            "   0.          1.13150476 -0.27754439  0.8660254 ]\n",
            " [ 0.         -0.40824829  2.44948974 -0.40824829 -0.40824829 -0.40824829\n",
            "   0.         -0.40824829 -0.40824829 -0.94398811 -1.10756603 -0.61545745\n",
            "   0.          1.13150476 -0.91106963 -1.15470054]\n",
            " [ 0.         -0.40824829 -0.40824829 -0.40824829  2.44948974 -0.40824829\n",
            "   0.         -0.40824829 -0.40824829  1.6064359   1.82598724  1.96946386\n",
            "   1.87082869 -0.08703883  2.12985152  0.8660254 ]\n",
            " [ 0.         -0.40824829 -0.40824829 -0.40824829 -0.40824829 -0.40824829\n",
            "   0.         -0.40824829  2.44948974 -0.24841792 -0.68848699 -0.61545745\n",
            "  -1.24721913 -0.08703883 -0.25642688 -1.15470054]\n",
            " [ 0.         -0.40824829 -0.40824829 -0.40824829 -0.40824829  2.44948974\n",
            "   0.         -0.40824829 -0.40824829 -0.01656119 -0.47894747  0.24618298\n",
            "   0.          0.52223297 -0.69989455  0.8660254 ]\n",
            " [ 0.         -0.40824829 -0.40824829 -0.40824829 -0.40824829 -0.40824829\n",
            "   0.          2.44948974 -0.40824829 -1.63955829 -0.89802651 -1.47709789\n",
            "  -1.24721913 -1.91485422 -0.69989455 -1.15470054]\n",
            " [ 0.          2.44948974 -0.40824829 -0.40824829 -0.40824829 -0.40824829\n",
            "   0.         -0.40824829 -0.40824829  0.67900899  0.77828964  0.24618298\n",
            "   0.62360956 -0.69631062  0.71497848  0.8660254 ]]\n"
          ],
          "name": "stdout"
        }
      ]
    },
    {
      "cell_type": "markdown",
      "metadata": {
        "id": "tlFKc3tUL7AF"
      },
      "source": [
        "## Outra alternativa de Normalização\n",
        "\n",
        "Valores ficarão entre zero e um."
      ]
    },
    {
      "cell_type": "code",
      "metadata": {
        "id": "Mvs8dQ9aMGHl",
        "colab": {
          "base_uri": "https://localhost:8080/",
          "height": 328
        },
        "outputId": "5cb4a444-8be2-424b-87b7-8315fa44cf7c"
      },
      "source": [
        "new_ds = dataset.iloc[:,1:]                                 #Selecionando todas as colunas, menos a primeira pois é formada por strings\n",
        "# dataset.iloc[:,1:] = (new_ds - new_ds.min()) / (new_ds.max() - new_ds.min())\n",
        "\n",
        "(new_ds - new_ds.min()) / (new_ds.max() - new_ds.min())"
      ],
      "execution_count": 10,
      "outputs": [
        {
          "output_type": "execute_result",
          "data": {
            "text/html": [
              "<div>\n",
              "<style scoped>\n",
              "    .dataframe tbody tr th:only-of-type {\n",
              "        vertical-align: middle;\n",
              "    }\n",
              "\n",
              "    .dataframe tbody tr th {\n",
              "        vertical-align: top;\n",
              "    }\n",
              "\n",
              "    .dataframe thead th {\n",
              "        text-align: right;\n",
              "    }\n",
              "</style>\n",
              "<table border=\"1\" class=\"dataframe\">\n",
              "  <thead>\n",
              "    <tr style=\"text-align: right;\">\n",
              "      <th></th>\n",
              "      <th>GRE Score</th>\n",
              "      <th>TOEFL Score</th>\n",
              "      <th>University Rating</th>\n",
              "      <th>SOP</th>\n",
              "      <th>LOR</th>\n",
              "      <th>CGPA</th>\n",
              "      <th>Research</th>\n",
              "      <th>Approval</th>\n",
              "    </tr>\n",
              "  </thead>\n",
              "  <tbody>\n",
              "    <tr>\n",
              "      <th>0</th>\n",
              "      <td>1.000000</td>\n",
              "      <td>1.000000</td>\n",
              "      <td>0.75</td>\n",
              "      <td>1.0</td>\n",
              "      <td>1.000000</td>\n",
              "      <td>1.000000</td>\n",
              "      <td>1.0</td>\n",
              "      <td>1.0</td>\n",
              "    </tr>\n",
              "    <tr>\n",
              "      <th>1</th>\n",
              "      <td>0.628571</td>\n",
              "      <td>0.352941</td>\n",
              "      <td>0.75</td>\n",
              "      <td>0.8</td>\n",
              "      <td>1.000000</td>\n",
              "      <td>0.554286</td>\n",
              "      <td>1.0</td>\n",
              "      <td>1.0</td>\n",
              "    </tr>\n",
              "    <tr>\n",
              "      <th>2</th>\n",
              "      <td>0.400000</td>\n",
              "      <td>0.176471</td>\n",
              "      <td>0.50</td>\n",
              "      <td>0.4</td>\n",
              "      <td>0.666667</td>\n",
              "      <td>0.057143</td>\n",
              "      <td>1.0</td>\n",
              "      <td>1.0</td>\n",
              "    </tr>\n",
              "    <tr>\n",
              "      <th>3</th>\n",
              "      <td>0.571429</td>\n",
              "      <td>0.529412</td>\n",
              "      <td>0.50</td>\n",
              "      <td>0.6</td>\n",
              "      <td>0.333333</td>\n",
              "      <td>0.440000</td>\n",
              "      <td>1.0</td>\n",
              "      <td>1.0</td>\n",
              "    </tr>\n",
              "    <tr>\n",
              "      <th>4</th>\n",
              "      <td>0.342857</td>\n",
              "      <td>0.117647</td>\n",
              "      <td>0.25</td>\n",
              "      <td>0.0</td>\n",
              "      <td>0.500000</td>\n",
              "      <td>0.177143</td>\n",
              "      <td>0.0</td>\n",
              "      <td>0.0</td>\n",
              "    </tr>\n",
              "    <tr>\n",
              "      <th>5</th>\n",
              "      <td>0.800000</td>\n",
              "      <td>0.823529</td>\n",
              "      <td>1.00</td>\n",
              "      <td>1.0</td>\n",
              "      <td>0.500000</td>\n",
              "      <td>0.822857</td>\n",
              "      <td>1.0</td>\n",
              "      <td>1.0</td>\n",
              "    </tr>\n",
              "    <tr>\n",
              "      <th>6</th>\n",
              "      <td>0.542857</td>\n",
              "      <td>0.470588</td>\n",
              "      <td>0.50</td>\n",
              "      <td>0.4</td>\n",
              "      <td>0.833333</td>\n",
              "      <td>0.171429</td>\n",
              "      <td>1.0</td>\n",
              "      <td>1.0</td>\n",
              "    </tr>\n",
              "    <tr>\n",
              "      <th>7</th>\n",
              "      <td>0.171429</td>\n",
              "      <td>0.000000</td>\n",
              "      <td>0.25</td>\n",
              "      <td>0.4</td>\n",
              "      <td>0.833333</td>\n",
              "      <td>0.000000</td>\n",
              "      <td>0.0</td>\n",
              "      <td>0.0</td>\n",
              "    </tr>\n",
              "    <tr>\n",
              "      <th>8</th>\n",
              "      <td>0.000000</td>\n",
              "      <td>0.058824</td>\n",
              "      <td>0.00</td>\n",
              "      <td>0.0</td>\n",
              "      <td>0.000000</td>\n",
              "      <td>0.057143</td>\n",
              "      <td>0.0</td>\n",
              "      <td>0.0</td>\n",
              "    </tr>\n",
              "  </tbody>\n",
              "</table>\n",
              "</div>"
            ],
            "text/plain": [
              "   GRE Score  TOEFL Score  University Rating  ...      CGPA  Research  Approval\n",
              "0   1.000000     1.000000               0.75  ...  1.000000       1.0       1.0\n",
              "1   0.628571     0.352941               0.75  ...  0.554286       1.0       1.0\n",
              "2   0.400000     0.176471               0.50  ...  0.057143       1.0       1.0\n",
              "3   0.571429     0.529412               0.50  ...  0.440000       1.0       1.0\n",
              "4   0.342857     0.117647               0.25  ...  0.177143       0.0       0.0\n",
              "5   0.800000     0.823529               1.00  ...  0.822857       1.0       1.0\n",
              "6   0.542857     0.470588               0.50  ...  0.171429       1.0       1.0\n",
              "7   0.171429     0.000000               0.25  ...  0.000000       0.0       0.0\n",
              "8   0.000000     0.058824               0.00  ...  0.057143       0.0       0.0\n",
              "\n",
              "[9 rows x 8 columns]"
            ]
          },
          "metadata": {
            "tags": []
          },
          "execution_count": 10
        }
      ]
    },
    {
      "cell_type": "code",
      "metadata": {
        "id": "Sf5K0xQ7RW9d",
        "colab": {
          "base_uri": "https://localhost:8080/",
          "height": 328
        },
        "outputId": "ee3c239c-f03c-4c00-de59-436cff8874fe"
      },
      "source": [
        "new_ds / new_ds.max()"
      ],
      "execution_count": 11,
      "outputs": [
        {
          "output_type": "execute_result",
          "data": {
            "text/html": [
              "<div>\n",
              "<style scoped>\n",
              "    .dataframe tbody tr th:only-of-type {\n",
              "        vertical-align: middle;\n",
              "    }\n",
              "\n",
              "    .dataframe tbody tr th {\n",
              "        vertical-align: top;\n",
              "    }\n",
              "\n",
              "    .dataframe thead th {\n",
              "        text-align: right;\n",
              "    }\n",
              "</style>\n",
              "<table border=\"1\" class=\"dataframe\">\n",
              "  <thead>\n",
              "    <tr style=\"text-align: right;\">\n",
              "      <th></th>\n",
              "      <th>GRE Score</th>\n",
              "      <th>TOEFL Score</th>\n",
              "      <th>University Rating</th>\n",
              "      <th>SOP</th>\n",
              "      <th>LOR</th>\n",
              "      <th>CGPA</th>\n",
              "      <th>Research</th>\n",
              "      <th>Approval</th>\n",
              "    </tr>\n",
              "  </thead>\n",
              "  <tbody>\n",
              "    <tr>\n",
              "      <th>0</th>\n",
              "      <td>1.000000</td>\n",
              "      <td>1.000000</td>\n",
              "      <td>0.8</td>\n",
              "      <td>1.000000</td>\n",
              "      <td>1.000000</td>\n",
              "      <td>1.000000</td>\n",
              "      <td>1.0</td>\n",
              "      <td>1.0</td>\n",
              "    </tr>\n",
              "    <tr>\n",
              "      <th>1</th>\n",
              "      <td>0.961424</td>\n",
              "      <td>0.906780</td>\n",
              "      <td>0.8</td>\n",
              "      <td>0.888889</td>\n",
              "      <td>1.000000</td>\n",
              "      <td>0.919171</td>\n",
              "      <td>1.0</td>\n",
              "      <td>1.0</td>\n",
              "    </tr>\n",
              "    <tr>\n",
              "      <th>2</th>\n",
              "      <td>0.937685</td>\n",
              "      <td>0.881356</td>\n",
              "      <td>0.6</td>\n",
              "      <td>0.666667</td>\n",
              "      <td>0.777778</td>\n",
              "      <td>0.829016</td>\n",
              "      <td>1.0</td>\n",
              "      <td>1.0</td>\n",
              "    </tr>\n",
              "    <tr>\n",
              "      <th>3</th>\n",
              "      <td>0.955490</td>\n",
              "      <td>0.932203</td>\n",
              "      <td>0.6</td>\n",
              "      <td>0.777778</td>\n",
              "      <td>0.555556</td>\n",
              "      <td>0.898446</td>\n",
              "      <td>1.0</td>\n",
              "      <td>1.0</td>\n",
              "    </tr>\n",
              "    <tr>\n",
              "      <th>4</th>\n",
              "      <td>0.931751</td>\n",
              "      <td>0.872881</td>\n",
              "      <td>0.4</td>\n",
              "      <td>0.444444</td>\n",
              "      <td>0.666667</td>\n",
              "      <td>0.850777</td>\n",
              "      <td>0.0</td>\n",
              "      <td>0.0</td>\n",
              "    </tr>\n",
              "    <tr>\n",
              "      <th>5</th>\n",
              "      <td>0.979228</td>\n",
              "      <td>0.974576</td>\n",
              "      <td>1.0</td>\n",
              "      <td>1.000000</td>\n",
              "      <td>0.666667</td>\n",
              "      <td>0.967876</td>\n",
              "      <td>1.0</td>\n",
              "      <td>1.0</td>\n",
              "    </tr>\n",
              "    <tr>\n",
              "      <th>6</th>\n",
              "      <td>0.952522</td>\n",
              "      <td>0.923729</td>\n",
              "      <td>0.6</td>\n",
              "      <td>0.666667</td>\n",
              "      <td>0.888889</td>\n",
              "      <td>0.849741</td>\n",
              "      <td>1.0</td>\n",
              "      <td>1.0</td>\n",
              "    </tr>\n",
              "    <tr>\n",
              "      <th>7</th>\n",
              "      <td>0.913947</td>\n",
              "      <td>0.855932</td>\n",
              "      <td>0.4</td>\n",
              "      <td>0.666667</td>\n",
              "      <td>0.888889</td>\n",
              "      <td>0.818653</td>\n",
              "      <td>0.0</td>\n",
              "      <td>0.0</td>\n",
              "    </tr>\n",
              "    <tr>\n",
              "      <th>8</th>\n",
              "      <td>0.896142</td>\n",
              "      <td>0.864407</td>\n",
              "      <td>0.2</td>\n",
              "      <td>0.444444</td>\n",
              "      <td>0.333333</td>\n",
              "      <td>0.829016</td>\n",
              "      <td>0.0</td>\n",
              "      <td>0.0</td>\n",
              "    </tr>\n",
              "  </tbody>\n",
              "</table>\n",
              "</div>"
            ],
            "text/plain": [
              "   GRE Score  TOEFL Score  University Rating  ...      CGPA  Research  Approval\n",
              "0   1.000000     1.000000                0.8  ...  1.000000       1.0       1.0\n",
              "1   0.961424     0.906780                0.8  ...  0.919171       1.0       1.0\n",
              "2   0.937685     0.881356                0.6  ...  0.829016       1.0       1.0\n",
              "3   0.955490     0.932203                0.6  ...  0.898446       1.0       1.0\n",
              "4   0.931751     0.872881                0.4  ...  0.850777       0.0       0.0\n",
              "5   0.979228     0.974576                1.0  ...  0.967876       1.0       1.0\n",
              "6   0.952522     0.923729                0.6  ...  0.849741       1.0       1.0\n",
              "7   0.913947     0.855932                0.4  ...  0.818653       0.0       0.0\n",
              "8   0.896142     0.864407                0.2  ...  0.829016       0.0       0.0\n",
              "\n",
              "[9 rows x 8 columns]"
            ]
          },
          "metadata": {
            "tags": []
          },
          "execution_count": 11
        }
      ]
    }
  ]
}