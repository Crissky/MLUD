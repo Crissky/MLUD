{
  "nbformat": 4,
  "nbformat_minor": 0,
  "metadata": {
    "colab": {
      "name": "regressão_linear.ipynb",
      "provenance": [],
      "collapsed_sections": [],
      "toc_visible": true,
      "authorship_tag": "ABX9TyMyugOw5ykqXU8lv7lVnLJ7"
    },
    "kernelspec": {
      "name": "python3",
      "display_name": "Python 3"
    }
  },
  "cells": [
    {
      "cell_type": "markdown",
      "metadata": {
        "id": "ashAXLKFXqSp"
      },
      "source": [
        "#Regressão Linear"
      ]
    },
    {
      "cell_type": "markdown",
      "metadata": {
        "id": "0Gg4vnKOXs6s"
      },
      "source": [
        "## Imports"
      ]
    },
    {
      "cell_type": "code",
      "metadata": {
        "id": "T6SytLc1XYPy"
      },
      "source": [
        "import numpy as np\n",
        "import pandas as pd\n",
        "import matplotlib.pyplot as plt\n",
        "\n",
        "from sklearn.impute import SimpleImputer\n",
        "from sklearn.preprocessing import LabelEncoder\n",
        "from sklearn.model_selection import train_test_split\n",
        "from sklearn.preprocessing import StandardScaler\n",
        "from sklearn.linear_model import LinearRegression"
      ],
      "execution_count": null,
      "outputs": []
    },
    {
      "cell_type": "markdown",
      "metadata": {
        "id": "LClXlCdFssjW"
      },
      "source": [
        "## Carregando Dados"
      ]
    },
    {
      "cell_type": "code",
      "metadata": {
        "colab": {
          "base_uri": "https://localhost:8080/"
        },
        "id": "ZkcvXnDisrob",
        "outputId": "5e822d8b-e117-4c9b-dc13-76e117f3bc43"
      },
      "source": [
        "!git clone https://github.com/Crissky/MLUD.git"
      ],
      "execution_count": null,
      "outputs": [
        {
          "output_type": "stream",
          "text": [
            "Cloning into 'MLUD'...\n",
            "remote: Enumerating objects: 75, done.\u001b[K\n",
            "remote: Counting objects: 100% (75/75), done.\u001b[K\n",
            "remote: Compressing objects: 100% (66/66), done.\u001b[K\n",
            "remote: Total 75 (delta 26), reused 26 (delta 4), pack-reused 0\u001b[K\n",
            "Unpacking objects: 100% (75/75), done.\n"
          ],
          "name": "stdout"
        }
      ]
    },
    {
      "cell_type": "markdown",
      "metadata": {
        "id": "6P-NbqR-apSk"
      },
      "source": [
        "## Funções Auxiliares"
      ]
    },
    {
      "cell_type": "code",
      "metadata": {
        "id": "Urh_vzi_arJ2"
      },
      "source": [
        "def loadDataSet(filename='MLUD/Aula04/svbr.csv', my_delimiter=';'):\n",
        "    baseDeDados = pd.read_csv(filename, delimiter=my_delimiter)\n",
        "    X = baseDeDados.iloc[:,:-1].values\n",
        "    y = baseDeDados.iloc[:,-1].values\n",
        "\n",
        "    return X, y\n",
        "\n",
        "def fillMissingData(X):\n",
        "    imputer = SimpleImputer(missing_values=np.nan, strategy='median')\n",
        "    X[:,1:] = imputer.fit_transform(X[:,1:])\n",
        "\n",
        "    return X\n",
        "\n",
        "def computeCategorization(X):\n",
        "    labelencoder_X = LabelEncoder()\n",
        "    X[:, 0] = labelencoder_X.fit_transform(X[:, 0])\n",
        "    D = pd.get_dummies(X[:,0])\n",
        "    X = X[:,1:]\n",
        "    X = np.insert(X, 0, D.values.T, axis=1)\n",
        "    \n",
        "    return X\n",
        "\n",
        "def splitTrainTestSets(X, y, testSize):\n",
        "    X_train, X_test, y_train, y_test = train_test_split(X, y, test_size=testSize)\n",
        "    \n",
        "    return X_train, X_test, y_train, y_test\n",
        "\n",
        "def computeNormalization(XTrain, XTest):\n",
        "    scaleX = StandardScaler()\n",
        "    XTrain = scaleX.fit_transform(XTrain)\n",
        "    XTest = scaleX.fit_transform(XTest)\n",
        "    \n",
        "    return XTrain, XTest\n",
        "  "
      ],
      "execution_count": null,
      "outputs": []
    },
    {
      "cell_type": "markdown",
      "metadata": {
        "id": "ISmdOkH1n953"
      },
      "source": [
        "## Funções"
      ]
    },
    {
      "cell_type": "code",
      "metadata": {
        "id": "Q866mTlZn_Fw"
      },
      "source": [
        "def computeLinearRegressionModel(X_train, X_test, y_train, y_test):\n",
        "  regressor = LinearRegression()\n",
        "  regressor.fit(X_train, y_train)\n",
        "  y_pred = regressor.predict(X_test)\n",
        "  #print(\"Y TEST\\n\", y_test)\n",
        "  #print(\"\\nY PRED\\n\", y_pred)\n",
        "\n",
        "  plt.scatter(X_test[:,-1], y_test, color='r')\n",
        "  plt.plot(X_test[:,-1], y_pred, color='b')\n",
        "  plt.title('Inscritos x Visualizações')\n",
        "  plt.xlabel('Total de Inscritos')\n",
        "  plt.ylabel('Total de Visualizações')\n",
        "  plt.show()\n",
        "\n",
        "def RunLinearRegressionExample(filename='MLUD/Aula04/svbr.csv', my_delimiter=';'):\n",
        "  X, y = loadDataSet(filename, my_delimiter)\n",
        "  X = fillMissingData(X)\n",
        "  X = computeCategorization(X)\n",
        "  X_train, X_test, y_train, y_test = splitTrainTestSets(X, y, 0.8)\n",
        "\n",
        "  computeLinearRegressionModel(X_train, X_test, y_train, y_test)"
      ],
      "execution_count": null,
      "outputs": []
    },
    {
      "cell_type": "code",
      "metadata": {
        "colab": {
          "base_uri": "https://localhost:8080/",
          "height": 295
        },
        "id": "ctqKsCi6rvsw",
        "outputId": "b62f7d62-b90f-49bc-b031-34f196e6dd2f"
      },
      "source": [
        "RunLinearRegressionExample('MLUD/Aula04/svbr.csv', ';')"
      ],
      "execution_count": null,
      "outputs": [
        {
          "output_type": "display_data",
          "data": {
            "image/png": "[encoded data removed]",
            "text/plain": [
              "<Figure size 432x288 with 1 Axes>"
            ]
          },
          "metadata": {
            "tags": [],
            "needs_background": "light"
          }
        }
      ]
    }
  ]
}