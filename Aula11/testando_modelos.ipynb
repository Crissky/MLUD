{
  "nbformat": 4,
  "nbformat_minor": 0,
  "metadata": {
    "colab": {
      "name": "testando_modelos.ipynb",
      "provenance": [],
      "collapsed_sections": [],
      "toc_visible": true,
      "authorship_tag": "ABX9TyNdH0Z5JmYGKstBBte9GNNR"
    },
    "kernelspec": {
      "name": "python3",
      "display_name": "Python 3"
    }
  },
  "cells": [
    {
      "cell_type": "markdown",
      "metadata": {
        "id": "fxxtj_LlLiWo"
      },
      "source": [
        "#Testando os Modelos de Regressão com R²"
      ]
    },
    {
      "cell_type": "markdown",
      "metadata": {
        "id": "YZCKbPj9Tzg-"
      },
      "source": [
        "![image.png](data:image/png;base64,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)"
      ]
    },
    {
      "cell_type": "markdown",
      "metadata": {
        "id": "ReokCJiH0C5S"
      },
      "source": [
        "## imports"
      ]
    },
    {
      "cell_type": "code",
      "metadata": {
        "id": "BPU3zb83r78u"
      },
      "source": [
        "import numpy as np\n",
        "import pandas as pd\n",
        "import matplotlib.pyplot as plt\n",
        "import time\n",
        "\n",
        "from sklearn.impute import SimpleImputer\n",
        "from sklearn.preprocessing import LabelEncoder\n",
        "from sklearn.model_selection import train_test_split\n",
        "from sklearn.preprocessing import StandardScaler\n",
        "\n",
        "from sklearn.linear_model import LinearRegression\n",
        "from sklearn.preprocessing import PolynomialFeatures\n",
        "from sklearn.svm import SVR\n",
        "from sklearn.tree import DecisionTreeRegressor\n",
        "from sklearn.ensemble import RandomForestRegressor\n",
        "from sklearn.metrics import r2_score\n",
        "    \n",
        "from functools import wraps"
      ],
      "execution_count": 1,
      "outputs": []
    },
    {
      "cell_type": "markdown",
      "metadata": {
        "id": "VMUTG-tX0TtY"
      },
      "source": [
        "## Carregando Base de Dados"
      ]
    },
    {
      "cell_type": "code",
      "metadata": {
        "colab": {
          "base_uri": "https://localhost:8080/"
        },
        "id": "pGYechQF0NLN",
        "outputId": "82449c0a-6598-4565-c5fa-3c881641327c"
      },
      "source": [
        "!rm -r MLUD\n",
        "!git clone https://github.com/Crissky/MLUD.git"
      ],
      "execution_count": 2,
      "outputs": [
        {
          "output_type": "stream",
          "text": [
            "Cloning into 'MLUD'...\n",
            "remote: Enumerating objects: 195, done.\u001b[K\n",
            "remote: Counting objects: 100% (195/195), done.\u001b[K\n",
            "remote: Compressing objects: 100% (185/185), done.\u001b[K\n",
            "remote: Total 195 (delta 79), reused 44 (delta 4), pack-reused 0\u001b[K\n",
            "Receiving objects: 100% (195/195), 1.35 MiB | 1.52 MiB/s, done.\n",
            "Resolving deltas: 100% (79/79), done.\n"
          ],
          "name": "stdout"
        }
      ]
    },
    {
      "cell_type": "markdown",
      "metadata": {
        "id": "yIUxLeZU0Vg0"
      },
      "source": [
        "## Funções de Pré-Processamento"
      ]
    },
    {
      "cell_type": "code",
      "metadata": {
        "id": "K9iy52is0YUQ"
      },
      "source": [
        "def loadDataset(filename):\n",
        "    baseDeDados = pd.read_csv(filename, delimiter=';')\n",
        "    X = baseDeDados.iloc[:,:-1].values\n",
        "    y = baseDeDados.iloc[:,-1].values\n",
        "\n",
        "    return X, y, baseDeDados\n",
        "\n",
        "def fillMissingData(X, inicioColuna, fimColuna):\n",
        "    imputer = SimpleImputer(missing_values=np.nan, strategy='median')\n",
        "    X[:,inicioColuna:fimColuna + 1] = imputer.fit_transform(X[:,inicioColuna:fimColuna + 1])\n",
        "\n",
        "    return X\n",
        "\n",
        "#só funciona se i = 0 ou i = ultima coluna\n",
        "def computeCategorization(X, i):\n",
        "    labelencoder_X = LabelEncoder()\n",
        "    X[:, i] = labelencoder_X.fit_transform(X[:, i])\n",
        "\n",
        "    #one hot encoding\n",
        "    D = pd.get_dummies(X[:,i]).values\n",
        "    if(i == 0):\n",
        "        X = X[:,1:]\n",
        "        X = np.insert(X, 0, D, axis=1)\n",
        "\n",
        "        #removendo dummy variable trap\n",
        "        X = X[:,1:]\n",
        "    else:\n",
        "        X = X[:,:i]\n",
        "        for j in range(0, D.shape[1]):\n",
        "            X = np.insert(X, i, D[:,j], axis=1)\n",
        "\n",
        "        #removendo dummy variable trap\n",
        "        X = X[:,:-1]\n",
        "\n",
        "    return X\n",
        "\n",
        "def splitTrainTestSets(X, y, testSize):\n",
        "    XTrain, XTest, yTrain, yTest = train_test_split(X, y, test_size = testSize)\n",
        "\n",
        "    return XTrain, XTest, yTrain, yTest\n",
        "\n",
        "def computeScaling(X):\n",
        "    scale = StandardScaler()\n",
        "    X = scale.fit_transform(X)\n",
        "\n",
        "    return X, scale"
      ],
      "execution_count": 3,
      "outputs": []
    },
    {
      "cell_type": "markdown",
      "metadata": {
        "id": "QuxnZPZrOUHW"
      },
      "source": [
        "## Regressão Linear"
      ]
    },
    {
      "cell_type": "code",
      "metadata": {
        "id": "5WCMd6QvOx6U"
      },
      "source": [
        "def computeLinearRegressionModel(X, y):\n",
        "    regressor = LinearRegression()\n",
        "    regressor.fit(X, y)\n",
        "\n",
        "    return regressor\n",
        "\n",
        "def runLinearRegressionExample(filename):\n",
        "    X, y, csv = loadDataset(filename)\n",
        "\n",
        "    start_time = time.time()\n",
        "    regressor = computeLinearRegressionModel(X, y)\n",
        "    elapsed_time = time.time() - start_time\n",
        "    print(\"Compute Linear Regression: %.2f\" % elapsed_time, \"segundos.\")\n",
        "\n",
        "    return r2_score(y, regressor.predict(X))"
      ],
      "execution_count": 4,
      "outputs": []
    },
    {
      "cell_type": "markdown",
      "metadata": {
        "id": "Xf8jt3rWOeN_"
      },
      "source": [
        "## Regressão Polinomial"
      ]
    },
    {
      "cell_type": "code",
      "metadata": {
        "id": "Q44ZEUOgO7Rc"
      },
      "source": [
        "def computePolynomialLinearRegressionModel(X, y, d):\n",
        "    polynomialFeatures = PolynomialFeatures(degree = d)\n",
        "    XPoly = polynomialFeatures.fit_transform(X)\n",
        "\n",
        "    polyLinearRegression = LinearRegression()\n",
        "    polyLinearRegression.fit(XPoly, y)\n",
        "\n",
        "    return XPoly, polyLinearRegression\n",
        "\n",
        "def runPolynomialLinearRegressionExample(filename, degree):\n",
        "    X, y, csv = loadDataset(filename)\n",
        "\n",
        "    start_time = time.time()\n",
        "    XPoly, regressor = computePolynomialLinearRegressionModel(X, y, degree)\n",
        "    elapsed_time = time.time() - start_time\n",
        "    print(\"Compute Polynomial Linear Regression: %.2f\" % elapsed_time, \"segundos.\")\n",
        "\n",
        "    return r2_score(y, regressor.predict(XPoly))"
      ],
      "execution_count": 5,
      "outputs": []
    },
    {
      "cell_type": "markdown",
      "metadata": {
        "id": "GjPjjaSdPiHb"
      },
      "source": [
        "## Regressão de Vetor Suporte"
      ]
    },
    {
      "cell_type": "code",
      "metadata": {
        "id": "uFVpjUHoPjSx"
      },
      "source": [
        "def computeSupportVectorRegressionModel(X, y, k, d=2):\n",
        "    if (k == 'poly'):\n",
        "        regressor = SVR(kernel=k, degree=d)\n",
        "    else:\n",
        "        regressor = SVR(kernel=k)\n",
        "    regressor.fit(X, np.ravel(y))           # Como o y foi previamente transformado em matriz, o np.ravel o converte novamente para um vetor\n",
        "\n",
        "    return regressor\n",
        "\n",
        "def runSupportVectorRegressionExample(filename, kernel='linear', degree=2, printY=False):\n",
        "    X, y, csv = loadDataset(filename)\n",
        "    \n",
        "    X, scaleX = computeScaling(X)\n",
        "    y, scaleY = computeScaling(np.reshape(y, (-1, 1)))          #np.reshape(y, (-1, 1)) transforma y em uma matriz\n",
        "\n",
        "    start_time = time.time()\n",
        "    regressor = computeSupportVectorRegressionModel(X, y, kernel, degree)\n",
        "    elapsed_time = time.time() - start_time\n",
        "    print('Compute Support Vector Regression with kernel \"%s\": %.2f' % (kernel.upper(), elapsed_time), 'segundos.')\n",
        "    \n",
        "    return r2_score(y, regressor.predict(X))"
      ],
      "execution_count": 6,
      "outputs": []
    },
    {
      "cell_type": "markdown",
      "metadata": {
        "id": "IZnEFjFqOEJ-"
      },
      "source": [
        "## Regressão com Árvore de Decisão"
      ]
    },
    {
      "cell_type": "code",
      "metadata": {
        "id": "wHqFyldLOFoo"
      },
      "source": [
        "def computeDecisionTreeRegressionModel(X, y):\n",
        "    regressor = DecisionTreeRegressor()\n",
        "    regressor.fit(X, y)\n",
        "\n",
        "    return regressor\n",
        "\n",
        "def runDecisionTreeRegressionExample(filename):\n",
        "    X, y, csv = loadDataset(filename)\n",
        "\n",
        "    start_time = time.time()\n",
        "    regressor = computeDecisionTreeRegressionModel(X, y)\n",
        "    elapsed_time = time.time() - start_time\n",
        "    print(\"Compute Decision Tree Regression: %.2f\" % elapsed_time, \"segundos.\")\n",
        "\n",
        "    return r2_score(y, regressor.predict(X))"
      ],
      "execution_count": 7,
      "outputs": []
    },
    {
      "cell_type": "markdown",
      "metadata": {
        "id": "YNZrjqCQOOzC"
      },
      "source": [
        "## Regressão de Floresta Aleatória"
      ]
    },
    {
      "cell_type": "code",
      "metadata": {
        "id": "LRyqH8qDPD6i"
      },
      "source": [
        "def computeRandomForestRegressionModel(X, y, numberOfTrees):\n",
        "    regressor = RandomForestRegressor(n_estimators = numberOfTrees)\n",
        "    regressor.fit(X, y)\n",
        "\n",
        "    return regressor\n",
        "\n",
        "def runRandomForestRegressionExample(filename, numberOfTrees):\n",
        "    X, y, csv = loadDataset(filename)\n",
        "\n",
        "    start_time = time.time()\n",
        "    regressor = computeRandomForestRegressionModel(X, y, numberOfTrees)\n",
        "    elapsed_time = time.time() - start_time\n",
        "    print(\"Compute Random Forest Regression: %.2f\" % elapsed_time, \"segundos.\")\n",
        "\n",
        "    return r2_score(y, regressor.predict(X))"
      ],
      "execution_count": 8,
      "outputs": []
    },
    {
      "cell_type": "markdown",
      "metadata": {
        "id": "EwLJii8yPGl8"
      },
      "source": [
        "## Testando os Modelos de Regressão"
      ]
    },
    {
      "cell_type": "code",
      "metadata": {
        "id": "IR7t_-D0CHc6"
      },
      "source": [
        "def evaluateAllRegressionModels(filename):\n",
        "    regressors_score = dict()\n",
        "    regressors_score['LinearRegression'] = runLinearRegressionExample(filename)\n",
        "    regressors_score['PolynomialLinearRegression-degree2'] = runPolynomialLinearRegressionExample(filename, 2)\n",
        "    regressors_score['PolynomialLinearRegression-degree3'] = runPolynomialLinearRegressionExample(filename, 3)\n",
        "    regressors_score['PolynomialLinearRegression-degree4'] = runPolynomialLinearRegressionExample(filename, 4)\n",
        "    regressors_score['PolynomialLinearRegression-degree5'] = runPolynomialLinearRegressionExample(filename, 5)\n",
        "    regressors_score['SupportVectorRegression-linear'] = runSupportVectorRegressionExample(filename, kernel='linear')\n",
        "    regressors_score['SupportVectorRegression-poly-degree2'] = runSupportVectorRegressionExample(filename, kernel='poly', degree=2)\n",
        "    regressors_score['SupportVectorRegression-poly-degree3'] = runSupportVectorRegressionExample(filename, kernel='poly', degree=3)\n",
        "    regressors_score['SupportVectorRegression-poly-degree4'] = runSupportVectorRegressionExample(filename, kernel='poly', degree=4)\n",
        "    regressors_score['SupportVectorRegression-poly-degree5'] = runSupportVectorRegressionExample(filename, kernel='poly', degree=5)\n",
        "    regressors_score['SupportVectorRegression-rbf'] = runSupportVectorRegressionExample(filename, kernel='rbf')\n",
        "    regressors_score['DecisionTreeRegression'] = runDecisionTreeRegressionExample(filename)\n",
        "    regressors_score['RandomForestRegression-numberOfTrees10'] = runRandomForestRegressionExample(filename, numberOfTrees=10)\n",
        "    regressors_score['RandomForestRegression-numberOfTrees50'] = runRandomForestRegressionExample(filename, numberOfTrees=50)\n",
        "    regressors_score['RandomForestRegression-numberOfTrees100'] = runRandomForestRegressionExample(filename, numberOfTrees=100)\n",
        "    regressors_score['RandomForestRegression-numberOfTrees200'] = runRandomForestRegressionExample(filename, numberOfTrees=200)\n",
        "    regressors_score['RandomForestRegression-numberOfTrees500'] = runRandomForestRegressionExample(filename, numberOfTrees=500)\n",
        "    \n",
        "    regressors_score = dict(sorted(regressors_score.items(), key=lambda item: -item[1]))\n",
        "\n",
        "    print('\\nImprimindo as Pontuações:\\n'.upper())\n",
        "    for key, value in regressors_score.items():\n",
        "        print(key, ' '*(39 - len(key)), \"Score:\", value)\n",
        "        print()\n",
        "    "
      ],
      "execution_count": 9,
      "outputs": []
    },
    {
      "cell_type": "code",
      "metadata": {
        "colab": {
          "base_uri": "https://localhost:8080/"
        },
        "id": "HU1nAlpCLEFq",
        "outputId": "820e4e43-dfd8-4b9a-b501-7774e2bf02dc"
      },
      "source": [
        "evaluateAllRegressionModels('MLUD/Aula11/salary.csv')"
      ],
      "execution_count": 10,
      "outputs": [
        {
          "output_type": "stream",
          "text": [
            "Compute Linear Regression: 0.00 segundos.\n",
            "Compute Polynomial Linear Regression: 0.00 segundos.\n",
            "Compute Polynomial Linear Regression: 0.00 segundos.\n",
            "Compute Polynomial Linear Regression: 0.00 segundos.\n",
            "Compute Polynomial Linear Regression: 0.00 segundos.\n",
            "Compute Support Vector Regression with kernel \"LINEAR\": 0.00 segundos.\n",
            "Compute Support Vector Regression with kernel \"POLY\": 0.00 segundos.\n",
            "Compute Support Vector Regression with kernel \"POLY\": 0.00 segundos.\n",
            "Compute Support Vector Regression with kernel \"POLY\": 0.00 segundos.\n",
            "Compute Support Vector Regression with kernel \"POLY\": 0.00 segundos.\n",
            "Compute Support Vector Regression with kernel \"RBF\": 0.00 segundos.\n",
            "Compute Decision Tree Regression: 0.00 segundos.\n",
            "Compute Random Forest Regression: 0.02 segundos.\n",
            "Compute Random Forest Regression: 0.07 segundos.\n",
            "Compute Random Forest Regression: 0.13 segundos.\n",
            "Compute Random Forest Regression: 0.22 segundos.\n",
            "Compute Random Forest Regression: 0.55 segundos.\n",
            "\n",
            "IMPRIMINDO AS PONTUAÇÕES:\n",
            "\n",
            "DecisionTreeRegression                   Score: 0.9976748641432848\n",
            "\n",
            "RandomForestRegression-numberOfTrees200  Score: 0.9918611439329561\n",
            "\n",
            "RandomForestRegression-numberOfTrees500  Score: 0.9918031440134151\n",
            "\n",
            "RandomForestRegression-numberOfTrees50   Score: 0.9911120603032854\n",
            "\n",
            "RandomForestRegression-numberOfTrees100  Score: 0.990887917450275\n",
            "\n",
            "RandomForestRegression-numberOfTrees10   Score: 0.9903712300956924\n",
            "\n",
            "PolynomialLinearRegression-degree5       Score: 0.9665546834956733\n",
            "\n",
            "SupportVectorRegression-rbf              Score: 0.9649420157173133\n",
            "\n",
            "PolynomialLinearRegression-degree4       Score: 0.9636560599375091\n",
            "\n",
            "PolynomialLinearRegression-degree3       Score: 0.9635969766249464\n",
            "\n",
            "PolynomialLinearRegression-degree2       Score: 0.956975168321065\n",
            "\n",
            "LinearRegression                         Score: 0.9569566641435086\n",
            "\n",
            "SupportVectorRegression-linear           Score: 0.9562477727634556\n",
            "\n",
            "SupportVectorRegression-poly-degree3     Score: 0.7257100820060447\n",
            "\n",
            "SupportVectorRegression-poly-degree5     Score: 0.4833322643706418\n",
            "\n",
            "SupportVectorRegression-poly-degree4     Score: 0.16567283992921888\n",
            "\n",
            "SupportVectorRegression-poly-degree2     Score: 0.02633814146994007\n",
            "\n"
          ],
          "name": "stdout"
        }
      ]
    }
  ]
}