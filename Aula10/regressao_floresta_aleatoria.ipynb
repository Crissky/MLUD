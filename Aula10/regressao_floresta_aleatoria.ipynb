{
  "nbformat": 4,
  "nbformat_minor": 0,
  "metadata": {
    "colab": {
      "name": "regressao_floresta_aleatoria.ipynb",
      "provenance": [],
      "collapsed_sections": [],
      "toc_visible": true,
      "authorship_tag": "ABX9TyNUgTkGheRptcKupu7C5R21"
    },
    "kernelspec": {
      "name": "python3",
      "display_name": "Python 3"
    }
  },
  "cells": [
    {
      "cell_type": "markdown",
      "metadata": {
        "id": "_GFSIT4reiQl"
      },
      "source": [
        "# Regressão de Floresta Aleatória"
      ]
    },
    {
      "cell_type": "markdown",
      "metadata": {
        "id": "ReokCJiH0C5S"
      },
      "source": [
        "## imports"
      ]
    },
    {
      "cell_type": "code",
      "metadata": {
        "id": "BPU3zb83r78u"
      },
      "source": [
        "import numpy as np\n",
        "import pandas as pd\n",
        "import matplotlib.pyplot as plt\n",
        "import time\n",
        "\n",
        "from sklearn.impute import SimpleImputer\n",
        "from sklearn.preprocessing import LabelEncoder\n",
        "from sklearn.model_selection import train_test_split\n",
        "from sklearn.preprocessing import StandardScaler\n",
        "from sklearn.ensemble import RandomForestRegressor\n",
        "    \n",
        "from functools import wraps"
      ],
      "execution_count": 1,
      "outputs": []
    },
    {
      "cell_type": "markdown",
      "metadata": {
        "id": "VMUTG-tX0TtY"
      },
      "source": [
        "## Carregando Base de Dados"
      ]
    },
    {
      "cell_type": "code",
      "metadata": {
        "colab": {
          "base_uri": "https://localhost:8080/"
        },
        "id": "pGYechQF0NLN",
        "outputId": "7f259fed-f36f-455a-9a9d-a1a054bc186e"
      },
      "source": [
        "!rm -r MLUD\n",
        "!git clone https://github.com/Crissky/MLUD.git"
      ],
      "execution_count": 2,
      "outputs": [
        {
          "output_type": "stream",
          "text": [
            "Cloning into 'MLUD'...\n",
            "remote: Enumerating objects: 171, done.\u001b[K\n",
            "remote: Counting objects: 100% (171/171), done.\u001b[K\n",
            "remote: Compressing objects: 100% (161/161), done.\u001b[K\n",
            "remote: Total 171 (delta 64), reused 40 (delta 4), pack-reused 0\u001b[K\n",
            "Receiving objects: 100% (171/171), 1.24 MiB | 6.81 MiB/s, done.\n",
            "Resolving deltas: 100% (64/64), done.\n"
          ],
          "name": "stdout"
        }
      ]
    },
    {
      "cell_type": "markdown",
      "metadata": {
        "id": "yIUxLeZU0Vg0"
      },
      "source": [
        "## Funções de Pré-Processamento"
      ]
    },
    {
      "cell_type": "code",
      "metadata": {
        "id": "K9iy52is0YUQ"
      },
      "source": [
        "def loadDataset(filename):\n",
        "    baseDeDados = pd.read_csv(filename, delimiter=';')\n",
        "    X = baseDeDados.iloc[:,:-1].values\n",
        "    y = baseDeDados.iloc[:,-1].values\n",
        "\n",
        "    return X, y, baseDeDados\n",
        "\n",
        "def fillMissingData(X, inicioColuna, fimColuna):\n",
        "    imputer = SimpleImputer(missing_values=np.nan, strategy='median')\n",
        "    X[:,inicioColuna:fimColuna + 1] = imputer.fit_transform(X[:,inicioColuna:fimColuna + 1])\n",
        "\n",
        "    return X\n",
        "\n",
        "#só funciona se i = 0 ou i = ultima coluna\n",
        "def computeCategorization(X, i):\n",
        "    labelencoder_X = LabelEncoder()\n",
        "    X[:, i] = labelencoder_X.fit_transform(X[:, i])\n",
        "\n",
        "    #one hot encoding\n",
        "    D = pd.get_dummies(X[:,i]).values\n",
        "    if(i == 0):\n",
        "        X = X[:,1:]\n",
        "        X = np.insert(X, 0, D, axis=1)\n",
        "\n",
        "        #removendo dummy variable trap\n",
        "        X = X[:,1:]\n",
        "    else:\n",
        "        X = X[:,:i]\n",
        "        for j in range(0, D.shape[1]):\n",
        "            X = np.insert(X, i, D[:,j], axis=1)\n",
        "\n",
        "        #removendo dummy variable trap\n",
        "        X = X[:,:-1]\n",
        "\n",
        "    return X\n",
        "\n",
        "def splitTrainTestSets(X, y, testSize):\n",
        "    XTrain, XTest, yTrain, yTest = train_test_split(X, y, test_size = testSize)\n",
        "\n",
        "    return XTrain, XTest, yTrain, yTest\n",
        "\n",
        "def computeScaling(X):\n",
        "    scale = StandardScaler()\n",
        "    X = scale.fit_transform(X)\n",
        "\n",
        "    return X, scale"
      ],
      "execution_count": 3,
      "outputs": []
    },
    {
      "cell_type": "markdown",
      "metadata": {
        "id": "9-DglXIG0X1I"
      },
      "source": [
        "## Funções Auxiliares"
      ]
    },
    {
      "cell_type": "code",
      "metadata": {
        "id": "LiBDxs4R0bKL"
      },
      "source": [
        "def showplot(XPoints, yPoints, XLine, yLine):\n",
        "    plt.scatter(XPoints, yPoints, color='r')\n",
        "    plt.plot(XLine, yLine, color='b')\n",
        "    plt.title('Comparando pontos reais com reta produzida pela Regressão de Floresta Aleatória.')\n",
        "    plt.xlabel('Experiência em anos')\n",
        "    plt.ylabel('Salário')\n",
        "    plt.show()"
      ],
      "execution_count": 4,
      "outputs": []
    },
    {
      "cell_type": "markdown",
      "metadata": {
        "id": "MentUBEkfJ71"
      },
      "source": [
        "## Regressão de Floresta Aleatória"
      ]
    },
    {
      "cell_type": "code",
      "metadata": {
        "id": "t2AMzf3RfKke"
      },
      "source": [
        "def computeRandomForestRegressionModel(X, y, numberOfTrees):\n",
        "    regressor = RandomForestRegressor(n_estimators=numberOfTrees)\n",
        "    regressor.fit(X, y)\n",
        "\n",
        "    return regressor\n",
        "\n",
        "def runRandomForestRegressionExample(filename, numberOfTrees=5000):\n",
        "    start_time = time.time()\n",
        "    X, y, csv = loadDataset(filename)\n",
        "    elapsed_time = time.time() - start_time\n",
        "    print('Load Dataset: %.2f' % elapsed_time, 'segundos.')\n",
        "\n",
        "    start_time = time.time()\n",
        "    rfModel = computeRandomForestRegressionModel(X, y, numberOfTrees)\n",
        "    elapsed_time = time.time() - start_time\n",
        "    print('Compute Random Forest Regression: %.2f' % elapsed_time, 'segundos.')\n",
        "\n",
        "    showplot(X, y, X, rfModel.predict(X))\n",
        "\n",
        "    print('\\nGráfico usando GRID\\n')\n",
        "\n",
        "    XGrid = np.arange(min(X), max(X), 0.01)\n",
        "    XGrid = XGrid.reshape((len(XGrid), 1))\n",
        "    showplot(X, y, XGrid, rfModel.predict(XGrid))"
      ],
      "execution_count": 5,
      "outputs": []
    },
    {
      "cell_type": "code",
      "metadata": {
        "colab": {
          "base_uri": "https://localhost:8080/",
          "height": 660
        },
        "id": "kT3U7kJOmzQx",
        "outputId": "5112bb17-6695-4f02-9970-0af33445ab17"
      },
      "source": [
        "runRandomForestRegressionExample('MLUD/Aula10/salary.csv')"
      ],
      "execution_count": 6,
      "outputs": [
        {
          "output_type": "stream",
          "text": [
            "Load Dataset: 0.02 segundos.\n",
            "Compute Random Forest Regression: 5.53 segundos.\n"
          ],
          "name": "stdout"
        },
        {
          "output_type": "display_data",
          "data": {
            "image/png": "[encoded data removed]",
            "text/plain": [
              "<Figure size 432x288 with 1 Axes>"
            ]
          },
          "metadata": {
            "tags": [],
            "needs_background": "light"
          }
        },
        {
          "output_type": "stream",
          "text": [
            "\n",
            "Gráfico usando GRID\n",
            "\n"
          ],
          "name": "stdout"
        },
        {
          "output_type": "display_data",
          "data": {
            "image/png": "[encoded data removed]",
            "text/plain": [
              "<Figure size 432x288 with 1 Axes>"
            ]
          },
          "metadata": {
            "tags": [],
            "needs_background": "light"
          }
        }
      ]
    }
  ]
}