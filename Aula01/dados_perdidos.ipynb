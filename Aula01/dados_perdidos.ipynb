{
  "nbformat": 4,
  "nbformat_minor": 0,
  "metadata": {
    "colab": {
      "name": "dados-perdidos.ipynb",
      "provenance": [],
      "collapsed_sections": [],
      "authorship_tag": "ABX9TyOfKRoc0QfLvHxagiJGadzH"
    },
    "kernelspec": {
      "name": "python3",
      "display_name": "Python 3"
    }
  },
  "cells": [
    {
      "cell_type": "markdown",
      "metadata": {
        "id": "N4gGTZHFWSNj"
      },
      "source": [
        "# Como preeencher informações que estão faltando em uma base de dados"
      ]
    },
    {
      "cell_type": "markdown",
      "metadata": {
        "id": "BBrmpI1jWanH"
      },
      "source": [
        "## Imports"
      ]
    },
    {
      "cell_type": "code",
      "metadata": {
        "id": "SYocFdO6WJ-t"
      },
      "source": [
        "import numpy as np\n",
        "import pandas as pd\n",
        "\n",
        "from sklearn.impute import SimpleImputer"
      ],
      "execution_count": null,
      "outputs": []
    },
    {
      "cell_type": "markdown",
      "metadata": {
        "id": "wFTkf31LWde2"
      },
      "source": [
        "## Carregando Base de Dados"
      ]
    },
    {
      "cell_type": "code",
      "metadata": {
        "id": "B69GsdwJXjIc",
        "outputId": "92799b19-ed24-4d65-fd87-a5577d4f391d",
        "colab": {
          "base_uri": "https://localhost:8080/"
        }
      },
      "source": [
        "!git clone https://github.com/Crissky/MLUD.git"
      ],
      "execution_count": null,
      "outputs": [
        {
          "output_type": "stream",
          "text": [
            "fatal: destination path 'MLUD' already exists and is not an empty directory.\n"
          ],
          "name": "stdout"
        }
      ]
    },
    {
      "cell_type": "code",
      "metadata": {
        "id": "Ymc8rrHFWcZs"
      },
      "source": [
        "dataset = pd.read_csv('MLUD/Aula 01/svbr.csv', delimiter=';')"
      ],
      "execution_count": null,
      "outputs": []
    },
    {
      "cell_type": "markdown",
      "metadata": {
        "id": "8KF6jslyZb2K"
      },
      "source": [
        "## Visualizando os Dados"
      ]
    },
    {
      "cell_type": "code",
      "metadata": {
        "id": "MESfBW83YZO2",
        "outputId": "c4c9652a-5fc3-48ef-83cd-25f47798a257",
        "colab": {
          "base_uri": "https://localhost:8080/",
          "height": 204
        }
      },
      "source": [
        "dataset.head()"
      ],
      "execution_count": null,
      "outputs": [
        {
          "output_type": "execute_result",
          "data": {
            "text/html": [
              "<div>\n",
              "<style scoped>\n",
              "    .dataframe tbody tr th:only-of-type {\n",
              "        vertical-align: middle;\n",
              "    }\n",
              "\n",
              "    .dataframe tbody tr th {\n",
              "        vertical-align: top;\n",
              "    }\n",
              "\n",
              "    .dataframe thead th {\n",
              "        text-align: right;\n",
              "    }\n",
              "</style>\n",
              "<table border=\"1\" class=\"dataframe\">\n",
              "  <thead>\n",
              "    <tr style=\"text-align: right;\">\n",
              "      <th></th>\n",
              "      <th>Canal</th>\n",
              "      <th>Inscritos</th>\n",
              "      <th>Visualizações</th>\n",
              "    </tr>\n",
              "  </thead>\n",
              "  <tbody>\n",
              "    <tr>\n",
              "      <th>0</th>\n",
              "      <td>Site Arqueologia Egípcia</td>\n",
              "      <td>13438.0</td>\n",
              "      <td>406590.0</td>\n",
              "    </tr>\n",
              "    <tr>\n",
              "      <th>1</th>\n",
              "      <td>Terra Negra</td>\n",
              "      <td>35241.0</td>\n",
              "      <td>868235.0</td>\n",
              "    </tr>\n",
              "    <tr>\n",
              "      <th>2</th>\n",
              "      <td>Frank Jaava</td>\n",
              "      <td>31680.0</td>\n",
              "      <td>2856508.0</td>\n",
              "    </tr>\n",
              "    <tr>\n",
              "      <th>3</th>\n",
              "      <td>Dispersciência</td>\n",
              "      <td>25100.0</td>\n",
              "      <td>150000.0</td>\n",
              "    </tr>\n",
              "    <tr>\n",
              "      <th>4</th>\n",
              "      <td>Olá Ciência</td>\n",
              "      <td>32788.0</td>\n",
              "      <td>1575456.0</td>\n",
              "    </tr>\n",
              "  </tbody>\n",
              "</table>\n",
              "</div>"
            ],
            "text/plain": [
              "                      Canal  Inscritos  Visualizações\n",
              "0  Site Arqueologia Egípcia    13438.0       406590.0\n",
              "1               Terra Negra    35241.0       868235.0\n",
              "2               Frank Jaava    31680.0      2856508.0\n",
              "3            Dispersciência    25100.0       150000.0\n",
              "4               Olá Ciência    32788.0      1575456.0"
            ]
          },
          "metadata": {
            "tags": []
          },
          "execution_count": 4
        }
      ]
    },
    {
      "cell_type": "code",
      "metadata": {
        "id": "DclY6w94Ybhc",
        "outputId": "bf134d89-a2c4-4918-e07c-d4deadf99623",
        "colab": {
          "base_uri": "https://localhost:8080/"
        }
      },
      "source": [
        "X = dataset.iloc[:,:].values\n",
        "\n",
        "print(X)"
      ],
      "execution_count": null,
      "outputs": [
        {
          "output_type": "stream",
          "text": [
            "[['Site Arqueologia Egípcia' 13438.0 406590.0]\n",
            " ['Terra Negra' 35241.0 868235.0]\n",
            " ['Frank Jaava' 31680.0 2856508.0]\n",
            " ['Dispersciência' 25100.0 150000.0]\n",
            " ['Olá Ciência' 32788.0 1575456.0]\n",
            " ['A matemaníaca por Julia Jaccoud' 65453.0 1667892.0]\n",
            " ['Delta T - Os super lentos' 12000.0 171361.0]\n",
            " ['Bláblálogia' 161951.0 11027386.0]\n",
            " ['Efarsas' 78876.0 6226235.0]\n",
            " ['Minuto da Terra' 274196.0 30166457.0]\n",
            " ['Canal Cura Quântica' 13148.0 250020.0]\n",
            " ['Mensageiro Sideral' 72425.0 7551491.0]\n",
            " ['Universo Racionalista' 7858.0 43662.0]\n",
            " ['Xadrez Verbal' 110549.0 4151548.0]\n",
            " ['Reinaldo José Lopes' 11188.0 541832.0]\n",
            " [\"Bio's Fera\" 5299.0 44312.0]\n",
            " ['QuerQueDesenhe' 56006.0 1329268.0]\n",
            " ['Prof André Azevedo da Fonseca' 45756.0 1825724.0]\n",
            " ['Matemática Rio com Prof Rafael Procópio' 1423056.0 93036517.0]\n",
            " ['Ponto em Comum' 129466.0 5027880.0]\n",
            " ['Canal do Slow' 137409.0 5363423.0]\n",
            " ['Boteco Behaviorista' 18404.0 1427977.0]\n",
            " ['Papo de Primata' 42063.0 1111334.0]\n",
            " ['Minutos Psíquicos' 648892.0 22555134.0]\n",
            " ['Alimente o Cérebro' 135118.0 3375528.0]\n",
            " ['Canal Zoa' 9118.0 683190.0]\n",
            " ['Papo de Biólogo' 374057.0 12139385.0]\n",
            " ['Eu, Ciência' 88211.0 1616496.0]\n",
            " ['Peixe Babel' nan nan]\n",
            " ['SpaceToday' 321068.0 26277335.0]\n",
            " ['Ciência todo dia' 528761.0 16969332.0]\n",
            " ['Colecionadores de Ossos' 24894.0 806815.0]\n",
            " ['Canal do Pirula' 752573.0 76462787.0]\n",
            " ['Jornal Ciensacional' 6216.0 104217.0]\n",
            " ['iBioMovies - Canal de Biologia' 17388.0 563535.0]\n",
            " ['Primata Falante' 110840.0 4540321.0]\n",
            " ['Dragões de Garagem' 6421.0 82599.0]\n",
            " ['Café e Ciência' 38494.0 916320.0]\n",
            " ['Mimimidias' 66122.0 2009621.0]\n",
            " ['Schwarza - Poligonautas' 860493.0 118741623.0]\n",
            " ['Caio na Aula' 13661.0 748018.0]\n",
            " ['ComCiência Corporal' 2308.0 16150.0]\n",
            " ['Leitura ObrigaHISTORIA' 138132.0 3013264.0]\n",
            " ['Portal da Ciência' 64100.0 2139717.0]\n",
            " ['Universo Discreto' 2330.0 74680.0]\n",
            " ['Astrotubers' 4357.0 41228.0]\n",
            " ['O Físico Turista' 53838.0 1004921.0]]\n"
          ],
          "name": "stdout"
        }
      ]
    },
    {
      "cell_type": "markdown",
      "metadata": {
        "id": "uvjF1PNDae5R"
      },
      "source": [
        "## Preenchendo os dados usando \"Simple Imputer\"\n",
        "strategy : string, default='mean'\n",
        "    The imputation strategy.\n",
        "\n",
        "- If \"mean\", then replace missing values using the mean along\n",
        "  each column. Can only be used with numeric data.\n",
        "- If \"median\", then replace missing values using the median along\n",
        "  each column. Can only be used with numeric data.\n",
        "- If \"most_frequent\", then replace missing using the most frequent\n",
        "  value along each column. Can be used with strings or numeric data.\n",
        "- If \"constant\", then replace missing values with fill_value. Can be\n",
        "  used with strings or numeric data.\n",
        "\n",
        "Mais informações sobre em: https://scikit-learn.org/stable/modules/impute.html"
      ]
    },
    {
      "cell_type": "code",
      "metadata": {
        "id": "2aPTOPeYZf8e"
      },
      "source": [
        "imputer = SimpleImputer(missing_values=np.nan, strategy='mean')   #Configurando o \"SimpleImputer\"\n",
        "imputer = imputer.fit(X[:, 1:])                                   #Treinando\n",
        "\n",
        "X = imputer.transform(X[:, 1:]).astype(str)"
      ],
      "execution_count": null,
      "outputs": []
    },
    {
      "cell_type": "code",
      "metadata": {
        "id": "aMnisGkNcZDt",
        "outputId": "30b98ca7-bb01-41bd-afa0-33117d744b18",
        "colab": {
          "base_uri": "https://localhost:8080/"
        }
      },
      "source": [
        "print(X)"
      ],
      "execution_count": null,
      "outputs": [
        {
          "output_type": "stream",
          "text": [
            "[['13438.0' '406590.0']\n",
            " ['35241.0' '868235.0']\n",
            " ['31680.0' '2856508.0']\n",
            " ['25100.0' '150000.0']\n",
            " ['32788.0' '1575456.0']\n",
            " ['65453.0' '1667892.0']\n",
            " ['12000.0' '171361.0']\n",
            " ['161951.0' '11027386.0']\n",
            " ['78876.0' '6226235.0']\n",
            " ['274196.0' '30166457.0']\n",
            " ['13148.0' '250020.0']\n",
            " ['72425.0' '7551491.0']\n",
            " ['7858.0' '43662.0']\n",
            " ['110549.0' '4151548.0']\n",
            " ['11188.0' '541832.0']\n",
            " ['5299.0' '44312.0']\n",
            " ['56006.0' '1329268.0']\n",
            " ['45756.0' '1825724.0']\n",
            " ['1423056.0' '93036517.0']\n",
            " ['129466.0' '5027880.0']\n",
            " ['137409.0' '5363423.0']\n",
            " ['18404.0' '1427977.0']\n",
            " ['42063.0' '1111334.0']\n",
            " ['648892.0' '22555134.0']\n",
            " ['135118.0' '3375528.0']\n",
            " ['9118.0' '683190.0']\n",
            " ['374057.0' '12139385.0']\n",
            " ['88211.0' '1616496.0']\n",
            " ['153711.78260869565' '10254420.086956521']\n",
            " ['321068.0' '26277335.0']\n",
            " ['528761.0' '16969332.0']\n",
            " ['24894.0' '806815.0']\n",
            " ['752573.0' '76462787.0']\n",
            " ['6216.0' '104217.0']\n",
            " ['17388.0' '563535.0']\n",
            " ['110840.0' '4540321.0']\n",
            " ['6421.0' '82599.0']\n",
            " ['38494.0' '916320.0']\n",
            " ['66122.0' '2009621.0']\n",
            " ['860493.0' '118741623.0']\n",
            " ['13661.0' '748018.0']\n",
            " ['2308.0' '16150.0']\n",
            " ['138132.0' '3013264.0']\n",
            " ['64100.0' '2139717.0']\n",
            " ['2330.0' '74680.0']\n",
            " ['4357.0' '41228.0']\n",
            " ['53838.0' '1004921.0']]\n"
          ],
          "name": "stdout"
        }
      ]
    },
    {
      "cell_type": "markdown",
      "metadata": {
        "id": "8lu4a9xhd78Y"
      },
      "source": [
        "## Reinserindo a Coluna com os Nomes dos Canais"
      ]
    },
    {
      "cell_type": "code",
      "metadata": {
        "id": "coYorYL_c4-T",
        "outputId": "5f580fe4-446b-4b91-8bb4-07b7e50e75a3",
        "colab": {
          "base_uri": "https://localhost:8080/"
        }
      },
      "source": [
        "X = np.insert(X, 0, dataset.iloc[:,0].values, axis=1)\n",
        "\n",
        "print(X)"
      ],
      "execution_count": null,
      "outputs": [
        {
          "output_type": "stream",
          "text": [
            "[['Site Arqueologia Egípcia' '13438.0' '406590.0']\n",
            " ['Terra Negra' '35241.0' '868235.0']\n",
            " ['Frank Jaava' '31680.0' '2856508.0']\n",
            " ['Dispersciência' '25100.0' '150000.0']\n",
            " ['Olá Ciência' '32788.0' '1575456.0']\n",
            " ['A matemaníaca por Julia Jaccoud' '65453.0' '1667892.0']\n",
            " ['Delta T - Os super lentos' '12000.0' '171361.0']\n",
            " ['Bláblálogia' '161951.0' '11027386.0']\n",
            " ['Efarsas' '78876.0' '6226235.0']\n",
            " ['Minuto da Terra' '274196.0' '30166457.0']\n",
            " ['Canal Cura Quântica' '13148.0' '250020.0']\n",
            " ['Mensageiro Sideral' '72425.0' '7551491.0']\n",
            " ['Universo Racionalista' '7858.0' '43662.0']\n",
            " ['Xadrez Verbal' '110549.0' '4151548.0']\n",
            " ['Reinaldo José Lopes' '11188.0' '541832.0']\n",
            " [\"Bio's Fera\" '5299.0' '44312.0']\n",
            " ['QuerQueDesenhe' '56006.0' '1329268.0']\n",
            " ['Prof André Azevedo da Fonseca' '45756.0' '1825724.0']\n",
            " ['Matemática Rio com Prof Rafael P' '1423056.0' '93036517.0']\n",
            " ['Ponto em Comum' '129466.0' '5027880.0']\n",
            " ['Canal do Slow' '137409.0' '5363423.0']\n",
            " ['Boteco Behaviorista' '18404.0' '1427977.0']\n",
            " ['Papo de Primata' '42063.0' '1111334.0']\n",
            " ['Minutos Psíquicos' '648892.0' '22555134.0']\n",
            " ['Alimente o Cérebro' '135118.0' '3375528.0']\n",
            " ['Canal Zoa' '9118.0' '683190.0']\n",
            " ['Papo de Biólogo' '374057.0' '12139385.0']\n",
            " ['Eu, Ciência' '88211.0' '1616496.0']\n",
            " ['Peixe Babel' '153711.78260869565' '10254420.086956521']\n",
            " ['SpaceToday' '321068.0' '26277335.0']\n",
            " ['Ciência todo dia' '528761.0' '16969332.0']\n",
            " ['Colecionadores de Ossos' '24894.0' '806815.0']\n",
            " ['Canal do Pirula' '752573.0' '76462787.0']\n",
            " ['Jornal Ciensacional' '6216.0' '104217.0']\n",
            " ['iBioMovies - Canal de Biologia' '17388.0' '563535.0']\n",
            " ['Primata Falante' '110840.0' '4540321.0']\n",
            " ['Dragões de Garagem' '6421.0' '82599.0']\n",
            " ['Café e Ciência' '38494.0' '916320.0']\n",
            " ['Mimimidias' '66122.0' '2009621.0']\n",
            " ['Schwarza - Poligonautas' '860493.0' '118741623.0']\n",
            " ['Caio na Aula' '13661.0' '748018.0']\n",
            " ['ComCiência Corporal' '2308.0' '16150.0']\n",
            " ['Leitura ObrigaHISTORIA' '138132.0' '3013264.0']\n",
            " ['Portal da Ciência' '64100.0' '2139717.0']\n",
            " ['Universo Discreto' '2330.0' '74680.0']\n",
            " ['Astrotubers' '4357.0' '41228.0']\n",
            " ['O Físico Turista' '53838.0' '1004921.0']]\n"
          ],
          "name": "stdout"
        }
      ]
    }
  ]
}