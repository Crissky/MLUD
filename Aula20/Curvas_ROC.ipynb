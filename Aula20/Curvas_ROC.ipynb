{
  "nbformat": 4,
  "nbformat_minor": 0,
  "metadata": {
    "colab": {
      "name": "Curvas_ROC.ipynb",
      "provenance": [],
      "collapsed_sections": [],
      "authorship_tag": "ABX9TyNQnaYt7BTU64GWis6LR60y"
    },
    "kernelspec": {
      "name": "python3",
      "display_name": "Python 3"
    },
    "language_info": {
      "name": "python"
    },
    "widgets": {
      "application/vnd.jupyter.widget-state+json": {
        "53a4bc017c544a009c281bf5ca5b1936": {
          "model_module": "@jupyter-widgets/controls",
          "model_name": "HBoxModel",
          "state": {
            "_view_name": "HBoxView",
            "_dom_classes": [],
            "_model_name": "HBoxModel",
            "_view_module": "@jupyter-widgets/controls",
            "_model_module_version": "1.5.0",
            "_view_count": null,
            "_view_module_version": "1.5.0",
            "box_style": "",
            "layout": "IPY_MODEL_038ee2bebaaa44ffb4accbc56421db88",
            "_model_module": "@jupyter-widgets/controls",
            "children": [
              "IPY_MODEL_ae23ecfa456a4a368315142d3701184f",
              "IPY_MODEL_ecd1206ef1754120ba248c3927777091"
            ]
          }
        },
        "038ee2bebaaa44ffb4accbc56421db88": {
          "model_module": "@jupyter-widgets/base",
          "model_name": "LayoutModel",
          "state": {
            "_view_name": "LayoutView",
            "grid_template_rows": null,
            "right": null,
            "justify_content": null,
            "_view_module": "@jupyter-widgets/base",
            "overflow": null,
            "_model_module_version": "1.2.0",
            "_view_count": null,
            "flex_flow": "row wrap",
            "width": "500px",
            "min_width": null,
            "border": null,
            "align_items": null,
            "bottom": null,
            "_model_module": "@jupyter-widgets/base",
            "top": null,
            "grid_column": null,
            "overflow_y": null,
            "overflow_x": null,
            "grid_auto_flow": null,
            "grid_area": null,
            "grid_template_columns": null,
            "flex": null,
            "_model_name": "LayoutModel",
            "justify_items": null,
            "grid_row": null,
            "max_height": null,
            "align_content": null,
            "visibility": null,
            "align_self": null,
            "height": null,
            "min_height": null,
            "padding": null,
            "grid_auto_rows": null,
            "grid_gap": null,
            "max_width": null,
            "order": null,
            "_view_module_version": "1.2.0",
            "grid_template_areas": null,
            "object_position": null,
            "object_fit": null,
            "grid_auto_columns": null,
            "margin": null,
            "display": "inline-flex",
            "left": null
          }
        },
        "ae23ecfa456a4a368315142d3701184f": {
          "model_module": "@jupyter-widgets/controls",
          "model_name": "FloatProgressModel",
          "state": {
            "_view_name": "ProgressView",
            "style": "IPY_MODEL_f5ae608540f0418d83a9775c1d231cb5",
            "_dom_classes": [],
            "description": "Regressão Linear: 100%",
            "_model_name": "FloatProgressModel",
            "bar_style": "success",
            "max": 100,
            "_view_module": "@jupyter-widgets/controls",
            "_model_module_version": "1.5.0",
            "value": 100,
            "_view_count": null,
            "_view_module_version": "1.5.0",
            "orientation": "horizontal",
            "min": 0,
            "description_tooltip": null,
            "_model_module": "@jupyter-widgets/controls",
            "layout": "IPY_MODEL_6ab639e643f34fc2943777c163c63450"
          }
        },
        "ecd1206ef1754120ba248c3927777091": {
          "model_module": "@jupyter-widgets/controls",
          "model_name": "HTMLModel",
          "state": {
            "_view_name": "HTMLView",
            "style": "IPY_MODEL_a1eb34eee53947a282189b9862c14233",
            "_dom_classes": [],
            "description": "",
            "_model_name": "HTMLModel",
            "placeholder": "​",
            "_view_module": "@jupyter-widgets/controls",
            "_model_module_version": "1.5.0",
            "value": " 100/100 [00:02&lt;00:00, 46.53it/s]",
            "_view_count": null,
            "_view_module_version": "1.5.0",
            "description_tooltip": null,
            "_model_module": "@jupyter-widgets/controls",
            "layout": "IPY_MODEL_2999bbeeb3064971a187466bc61a723c"
          }
        },
        "f5ae608540f0418d83a9775c1d231cb5": {
          "model_module": "@jupyter-widgets/controls",
          "model_name": "ProgressStyleModel",
          "state": {
            "_view_name": "StyleView",
            "_model_name": "ProgressStyleModel",
            "description_width": "initial",
            "_view_module": "@jupyter-widgets/base",
            "_model_module_version": "1.5.0",
            "_view_count": null,
            "_view_module_version": "1.2.0",
            "bar_color": null,
            "_model_module": "@jupyter-widgets/controls"
          }
        },
        "6ab639e643f34fc2943777c163c63450": {
          "model_module": "@jupyter-widgets/base",
          "model_name": "LayoutModel",
          "state": {
            "_view_name": "LayoutView",
            "grid_template_rows": null,
            "right": null,
            "justify_content": null,
            "_view_module": "@jupyter-widgets/base",
            "overflow": null,
            "_model_module_version": "1.2.0",
            "_view_count": null,
            "flex_flow": null,
            "width": null,
            "min_width": null,
            "border": null,
            "align_items": null,
            "bottom": null,
            "_model_module": "@jupyter-widgets/base",
            "top": null,
            "grid_column": null,
            "overflow_y": null,
            "overflow_x": null,
            "grid_auto_flow": null,
            "grid_area": null,
            "grid_template_columns": null,
            "flex": "2",
            "_model_name": "LayoutModel",
            "justify_items": null,
            "grid_row": null,
            "max_height": null,
            "align_content": null,
            "visibility": null,
            "align_self": null,
            "height": null,
            "min_height": null,
            "padding": null,
            "grid_auto_rows": null,
            "grid_gap": null,
            "max_width": null,
            "order": null,
            "_view_module_version": "1.2.0",
            "grid_template_areas": null,
            "object_position": null,
            "object_fit": null,
            "grid_auto_columns": null,
            "margin": null,
            "display": null,
            "left": null
          }
        },
        "a1eb34eee53947a282189b9862c14233": {
          "model_module": "@jupyter-widgets/controls",
          "model_name": "DescriptionStyleModel",
          "state": {
            "_view_name": "StyleView",
            "_model_name": "DescriptionStyleModel",
            "description_width": "",
            "_view_module": "@jupyter-widgets/base",
            "_model_module_version": "1.5.0",
            "_view_count": null,
            "_view_module_version": "1.2.0",
            "_model_module": "@jupyter-widgets/controls"
          }
        },
        "2999bbeeb3064971a187466bc61a723c": {
          "model_module": "@jupyter-widgets/base",
          "model_name": "LayoutModel",
          "state": {
            "_view_name": "LayoutView",
            "grid_template_rows": null,
            "right": null,
            "justify_content": null,
            "_view_module": "@jupyter-widgets/base",
            "overflow": null,
            "_model_module_version": "1.2.0",
            "_view_count": null,
            "flex_flow": null,
            "width": null,
            "min_width": null,
            "border": null,
            "align_items": null,
            "bottom": null,
            "_model_module": "@jupyter-widgets/base",
            "top": null,
            "grid_column": null,
            "overflow_y": null,
            "overflow_x": null,
            "grid_auto_flow": null,
            "grid_area": null,
            "grid_template_columns": null,
            "flex": null,
            "_model_name": "LayoutModel",
            "justify_items": null,
            "grid_row": null,
            "max_height": null,
            "align_content": null,
            "visibility": null,
            "align_self": null,
            "height": null,
            "min_height": null,
            "padding": null,
            "grid_auto_rows": null,
            "grid_gap": null,
            "max_width": null,
            "order": null,
            "_view_module_version": "1.2.0",
            "grid_template_areas": null,
            "object_position": null,
            "object_fit": null,
            "grid_auto_columns": null,
            "margin": null,
            "display": null,
            "left": null
          }
        },
        "8c61023a10b84709af11a1b2fd306daf": {
          "model_module": "@jupyter-widgets/controls",
          "model_name": "HBoxModel",
          "state": {
            "_view_name": "HBoxView",
            "_dom_classes": [],
            "_model_name": "HBoxModel",
            "_view_module": "@jupyter-widgets/controls",
            "_model_module_version": "1.5.0",
            "_view_count": null,
            "_view_module_version": "1.5.0",
            "box_style": "",
            "layout": "IPY_MODEL_a1f119f6fa444eab9565d2f4b6450c6f",
            "_model_module": "@jupyter-widgets/controls",
            "children": [
              "IPY_MODEL_b748a4b0e48c4710a81ea06414450436",
              "IPY_MODEL_18ef41d5153e4ef383a62433cf960abd"
            ]
          }
        },
        "a1f119f6fa444eab9565d2f4b6450c6f": {
          "model_module": "@jupyter-widgets/base",
          "model_name": "LayoutModel",
          "state": {
            "_view_name": "LayoutView",
            "grid_template_rows": null,
            "right": null,
            "justify_content": null,
            "_view_module": "@jupyter-widgets/base",
            "overflow": null,
            "_model_module_version": "1.2.0",
            "_view_count": null,
            "flex_flow": "row wrap",
            "width": "500px",
            "min_width": null,
            "border": null,
            "align_items": null,
            "bottom": null,
            "_model_module": "@jupyter-widgets/base",
            "top": null,
            "grid_column": null,
            "overflow_y": null,
            "overflow_x": null,
            "grid_auto_flow": null,
            "grid_area": null,
            "grid_template_columns": null,
            "flex": null,
            "_model_name": "LayoutModel",
            "justify_items": null,
            "grid_row": null,
            "max_height": null,
            "align_content": null,
            "visibility": null,
            "align_self": null,
            "height": null,
            "min_height": null,
            "padding": null,
            "grid_auto_rows": null,
            "grid_gap": null,
            "max_width": null,
            "order": null,
            "_view_module_version": "1.2.0",
            "grid_template_areas": null,
            "object_position": null,
            "object_fit": null,
            "grid_auto_columns": null,
            "margin": null,
            "display": "inline-flex",
            "left": null
          }
        },
        "b748a4b0e48c4710a81ea06414450436": {
          "model_module": "@jupyter-widgets/controls",
          "model_name": "FloatProgressModel",
          "state": {
            "_view_name": "ProgressView",
            "style": "IPY_MODEL_32d6860bc7e944519df43f060294e87a",
            "_dom_classes": [],
            "description": "KNN: 100%",
            "_model_name": "FloatProgressModel",
            "bar_style": "success",
            "max": 100,
            "_view_module": "@jupyter-widgets/controls",
            "_model_module_version": "1.5.0",
            "value": 100,
            "_view_count": null,
            "_view_module_version": "1.5.0",
            "orientation": "horizontal",
            "min": 0,
            "description_tooltip": null,
            "_model_module": "@jupyter-widgets/controls",
            "layout": "IPY_MODEL_3feb89e9ef6f447892564e4ae6393bd7"
          }
        },
        "18ef41d5153e4ef383a62433cf960abd": {
          "model_module": "@jupyter-widgets/controls",
          "model_name": "HTMLModel",
          "state": {
            "_view_name": "HTMLView",
            "style": "IPY_MODEL_cf12820993b94d43bb7d3e2d042edaed",
            "_dom_classes": [],
            "description": "",
            "_model_name": "HTMLModel",
            "placeholder": "​",
            "_view_module": "@jupyter-widgets/controls",
            "_model_module_version": "1.5.0",
            "value": " 100/100 [00:11&lt;00:00,  8.58it/s]",
            "_view_count": null,
            "_view_module_version": "1.5.0",
            "description_tooltip": null,
            "_model_module": "@jupyter-widgets/controls",
            "layout": "IPY_MODEL_f2b9fb40529d4e79ae38ad4c3d1056fa"
          }
        },
        "32d6860bc7e944519df43f060294e87a": {
          "model_module": "@jupyter-widgets/controls",
          "model_name": "ProgressStyleModel",
          "state": {
            "_view_name": "StyleView",
            "_model_name": "ProgressStyleModel",
            "description_width": "initial",
            "_view_module": "@jupyter-widgets/base",
            "_model_module_version": "1.5.0",
            "_view_count": null,
            "_view_module_version": "1.2.0",
            "bar_color": null,
            "_model_module": "@jupyter-widgets/controls"
          }
        },
        "3feb89e9ef6f447892564e4ae6393bd7": {
          "model_module": "@jupyter-widgets/base",
          "model_name": "LayoutModel",
          "state": {
            "_view_name": "LayoutView",
            "grid_template_rows": null,
            "right": null,
            "justify_content": null,
            "_view_module": "@jupyter-widgets/base",
            "overflow": null,
            "_model_module_version": "1.2.0",
            "_view_count": null,
            "flex_flow": null,
            "width": null,
            "min_width": null,
            "border": null,
            "align_items": null,
            "bottom": null,
            "_model_module": "@jupyter-widgets/base",
            "top": null,
            "grid_column": null,
            "overflow_y": null,
            "overflow_x": null,
            "grid_auto_flow": null,
            "grid_area": null,
            "grid_template_columns": null,
            "flex": "2",
            "_model_name": "LayoutModel",
            "justify_items": null,
            "grid_row": null,
            "max_height": null,
            "align_content": null,
            "visibility": null,
            "align_self": null,
            "height": null,
            "min_height": null,
            "padding": null,
            "grid_auto_rows": null,
            "grid_gap": null,
            "max_width": null,
            "order": null,
            "_view_module_version": "1.2.0",
            "grid_template_areas": null,
            "object_position": null,
            "object_fit": null,
            "grid_auto_columns": null,
            "margin": null,
            "display": null,
            "left": null
          }
        },
        "cf12820993b94d43bb7d3e2d042edaed": {
          "model_module": "@jupyter-widgets/controls",
          "model_name": "DescriptionStyleModel",
          "state": {
            "_view_name": "StyleView",
            "_model_name": "DescriptionStyleModel",
            "description_width": "",
            "_view_module": "@jupyter-widgets/base",
            "_model_module_version": "1.5.0",
            "_view_count": null,
            "_view_module_version": "1.2.0",
            "_model_module": "@jupyter-widgets/controls"
          }
        },
        "f2b9fb40529d4e79ae38ad4c3d1056fa": {
          "model_module": "@jupyter-widgets/base",
          "model_name": "LayoutModel",
          "state": {
            "_view_name": "LayoutView",
            "grid_template_rows": null,
            "right": null,
            "justify_content": null,
            "_view_module": "@jupyter-widgets/base",
            "overflow": null,
            "_model_module_version": "1.2.0",
            "_view_count": null,
            "flex_flow": null,
            "width": null,
            "min_width": null,
            "border": null,
            "align_items": null,
            "bottom": null,
            "_model_module": "@jupyter-widgets/base",
            "top": null,
            "grid_column": null,
            "overflow_y": null,
            "overflow_x": null,
            "grid_auto_flow": null,
            "grid_area": null,
            "grid_template_columns": null,
            "flex": null,
            "_model_name": "LayoutModel",
            "justify_items": null,
            "grid_row": null,
            "max_height": null,
            "align_content": null,
            "visibility": null,
            "align_self": null,
            "height": null,
            "min_height": null,
            "padding": null,
            "grid_auto_rows": null,
            "grid_gap": null,
            "max_width": null,
            "order": null,
            "_view_module_version": "1.2.0",
            "grid_template_areas": null,
            "object_position": null,
            "object_fit": null,
            "grid_auto_columns": null,
            "margin": null,
            "display": null,
            "left": null
          }
        },
        "92c1308a005c4827a962ba90ffae8f3c": {
          "model_module": "@jupyter-widgets/controls",
          "model_name": "HBoxModel",
          "state": {
            "_view_name": "HBoxView",
            "_dom_classes": [],
            "_model_name": "HBoxModel",
            "_view_module": "@jupyter-widgets/controls",
            "_model_module_version": "1.5.0",
            "_view_count": null,
            "_view_module_version": "1.5.0",
            "box_style": "",
            "layout": "IPY_MODEL_9d5ffc50379b47c5ac7c9105df06b538",
            "_model_module": "@jupyter-widgets/controls",
            "children": [
              "IPY_MODEL_90d24e7041d34a8982fdb0d8ca173e2a",
              "IPY_MODEL_3fe10c17f05744a3a937faa4664ee7a3"
            ]
          }
        },
        "9d5ffc50379b47c5ac7c9105df06b538": {
          "model_module": "@jupyter-widgets/base",
          "model_name": "LayoutModel",
          "state": {
            "_view_name": "LayoutView",
            "grid_template_rows": null,
            "right": null,
            "justify_content": null,
            "_view_module": "@jupyter-widgets/base",
            "overflow": null,
            "_model_module_version": "1.2.0",
            "_view_count": null,
            "flex_flow": "row wrap",
            "width": "500px",
            "min_width": null,
            "border": null,
            "align_items": null,
            "bottom": null,
            "_model_module": "@jupyter-widgets/base",
            "top": null,
            "grid_column": null,
            "overflow_y": null,
            "overflow_x": null,
            "grid_auto_flow": null,
            "grid_area": null,
            "grid_template_columns": null,
            "flex": null,
            "_model_name": "LayoutModel",
            "justify_items": null,
            "grid_row": null,
            "max_height": null,
            "align_content": null,
            "visibility": null,
            "align_self": null,
            "height": null,
            "min_height": null,
            "padding": null,
            "grid_auto_rows": null,
            "grid_gap": null,
            "max_width": null,
            "order": null,
            "_view_module_version": "1.2.0",
            "grid_template_areas": null,
            "object_position": null,
            "object_fit": null,
            "grid_auto_columns": null,
            "margin": null,
            "display": "inline-flex",
            "left": null
          }
        },
        "90d24e7041d34a8982fdb0d8ca173e2a": {
          "model_module": "@jupyter-widgets/controls",
          "model_name": "FloatProgressModel",
          "state": {
            "_view_name": "ProgressView",
            "style": "IPY_MODEL_c8fce2ccbc6c46a68d45380352c6b26e",
            "_dom_classes": [],
            "description": "SVM Gaussiana: 100%",
            "_model_name": "FloatProgressModel",
            "bar_style": "success",
            "max": 100,
            "_view_module": "@jupyter-widgets/controls",
            "_model_module_version": "1.5.0",
            "value": 100,
            "_view_count": null,
            "_view_module_version": "1.5.0",
            "orientation": "horizontal",
            "min": 0,
            "description_tooltip": null,
            "_model_module": "@jupyter-widgets/controls",
            "layout": "IPY_MODEL_0be5742a253e4bebb271ed9376455cdd"
          }
        },
        "3fe10c17f05744a3a937faa4664ee7a3": {
          "model_module": "@jupyter-widgets/controls",
          "model_name": "HTMLModel",
          "state": {
            "_view_name": "HTMLView",
            "style": "IPY_MODEL_aa35da7eefb243e486c22b177f07771f",
            "_dom_classes": [],
            "description": "",
            "_model_name": "HTMLModel",
            "placeholder": "​",
            "_view_module": "@jupyter-widgets/controls",
            "_model_module_version": "1.5.0",
            "value": " 100/100 [00:06&lt;00:00, 14.82it/s]",
            "_view_count": null,
            "_view_module_version": "1.5.0",
            "description_tooltip": null,
            "_model_module": "@jupyter-widgets/controls",
            "layout": "IPY_MODEL_3cb90cce00b84205875fd1d45bf2a1cb"
          }
        },
        "c8fce2ccbc6c46a68d45380352c6b26e": {
          "model_module": "@jupyter-widgets/controls",
          "model_name": "ProgressStyleModel",
          "state": {
            "_view_name": "StyleView",
            "_model_name": "ProgressStyleModel",
            "description_width": "initial",
            "_view_module": "@jupyter-widgets/base",
            "_model_module_version": "1.5.0",
            "_view_count": null,
            "_view_module_version": "1.2.0",
            "bar_color": null,
            "_model_module": "@jupyter-widgets/controls"
          }
        },
        "0be5742a253e4bebb271ed9376455cdd": {
          "model_module": "@jupyter-widgets/base",
          "model_name": "LayoutModel",
          "state": {
            "_view_name": "LayoutView",
            "grid_template_rows": null,
            "right": null,
            "justify_content": null,
            "_view_module": "@jupyter-widgets/base",
            "overflow": null,
            "_model_module_version": "1.2.0",
            "_view_count": null,
            "flex_flow": null,
            "width": null,
            "min_width": null,
            "border": null,
            "align_items": null,
            "bottom": null,
            "_model_module": "@jupyter-widgets/base",
            "top": null,
            "grid_column": null,
            "overflow_y": null,
            "overflow_x": null,
            "grid_auto_flow": null,
            "grid_area": null,
            "grid_template_columns": null,
            "flex": "2",
            "_model_name": "LayoutModel",
            "justify_items": null,
            "grid_row": null,
            "max_height": null,
            "align_content": null,
            "visibility": null,
            "align_self": null,
            "height": null,
            "min_height": null,
            "padding": null,
            "grid_auto_rows": null,
            "grid_gap": null,
            "max_width": null,
            "order": null,
            "_view_module_version": "1.2.0",
            "grid_template_areas": null,
            "object_position": null,
            "object_fit": null,
            "grid_auto_columns": null,
            "margin": null,
            "display": null,
            "left": null
          }
        },
        "aa35da7eefb243e486c22b177f07771f": {
          "model_module": "@jupyter-widgets/controls",
          "model_name": "DescriptionStyleModel",
          "state": {
            "_view_name": "StyleView",
            "_model_name": "DescriptionStyleModel",
            "description_width": "",
            "_view_module": "@jupyter-widgets/base",
            "_model_module_version": "1.5.0",
            "_view_count": null,
            "_view_module_version": "1.2.0",
            "_model_module": "@jupyter-widgets/controls"
          }
        },
        "3cb90cce00b84205875fd1d45bf2a1cb": {
          "model_module": "@jupyter-widgets/base",
          "model_name": "LayoutModel",
          "state": {
            "_view_name": "LayoutView",
            "grid_template_rows": null,
            "right": null,
            "justify_content": null,
            "_view_module": "@jupyter-widgets/base",
            "overflow": null,
            "_model_module_version": "1.2.0",
            "_view_count": null,
            "flex_flow": null,
            "width": null,
            "min_width": null,
            "border": null,
            "align_items": null,
            "bottom": null,
            "_model_module": "@jupyter-widgets/base",
            "top": null,
            "grid_column": null,
            "overflow_y": null,
            "overflow_x": null,
            "grid_auto_flow": null,
            "grid_area": null,
            "grid_template_columns": null,
            "flex": null,
            "_model_name": "LayoutModel",
            "justify_items": null,
            "grid_row": null,
            "max_height": null,
            "align_content": null,
            "visibility": null,
            "align_self": null,
            "height": null,
            "min_height": null,
            "padding": null,
            "grid_auto_rows": null,
            "grid_gap": null,
            "max_width": null,
            "order": null,
            "_view_module_version": "1.2.0",
            "grid_template_areas": null,
            "object_position": null,
            "object_fit": null,
            "grid_auto_columns": null,
            "margin": null,
            "display": null,
            "left": null
          }
        },
        "ecc0a0bba2fb4fcba6b61713d0384520": {
          "model_module": "@jupyter-widgets/controls",
          "model_name": "HBoxModel",
          "state": {
            "_view_name": "HBoxView",
            "_dom_classes": [],
            "_model_name": "HBoxModel",
            "_view_module": "@jupyter-widgets/controls",
            "_model_module_version": "1.5.0",
            "_view_count": null,
            "_view_module_version": "1.5.0",
            "box_style": "",
            "layout": "IPY_MODEL_11856054587a47229c71ccb17bbe9869",
            "_model_module": "@jupyter-widgets/controls",
            "children": [
              "IPY_MODEL_1df66c94b9e34e118d1c3882e32bc734",
              "IPY_MODEL_c90b6d5266314160b5f67d052b8cac2d"
            ]
          }
        },
        "11856054587a47229c71ccb17bbe9869": {
          "model_module": "@jupyter-widgets/base",
          "model_name": "LayoutModel",
          "state": {
            "_view_name": "LayoutView",
            "grid_template_rows": null,
            "right": null,
            "justify_content": null,
            "_view_module": "@jupyter-widgets/base",
            "overflow": null,
            "_model_module_version": "1.2.0",
            "_view_count": null,
            "flex_flow": "row wrap",
            "width": "500px",
            "min_width": null,
            "border": null,
            "align_items": null,
            "bottom": null,
            "_model_module": "@jupyter-widgets/base",
            "top": null,
            "grid_column": null,
            "overflow_y": null,
            "overflow_x": null,
            "grid_auto_flow": null,
            "grid_area": null,
            "grid_template_columns": null,
            "flex": null,
            "_model_name": "LayoutModel",
            "justify_items": null,
            "grid_row": null,
            "max_height": null,
            "align_content": null,
            "visibility": null,
            "align_self": null,
            "height": null,
            "min_height": null,
            "padding": null,
            "grid_auto_rows": null,
            "grid_gap": null,
            "max_width": null,
            "order": null,
            "_view_module_version": "1.2.0",
            "grid_template_areas": null,
            "object_position": null,
            "object_fit": null,
            "grid_auto_columns": null,
            "margin": null,
            "display": "inline-flex",
            "left": null
          }
        },
        "1df66c94b9e34e118d1c3882e32bc734": {
          "model_module": "@jupyter-widgets/controls",
          "model_name": "FloatProgressModel",
          "state": {
            "_view_name": "ProgressView",
            "style": "IPY_MODEL_eb2aa04935ea4522b244fc834903be06",
            "_dom_classes": [],
            "description": "Naive Bayes: 100%",
            "_model_name": "FloatProgressModel",
            "bar_style": "success",
            "max": 100,
            "_view_module": "@jupyter-widgets/controls",
            "_model_module_version": "1.5.0",
            "value": 100,
            "_view_count": null,
            "_view_module_version": "1.5.0",
            "orientation": "horizontal",
            "min": 0,
            "description_tooltip": null,
            "_model_module": "@jupyter-widgets/controls",
            "layout": "IPY_MODEL_9689a0df7a7549b89f59fd90842038e9"
          }
        },
        "c90b6d5266314160b5f67d052b8cac2d": {
          "model_module": "@jupyter-widgets/controls",
          "model_name": "HTMLModel",
          "state": {
            "_view_name": "HTMLView",
            "style": "IPY_MODEL_f3682a629f8342cbbd9725c93c764576",
            "_dom_classes": [],
            "description": "",
            "_model_name": "HTMLModel",
            "placeholder": "​",
            "_view_module": "@jupyter-widgets/controls",
            "_model_module_version": "1.5.0",
            "value": " 100/100 [00:01&lt;00:00, 87.58it/s]",
            "_view_count": null,
            "_view_module_version": "1.5.0",
            "description_tooltip": null,
            "_model_module": "@jupyter-widgets/controls",
            "layout": "IPY_MODEL_2d8f690308294fe48ef9023b746eba96"
          }
        },
        "eb2aa04935ea4522b244fc834903be06": {
          "model_module": "@jupyter-widgets/controls",
          "model_name": "ProgressStyleModel",
          "state": {
            "_view_name": "StyleView",
            "_model_name": "ProgressStyleModel",
            "description_width": "initial",
            "_view_module": "@jupyter-widgets/base",
            "_model_module_version": "1.5.0",
            "_view_count": null,
            "_view_module_version": "1.2.0",
            "bar_color": null,
            "_model_module": "@jupyter-widgets/controls"
          }
        },
        "9689a0df7a7549b89f59fd90842038e9": {
          "model_module": "@jupyter-widgets/base",
          "model_name": "LayoutModel",
          "state": {
            "_view_name": "LayoutView",
            "grid_template_rows": null,
            "right": null,
            "justify_content": null,
            "_view_module": "@jupyter-widgets/base",
            "overflow": null,
            "_model_module_version": "1.2.0",
            "_view_count": null,
            "flex_flow": null,
            "width": null,
            "min_width": null,
            "border": null,
            "align_items": null,
            "bottom": null,
            "_model_module": "@jupyter-widgets/base",
            "top": null,
            "grid_column": null,
            "overflow_y": null,
            "overflow_x": null,
            "grid_auto_flow": null,
            "grid_area": null,
            "grid_template_columns": null,
            "flex": "2",
            "_model_name": "LayoutModel",
            "justify_items": null,
            "grid_row": null,
            "max_height": null,
            "align_content": null,
            "visibility": null,
            "align_self": null,
            "height": null,
            "min_height": null,
            "padding": null,
            "grid_auto_rows": null,
            "grid_gap": null,
            "max_width": null,
            "order": null,
            "_view_module_version": "1.2.0",
            "grid_template_areas": null,
            "object_position": null,
            "object_fit": null,
            "grid_auto_columns": null,
            "margin": null,
            "display": null,
            "left": null
          }
        },
        "f3682a629f8342cbbd9725c93c764576": {
          "model_module": "@jupyter-widgets/controls",
          "model_name": "DescriptionStyleModel",
          "state": {
            "_view_name": "StyleView",
            "_model_name": "DescriptionStyleModel",
            "description_width": "",
            "_view_module": "@jupyter-widgets/base",
            "_model_module_version": "1.5.0",
            "_view_count": null,
            "_view_module_version": "1.2.0",
            "_model_module": "@jupyter-widgets/controls"
          }
        },
        "2d8f690308294fe48ef9023b746eba96": {
          "model_module": "@jupyter-widgets/base",
          "model_name": "LayoutModel",
          "state": {
            "_view_name": "LayoutView",
            "grid_template_rows": null,
            "right": null,
            "justify_content": null,
            "_view_module": "@jupyter-widgets/base",
            "overflow": null,
            "_model_module_version": "1.2.0",
            "_view_count": null,
            "flex_flow": null,
            "width": null,
            "min_width": null,
            "border": null,
            "align_items": null,
            "bottom": null,
            "_model_module": "@jupyter-widgets/base",
            "top": null,
            "grid_column": null,
            "overflow_y": null,
            "overflow_x": null,
            "grid_auto_flow": null,
            "grid_area": null,
            "grid_template_columns": null,
            "flex": null,
            "_model_name": "LayoutModel",
            "justify_items": null,
            "grid_row": null,
            "max_height": null,
            "align_content": null,
            "visibility": null,
            "align_self": null,
            "height": null,
            "min_height": null,
            "padding": null,
            "grid_auto_rows": null,
            "grid_gap": null,
            "max_width": null,
            "order": null,
            "_view_module_version": "1.2.0",
            "grid_template_areas": null,
            "object_position": null,
            "object_fit": null,
            "grid_auto_columns": null,
            "margin": null,
            "display": null,
            "left": null
          }
        },
        "8bed5b4e5fc946efbd6bdd25b4c0aa7d": {
          "model_module": "@jupyter-widgets/controls",
          "model_name": "HBoxModel",
          "state": {
            "_view_name": "HBoxView",
            "_dom_classes": [],
            "_model_name": "HBoxModel",
            "_view_module": "@jupyter-widgets/controls",
            "_model_module_version": "1.5.0",
            "_view_count": null,
            "_view_module_version": "1.5.0",
            "box_style": "",
            "layout": "IPY_MODEL_a5575bc8acbc4ff0ac02c133cd3b006f",
            "_model_module": "@jupyter-widgets/controls",
            "children": [
              "IPY_MODEL_033444fe35f24cd3b6c7dd91e75e4033",
              "IPY_MODEL_10f4bd8047f44d4ab01a5969eb2885c3"
            ]
          }
        },
        "a5575bc8acbc4ff0ac02c133cd3b006f": {
          "model_module": "@jupyter-widgets/base",
          "model_name": "LayoutModel",
          "state": {
            "_view_name": "LayoutView",
            "grid_template_rows": null,
            "right": null,
            "justify_content": null,
            "_view_module": "@jupyter-widgets/base",
            "overflow": null,
            "_model_module_version": "1.2.0",
            "_view_count": null,
            "flex_flow": "row wrap",
            "width": "500px",
            "min_width": null,
            "border": null,
            "align_items": null,
            "bottom": null,
            "_model_module": "@jupyter-widgets/base",
            "top": null,
            "grid_column": null,
            "overflow_y": null,
            "overflow_x": null,
            "grid_auto_flow": null,
            "grid_area": null,
            "grid_template_columns": null,
            "flex": null,
            "_model_name": "LayoutModel",
            "justify_items": null,
            "grid_row": null,
            "max_height": null,
            "align_content": null,
            "visibility": null,
            "align_self": null,
            "height": null,
            "min_height": null,
            "padding": null,
            "grid_auto_rows": null,
            "grid_gap": null,
            "max_width": null,
            "order": null,
            "_view_module_version": "1.2.0",
            "grid_template_areas": null,
            "object_position": null,
            "object_fit": null,
            "grid_auto_columns": null,
            "margin": null,
            "display": "inline-flex",
            "left": null
          }
        },
        "033444fe35f24cd3b6c7dd91e75e4033": {
          "model_module": "@jupyter-widgets/controls",
          "model_name": "FloatProgressModel",
          "state": {
            "_view_name": "ProgressView",
            "style": "IPY_MODEL_a00b871162a24ac5b7ec0b42252123c1",
            "_dom_classes": [],
            "description": "Decision Tree: 100%",
            "_model_name": "FloatProgressModel",
            "bar_style": "success",
            "max": 100,
            "_view_module": "@jupyter-widgets/controls",
            "_model_module_version": "1.5.0",
            "value": 100,
            "_view_count": null,
            "_view_module_version": "1.5.0",
            "orientation": "horizontal",
            "min": 0,
            "description_tooltip": null,
            "_model_module": "@jupyter-widgets/controls",
            "layout": "IPY_MODEL_ea9b4c0082ef4293b8329754288e2e91"
          }
        },
        "10f4bd8047f44d4ab01a5969eb2885c3": {
          "model_module": "@jupyter-widgets/controls",
          "model_name": "HTMLModel",
          "state": {
            "_view_name": "HTMLView",
            "style": "IPY_MODEL_becdba16d8c14b1eaed8034628671414",
            "_dom_classes": [],
            "description": "",
            "_model_name": "HTMLModel",
            "placeholder": "​",
            "_view_module": "@jupyter-widgets/controls",
            "_model_module_version": "1.5.0",
            "value": " 100/100 [00:02&lt;00:00, 39.81it/s]",
            "_view_count": null,
            "_view_module_version": "1.5.0",
            "description_tooltip": null,
            "_model_module": "@jupyter-widgets/controls",
            "layout": "IPY_MODEL_6a713e7e9d374be3b4c610d23bbed4ae"
          }
        },
        "a00b871162a24ac5b7ec0b42252123c1": {
          "model_module": "@jupyter-widgets/controls",
          "model_name": "ProgressStyleModel",
          "state": {
            "_view_name": "StyleView",
            "_model_name": "ProgressStyleModel",
            "description_width": "initial",
            "_view_module": "@jupyter-widgets/base",
            "_model_module_version": "1.5.0",
            "_view_count": null,
            "_view_module_version": "1.2.0",
            "bar_color": null,
            "_model_module": "@jupyter-widgets/controls"
          }
        },
        "ea9b4c0082ef4293b8329754288e2e91": {
          "model_module": "@jupyter-widgets/base",
          "model_name": "LayoutModel",
          "state": {
            "_view_name": "LayoutView",
            "grid_template_rows": null,
            "right": null,
            "justify_content": null,
            "_view_module": "@jupyter-widgets/base",
            "overflow": null,
            "_model_module_version": "1.2.0",
            "_view_count": null,
            "flex_flow": null,
            "width": null,
            "min_width": null,
            "border": null,
            "align_items": null,
            "bottom": null,
            "_model_module": "@jupyter-widgets/base",
            "top": null,
            "grid_column": null,
            "overflow_y": null,
            "overflow_x": null,
            "grid_auto_flow": null,
            "grid_area": null,
            "grid_template_columns": null,
            "flex": "2",
            "_model_name": "LayoutModel",
            "justify_items": null,
            "grid_row": null,
            "max_height": null,
            "align_content": null,
            "visibility": null,
            "align_self": null,
            "height": null,
            "min_height": null,
            "padding": null,
            "grid_auto_rows": null,
            "grid_gap": null,
            "max_width": null,
            "order": null,
            "_view_module_version": "1.2.0",
            "grid_template_areas": null,
            "object_position": null,
            "object_fit": null,
            "grid_auto_columns": null,
            "margin": null,
            "display": null,
            "left": null
          }
        },
        "becdba16d8c14b1eaed8034628671414": {
          "model_module": "@jupyter-widgets/controls",
          "model_name": "DescriptionStyleModel",
          "state": {
            "_view_name": "StyleView",
            "_model_name": "DescriptionStyleModel",
            "description_width": "",
            "_view_module": "@jupyter-widgets/base",
            "_model_module_version": "1.5.0",
            "_view_count": null,
            "_view_module_version": "1.2.0",
            "_model_module": "@jupyter-widgets/controls"
          }
        },
        "6a713e7e9d374be3b4c610d23bbed4ae": {
          "model_module": "@jupyter-widgets/base",
          "model_name": "LayoutModel",
          "state": {
            "_view_name": "LayoutView",
            "grid_template_rows": null,
            "right": null,
            "justify_content": null,
            "_view_module": "@jupyter-widgets/base",
            "overflow": null,
            "_model_module_version": "1.2.0",
            "_view_count": null,
            "flex_flow": null,
            "width": null,
            "min_width": null,
            "border": null,
            "align_items": null,
            "bottom": null,
            "_model_module": "@jupyter-widgets/base",
            "top": null,
            "grid_column": null,
            "overflow_y": null,
            "overflow_x": null,
            "grid_auto_flow": null,
            "grid_area": null,
            "grid_template_columns": null,
            "flex": null,
            "_model_name": "LayoutModel",
            "justify_items": null,
            "grid_row": null,
            "max_height": null,
            "align_content": null,
            "visibility": null,
            "align_self": null,
            "height": null,
            "min_height": null,
            "padding": null,
            "grid_auto_rows": null,
            "grid_gap": null,
            "max_width": null,
            "order": null,
            "_view_module_version": "1.2.0",
            "grid_template_areas": null,
            "object_position": null,
            "object_fit": null,
            "grid_auto_columns": null,
            "margin": null,
            "display": null,
            "left": null
          }
        },
        "d97e86ee24f94328ad01e06fee71cf46": {
          "model_module": "@jupyter-widgets/controls",
          "model_name": "HBoxModel",
          "state": {
            "_view_name": "HBoxView",
            "_dom_classes": [],
            "_model_name": "HBoxModel",
            "_view_module": "@jupyter-widgets/controls",
            "_model_module_version": "1.5.0",
            "_view_count": null,
            "_view_module_version": "1.5.0",
            "box_style": "",
            "layout": "IPY_MODEL_a9e79d1f8bbb4dd886bd43fabe9c5067",
            "_model_module": "@jupyter-widgets/controls",
            "children": [
              "IPY_MODEL_6fd130459b8f4553a27684a44ef40c6e",
              "IPY_MODEL_22280e67eafd480ea510b609d0fbc238"
            ]
          }
        },
        "a9e79d1f8bbb4dd886bd43fabe9c5067": {
          "model_module": "@jupyter-widgets/base",
          "model_name": "LayoutModel",
          "state": {
            "_view_name": "LayoutView",
            "grid_template_rows": null,
            "right": null,
            "justify_content": null,
            "_view_module": "@jupyter-widgets/base",
            "overflow": null,
            "_model_module_version": "1.2.0",
            "_view_count": null,
            "flex_flow": "row wrap",
            "width": "500px",
            "min_width": null,
            "border": null,
            "align_items": null,
            "bottom": null,
            "_model_module": "@jupyter-widgets/base",
            "top": null,
            "grid_column": null,
            "overflow_y": null,
            "overflow_x": null,
            "grid_auto_flow": null,
            "grid_area": null,
            "grid_template_columns": null,
            "flex": null,
            "_model_name": "LayoutModel",
            "justify_items": null,
            "grid_row": null,
            "max_height": null,
            "align_content": null,
            "visibility": null,
            "align_self": null,
            "height": null,
            "min_height": null,
            "padding": null,
            "grid_auto_rows": null,
            "grid_gap": null,
            "max_width": null,
            "order": null,
            "_view_module_version": "1.2.0",
            "grid_template_areas": null,
            "object_position": null,
            "object_fit": null,
            "grid_auto_columns": null,
            "margin": null,
            "display": "inline-flex",
            "left": null
          }
        },
        "6fd130459b8f4553a27684a44ef40c6e": {
          "model_module": "@jupyter-widgets/controls",
          "model_name": "FloatProgressModel",
          "state": {
            "_view_name": "ProgressView",
            "style": "IPY_MODEL_e609a5b515cf4f7e91f040a44de64f8a",
            "_dom_classes": [],
            "description": "Random Forest: 100%",
            "_model_name": "FloatProgressModel",
            "bar_style": "success",
            "max": 100,
            "_view_module": "@jupyter-widgets/controls",
            "_model_module_version": "1.5.0",
            "value": 100,
            "_view_count": null,
            "_view_module_version": "1.5.0",
            "orientation": "horizontal",
            "min": 0,
            "description_tooltip": null,
            "_model_module": "@jupyter-widgets/controls",
            "layout": "IPY_MODEL_4b01bffe558549d98c1778326beabc3e"
          }
        },
        "22280e67eafd480ea510b609d0fbc238": {
          "model_module": "@jupyter-widgets/controls",
          "model_name": "HTMLModel",
          "state": {
            "_view_name": "HTMLView",
            "style": "IPY_MODEL_2ae1c6af76014326b5a7689d0129e1ab",
            "_dom_classes": [],
            "description": "",
            "_model_name": "HTMLModel",
            "placeholder": "​",
            "_view_module": "@jupyter-widgets/controls",
            "_model_module_version": "1.5.0",
            "value": " 100/100 [00:04&lt;00:00, 24.51it/s]",
            "_view_count": null,
            "_view_module_version": "1.5.0",
            "description_tooltip": null,
            "_model_module": "@jupyter-widgets/controls",
            "layout": "IPY_MODEL_0bae6dfc7e8a40c7a1dbb291a0ee0585"
          }
        },
        "e609a5b515cf4f7e91f040a44de64f8a": {
          "model_module": "@jupyter-widgets/controls",
          "model_name": "ProgressStyleModel",
          "state": {
            "_view_name": "StyleView",
            "_model_name": "ProgressStyleModel",
            "description_width": "initial",
            "_view_module": "@jupyter-widgets/base",
            "_model_module_version": "1.5.0",
            "_view_count": null,
            "_view_module_version": "1.2.0",
            "bar_color": null,
            "_model_module": "@jupyter-widgets/controls"
          }
        },
        "4b01bffe558549d98c1778326beabc3e": {
          "model_module": "@jupyter-widgets/base",
          "model_name": "LayoutModel",
          "state": {
            "_view_name": "LayoutView",
            "grid_template_rows": null,
            "right": null,
            "justify_content": null,
            "_view_module": "@jupyter-widgets/base",
            "overflow": null,
            "_model_module_version": "1.2.0",
            "_view_count": null,
            "flex_flow": null,
            "width": null,
            "min_width": null,
            "border": null,
            "align_items": null,
            "bottom": null,
            "_model_module": "@jupyter-widgets/base",
            "top": null,
            "grid_column": null,
            "overflow_y": null,
            "overflow_x": null,
            "grid_auto_flow": null,
            "grid_area": null,
            "grid_template_columns": null,
            "flex": "2",
            "_model_name": "LayoutModel",
            "justify_items": null,
            "grid_row": null,
            "max_height": null,
            "align_content": null,
            "visibility": null,
            "align_self": null,
            "height": null,
            "min_height": null,
            "padding": null,
            "grid_auto_rows": null,
            "grid_gap": null,
            "max_width": null,
            "order": null,
            "_view_module_version": "1.2.0",
            "grid_template_areas": null,
            "object_position": null,
            "object_fit": null,
            "grid_auto_columns": null,
            "margin": null,
            "display": null,
            "left": null
          }
        },
        "2ae1c6af76014326b5a7689d0129e1ab": {
          "model_module": "@jupyter-widgets/controls",
          "model_name": "DescriptionStyleModel",
          "state": {
            "_view_name": "StyleView",
            "_model_name": "DescriptionStyleModel",
            "description_width": "",
            "_view_module": "@jupyter-widgets/base",
            "_model_module_version": "1.5.0",
            "_view_count": null,
            "_view_module_version": "1.2.0",
            "_model_module": "@jupyter-widgets/controls"
          }
        },
        "0bae6dfc7e8a40c7a1dbb291a0ee0585": {
          "model_module": "@jupyter-widgets/base",
          "model_name": "LayoutModel",
          "state": {
            "_view_name": "LayoutView",
            "grid_template_rows": null,
            "right": null,
            "justify_content": null,
            "_view_module": "@jupyter-widgets/base",
            "overflow": null,
            "_model_module_version": "1.2.0",
            "_view_count": null,
            "flex_flow": null,
            "width": null,
            "min_width": null,
            "border": null,
            "align_items": null,
            "bottom": null,
            "_model_module": "@jupyter-widgets/base",
            "top": null,
            "grid_column": null,
            "overflow_y": null,
            "overflow_x": null,
            "grid_auto_flow": null,
            "grid_area": null,
            "grid_template_columns": null,
            "flex": null,
            "_model_name": "LayoutModel",
            "justify_items": null,
            "grid_row": null,
            "max_height": null,
            "align_content": null,
            "visibility": null,
            "align_self": null,
            "height": null,
            "min_height": null,
            "padding": null,
            "grid_auto_rows": null,
            "grid_gap": null,
            "max_width": null,
            "order": null,
            "_view_module_version": "1.2.0",
            "grid_template_areas": null,
            "object_position": null,
            "object_fit": null,
            "grid_auto_columns": null,
            "margin": null,
            "display": null,
            "left": null
          }
        }
      }
    }
  },
  "cells": [
    {
      "cell_type": "markdown",
      "metadata": {
        "id": "XviorX1erKGJ"
      },
      "source": [
        "# Curvas ROC\n",
        "\n",
        "A Curva Característica de Operação do Receptor (Curva COR), ou, do inglês, Receiver Operating Characteristic Curve (ROC curve), ou, simplesmente, curva ROC, é uma representação gráfica que ilustra o desempenho (ou performance) de um sistema classificador binário à medida que o seu limiar de discriminação varia. A curva ROC é também conhecida como curva de característica de operação relativa, porque o seu critério de mudança é resultado da operação de duas características (PV e PF)."
      ]
    },
    {
      "cell_type": "markdown",
      "metadata": {
        "id": "gYPxHhk9Hdbo"
      },
      "source": [
        "![image.png](data:image/png;base64,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)"
      ]
    },
    {
      "cell_type": "markdown",
      "metadata": {
        "id": "g77StdxJTd0z"
      },
      "source": [
        "## Imports"
      ]
    },
    {
      "cell_type": "code",
      "metadata": {
        "id": "5Pynzk8WsVof"
      },
      "source": [
        "import numpy as np\n",
        "import pandas as pd\n",
        "import matplotlib.pyplot as plt\n",
        "import time\n",
        "\n",
        "from sklearn.impute import SimpleImputer\n",
        "from sklearn.preprocessing import LabelEncoder\n",
        "from sklearn.model_selection import train_test_split\n",
        "from sklearn.preprocessing import StandardScaler\n",
        "from sklearn.metrics import roc_curve, auc\n",
        "\n",
        "from sklearn.metrics import confusion_matrix\n",
        "from sklearn.linear_model import LogisticRegression\n",
        "from sklearn.neighbors import KNeighborsClassifier\n",
        "from sklearn.svm import SVC\n",
        "from sklearn.naive_bayes import GaussianNB\n",
        "from sklearn.tree import DecisionTreeClassifier\n",
        "from sklearn.ensemble import RandomForestClassifier\n",
        "    \n",
        "# from tqdm import tqdm\n",
        "from tqdm.notebook import tqdm"
      ],
      "execution_count": 1,
      "outputs": []
    },
    {
      "cell_type": "markdown",
      "metadata": {
        "id": "VMUTG-tX0TtY"
      },
      "source": [
        "## Carregando Base de Dados"
      ]
    },
    {
      "cell_type": "code",
      "metadata": {
        "colab": {
          "base_uri": "https://localhost:8080/"
        },
        "id": "pGYechQF0NLN",
        "outputId": "df9cc028-b716-436c-d4ef-b230faf507e6"
      },
      "source": [
        "!rm -r MLUD\n",
        "!git clone https://github.com/Crissky/MLUD.git"
      ],
      "execution_count": 2,
      "outputs": [
        {
          "output_type": "stream",
          "text": [
            "Cloning into 'MLUD'...\n",
            "remote: Enumerating objects: 347, done.\u001b[K\n",
            "remote: Counting objects: 100% (347/347), done.\u001b[K\n",
            "remote: Compressing objects: 100% (327/327), done.\u001b[K\n",
            "remote: Total 347 (delta 151), reused 62 (delta 6), pack-reused 0\u001b[K\n",
            "Receiving objects: 100% (347/347), 5.77 MiB | 10.35 MiB/s, done.\n",
            "Resolving deltas: 100% (151/151), done.\n"
          ],
          "name": "stdout"
        }
      ]
    },
    {
      "cell_type": "markdown",
      "metadata": {
        "id": "dkC8QahvvpS_"
      },
      "source": [
        "## Funções de Pré-Processamento\n",
        "\n",
        "Nessa aula, o vídeo mudou a maneira como são criadas as funções \"Compute ‘método’ Model\" e \"Compute ‘método’ Example\". Para facilitar a construção das funções, que são muito semelhantes, foi usada a abordagem de Orientação a Objetos.\n",
        "\n",
        "No vídeo não é utilizado herança efetivamente, pois ele usa as funções diretamente da Classe que seria a “PAI” no lugar no “self” ou “super()” para evitar a necessidade de instância-lá.\n",
        "\n",
        "Eu optei por usar as instâncias para realmente utilizar a herança. Outra mudança que fiz foi colocar a função “Compute Example” na Classe Pai (Classification Model), pois nos casos da Regressão Logística e do KNN, elas são idênticas.\n",
        "\n",
        "Já a Classe do SVM precisa reescrever a função “Compute Example”, pois sua função “Compute Model” tem um argumento a mais, sendo que a “Compute Example” chama a “Compute Model”.\n"
      ]
    },
    {
      "cell_type": "code",
      "metadata": {
        "id": "fwStz-ILvpTE"
      },
      "source": [
        "def loadDataset(filename, delimiter=';'):\n",
        "    baseDeDados = pd.read_csv(filename, delimiter=delimiter)\n",
        "    X = baseDeDados.iloc[:,:-1].values\n",
        "    y = baseDeDados.iloc[:,-1].values\n",
        "\n",
        "    return X, y, baseDeDados\n",
        "\n",
        "def fillMissingData(X, coluna):\n",
        "    imputer = SimpleImputer(missing_values=np.nan, strategy='median')\n",
        "    X[:,coluna:coluna + 1] = imputer.fit_transform(X[:,coluna:coluna + 1])\n",
        "\n",
        "    return X\n",
        "\n",
        "#só funciona se i = 0 ou i = ultima coluna\n",
        "def computeCategorization(X):\n",
        "    labelencoder_X = LabelEncoder()\n",
        "    X[:, 0] = labelencoder_X.fit_transform(X[:, 0])\n",
        "\n",
        "    #one hot encoding\n",
        "    D = pd.get_dummies(X[:,0]).values\n",
        "    \n",
        "    X = X[:,1:]\n",
        "    for ii in range(0, D.shape[1]):\n",
        "        X = np.insert(X, X.shape[1], D[:,ii], axis=1)\n",
        "    X = X[:,:X.shape[1] - 1]\n",
        "\n",
        "    return X\n",
        "\n",
        "def splitTrainTestSets(X, y, testSize):\n",
        "    XTrain, XTest, yTrain, yTest = train_test_split(X, y, test_size = testSize)\n",
        "\n",
        "    return XTrain, XTest, yTrain, yTest\n",
        "\n",
        "def computeScaling(X):\n",
        "    scale = StandardScaler()\n",
        "    X = scale.fit_transform(X)\n",
        "\n",
        "    return X, scale"
      ],
      "execution_count": 3,
      "outputs": []
    },
    {
      "cell_type": "code",
      "metadata": {
        "id": "BSmCRaj5uug5"
      },
      "source": [
        "def printAccuracy(confusion_matrix):\n",
        "    accuracy = getAccuracy(confusion_matrix)\n",
        "    print('Confusion Matrix:\\n', confusion_matrix)\n",
        "    print('Accuracy:', accuracy)\n",
        "\n",
        "def getAccuracy(confusion_matrix):\n",
        "    accuracy = (confusion_matrix[0][0] + confusion_matrix[1][1])/ confusion_matrix.sum()\n",
        "\n",
        "    return (accuracy * 100)\n",
        "\n",
        "def saveROCCurveForEachAlgorithm(roc_curve_list, class_name_list, title=\"Sem Título\"):\n",
        "    labels = list()\n",
        "    plt.figure(figsize=(12,9))\n",
        "\n",
        "    #Random Classifier\n",
        "    plt.plot([0,1], [0,1], alpha=0.7)\n",
        "    labels.append('Random Classifier')\n",
        "\n",
        "    #Perfect Classifier\n",
        "    plt.plot([0, 0.01, 1], [0, 0.99, 1], alpha=0.7)\n",
        "    labels.append('Perfect Classifier')\n",
        "    \n",
        "    for roc_curve, class_name in zip(roc_curve_list, class_name_list):\n",
        "        label = class_name + ' AUC:' + ' {0:.2f}'.format(roc_curve['area_under_cover'])\n",
        "        labels.append(label)\n",
        "        plt.plot(roc_curve['false_positive_rate'], roc_curve['true_positive_rate'], alpha = 0.7)\n",
        "    plt.legend(labels, loc='lower right')\n",
        "    plt.title(title)\n",
        "    plt.show()\n",
        "    "
      ],
      "execution_count": 4,
      "outputs": []
    },
    {
      "cell_type": "code",
      "metadata": {
        "id": "xiHOJujiyR5g"
      },
      "source": [
        "class ClassificationModel:\n",
        "    def predictModel(self, classifier, X):\n",
        "        return classifier.predict(X)\n",
        "\n",
        "    def evaluateModel(self, yPred, yTest):\n",
        "        confusionMatrix = confusion_matrix(yTest, yPred)\n",
        "\n",
        "        return confusionMatrix\n",
        "\n",
        "    def preprocessData(self, filename, delimiter=','):\n",
        "        X, y, csv = loadDataset(filename, delimiter)\n",
        "        X = fillMissingData(X, 2)\n",
        "        X = computeCategorization(X)\n",
        "        X = computeCategorization(X)\n",
        "        XTrain, XTest, yTrain, yTest = splitTrainTestSets(X, y, 0.15)\n",
        "        XTrain, XTrainScale = computeScaling(XTrain) # No vídeo está recebendo a tupla em uma única variável. Fazendo com que no classifier.fit, da função computeLogisticRegressionModel, o XTrain tenha que se passado desta maneira XTrain[0]\n",
        "        XTest, XTestScale = computeScaling(XTest)\n",
        "\n",
        "        return XTrain, XTest, yTrain, yTest, XTrainScale, XTestScale\n",
        "    \n",
        "    def computeModel(self, XTrain, yTrain):\n",
        "        pass\n",
        "\n",
        "    def computeExample(self, filename, delimiter=','):\n",
        "        XTrain, XTest, yTrain, yTest, XTrainScale, XTestScale = self.preprocessData(filename, delimiter)\n",
        "\n",
        "        classifier = self.computeModel(XTrain, yTrain)\n",
        "        yPred = self.predictModel(classifier, XTest)\n",
        "        roc_curve = self.getRocCurve(yPred, yTest)\n",
        "        confusion_matrix = self.evaluateModel(yPred, yTest)\n",
        "\n",
        "        return (confusion_matrix, roc_curve, classifier)\n",
        "\n",
        "    def getRocCurve(self, yPred, yTest):\n",
        "        falsePositiveRate, truePositiveRate, _ = roc_curve(yTest, yPred)\n",
        "        areaUnderCurve = auc(falsePositiveRate, truePositiveRate)\n",
        "\n",
        "        my_roc_curve = dict()\n",
        "        my_roc_curve['false_positive_rate'] = falsePositiveRate\n",
        "        my_roc_curve['true_positive_rate'] = truePositiveRate\n",
        "        my_roc_curve['area_under_cover'] = areaUnderCurve\n",
        "\n",
        "        return my_roc_curve"
      ],
      "execution_count": 5,
      "outputs": []
    },
    {
      "cell_type": "markdown",
      "metadata": {
        "id": "6BL8yueav0gl"
      },
      "source": [
        "## Regressão Logística"
      ]
    },
    {
      "cell_type": "code",
      "metadata": {
        "id": "sPUjICFWv0gr"
      },
      "source": [
        "class MyLogisticRegression(ClassificationModel):\n",
        "    def computeModel(self, XTrain, yTrain):\n",
        "        classifier = LogisticRegression(solver='lbfgs')\n",
        "        classifier.fit(XTrain, yTrain)\n",
        "        \n",
        "        return classifier"
      ],
      "execution_count": 6,
      "outputs": []
    },
    {
      "cell_type": "markdown",
      "metadata": {
        "id": "4y2feIUuNGeB"
      },
      "source": [
        "## K-NN"
      ]
    },
    {
      "cell_type": "code",
      "metadata": {
        "id": "22fZbLDKEIaQ"
      },
      "source": [
        "class KNN(ClassificationModel):\n",
        "    def computeModel(self, XTrain, yTrain):\n",
        "        classifier = KNeighborsClassifier(n_neighbors=5, p=1)\n",
        "        classifier.fit(XTrain, yTrain)\n",
        "    \n",
        "        return classifier"
      ],
      "execution_count": 7,
      "outputs": []
    },
    {
      "cell_type": "markdown",
      "metadata": {
        "id": "QZN8YU_L4t6w"
      },
      "source": [
        "## SVM"
      ]
    },
    {
      "cell_type": "code",
      "metadata": {
        "id": "deuJPr7C4x5_"
      },
      "source": [
        "class SVM(ClassificationModel):\n",
        "    def computeModel(self, XTrain, yTrain, k, d=0):\n",
        "        if (d <= 0):\n",
        "            classifier = SVC(kernel=k)\n",
        "        else:\n",
        "            classifier = SVC(kernel=k, degree=d)\n",
        "        classifier.fit(XTrain, yTrain)\n",
        "\n",
        "        return classifier\n",
        "\n",
        "    def computeExample(self, filename, kernel='linear', degree=0, delimiter=','):\n",
        "        XTrain, XTest, yTrain, yTest, XTrainScale, XTestScale = self.preprocessData(filename, delimiter)\n",
        "\n",
        "        classifier = self.computeModel(XTrain, yTrain, kernel, degree)\n",
        "        yPred = self.predictModel(classifier, XTest)\n",
        "        roc_curve = self.getRocCurve(yPred, yTest)\n",
        "        confusion_matrix = self.evaluateModel(yPred, yTest)\n",
        "\n",
        "        return (confusion_matrix, roc_curve, classifier)"
      ],
      "execution_count": 8,
      "outputs": []
    },
    {
      "cell_type": "markdown",
      "metadata": {
        "id": "wJKj_kscL-CP"
      },
      "source": [
        "## Naive Bayes"
      ]
    },
    {
      "cell_type": "code",
      "metadata": {
        "id": "e7u89QG-MA9q"
      },
      "source": [
        "class NaiveBayes(ClassificationModel):\n",
        "    def computeModel(self, XTrain, yTrain):\n",
        "        classifier = GaussianNB()\n",
        "        classifier.fit(XTrain, yTrain)\n",
        "\n",
        "        return classifier\n"
      ],
      "execution_count": 9,
      "outputs": []
    },
    {
      "cell_type": "markdown",
      "metadata": {
        "id": "L9djm7wIkC5y"
      },
      "source": [
        "## Decision Tree"
      ]
    },
    {
      "cell_type": "code",
      "metadata": {
        "id": "-IIrmAIDj49q"
      },
      "source": [
        "class DecisionTree(ClassificationModel):\n",
        "    def computeModel(self, XTrain, yTrain):\n",
        "        classifier = DecisionTreeClassifier(criterion='entropy')\n",
        "        classifier.fit(XTrain, yTrain)\n",
        "\n",
        "        return classifier\n"
      ],
      "execution_count": 10,
      "outputs": []
    },
    {
      "cell_type": "markdown",
      "metadata": {
        "id": "An2FJUAawIHl"
      },
      "source": [
        "## Random Forest"
      ]
    },
    {
      "cell_type": "code",
      "metadata": {
        "id": "v2vWOPhGwKMV"
      },
      "source": [
        "class RandomForest(ClassificationModel):\n",
        "    def computeModel(self, XTrain, yTrain):\n",
        "        classifier = RandomForestClassifier(n_estimators=10, criterion='entropy')\n",
        "        classifier.fit(XTrain, yTrain)\n",
        "\n",
        "        return classifier"
      ],
      "execution_count": 11,
      "outputs": []
    },
    {
      "cell_type": "markdown",
      "metadata": {
        "id": "d00MmgOm0DZq"
      },
      "source": [
        "## Comparando Regressão Logística, KNN, SVM e Naive Bayes\n",
        "\n",
        "O argumento \"class_arguments\" foi modificado para receber Listas no lugar de Tuplas, para evitar a necessidade do uso do IF quando o \"class_arguments\" possuir somente 1 \"argumento\"."
      ]
    },
    {
      "cell_type": "code",
      "metadata": {
        "id": "ANUYlnhQ61q5"
      },
      "source": [
        "def run_testing(n_loop, class_model, class_arguments, class_name=None, ncols=500, verbose=True):\n",
        "    arrayAcc = list()\n",
        "    arrayRocCurve = list()\n",
        "    arrayClassifier = list()\n",
        "    model = class_model()\n",
        "    if(not class_name):\n",
        "        class_name = type(class_model()).__name__\n",
        "    for i in tqdm(range(n_loop), desc=class_name, ncols=ncols):        \n",
        "        confunsionMatrix, rocCurve, classifier  = model.computeExample(*class_arguments)\n",
        "        \n",
        "        arrayAcc.append(getAccuracy(confunsionMatrix))\n",
        "        arrayRocCurve.append(rocCurve)\n",
        "        arrayClassifier.append(classifier)\n",
        "    \n",
        "    if(verbose):\n",
        "        print('Média da %s: %.2f' % (class_name, np.mean(arrayAcc) ) )\n",
        "        print('Desvio Padrão da %s: %.2f\\n' % (class_name, np.std(arrayAcc) ) )        \n",
        "\n",
        "    d = dict()\n",
        "\n",
        "    d['confusion_matrixes'] = arrayAcc\n",
        "    d['roc_curves'] = arrayRocCurve\n",
        "    d['classifiers'] = arrayClassifier\n",
        "    d['class_name'] = class_name\n",
        "\n",
        "    return d\n"
      ],
      "execution_count": 12,
      "outputs": []
    },
    {
      "cell_type": "code",
      "metadata": {
        "id": "P502gcgbZMYp"
      },
      "source": [
        "def getBetterRocCurves(compute_example_list):\n",
        "    roc_curve_list = list()\n",
        "    class_name_list = list()\n",
        "    for example in compute_example_list:\n",
        "        index_max_accuracy = example['confusion_matrixes'].index(max(example['confusion_matrixes']))\n",
        "        roc_curve_list.append(example['roc_curves'][index_max_accuracy])\n",
        "        class_name_list.append(example['class_name'])\n",
        "    \n",
        "    return roc_curve_list, class_name_list"
      ],
      "execution_count": 13,
      "outputs": []
    },
    {
      "cell_type": "code",
      "metadata": {
        "colab": {
          "base_uri": "https://localhost:8080/",
          "height": 617,
          "referenced_widgets": [
            "53a4bc017c544a009c281bf5ca5b1936",
            "038ee2bebaaa44ffb4accbc56421db88",
            "ae23ecfa456a4a368315142d3701184f",
            "ecd1206ef1754120ba248c3927777091",
            "f5ae608540f0418d83a9775c1d231cb5",
            "6ab639e643f34fc2943777c163c63450",
            "a1eb34eee53947a282189b9862c14233",
            "2999bbeeb3064971a187466bc61a723c",
            "8c61023a10b84709af11a1b2fd306daf",
            "a1f119f6fa444eab9565d2f4b6450c6f",
            "b748a4b0e48c4710a81ea06414450436",
            "18ef41d5153e4ef383a62433cf960abd",
            "32d6860bc7e944519df43f060294e87a",
            "3feb89e9ef6f447892564e4ae6393bd7",
            "cf12820993b94d43bb7d3e2d042edaed",
            "f2b9fb40529d4e79ae38ad4c3d1056fa",
            "92c1308a005c4827a962ba90ffae8f3c",
            "9d5ffc50379b47c5ac7c9105df06b538",
            "90d24e7041d34a8982fdb0d8ca173e2a",
            "3fe10c17f05744a3a937faa4664ee7a3",
            "c8fce2ccbc6c46a68d45380352c6b26e",
            "0be5742a253e4bebb271ed9376455cdd",
            "aa35da7eefb243e486c22b177f07771f",
            "3cb90cce00b84205875fd1d45bf2a1cb",
            "ecc0a0bba2fb4fcba6b61713d0384520",
            "11856054587a47229c71ccb17bbe9869",
            "1df66c94b9e34e118d1c3882e32bc734",
            "c90b6d5266314160b5f67d052b8cac2d",
            "eb2aa04935ea4522b244fc834903be06",
            "9689a0df7a7549b89f59fd90842038e9",
            "f3682a629f8342cbbd9725c93c764576",
            "2d8f690308294fe48ef9023b746eba96",
            "8bed5b4e5fc946efbd6bdd25b4c0aa7d",
            "a5575bc8acbc4ff0ac02c133cd3b006f",
            "033444fe35f24cd3b6c7dd91e75e4033",
            "10f4bd8047f44d4ab01a5969eb2885c3",
            "a00b871162a24ac5b7ec0b42252123c1",
            "ea9b4c0082ef4293b8329754288e2e91",
            "becdba16d8c14b1eaed8034628671414",
            "6a713e7e9d374be3b4c610d23bbed4ae",
            "d97e86ee24f94328ad01e06fee71cf46",
            "a9e79d1f8bbb4dd886bd43fabe9c5067",
            "6fd130459b8f4553a27684a44ef40c6e",
            "22280e67eafd480ea510b609d0fbc238",
            "e609a5b515cf4f7e91f040a44de64f8a",
            "4b01bffe558549d98c1778326beabc3e",
            "2ae1c6af76014326b5a7689d0129e1ab",
            "0bae6dfc7e8a40c7a1dbb291a0ee0585"
          ]
        },
        "id": "IeS6Ra2XEuTv",
        "outputId": "1635af62-540c-4a5a-f32a-072271916d9c"
      },
      "source": [
        "total_loops = 100\n",
        "ncols=500\n",
        "\n",
        "rlArray = run_testing(total_loops, MyLogisticRegression, ['MLUD/Aula13/titanic.csv'], 'Regressão Linear', ncols)\n",
        "knnArray = run_testing(total_loops, KNN, ['MLUD/Aula13/titanic.csv'], 'KNN', ncols)\n",
        "svmGaussArray = run_testing(total_loops, SVM, ['MLUD/Aula13/titanic.csv', 'rbf'], 'SVM Gaussiana', ncols)\n",
        "nbArray = run_testing(total_loops, NaiveBayes, ['MLUD/Aula13/titanic.csv'], 'Naive Bayes', ncols)\n",
        "dtArray = run_testing(total_loops, DecisionTree, ['MLUD/Aula13/titanic.csv'], 'Decision Tree', ncols)\n",
        "rfArray = run_testing(total_loops, RandomForest, ['MLUD/Aula13/titanic.csv'], 'Random Forest', ncols)"
      ],
      "execution_count": 14,
      "outputs": [
        {
          "output_type": "display_data",
          "data": {
            "application/vnd.jupyter.widget-view+json": {
              "model_id": "53a4bc017c544a009c281bf5ca5b1936",
              "version_minor": 0,
              "version_major": 2
            },
            "text/plain": [
              "HBox(children=(FloatProgress(value=0.0, description='Regressão Linear', layout=Layout(flex='2'), style=Progres…"
            ]
          },
          "metadata": {
            "tags": []
          }
        },
        {
          "output_type": "stream",
          "text": [
            "\n",
            "Média da Regressão Linear: 79.99\n",
            "Desvio Padrão da Regressão Linear: 3.71\n",
            "\n"
          ],
          "name": "stdout"
        },
        {
          "output_type": "display_data",
          "data": {
            "application/vnd.jupyter.widget-view+json": {
              "model_id": "8c61023a10b84709af11a1b2fd306daf",
              "version_minor": 0,
              "version_major": 2
            },
            "text/plain": [
              "HBox(children=(FloatProgress(value=0.0, description='KNN', layout=Layout(flex='2'), style=ProgressStyle(descri…"
            ]
          },
          "metadata": {
            "tags": []
          }
        },
        {
          "output_type": "stream",
          "text": [
            "\n",
            "Média da KNN: 79.81\n",
            "Desvio Padrão da KNN: 3.55\n",
            "\n"
          ],
          "name": "stdout"
        },
        {
          "output_type": "display_data",
          "data": {
            "application/vnd.jupyter.widget-view+json": {
              "model_id": "92c1308a005c4827a962ba90ffae8f3c",
              "version_minor": 0,
              "version_major": 2
            },
            "text/plain": [
              "HBox(children=(FloatProgress(value=0.0, description='SVM Gaussiana', layout=Layout(flex='2'), style=ProgressSt…"
            ]
          },
          "metadata": {
            "tags": []
          }
        },
        {
          "output_type": "stream",
          "text": [
            "\n",
            "Média da SVM Gaussiana: 82.84\n",
            "Desvio Padrão da SVM Gaussiana: 2.96\n",
            "\n"
          ],
          "name": "stdout"
        },
        {
          "output_type": "display_data",
          "data": {
            "application/vnd.jupyter.widget-view+json": {
              "model_id": "ecc0a0bba2fb4fcba6b61713d0384520",
              "version_minor": 0,
              "version_major": 2
            },
            "text/plain": [
              "HBox(children=(FloatProgress(value=0.0, description='Naive Bayes', layout=Layout(flex='2'), style=ProgressStyl…"
            ]
          },
          "metadata": {
            "tags": []
          }
        },
        {
          "output_type": "stream",
          "text": [
            "\n",
            "Média da Naive Bayes: 77.29\n",
            "Desvio Padrão da Naive Bayes: 3.74\n",
            "\n"
          ],
          "name": "stdout"
        },
        {
          "output_type": "display_data",
          "data": {
            "application/vnd.jupyter.widget-view+json": {
              "model_id": "8bed5b4e5fc946efbd6bdd25b4c0aa7d",
              "version_minor": 0,
              "version_major": 2
            },
            "text/plain": [
              "HBox(children=(FloatProgress(value=0.0, description='Decision Tree', layout=Layout(flex='2'), style=ProgressSt…"
            ]
          },
          "metadata": {
            "tags": []
          }
        },
        {
          "output_type": "stream",
          "text": [
            "\n",
            "Média da Decision Tree: 67.93\n",
            "Desvio Padrão da Decision Tree: 7.21\n",
            "\n"
          ],
          "name": "stdout"
        },
        {
          "output_type": "display_data",
          "data": {
            "application/vnd.jupyter.widget-view+json": {
              "model_id": "d97e86ee24f94328ad01e06fee71cf46",
              "version_minor": 0,
              "version_major": 2
            },
            "text/plain": [
              "HBox(children=(FloatProgress(value=0.0, description='Random Forest', layout=Layout(flex='2'), style=ProgressSt…"
            ]
          },
          "metadata": {
            "tags": []
          }
        },
        {
          "output_type": "stream",
          "text": [
            "\n",
            "Média da Random Forest: 73.64\n",
            "Desvio Padrão da Random Forest: 5.06\n",
            "\n"
          ],
          "name": "stdout"
        }
      ]
    },
    {
      "cell_type": "code",
      "metadata": {
        "colab": {
          "base_uri": "https://localhost:8080/",
          "height": 458
        },
        "id": "Da-MHIgOEuT9",
        "outputId": "3ffc9557-2fe4-4b1e-e9cd-1930dc3b83dd"
      },
      "source": [
        "plt.figure(figsize=(20, 7))\n",
        "plt.plot(rlArray['confusion_matrixes'], 'r-', label='Regressão Linear')\n",
        "plt.plot(knnArray['confusion_matrixes'], 'g--', label='KNN')\n",
        "plt.plot(svmGaussArray['confusion_matrixes'], 'ko', label='SVM Gaussiana')\n",
        "plt.plot(nbArray['confusion_matrixes'], 'mv', label='Naive Bayes')\n",
        "plt.plot(dtArray['confusion_matrixes'], 'b^', label='Decision Tree')\n",
        "plt.plot(rfArray['confusion_matrixes'], 'yh', label='Random Forest')\n",
        "plt.xlabel('Tentativas')\n",
        "plt.ylabel('Acurácia')\n",
        "plt.title('Comparação das Acurácias')\n",
        "plt.legend()\n",
        "plt.show()"
      ],
      "execution_count": 15,
      "outputs": [
        {
          "output_type": "display_data",
          "data": {
            "image/png": "[encoded data removed]",
            "text/plain": [
              "<Figure size 1440x504 with 1 Axes>"
            ]
          },
          "metadata": {
            "tags": [],
            "needs_background": "light"
          }
        }
      ]
    },
    {
      "cell_type": "code",
      "metadata": {
        "id": "z-qM5Nc-sE0-"
      },
      "source": [
        "roc_curve_list, class_name_list = getBetterRocCurves([rlArray, knnArray, svmGaussArray, nbArray, dtArray, rfArray])"
      ],
      "execution_count": 16,
      "outputs": []
    },
    {
      "cell_type": "code",
      "metadata": {
        "colab": {
          "base_uri": "https://localhost:8080/",
          "height": 553
        },
        "id": "e-BkhN9-v2on",
        "outputId": "27453134-21d0-4678-b0d8-32fbdf1088f4"
      },
      "source": [
        "saveROCCurveForEachAlgorithm(roc_curve_list, class_name_list)"
      ],
      "execution_count": 17,
      "outputs": [
        {
          "output_type": "display_data",
          "data": {
            "image/png": "[encoded data removed]",
            "text/plain": [
              "<Figure size 864x648 with 1 Axes>"
            ]
          },
          "metadata": {
            "tags": [],
            "needs_background": "light"
          }
        }
      ]
    }
  ]
}