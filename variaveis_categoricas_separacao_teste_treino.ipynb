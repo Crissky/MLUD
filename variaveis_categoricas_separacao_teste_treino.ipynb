{
  "nbformat": 4,
  "nbformat_minor": 0,
  "metadata": {
    "colab": {
      "name": "variaveis_categoricas_separacao_teste_treino.ipynb",
      "provenance": [],
      "collapsed_sections": [],
      "toc_visible": true,
      "authorship_tag": "ABX9TyOrTz1CPQjxhXZqV3WkA1Sd"
    },
    "kernelspec": {
      "name": "python3",
      "display_name": "Python 3"
    }
  },
  "cells": [
    {
      "cell_type": "markdown",
      "metadata": {
        "id": "WyT4Ch19rHkX"
      },
      "source": [
        "# Variáveis Categóricas e Separação em Teste e Treino"
      ]
    },
    {
      "cell_type": "markdown",
      "metadata": {
        "id": "oZsbUG2ehusW"
      },
      "source": [
        "## Imports"
      ]
    },
    {
      "cell_type": "code",
      "metadata": {
        "id": "hfRdP0sfh07Y"
      },
      "source": [
        "import numpy as np\n",
        "import pandas as pd\n",
        "\n",
        "from sklearn.preprocessing import LabelEncoder\n",
        "from sklearn.model_selection import train_test_split"
      ],
      "execution_count": 1,
      "outputs": []
    },
    {
      "cell_type": "markdown",
      "metadata": {
        "id": "gZWYE2bOh6Jb"
      },
      "source": [
        "## Carregando Base de Dados"
      ]
    },
    {
      "cell_type": "code",
      "metadata": {
        "id": "7gOwax0Ph4TU",
        "outputId": "0a9be5ea-c257-4be2-e8a0-80d4617f19c1",
        "colab": {
          "base_uri": "https://localhost:8080/"
        }
      },
      "source": [
        "!git clone https://github.com/Crissky/MLUD.git"
      ],
      "execution_count": 2,
      "outputs": [
        {
          "output_type": "stream",
          "text": [
            "fatal: destination path 'MLUD' already exists and is not an empty directory.\n"
          ],
          "name": "stdout"
        }
      ]
    },
    {
      "cell_type": "code",
      "metadata": {
        "id": "b5l0KZRUiFzE"
      },
      "source": [
        "dataset = pd.read_csv('MLUD/Aula 02/admission.csv', delimiter=';')"
      ],
      "execution_count": 3,
      "outputs": []
    },
    {
      "cell_type": "markdown",
      "metadata": {
        "id": "EIum_p0oiL3f"
      },
      "source": [
        "## Visualizando os Dados"
      ]
    },
    {
      "cell_type": "code",
      "metadata": {
        "id": "Lr8z0vnoiIRk",
        "outputId": "3fe63089-3d15-496a-b090-ae4777b3d7d0",
        "colab": {
          "base_uri": "https://localhost:8080/",
          "height": 204
        }
      },
      "source": [
        "dataset.head()"
      ],
      "execution_count": 4,
      "outputs": [
        {
          "output_type": "execute_result",
          "data": {
            "text/html": [
              "<div>\n",
              "<style scoped>\n",
              "    .dataframe tbody tr th:only-of-type {\n",
              "        vertical-align: middle;\n",
              "    }\n",
              "\n",
              "    .dataframe tbody tr th {\n",
              "        vertical-align: top;\n",
              "    }\n",
              "\n",
              "    .dataframe thead th {\n",
              "        text-align: right;\n",
              "    }\n",
              "</style>\n",
              "<table border=\"1\" class=\"dataframe\">\n",
              "  <thead>\n",
              "    <tr style=\"text-align: right;\">\n",
              "      <th></th>\n",
              "      <th>Name</th>\n",
              "      <th>GRE Score</th>\n",
              "      <th>TOEFL Score</th>\n",
              "      <th>University Rating</th>\n",
              "      <th>SOP</th>\n",
              "      <th>LOR</th>\n",
              "      <th>CGPA</th>\n",
              "      <th>Research</th>\n",
              "      <th>Approval</th>\n",
              "    </tr>\n",
              "  </thead>\n",
              "  <tbody>\n",
              "    <tr>\n",
              "      <th>0</th>\n",
              "      <td>Lucas</td>\n",
              "      <td>337</td>\n",
              "      <td>118</td>\n",
              "      <td>4</td>\n",
              "      <td>4.5</td>\n",
              "      <td>4.5</td>\n",
              "      <td>9.65</td>\n",
              "      <td>1</td>\n",
              "      <td>1</td>\n",
              "    </tr>\n",
              "    <tr>\n",
              "      <th>1</th>\n",
              "      <td>Ana</td>\n",
              "      <td>324</td>\n",
              "      <td>107</td>\n",
              "      <td>4</td>\n",
              "      <td>4.0</td>\n",
              "      <td>4.5</td>\n",
              "      <td>8.87</td>\n",
              "      <td>1</td>\n",
              "      <td>1</td>\n",
              "    </tr>\n",
              "    <tr>\n",
              "      <th>2</th>\n",
              "      <td>Jose</td>\n",
              "      <td>316</td>\n",
              "      <td>104</td>\n",
              "      <td>3</td>\n",
              "      <td>3.0</td>\n",
              "      <td>3.5</td>\n",
              "      <td>8.00</td>\n",
              "      <td>1</td>\n",
              "      <td>1</td>\n",
              "    </tr>\n",
              "    <tr>\n",
              "      <th>3</th>\n",
              "      <td>Carlos</td>\n",
              "      <td>322</td>\n",
              "      <td>110</td>\n",
              "      <td>3</td>\n",
              "      <td>3.5</td>\n",
              "      <td>2.5</td>\n",
              "      <td>8.67</td>\n",
              "      <td>1</td>\n",
              "      <td>1</td>\n",
              "    </tr>\n",
              "    <tr>\n",
              "      <th>4</th>\n",
              "      <td>Zileide</td>\n",
              "      <td>314</td>\n",
              "      <td>103</td>\n",
              "      <td>2</td>\n",
              "      <td>2.0</td>\n",
              "      <td>3.0</td>\n",
              "      <td>8.21</td>\n",
              "      <td>0</td>\n",
              "      <td>0</td>\n",
              "    </tr>\n",
              "  </tbody>\n",
              "</table>\n",
              "</div>"
            ],
            "text/plain": [
              "      Name  GRE Score  TOEFL Score  ...  CGPA  Research  Approval\n",
              "0    Lucas        337          118  ...  9.65         1         1\n",
              "1      Ana        324          107  ...  8.87         1         1\n",
              "2     Jose        316          104  ...  8.00         1         1\n",
              "3   Carlos        322          110  ...  8.67         1         1\n",
              "4  Zileide        314          103  ...  8.21         0         0\n",
              "\n",
              "[5 rows x 9 columns]"
            ]
          },
          "metadata": {
            "tags": []
          },
          "execution_count": 4
        }
      ]
    },
    {
      "cell_type": "code",
      "metadata": {
        "id": "-kv3EgGWikBj",
        "outputId": "5cf8d2c4-589e-4375-aa48-00a5cbcd7efd",
        "colab": {
          "base_uri": "https://localhost:8080/"
        }
      },
      "source": [
        "X = dataset.iloc[:,:-1].values        #Pegando somente as variáveis independentes\n",
        "\n",
        "print(X)"
      ],
      "execution_count": 5,
      "outputs": [
        {
          "output_type": "stream",
          "text": [
            "[['Lucas' 337 118 4 4.5 4.5 9.65 1]\n",
            " ['Ana' 324 107 4 4.0 4.5 8.87 1]\n",
            " ['Jose' 316 104 3 3.0 3.5 8.0 1]\n",
            " ['Carlos' 322 110 3 3.5 2.5 8.67 1]\n",
            " ['Zileide' 314 103 2 2.0 3.0 8.21 0]\n",
            " ['Joana' 330 115 5 4.5 3.0 9.34 1]\n",
            " ['Davi' 321 109 3 3.0 4.0 8.2 1]\n",
            " ['Daniel' 308 101 2 3.0 4.0 7.9 0]\n",
            " ['Marcelo' 302 102 1 2.0 1.5 8.0 0]]\n"
          ],
          "name": "stdout"
        }
      ]
    },
    {
      "cell_type": "code",
      "metadata": {
        "id": "U30WEK6FiuPs",
        "outputId": "e93238b8-3859-4784-97f0-4e8fa32dc818",
        "colab": {
          "base_uri": "https://localhost:8080/"
        }
      },
      "source": [
        "y = dataset.iloc[:,-1].values        #Pegando somente as variáveis dependentes\n",
        "\n",
        "print(y)"
      ],
      "execution_count": 6,
      "outputs": [
        {
          "output_type": "stream",
          "text": [
            "[1 1 1 1 0 1 1 0 0]\n"
          ],
          "name": "stdout"
        }
      ]
    },
    {
      "cell_type": "markdown",
      "metadata": {
        "id": "O6rofbfqlWkE"
      },
      "source": [
        "## Transformando os Nomes em Números"
      ]
    },
    {
      "cell_type": "code",
      "metadata": {
        "id": "-lqgIundkhfb",
        "outputId": "186be93f-d048-48f8-faaf-973989d52b4b",
        "colab": {
          "base_uri": "https://localhost:8080/"
        }
      },
      "source": [
        "labelencoder_X = LabelEncoder()\n",
        "X[:,0] = labelencoder_X.fit_transform(X[:,0])\n",
        "\n",
        "print(X)"
      ],
      "execution_count": 7,
      "outputs": [
        {
          "output_type": "stream",
          "text": [
            "[[6 337 118 4 4.5 4.5 9.65 1]\n",
            " [0 324 107 4 4.0 4.5 8.87 1]\n",
            " [5 316 104 3 3.0 3.5 8.0 1]\n",
            " [1 322 110 3 3.5 2.5 8.67 1]\n",
            " [8 314 103 2 2.0 3.0 8.21 0]\n",
            " [4 330 115 5 4.5 3.0 9.34 1]\n",
            " [3 321 109 3 3.0 4.0 8.2 1]\n",
            " [2 308 101 2 3.0 4.0 7.9 0]\n",
            " [7 302 102 1 2.0 1.5 8.0 0]]\n"
          ],
          "name": "stdout"
        }
      ]
    },
    {
      "cell_type": "markdown",
      "metadata": {
        "id": "UOClaVkgnXl6"
      },
      "source": [
        "### Transformando os Labels Numéricos para One-Hot Encoding\n",
        "\n",
        "One-Hot Encoding: uma lista de zeros e uns para que os Labels (Numéricos) não influenciem o treinamento."
      ]
    },
    {
      "cell_type": "code",
      "metadata": {
        "id": "erCBeg6jl9iH",
        "outputId": "1845eb31-7f87-422e-98a2-9d195c81534f",
        "colab": {
          "base_uri": "https://localhost:8080/",
          "height": 328
        }
      },
      "source": [
        "D = pd.get_dummies(X[:,0])        # Criando o One-Hot Encoding com o Pandas\n",
        "\n",
        "D"
      ],
      "execution_count": 8,
      "outputs": [
        {
          "output_type": "execute_result",
          "data": {
            "text/html": [
              "<div>\n",
              "<style scoped>\n",
              "    .dataframe tbody tr th:only-of-type {\n",
              "        vertical-align: middle;\n",
              "    }\n",
              "\n",
              "    .dataframe tbody tr th {\n",
              "        vertical-align: top;\n",
              "    }\n",
              "\n",
              "    .dataframe thead th {\n",
              "        text-align: right;\n",
              "    }\n",
              "</style>\n",
              "<table border=\"1\" class=\"dataframe\">\n",
              "  <thead>\n",
              "    <tr style=\"text-align: right;\">\n",
              "      <th></th>\n",
              "      <th>0</th>\n",
              "      <th>1</th>\n",
              "      <th>2</th>\n",
              "      <th>3</th>\n",
              "      <th>4</th>\n",
              "      <th>5</th>\n",
              "      <th>6</th>\n",
              "      <th>7</th>\n",
              "      <th>8</th>\n",
              "    </tr>\n",
              "  </thead>\n",
              "  <tbody>\n",
              "    <tr>\n",
              "      <th>0</th>\n",
              "      <td>0</td>\n",
              "      <td>0</td>\n",
              "      <td>0</td>\n",
              "      <td>0</td>\n",
              "      <td>0</td>\n",
              "      <td>0</td>\n",
              "      <td>1</td>\n",
              "      <td>0</td>\n",
              "      <td>0</td>\n",
              "    </tr>\n",
              "    <tr>\n",
              "      <th>1</th>\n",
              "      <td>1</td>\n",
              "      <td>0</td>\n",
              "      <td>0</td>\n",
              "      <td>0</td>\n",
              "      <td>0</td>\n",
              "      <td>0</td>\n",
              "      <td>0</td>\n",
              "      <td>0</td>\n",
              "      <td>0</td>\n",
              "    </tr>\n",
              "    <tr>\n",
              "      <th>2</th>\n",
              "      <td>0</td>\n",
              "      <td>0</td>\n",
              "      <td>0</td>\n",
              "      <td>0</td>\n",
              "      <td>0</td>\n",
              "      <td>1</td>\n",
              "      <td>0</td>\n",
              "      <td>0</td>\n",
              "      <td>0</td>\n",
              "    </tr>\n",
              "    <tr>\n",
              "      <th>3</th>\n",
              "      <td>0</td>\n",
              "      <td>1</td>\n",
              "      <td>0</td>\n",
              "      <td>0</td>\n",
              "      <td>0</td>\n",
              "      <td>0</td>\n",
              "      <td>0</td>\n",
              "      <td>0</td>\n",
              "      <td>0</td>\n",
              "    </tr>\n",
              "    <tr>\n",
              "      <th>4</th>\n",
              "      <td>0</td>\n",
              "      <td>0</td>\n",
              "      <td>0</td>\n",
              "      <td>0</td>\n",
              "      <td>0</td>\n",
              "      <td>0</td>\n",
              "      <td>0</td>\n",
              "      <td>0</td>\n",
              "      <td>1</td>\n",
              "    </tr>\n",
              "    <tr>\n",
              "      <th>5</th>\n",
              "      <td>0</td>\n",
              "      <td>0</td>\n",
              "      <td>0</td>\n",
              "      <td>0</td>\n",
              "      <td>1</td>\n",
              "      <td>0</td>\n",
              "      <td>0</td>\n",
              "      <td>0</td>\n",
              "      <td>0</td>\n",
              "    </tr>\n",
              "    <tr>\n",
              "      <th>6</th>\n",
              "      <td>0</td>\n",
              "      <td>0</td>\n",
              "      <td>0</td>\n",
              "      <td>1</td>\n",
              "      <td>0</td>\n",
              "      <td>0</td>\n",
              "      <td>0</td>\n",
              "      <td>0</td>\n",
              "      <td>0</td>\n",
              "    </tr>\n",
              "    <tr>\n",
              "      <th>7</th>\n",
              "      <td>0</td>\n",
              "      <td>0</td>\n",
              "      <td>1</td>\n",
              "      <td>0</td>\n",
              "      <td>0</td>\n",
              "      <td>0</td>\n",
              "      <td>0</td>\n",
              "      <td>0</td>\n",
              "      <td>0</td>\n",
              "    </tr>\n",
              "    <tr>\n",
              "      <th>8</th>\n",
              "      <td>0</td>\n",
              "      <td>0</td>\n",
              "      <td>0</td>\n",
              "      <td>0</td>\n",
              "      <td>0</td>\n",
              "      <td>0</td>\n",
              "      <td>0</td>\n",
              "      <td>1</td>\n",
              "      <td>0</td>\n",
              "    </tr>\n",
              "  </tbody>\n",
              "</table>\n",
              "</div>"
            ],
            "text/plain": [
              "   0  1  2  3  4  5  6  7  8\n",
              "0  0  0  0  0  0  0  1  0  0\n",
              "1  1  0  0  0  0  0  0  0  0\n",
              "2  0  0  0  0  0  1  0  0  0\n",
              "3  0  1  0  0  0  0  0  0  0\n",
              "4  0  0  0  0  0  0  0  0  1\n",
              "5  0  0  0  0  1  0  0  0  0\n",
              "6  0  0  0  1  0  0  0  0  0\n",
              "7  0  0  1  0  0  0  0  0  0\n",
              "8  0  0  0  0  0  0  0  1  0"
            ]
          },
          "metadata": {
            "tags": []
          },
          "execution_count": 8
        }
      ]
    },
    {
      "cell_type": "code",
      "metadata": {
        "id": "0yzpxy1ToQC-",
        "outputId": "591a34b2-91d3-47d4-8357-9bcd274175e8",
        "colab": {
          "base_uri": "https://localhost:8080/"
        }
      },
      "source": [
        "X = X[:, 1:]                                # Retirando os Labels Numéricos\n",
        "X = np.insert(X, 0, D.values, axis=1)       # Inserindo o One-Hot Encoding em X\n",
        "\n",
        "X"
      ],
      "execution_count": 9,
      "outputs": [
        {
          "output_type": "execute_result",
          "data": {
            "text/plain": [
              "array([[0, 1, 0, 0, 0, 0, 0, 0, 0, 337, 118, 4, 4.5, 4.5, 9.65, 1],\n",
              "       [0, 0, 0, 1, 0, 0, 0, 0, 0, 324, 107, 4, 4.0, 4.5, 8.87, 1],\n",
              "       [0, 0, 0, 0, 0, 0, 0, 1, 0, 316, 104, 3, 3.0, 3.5, 8.0, 1],\n",
              "       [0, 0, 0, 0, 0, 0, 1, 0, 0, 322, 110, 3, 3.5, 2.5, 8.67, 1],\n",
              "       [0, 0, 0, 0, 0, 1, 0, 0, 0, 314, 103, 2, 2.0, 3.0, 8.21, 0],\n",
              "       [0, 0, 1, 0, 0, 0, 0, 0, 0, 330, 115, 5, 4.5, 3.0, 9.34, 1],\n",
              "       [1, 0, 0, 0, 0, 0, 0, 0, 0, 321, 109, 3, 3.0, 4.0, 8.2, 1],\n",
              "       [0, 0, 0, 0, 0, 0, 0, 0, 1, 308, 101, 2, 3.0, 4.0, 7.9, 0],\n",
              "       [0, 0, 0, 0, 1, 0, 0, 0, 0, 302, 102, 1, 2.0, 1.5, 8.0, 0]],\n",
              "      dtype=object)"
            ]
          },
          "metadata": {
            "tags": []
          },
          "execution_count": 9
        }
      ]
    },
    {
      "cell_type": "markdown",
      "metadata": {
        "id": "OyVOsoVjp-tY"
      },
      "source": [
        "## Dividindo a Base de Dados em Treino e Teste"
      ]
    },
    {
      "cell_type": "code",
      "metadata": {
        "id": "Ilk1TCkooq19"
      },
      "source": [
        "X_train, X_test, y_train, y_test = train_test_split(X, y, test_size=0.2)"
      ],
      "execution_count": 10,
      "outputs": []
    },
    {
      "cell_type": "code",
      "metadata": {
        "id": "2vFjJuG5ql5V",
        "outputId": "afa8ccaf-45f4-4a0e-d59e-f7b13fcc638a",
        "colab": {
          "base_uri": "https://localhost:8080/"
        }
      },
      "source": [
        "print(X_train)"
      ],
      "execution_count": 11,
      "outputs": [
        {
          "output_type": "stream",
          "text": [
            "[[0 0 0 1 0 0 0 0 0 324 107 4 4.0 4.5 8.87 1]\n",
            " [1 0 0 0 0 0 0 0 0 321 109 3 3.0 4.0 8.2 1]\n",
            " [0 0 0 0 0 0 0 1 0 316 104 3 3.0 3.5 8.0 1]\n",
            " [0 1 0 0 0 0 0 0 0 337 118 4 4.5 4.5 9.65 1]\n",
            " [0 0 0 0 0 0 1 0 0 322 110 3 3.5 2.5 8.67 1]\n",
            " [0 0 1 0 0 0 0 0 0 330 115 5 4.5 3.0 9.34 1]\n",
            " [0 0 0 0 1 0 0 0 0 302 102 1 2.0 1.5 8.0 0]]\n"
          ],
          "name": "stdout"
        }
      ]
    },
    {
      "cell_type": "code",
      "metadata": {
        "id": "ScUkiOT7q2B6",
        "outputId": "b31c42c5-5228-4466-99fa-4edda421f15f",
        "colab": {
          "base_uri": "https://localhost:8080/"
        }
      },
      "source": [
        "print(y_train)"
      ],
      "execution_count": 12,
      "outputs": [
        {
          "output_type": "stream",
          "text": [
            "[1 1 1 1 1 1 0]\n"
          ],
          "name": "stdout"
        }
      ]
    }
  ]
}